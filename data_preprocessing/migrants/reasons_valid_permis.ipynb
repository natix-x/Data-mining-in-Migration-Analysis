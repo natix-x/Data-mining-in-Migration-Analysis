{
 "cells": [
  {
   "cell_type": "code",
   "execution_count": 17,
   "id": "9d6bf040",
   "metadata": {},
   "outputs": [],
   "source": [
    "import pandas as pd"
   ]
  },
  {
   "cell_type": "markdown",
   "id": "5b5555fa",
   "metadata": {},
   "source": [
    "All valid permits by reason citizenship on 31 December of each year"
   ]
  },
  {
   "cell_type": "code",
   "execution_count": 18,
   "id": "da74cc70",
   "metadata": {},
   "outputs": [],
   "source": [
    "df = pd.read_csv('../../data/reasons_valid_permits.csv')"
   ]
  },
  {
   "cell_type": "code",
   "execution_count": 19,
   "id": "e18cd3da",
   "metadata": {},
   "outputs": [
    {
     "data": {
      "text/plain": [
       "Index(['STRUCTURE', 'STRUCTURE_ID', 'STRUCTURE_NAME', 'freq', 'Time frequency',\n",
       "       'duration', 'Duration', 'reason', 'Reason', 'unit', 'Unit of measure',\n",
       "       'citizen', 'Country of citizenship', 'geo',\n",
       "       'Geopolitical entity (reporting)', 'TIME_PERIOD', 'Time', 'OBS_VALUE',\n",
       "       'Observation value', 'OBS_FLAG',\n",
       "       'Observation status (Flag) V2 structure', 'CONF_STATUS',\n",
       "       'Confidentiality status (flag)'],\n",
       "      dtype='object')"
      ]
     },
     "execution_count": 19,
     "metadata": {},
     "output_type": "execute_result"
    }
   ],
   "source": [
    "df.columns"
   ]
  },
  {
   "cell_type": "code",
   "execution_count": 20,
   "id": "7129788c",
   "metadata": {},
   "outputs": [
    {
     "data": {
      "text/html": [
       "<div>\n",
       "<style scoped>\n",
       "    .dataframe tbody tr th:only-of-type {\n",
       "        vertical-align: middle;\n",
       "    }\n",
       "\n",
       "    .dataframe tbody tr th {\n",
       "        vertical-align: top;\n",
       "    }\n",
       "\n",
       "    .dataframe thead th {\n",
       "        text-align: right;\n",
       "    }\n",
       "</style>\n",
       "<table border=\"1\" class=\"dataframe\">\n",
       "  <thead>\n",
       "    <tr style=\"text-align: right;\">\n",
       "      <th></th>\n",
       "      <th>STRUCTURE</th>\n",
       "      <th>STRUCTURE_ID</th>\n",
       "      <th>STRUCTURE_NAME</th>\n",
       "      <th>freq</th>\n",
       "      <th>Time frequency</th>\n",
       "      <th>duration</th>\n",
       "      <th>Duration</th>\n",
       "      <th>reason</th>\n",
       "      <th>Reason</th>\n",
       "      <th>unit</th>\n",
       "      <th>...</th>\n",
       "      <th>geo</th>\n",
       "      <th>Geopolitical entity (reporting)</th>\n",
       "      <th>TIME_PERIOD</th>\n",
       "      <th>Time</th>\n",
       "      <th>OBS_VALUE</th>\n",
       "      <th>Observation value</th>\n",
       "      <th>OBS_FLAG</th>\n",
       "      <th>Observation status (Flag) V2 structure</th>\n",
       "      <th>CONF_STATUS</th>\n",
       "      <th>Confidentiality status (flag)</th>\n",
       "    </tr>\n",
       "  </thead>\n",
       "  <tbody>\n",
       "    <tr>\n",
       "      <th>0</th>\n",
       "      <td>dataflow</td>\n",
       "      <td>ESTAT:MIGR_RESVALID(1.0)</td>\n",
       "      <td>All valid permits by reason, length of validit...</td>\n",
       "      <td>A</td>\n",
       "      <td>Annual</td>\n",
       "      <td>TOTAL</td>\n",
       "      <td>Total</td>\n",
       "      <td>EDUC</td>\n",
       "      <td>Education reasons</td>\n",
       "      <td>PER</td>\n",
       "      <td>...</td>\n",
       "      <td>AT</td>\n",
       "      <td>Austria</td>\n",
       "      <td>2021</td>\n",
       "      <td>NaN</td>\n",
       "      <td>0.0</td>\n",
       "      <td>NaN</td>\n",
       "      <td>NaN</td>\n",
       "      <td>NaN</td>\n",
       "      <td>NaN</td>\n",
       "      <td>NaN</td>\n",
       "    </tr>\n",
       "    <tr>\n",
       "      <th>1</th>\n",
       "      <td>dataflow</td>\n",
       "      <td>ESTAT:MIGR_RESVALID(1.0)</td>\n",
       "      <td>All valid permits by reason, length of validit...</td>\n",
       "      <td>A</td>\n",
       "      <td>Annual</td>\n",
       "      <td>TOTAL</td>\n",
       "      <td>Total</td>\n",
       "      <td>EDUC</td>\n",
       "      <td>Education reasons</td>\n",
       "      <td>PER</td>\n",
       "      <td>...</td>\n",
       "      <td>AT</td>\n",
       "      <td>Austria</td>\n",
       "      <td>2022</td>\n",
       "      <td>NaN</td>\n",
       "      <td>0.0</td>\n",
       "      <td>NaN</td>\n",
       "      <td>NaN</td>\n",
       "      <td>NaN</td>\n",
       "      <td>NaN</td>\n",
       "      <td>NaN</td>\n",
       "    </tr>\n",
       "    <tr>\n",
       "      <th>2</th>\n",
       "      <td>dataflow</td>\n",
       "      <td>ESTAT:MIGR_RESVALID(1.0)</td>\n",
       "      <td>All valid permits by reason, length of validit...</td>\n",
       "      <td>A</td>\n",
       "      <td>Annual</td>\n",
       "      <td>TOTAL</td>\n",
       "      <td>Total</td>\n",
       "      <td>EDUC</td>\n",
       "      <td>Education reasons</td>\n",
       "      <td>PER</td>\n",
       "      <td>...</td>\n",
       "      <td>AT</td>\n",
       "      <td>Austria</td>\n",
       "      <td>2023</td>\n",
       "      <td>NaN</td>\n",
       "      <td>0.0</td>\n",
       "      <td>NaN</td>\n",
       "      <td>NaN</td>\n",
       "      <td>NaN</td>\n",
       "      <td>NaN</td>\n",
       "      <td>NaN</td>\n",
       "    </tr>\n",
       "    <tr>\n",
       "      <th>3</th>\n",
       "      <td>dataflow</td>\n",
       "      <td>ESTAT:MIGR_RESVALID(1.0)</td>\n",
       "      <td>All valid permits by reason, length of validit...</td>\n",
       "      <td>A</td>\n",
       "      <td>Annual</td>\n",
       "      <td>TOTAL</td>\n",
       "      <td>Total</td>\n",
       "      <td>EDUC</td>\n",
       "      <td>Education reasons</td>\n",
       "      <td>PER</td>\n",
       "      <td>...</td>\n",
       "      <td>BE</td>\n",
       "      <td>Belgium</td>\n",
       "      <td>2010</td>\n",
       "      <td>NaN</td>\n",
       "      <td>1.0</td>\n",
       "      <td>NaN</td>\n",
       "      <td>NaN</td>\n",
       "      <td>NaN</td>\n",
       "      <td>NaN</td>\n",
       "      <td>NaN</td>\n",
       "    </tr>\n",
       "    <tr>\n",
       "      <th>4</th>\n",
       "      <td>dataflow</td>\n",
       "      <td>ESTAT:MIGR_RESVALID(1.0)</td>\n",
       "      <td>All valid permits by reason, length of validit...</td>\n",
       "      <td>A</td>\n",
       "      <td>Annual</td>\n",
       "      <td>TOTAL</td>\n",
       "      <td>Total</td>\n",
       "      <td>EDUC</td>\n",
       "      <td>Education reasons</td>\n",
       "      <td>PER</td>\n",
       "      <td>...</td>\n",
       "      <td>BE</td>\n",
       "      <td>Belgium</td>\n",
       "      <td>2011</td>\n",
       "      <td>NaN</td>\n",
       "      <td>1.0</td>\n",
       "      <td>NaN</td>\n",
       "      <td>NaN</td>\n",
       "      <td>NaN</td>\n",
       "      <td>NaN</td>\n",
       "      <td>NaN</td>\n",
       "    </tr>\n",
       "  </tbody>\n",
       "</table>\n",
       "<p>5 rows × 23 columns</p>\n",
       "</div>"
      ],
      "text/plain": [
       "  STRUCTURE              STRUCTURE_ID  \\\n",
       "0  dataflow  ESTAT:MIGR_RESVALID(1.0)   \n",
       "1  dataflow  ESTAT:MIGR_RESVALID(1.0)   \n",
       "2  dataflow  ESTAT:MIGR_RESVALID(1.0)   \n",
       "3  dataflow  ESTAT:MIGR_RESVALID(1.0)   \n",
       "4  dataflow  ESTAT:MIGR_RESVALID(1.0)   \n",
       "\n",
       "                                      STRUCTURE_NAME freq Time frequency  \\\n",
       "0  All valid permits by reason, length of validit...    A         Annual   \n",
       "1  All valid permits by reason, length of validit...    A         Annual   \n",
       "2  All valid permits by reason, length of validit...    A         Annual   \n",
       "3  All valid permits by reason, length of validit...    A         Annual   \n",
       "4  All valid permits by reason, length of validit...    A         Annual   \n",
       "\n",
       "  duration Duration reason             Reason unit  ... geo  \\\n",
       "0    TOTAL    Total   EDUC  Education reasons  PER  ...  AT   \n",
       "1    TOTAL    Total   EDUC  Education reasons  PER  ...  AT   \n",
       "2    TOTAL    Total   EDUC  Education reasons  PER  ...  AT   \n",
       "3    TOTAL    Total   EDUC  Education reasons  PER  ...  BE   \n",
       "4    TOTAL    Total   EDUC  Education reasons  PER  ...  BE   \n",
       "\n",
       "  Geopolitical entity (reporting) TIME_PERIOD Time OBS_VALUE  \\\n",
       "0                         Austria        2021  NaN       0.0   \n",
       "1                         Austria        2022  NaN       0.0   \n",
       "2                         Austria        2023  NaN       0.0   \n",
       "3                         Belgium        2010  NaN       1.0   \n",
       "4                         Belgium        2011  NaN       1.0   \n",
       "\n",
       "   Observation value  OBS_FLAG  Observation status (Flag) V2 structure  \\\n",
       "0                NaN       NaN                                     NaN   \n",
       "1                NaN       NaN                                     NaN   \n",
       "2                NaN       NaN                                     NaN   \n",
       "3                NaN       NaN                                     NaN   \n",
       "4                NaN       NaN                                     NaN   \n",
       "\n",
       "   CONF_STATUS Confidentiality status (flag)  \n",
       "0          NaN                           NaN  \n",
       "1          NaN                           NaN  \n",
       "2          NaN                           NaN  \n",
       "3          NaN                           NaN  \n",
       "4          NaN                           NaN  \n",
       "\n",
       "[5 rows x 23 columns]"
      ]
     },
     "execution_count": 20,
     "metadata": {},
     "output_type": "execute_result"
    }
   ],
   "source": [
    "df.head()"
   ]
  },
  {
   "cell_type": "code",
   "execution_count": 21,
   "id": "26213bd5",
   "metadata": {},
   "outputs": [],
   "source": [
    "df = df[['Reason', 'Country of citizenship', 'Geopolitical entity (reporting)', 'TIME_PERIOD', 'OBS_VALUE']]"
   ]
  },
  {
   "cell_type": "code",
   "execution_count": 22,
   "id": "d865884f",
   "metadata": {},
   "outputs": [
    {
     "name": "stdout",
     "output_type": "stream",
     "text": [
      "<class 'pandas.core.frame.DataFrame'>\n",
      "RangeIndex: 308421 entries, 0 to 308420\n",
      "Data columns (total 5 columns):\n",
      " #   Column                           Non-Null Count   Dtype  \n",
      "---  ------                           --------------   -----  \n",
      " 0   Reason                           308421 non-null  object \n",
      " 1   Country of citizenship           308421 non-null  object \n",
      " 2   Geopolitical entity (reporting)  308421 non-null  object \n",
      " 3   TIME_PERIOD                      308421 non-null  int64  \n",
      " 4   OBS_VALUE                        300563 non-null  float64\n",
      "dtypes: float64(1), int64(1), object(3)\n",
      "memory usage: 11.8+ MB\n"
     ]
    }
   ],
   "source": [
    "df.info()"
   ]
  },
  {
   "cell_type": "markdown",
   "id": "d20cea9b",
   "metadata": {},
   "source": [
    "Ponad 8 tysięcy nulli"
   ]
  },
  {
   "cell_type": "code",
   "execution_count": 23,
   "id": "c8b85643",
   "metadata": {},
   "outputs": [
    {
     "name": "stdout",
     "output_type": "stream",
     "text": [
      "<class 'pandas.core.frame.DataFrame'>\n",
      "Index: 2573 entries, 48704 to 304192\n",
      "Data columns (total 5 columns):\n",
      " #   Column                           Non-Null Count  Dtype  \n",
      "---  ------                           --------------  -----  \n",
      " 0   Reason                           2573 non-null   object \n",
      " 1   Country of citizenship           2573 non-null   object \n",
      " 2   Geopolitical entity (reporting)  2573 non-null   object \n",
      " 3   TIME_PERIOD                      2573 non-null   int64  \n",
      " 4   OBS_VALUE                        2559 non-null   float64\n",
      "dtypes: float64(1), int64(1), object(3)\n",
      "memory usage: 120.6+ KB\n"
     ]
    }
   ],
   "source": [
    "df[df['Country of citizenship'] == 'Total'].info()"
   ]
  },
  {
   "cell_type": "markdown",
   "id": "23e271ab",
   "metadata": {},
   "source": [
    "Dla total praktycznie brak nulli"
   ]
  },
  {
   "cell_type": "code",
   "execution_count": 24,
   "id": "71aca8d2",
   "metadata": {},
   "outputs": [],
   "source": [
    "df = df[df['Country of citizenship'] == 'Total']"
   ]
  },
  {
   "cell_type": "code",
   "execution_count": 25,
   "id": "566ce446",
   "metadata": {},
   "outputs": [],
   "source": [
    "df.dropna(inplace=True)"
   ]
  },
  {
   "cell_type": "code",
   "execution_count": 26,
   "id": "af50ceb2",
   "metadata": {},
   "outputs": [],
   "source": [
    "df.rename(columns={\n",
    "    'Geopolitical entity (reporting)': 'geo',\n",
    "    'TIME_PERIOD': 'year', \n",
    "    'OBS_VALUE': 'number_of_permits'\n",
    "}, inplace=True)"
   ]
  },
  {
   "cell_type": "code",
   "execution_count": 27,
   "id": "83c8133c",
   "metadata": {},
   "outputs": [],
   "source": [
    "df.to_csv(\"../../processed_data/reasons_valid_permits.csv\", index=False)"
   ]
  },
  {
   "cell_type": "code",
   "execution_count": null,
   "id": "896402d1",
   "metadata": {},
   "outputs": [],
   "source": []
  }
 ],
 "metadata": {
  "kernelspec": {
   "display_name": ".venv",
   "language": "python",
   "name": "python3"
  },
  "language_info": {
   "codemirror_mode": {
    "name": "ipython",
    "version": 3
   },
   "file_extension": ".py",
   "mimetype": "text/x-python",
   "name": "python",
   "nbconvert_exporter": "python",
   "pygments_lexer": "ipython3",
   "version": "3.12.6"
  }
 },
 "nbformat": 4,
 "nbformat_minor": 5
}
