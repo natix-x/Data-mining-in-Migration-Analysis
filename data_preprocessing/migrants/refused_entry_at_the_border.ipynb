{
 "cells": [
  {
   "cell_type": "code",
   "execution_count": 16,
   "id": "initial_id",
   "metadata": {
    "collapsed": true,
    "ExecuteTime": {
     "end_time": "2025-03-27T21:37:34.908442500Z",
     "start_time": "2025-03-27T21:37:34.886843100Z"
    }
   },
   "outputs": [],
   "source": [
    "import pandas as pd"
   ]
  },
  {
   "cell_type": "markdown",
   "source": [
    "**Third country nationals refused entry at the external borders - annual data (rounded)**\n",
    "\n",
    "---\n",
    "\n",
    "Units of measure are absolute numbers of persons."
   ],
   "metadata": {
    "collapsed": false
   },
   "id": "d1ea558ca010e40f"
  },
  {
   "cell_type": "code",
   "execution_count": 17,
   "outputs": [],
   "source": [
    "df = pd.read_csv('../../data/migrants_refused_entry_at_the_border_migr_eirf.csv')"
   ],
   "metadata": {
    "collapsed": false,
    "ExecuteTime": {
     "end_time": "2025-03-27T21:37:35.231634600Z",
     "start_time": "2025-03-27T21:37:35.193951100Z"
    }
   },
   "id": "fbf611df56724731"
  },
  {
   "cell_type": "code",
   "execution_count": 18,
   "outputs": [
    {
     "data": {
      "text/plain": "                            DATAFLOW  LAST UPDATE    freq border    unit  \\\n0  ESTAT:MIGR_EIRFS$DEFAULTVIEW(1.0)          NaN  Annual  Total  Person   \n1  ESTAT:MIGR_EIRFS$DEFAULTVIEW(1.0)          NaN  Annual  Total  Person   \n2  ESTAT:MIGR_EIRFS$DEFAULTVIEW(1.0)          NaN  Annual  Total  Person   \n3  ESTAT:MIGR_EIRFS$DEFAULTVIEW(1.0)          NaN  Annual  Total  Person   \n4  ESTAT:MIGR_EIRFS$DEFAULTVIEW(1.0)          NaN  Annual  Total  Person   \n\n  reason citizen      geo  TIME_PERIOD  OBS_VALUE OBS_FLAG  CONF_STATUS  \n0  Total   Total  Austria         2014        455      NaN          NaN  \n1  Total   Total  Austria         2015        560      NaN          NaN  \n2  Total   Total  Austria         2016        460      NaN          NaN  \n3  Total   Total  Austria         2017        740      NaN          NaN  \n4  Total   Total  Austria         2018        400      NaN          NaN  ",
      "text/html": "<div>\n<style scoped>\n    .dataframe tbody tr th:only-of-type {\n        vertical-align: middle;\n    }\n\n    .dataframe tbody tr th {\n        vertical-align: top;\n    }\n\n    .dataframe thead th {\n        text-align: right;\n    }\n</style>\n<table border=\"1\" class=\"dataframe\">\n  <thead>\n    <tr style=\"text-align: right;\">\n      <th></th>\n      <th>DATAFLOW</th>\n      <th>LAST UPDATE</th>\n      <th>freq</th>\n      <th>border</th>\n      <th>unit</th>\n      <th>reason</th>\n      <th>citizen</th>\n      <th>geo</th>\n      <th>TIME_PERIOD</th>\n      <th>OBS_VALUE</th>\n      <th>OBS_FLAG</th>\n      <th>CONF_STATUS</th>\n    </tr>\n  </thead>\n  <tbody>\n    <tr>\n      <th>0</th>\n      <td>ESTAT:MIGR_EIRFS$DEFAULTVIEW(1.0)</td>\n      <td>NaN</td>\n      <td>Annual</td>\n      <td>Total</td>\n      <td>Person</td>\n      <td>Total</td>\n      <td>Total</td>\n      <td>Austria</td>\n      <td>2014</td>\n      <td>455</td>\n      <td>NaN</td>\n      <td>NaN</td>\n    </tr>\n    <tr>\n      <th>1</th>\n      <td>ESTAT:MIGR_EIRFS$DEFAULTVIEW(1.0)</td>\n      <td>NaN</td>\n      <td>Annual</td>\n      <td>Total</td>\n      <td>Person</td>\n      <td>Total</td>\n      <td>Total</td>\n      <td>Austria</td>\n      <td>2015</td>\n      <td>560</td>\n      <td>NaN</td>\n      <td>NaN</td>\n    </tr>\n    <tr>\n      <th>2</th>\n      <td>ESTAT:MIGR_EIRFS$DEFAULTVIEW(1.0)</td>\n      <td>NaN</td>\n      <td>Annual</td>\n      <td>Total</td>\n      <td>Person</td>\n      <td>Total</td>\n      <td>Total</td>\n      <td>Austria</td>\n      <td>2016</td>\n      <td>460</td>\n      <td>NaN</td>\n      <td>NaN</td>\n    </tr>\n    <tr>\n      <th>3</th>\n      <td>ESTAT:MIGR_EIRFS$DEFAULTVIEW(1.0)</td>\n      <td>NaN</td>\n      <td>Annual</td>\n      <td>Total</td>\n      <td>Person</td>\n      <td>Total</td>\n      <td>Total</td>\n      <td>Austria</td>\n      <td>2017</td>\n      <td>740</td>\n      <td>NaN</td>\n      <td>NaN</td>\n    </tr>\n    <tr>\n      <th>4</th>\n      <td>ESTAT:MIGR_EIRFS$DEFAULTVIEW(1.0)</td>\n      <td>NaN</td>\n      <td>Annual</td>\n      <td>Total</td>\n      <td>Person</td>\n      <td>Total</td>\n      <td>Total</td>\n      <td>Austria</td>\n      <td>2018</td>\n      <td>400</td>\n      <td>NaN</td>\n      <td>NaN</td>\n    </tr>\n  </tbody>\n</table>\n</div>"
     },
     "execution_count": 18,
     "metadata": {},
     "output_type": "execute_result"
    }
   ],
   "source": [
    "df.head()"
   ],
   "metadata": {
    "collapsed": false,
    "ExecuteTime": {
     "end_time": "2025-03-27T21:37:35.408064Z",
     "start_time": "2025-03-27T21:37:35.381744Z"
    }
   },
   "id": "6f9230f935790ee6"
  },
  {
   "cell_type": "code",
   "execution_count": 19,
   "outputs": [
    {
     "name": "stdout",
     "output_type": "stream",
     "text": [
      "<class 'pandas.core.frame.DataFrame'>\n",
      "RangeIndex: 327 entries, 0 to 326\n",
      "Data columns (total 12 columns):\n",
      " #   Column       Non-Null Count  Dtype  \n",
      "---  ------       --------------  -----  \n",
      " 0   DATAFLOW     327 non-null    object \n",
      " 1   LAST UPDATE  0 non-null      float64\n",
      " 2   freq         327 non-null    object \n",
      " 3   border       327 non-null    object \n",
      " 4   unit         327 non-null    object \n",
      " 5   reason       327 non-null    object \n",
      " 6   citizen      327 non-null    object \n",
      " 7   geo          327 non-null    object \n",
      " 8   TIME_PERIOD  327 non-null    int64  \n",
      " 9   OBS_VALUE    327 non-null    int64  \n",
      " 10  OBS_FLAG     2 non-null      object \n",
      " 11  CONF_STATUS  0 non-null      float64\n",
      "dtypes: float64(2), int64(2), object(8)\n",
      "memory usage: 30.8+ KB\n"
     ]
    }
   ],
   "source": [
    "df.info()"
   ],
   "metadata": {
    "collapsed": false,
    "ExecuteTime": {
     "end_time": "2025-03-27T21:37:35.532455Z",
     "start_time": "2025-03-27T21:37:35.496005300Z"
    }
   },
   "id": "a8af55f8eab0fb05"
  },
  {
   "cell_type": "code",
   "execution_count": 20,
   "outputs": [
    {
     "data": {
      "text/plain": "np.int64(0)"
     },
     "execution_count": 20,
     "metadata": {},
     "output_type": "execute_result"
    }
   ],
   "source": [
    "df.duplicated().sum()"
   ],
   "metadata": {
    "collapsed": false,
    "ExecuteTime": {
     "end_time": "2025-03-27T21:37:35.800900900Z",
     "start_time": "2025-03-27T21:37:35.671538500Z"
    }
   },
   "id": "80f92e688c7b57c7"
  },
  {
   "cell_type": "code",
   "execution_count": 21,
   "outputs": [
    {
     "data": {
      "text/plain": "DATAFLOW         0\nLAST UPDATE    327\nfreq             0\nborder           0\nunit             0\nreason           0\ncitizen          0\ngeo              0\nTIME_PERIOD      0\nOBS_VALUE        0\nOBS_FLAG       325\nCONF_STATUS    327\ndtype: int64"
     },
     "execution_count": 21,
     "metadata": {},
     "output_type": "execute_result"
    }
   ],
   "source": [
    "df.isnull().sum()"
   ],
   "metadata": {
    "collapsed": false,
    "ExecuteTime": {
     "end_time": "2025-03-27T21:37:35.914761400Z",
     "start_time": "2025-03-27T21:37:35.774444Z"
    }
   },
   "id": "cf81f008c632ab11"
  },
  {
   "cell_type": "code",
   "execution_count": 22,
   "outputs": [],
   "source": [
    "df = df.drop(columns=[\"DATAFLOW\", \"LAST UPDATE\", \"OBS_FLAG\", \"CONF_STATUS\"])"
   ],
   "metadata": {
    "collapsed": false,
    "ExecuteTime": {
     "end_time": "2025-03-27T21:37:35.960093300Z",
     "start_time": "2025-03-27T21:37:35.918979100Z"
    }
   },
   "id": "b11afbf6e424df13"
  },
  {
   "cell_type": "code",
   "execution_count": 23,
   "outputs": [
    {
     "name": "stdout",
     "output_type": "stream",
     "text": [
      "Uniques values in freq: ['Annual']\n",
      "Uniques values in border: ['Total']\n",
      "Uniques values in unit: ['Person']\n",
      "Uniques values in reason: ['Total']\n",
      "Uniques values in citizen: ['Total']\n",
      "Uniques values in geo: ['Austria' 'Belgium' 'Bulgaria' 'Switzerland' 'Cyprus' 'Czechia' 'Germany'\n",
      " 'Denmark' 'Estonia' 'Greece' 'Spain'\n",
      " 'European Union - 27 countries (from 2020)' 'Finland' 'France' 'Croatia'\n",
      " 'Hungary' 'Ireland' 'Iceland' 'Italy' 'Liechtenstein' 'Lithuania'\n",
      " 'Luxembourg' 'Latvia' 'Montenegro' 'Malta' 'Netherlands' 'Norway'\n",
      " 'Poland' 'Portugal' 'Romania' 'Sweden' 'Slovenia' 'Slovakia'\n",
      " 'United Kingdom']\n",
      "Uniques values in TIME_PERIOD: [2014 2015 2016 2017 2018 2019 2020 2021 2022 2023]\n",
      "Uniques values in OBS_VALUE: [   455    560    460    740    400    770    310    555    575    680\n",
      "   1535   1640   1530   2440   2200   2300   1140   1720   1805   2315\n",
      "   2405   2170   2870   3220   4245   4685   6180   7955   7230    920\n",
      "    945    900   1225   1205   1165   1305   2100   1630   1295    425\n",
      "    415    565   1425   2025    360    440    465    330    365    230\n",
      "    315    340    290    405   3605   3670   3775   4250   5175   6730\n",
      "   4210   4635   5970   5820     85    125    120    300    325    650\n",
      "    480    640    535    510    695    965    875   1175   1635   2120\n",
      "    500   5465   5855   6445   6890  18145  21175  14295   7015   3145\n",
      "   3075   5450   7270 172185 168345 192135 203025 230540 493455   3515\n",
      "   2545   7250 270565 278025 318990 349150 393685 670795 137840 139520\n",
      " 142420 123260   1590   1070    950   1400   1760   1775   1735   1180\n",
      "   3985   2225  11030  10860   8580  10215   9515   9880   4240   8210\n",
      "   9180   9650   8645   9355   9135  10015  13240  13025  14710  14190\n",
      "  11800  10900  13325  11505   9905  14010  15050  14240  36500  34650\n",
      "  15780  12575   2475   3450   3950   3745   4795   7455   2790   3725\n",
      "   9240   7405     15     20     25     55    160   7005   7425   9715\n",
      "  11260   8245   9720   4060   5760   5795   6295     10      0   3480\n",
      "   4575   5180   5200   6085   4555   3585   5240   4255      5   2050\n",
      "    800   1065   1685   1800    855   2260   3625    815    805    520\n",
      "    275    380    385    110    265    350   2310   2295   2700   2410\n",
      "   2555   2900   1980   3070    250    525   1975    495    320  20125\n",
      "  30245  34485  38660  53695  65425  28130  26160  23330  14850    955\n",
      "   1280   1655   2140   3760   4995   1510   1150   1750   1560   4045\n",
      "   4810   5390   5305   7260   7640  12570  11010   8945   7155    345\n",
      "    615   1405    880   1090   1565   1200    550    905   4410   4455\n",
      "   3680   3535   3875   4260   3905   4025    735    750   1085   1755\n",
      "   1375    435   1110    985  15905  14950  14480  14280  16540  18275]\n"
     ]
    }
   ],
   "source": [
    "for col in df.columns:\n",
    "    print(f\"Uniques values in {col}: {df[col].unique()}\")"
   ],
   "metadata": {
    "collapsed": false,
    "ExecuteTime": {
     "end_time": "2025-03-27T21:37:36.132710400Z",
     "start_time": "2025-03-27T21:37:36.066147Z"
    }
   },
   "id": "4df9b8304a861fb5"
  },
  {
   "cell_type": "code",
   "execution_count": 24,
   "outputs": [],
   "source": [
    "df = df[df[\"geo\"] != \"European Union - 27 countries (from 2020)\"]"
   ],
   "metadata": {
    "collapsed": false,
    "ExecuteTime": {
     "end_time": "2025-03-27T21:37:36.236473900Z",
     "start_time": "2025-03-27T21:37:36.167311800Z"
    }
   },
   "id": "309320e968a28ea4"
  },
  {
   "cell_type": "code",
   "execution_count": 25,
   "outputs": [],
   "source": [
    "df = df.drop(columns=[\"border\", \"citizen\", \"unit\", \"freq\"])\n",
    "df = df.dropna()"
   ],
   "metadata": {
    "collapsed": false,
    "ExecuteTime": {
     "end_time": "2025-03-27T21:37:36.345042Z",
     "start_time": "2025-03-27T21:37:36.299481200Z"
    }
   },
   "id": "8277faed2e7a3d7"
  },
  {
   "cell_type": "code",
   "execution_count": 26,
   "outputs": [],
   "source": [
    "df = df.rename(columns={\"OBS_VALUE\": \"Migrants number\"})"
   ],
   "metadata": {
    "collapsed": false,
    "ExecuteTime": {
     "end_time": "2025-03-27T21:37:36.504554Z",
     "start_time": "2025-03-27T21:37:36.438611800Z"
    }
   },
   "id": "f2650b1317a7152c"
  },
  {
   "cell_type": "code",
   "execution_count": 27,
   "outputs": [
    {
     "data": {
      "text/plain": "  reason      geo  TIME_PERIOD  Migrants number\n0  Total  Austria         2014              455\n1  Total  Austria         2015              560\n2  Total  Austria         2016              460\n3  Total  Austria         2017              740\n4  Total  Austria         2018              400",
      "text/html": "<div>\n<style scoped>\n    .dataframe tbody tr th:only-of-type {\n        vertical-align: middle;\n    }\n\n    .dataframe tbody tr th {\n        vertical-align: top;\n    }\n\n    .dataframe thead th {\n        text-align: right;\n    }\n</style>\n<table border=\"1\" class=\"dataframe\">\n  <thead>\n    <tr style=\"text-align: right;\">\n      <th></th>\n      <th>reason</th>\n      <th>geo</th>\n      <th>TIME_PERIOD</th>\n      <th>Migrants number</th>\n    </tr>\n  </thead>\n  <tbody>\n    <tr>\n      <th>0</th>\n      <td>Total</td>\n      <td>Austria</td>\n      <td>2014</td>\n      <td>455</td>\n    </tr>\n    <tr>\n      <th>1</th>\n      <td>Total</td>\n      <td>Austria</td>\n      <td>2015</td>\n      <td>560</td>\n    </tr>\n    <tr>\n      <th>2</th>\n      <td>Total</td>\n      <td>Austria</td>\n      <td>2016</td>\n      <td>460</td>\n    </tr>\n    <tr>\n      <th>3</th>\n      <td>Total</td>\n      <td>Austria</td>\n      <td>2017</td>\n      <td>740</td>\n    </tr>\n    <tr>\n      <th>4</th>\n      <td>Total</td>\n      <td>Austria</td>\n      <td>2018</td>\n      <td>400</td>\n    </tr>\n  </tbody>\n</table>\n</div>"
     },
     "execution_count": 27,
     "metadata": {},
     "output_type": "execute_result"
    }
   ],
   "source": [
    "df.head()"
   ],
   "metadata": {
    "collapsed": false,
    "ExecuteTime": {
     "end_time": "2025-03-27T21:37:36.642705200Z",
     "start_time": "2025-03-27T21:37:36.592234100Z"
    }
   },
   "id": "d779601a0c370224"
  },
  {
   "cell_type": "code",
   "execution_count": 28,
   "outputs": [],
   "source": [
    "population_df = pd.read_csv('../../data/population_data_tps00001.csv')\n",
    "population_df = population_df.drop(columns=[\"DATAFLOW\", \"LAST UPDATE\", \"freq\", \"indic_de\", \"OBS_FLAG\", \"CONF_STATUS\"])\n",
    "population_df = population_df.rename(columns={\"OBS_VALUE\": \"Population\"})\n",
    "merged_df = df.merge(population_df, how=\"left\", left_on=[\"TIME_PERIOD\", \"geo\"], right_on=[\"TIME_PERIOD\", \"geo\"])"
   ],
   "metadata": {
    "collapsed": false,
    "ExecuteTime": {
     "end_time": "2025-03-27T21:37:36.994596600Z",
     "start_time": "2025-03-27T21:37:36.952873600Z"
    }
   },
   "id": "8e8217ebef3dcf0c"
  },
  {
   "cell_type": "code",
   "execution_count": 29,
   "outputs": [],
   "source": [
    "merged_df[\"Migrants number per 100k inhabitants\"] = round(\n",
    "    merged_df[\"Migrants number\"] / merged_df[\"Population\"] * 100_000, 2)"
   ],
   "metadata": {
    "collapsed": false,
    "ExecuteTime": {
     "end_time": "2025-03-27T21:37:37.130368900Z",
     "start_time": "2025-03-27T21:37:37.117670Z"
    }
   },
   "id": "c46e8f0b9c37f9e5"
  },
  {
   "cell_type": "code",
   "execution_count": 30,
   "outputs": [
    {
     "name": "stdout",
     "output_type": "stream",
     "text": [
      "<class 'pandas.core.frame.DataFrame'>\n",
      "RangeIndex: 317 entries, 0 to 316\n",
      "Data columns (total 6 columns):\n",
      " #   Column                                Non-Null Count  Dtype  \n",
      "---  ------                                --------------  -----  \n",
      " 0   reason                                317 non-null    object \n",
      " 1   geo                                   317 non-null    object \n",
      " 2   TIME_PERIOD                           317 non-null    int64  \n",
      " 3   Migrants number                       317 non-null    int64  \n",
      " 4   Population                            317 non-null    int64  \n",
      " 5   Migrants number per 100k inhabitants  317 non-null    float64\n",
      "dtypes: float64(1), int64(3), object(2)\n",
      "memory usage: 15.0+ KB\n"
     ]
    }
   ],
   "source": [
    "merged_df.info()"
   ],
   "metadata": {
    "collapsed": false,
    "ExecuteTime": {
     "end_time": "2025-03-27T21:37:44.909647Z",
     "start_time": "2025-03-27T21:37:44.664081400Z"
    }
   },
   "id": "d21312a0cb31b7a"
  },
  {
   "cell_type": "code",
   "execution_count": 31,
   "outputs": [],
   "source": [
    "merged_df = merged_df.drop(columns=[\"Population\"])"
   ],
   "metadata": {
    "collapsed": false,
    "ExecuteTime": {
     "end_time": "2025-03-27T21:38:00.497385200Z",
     "start_time": "2025-03-27T21:38:00.469904100Z"
    }
   },
   "id": "5e7d83a668f457fc"
  },
  {
   "cell_type": "code",
   "execution_count": 32,
   "outputs": [],
   "source": [
    "merged_df.to_csv(\"../../processed_data/migrants_refused_entry_ar_the_border.csv\", index=False)"
   ],
   "metadata": {
    "collapsed": false,
    "ExecuteTime": {
     "end_time": "2025-03-27T21:38:02.468309600Z",
     "start_time": "2025-03-27T21:38:02.446347Z"
    }
   },
   "id": "7e6b022122fd3634"
  },
  {
   "cell_type": "code",
   "execution_count": null,
   "outputs": [],
   "source": [],
   "metadata": {
    "collapsed": false
   },
   "id": "dc18fbd3966a00b0"
  }
 ],
 "metadata": {
  "kernelspec": {
   "display_name": "Python 3",
   "language": "python",
   "name": "python3"
  },
  "language_info": {
   "codemirror_mode": {
    "name": "ipython",
    "version": 2
   },
   "file_extension": ".py",
   "mimetype": "text/x-python",
   "name": "python",
   "nbconvert_exporter": "python",
   "pygments_lexer": "ipython2",
   "version": "2.7.6"
  }
 },
 "nbformat": 4,
 "nbformat_minor": 5
}
