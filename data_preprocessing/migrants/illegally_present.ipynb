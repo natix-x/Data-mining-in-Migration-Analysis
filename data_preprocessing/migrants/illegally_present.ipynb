{
 "cells": [
  {
   "cell_type": "code",
   "execution_count": 47,
   "id": "initial_id",
   "metadata": {
    "collapsed": true,
    "ExecuteTime": {
     "end_time": "2025-03-26T21:33:55.161130800Z",
     "start_time": "2025-03-26T21:33:55.141114800Z"
    }
   },
   "outputs": [],
   "source": [
    "import pandas as pd"
   ]
  },
  {
   "cell_type": "markdown",
   "source": [
    "**Third country nationals found to be illegally present - annual data (rounded)**\n",
    "\n",
    "---\n",
    "Units of measure are absolute numbers of persons."
   ],
   "metadata": {
    "collapsed": false
   },
   "id": "d80928ec5739c761"
  },
  {
   "cell_type": "code",
   "execution_count": 48,
   "outputs": [],
   "source": [
    "df = pd.read_csv('../../data/migrants_illegally_present_migr_eipre.csv')"
   ],
   "metadata": {
    "collapsed": false,
    "ExecuteTime": {
     "end_time": "2025-03-26T21:33:55.459179Z",
     "start_time": "2025-03-26T21:33:55.402457900Z"
    }
   },
   "id": "fd61fa1414167170"
  },
  {
   "cell_type": "code",
   "execution_count": 49,
   "outputs": [
    {
     "data": {
      "text/plain": "                            DATAFLOW  LAST UPDATE    freq         reason  \\\n0  ESTAT:MIGR_EIPRE$DEFAULTVIEW(1.0)          NaN  Annual  Illegal entry   \n1  ESTAT:MIGR_EIPRE$DEFAULTVIEW(1.0)          NaN  Annual  Illegal entry   \n2  ESTAT:MIGR_EIPRE$DEFAULTVIEW(1.0)          NaN  Annual  Illegal entry   \n3  ESTAT:MIGR_EIPRE$DEFAULTVIEW(1.0)          NaN  Annual  Illegal entry   \n4  ESTAT:MIGR_EIPRE$DEFAULTVIEW(1.0)          NaN  Annual  Illegal entry   \n\n                                   apprehen citizen    sex    age    unit  \\\n0  Between border crossing points - at land   Total  Total  Total  Person   \n1  Between border crossing points - at land   Total  Total  Total  Person   \n2  Between border crossing points - at land   Total  Total  Total  Person   \n3  Between border crossing points - at land   Total  Total  Total  Person   \n4  Between border crossing points - at land   Total  Total  Total  Person   \n\n       geo  TIME_PERIOD  OBS_VALUE OBS_FLAG  CONF_STATUS  \n0  Austria         2021          0      NaN          NaN  \n1  Austria         2022          0      NaN          NaN  \n2  Belgium         2021          0      NaN          NaN  \n3  Belgium         2022          0      NaN          NaN  \n4  Belgium         2023          0      NaN          NaN  ",
      "text/html": "<div>\n<style scoped>\n    .dataframe tbody tr th:only-of-type {\n        vertical-align: middle;\n    }\n\n    .dataframe tbody tr th {\n        vertical-align: top;\n    }\n\n    .dataframe thead th {\n        text-align: right;\n    }\n</style>\n<table border=\"1\" class=\"dataframe\">\n  <thead>\n    <tr style=\"text-align: right;\">\n      <th></th>\n      <th>DATAFLOW</th>\n      <th>LAST UPDATE</th>\n      <th>freq</th>\n      <th>reason</th>\n      <th>apprehen</th>\n      <th>citizen</th>\n      <th>sex</th>\n      <th>age</th>\n      <th>unit</th>\n      <th>geo</th>\n      <th>TIME_PERIOD</th>\n      <th>OBS_VALUE</th>\n      <th>OBS_FLAG</th>\n      <th>CONF_STATUS</th>\n    </tr>\n  </thead>\n  <tbody>\n    <tr>\n      <th>0</th>\n      <td>ESTAT:MIGR_EIPRE$DEFAULTVIEW(1.0)</td>\n      <td>NaN</td>\n      <td>Annual</td>\n      <td>Illegal entry</td>\n      <td>Between border crossing points - at land</td>\n      <td>Total</td>\n      <td>Total</td>\n      <td>Total</td>\n      <td>Person</td>\n      <td>Austria</td>\n      <td>2021</td>\n      <td>0</td>\n      <td>NaN</td>\n      <td>NaN</td>\n    </tr>\n    <tr>\n      <th>1</th>\n      <td>ESTAT:MIGR_EIPRE$DEFAULTVIEW(1.0)</td>\n      <td>NaN</td>\n      <td>Annual</td>\n      <td>Illegal entry</td>\n      <td>Between border crossing points - at land</td>\n      <td>Total</td>\n      <td>Total</td>\n      <td>Total</td>\n      <td>Person</td>\n      <td>Austria</td>\n      <td>2022</td>\n      <td>0</td>\n      <td>NaN</td>\n      <td>NaN</td>\n    </tr>\n    <tr>\n      <th>2</th>\n      <td>ESTAT:MIGR_EIPRE$DEFAULTVIEW(1.0)</td>\n      <td>NaN</td>\n      <td>Annual</td>\n      <td>Illegal entry</td>\n      <td>Between border crossing points - at land</td>\n      <td>Total</td>\n      <td>Total</td>\n      <td>Total</td>\n      <td>Person</td>\n      <td>Belgium</td>\n      <td>2021</td>\n      <td>0</td>\n      <td>NaN</td>\n      <td>NaN</td>\n    </tr>\n    <tr>\n      <th>3</th>\n      <td>ESTAT:MIGR_EIPRE$DEFAULTVIEW(1.0)</td>\n      <td>NaN</td>\n      <td>Annual</td>\n      <td>Illegal entry</td>\n      <td>Between border crossing points - at land</td>\n      <td>Total</td>\n      <td>Total</td>\n      <td>Total</td>\n      <td>Person</td>\n      <td>Belgium</td>\n      <td>2022</td>\n      <td>0</td>\n      <td>NaN</td>\n      <td>NaN</td>\n    </tr>\n    <tr>\n      <th>4</th>\n      <td>ESTAT:MIGR_EIPRE$DEFAULTVIEW(1.0)</td>\n      <td>NaN</td>\n      <td>Annual</td>\n      <td>Illegal entry</td>\n      <td>Between border crossing points - at land</td>\n      <td>Total</td>\n      <td>Total</td>\n      <td>Total</td>\n      <td>Person</td>\n      <td>Belgium</td>\n      <td>2023</td>\n      <td>0</td>\n      <td>NaN</td>\n      <td>NaN</td>\n    </tr>\n  </tbody>\n</table>\n</div>"
     },
     "execution_count": 49,
     "metadata": {},
     "output_type": "execute_result"
    }
   ],
   "source": [
    "df.head()"
   ],
   "metadata": {
    "collapsed": false,
    "ExecuteTime": {
     "end_time": "2025-03-26T21:33:55.603850Z",
     "start_time": "2025-03-26T21:33:55.564824500Z"
    }
   },
   "id": "67f71173843b0816"
  },
  {
   "cell_type": "code",
   "execution_count": 50,
   "outputs": [
    {
     "name": "stdout",
     "output_type": "stream",
     "text": [
      "<class 'pandas.core.frame.DataFrame'>\n",
      "RangeIndex: 2535 entries, 0 to 2534\n",
      "Data columns (total 14 columns):\n",
      " #   Column       Non-Null Count  Dtype  \n",
      "---  ------       --------------  -----  \n",
      " 0   DATAFLOW     2535 non-null   object \n",
      " 1   LAST UPDATE  0 non-null      float64\n",
      " 2   freq         2535 non-null   object \n",
      " 3   reason       2535 non-null   object \n",
      " 4   apprehen     2535 non-null   object \n",
      " 5   citizen      2535 non-null   object \n",
      " 6   sex          2535 non-null   object \n",
      " 7   age          2535 non-null   object \n",
      " 8   unit         2535 non-null   object \n",
      " 9   geo          2535 non-null   object \n",
      " 10  TIME_PERIOD  2535 non-null   int64  \n",
      " 11  OBS_VALUE    2535 non-null   int64  \n",
      " 12  OBS_FLAG     8 non-null      object \n",
      " 13  CONF_STATUS  0 non-null      float64\n",
      "dtypes: float64(2), int64(2), object(10)\n",
      "memory usage: 277.4+ KB\n"
     ]
    }
   ],
   "source": [
    "df.info()"
   ],
   "metadata": {
    "collapsed": false,
    "ExecuteTime": {
     "end_time": "2025-03-26T21:33:55.808173500Z",
     "start_time": "2025-03-26T21:33:55.727193500Z"
    }
   },
   "id": "1b0907e5afac4c14"
  },
  {
   "cell_type": "code",
   "execution_count": 51,
   "outputs": [
    {
     "data": {
      "text/plain": "np.int64(0)"
     },
     "execution_count": 51,
     "metadata": {},
     "output_type": "execute_result"
    }
   ],
   "source": [
    "df.duplicated().sum()"
   ],
   "metadata": {
    "collapsed": false,
    "ExecuteTime": {
     "end_time": "2025-03-26T21:33:56.208095300Z",
     "start_time": "2025-03-26T21:33:56.065415700Z"
    }
   },
   "id": "ae3c3702aa194c17"
  },
  {
   "cell_type": "code",
   "execution_count": 52,
   "outputs": [
    {
     "data": {
      "text/plain": "DATAFLOW          0\nLAST UPDATE    2535\nfreq              0\nreason            0\napprehen          0\ncitizen           0\nsex               0\nage               0\nunit              0\ngeo               0\nTIME_PERIOD       0\nOBS_VALUE         0\nOBS_FLAG       2527\nCONF_STATUS    2535\ndtype: int64"
     },
     "execution_count": 52,
     "metadata": {},
     "output_type": "execute_result"
    }
   ],
   "source": [
    "df.isnull().sum()"
   ],
   "metadata": {
    "collapsed": false,
    "ExecuteTime": {
     "end_time": "2025-03-26T21:33:56.267703800Z",
     "start_time": "2025-03-26T21:33:56.204309700Z"
    }
   },
   "id": "f3ba7739c2178924"
  },
  {
   "cell_type": "code",
   "execution_count": 53,
   "outputs": [],
   "source": [
    "df = df.drop(columns=[\"DATAFLOW\", \"LAST UPDATE\", \"OBS_FLAG\", \"CONF_STATUS\"])"
   ],
   "metadata": {
    "collapsed": false,
    "ExecuteTime": {
     "end_time": "2025-03-26T21:33:56.458101600Z",
     "start_time": "2025-03-26T21:33:56.395090400Z"
    }
   },
   "id": "74c2068167a9f0b6"
  },
  {
   "cell_type": "code",
   "execution_count": 54,
   "outputs": [
    {
     "name": "stdout",
     "output_type": "stream",
     "text": [
      "Uniques values in freq: ['Annual']\n",
      "Uniques values in reason: ['Illegal entry' 'Overstay' 'Other reason' 'Total']\n",
      "Uniques values in apprehen: ['Between border crossing points - at land'\n",
      " 'Between border crossing points - at sea'\n",
      " 'At the border crossing point – at sea, land, air'\n",
      " 'In the external border area' 'In the inland area' 'Total']\n",
      "Uniques values in citizen: ['Total']\n",
      "Uniques values in sex: ['Total']\n",
      "Uniques values in age: ['Total']\n",
      "Uniques values in unit: ['Person']\n",
      "Uniques values in geo: ['Austria' 'Belgium' 'Bulgaria' 'Switzerland' 'Cyprus' 'Czechia' 'Germany'\n",
      " 'Denmark' 'Estonia' 'Greece' 'Spain'\n",
      " 'European Union - 27 countries (from 2020)' 'Finland' 'France' 'Croatia'\n",
      " 'Hungary' 'Ireland' 'Iceland' 'Italy' 'Liechtenstein' 'Lithuania'\n",
      " 'Luxembourg' 'Latvia' 'Montenegro' 'Malta' 'Netherlands' 'Norway'\n",
      " 'Poland' 'Portugal' 'Romania' 'Sweden' 'Slovenia' 'Slovakia'\n",
      " 'European Union - 28 countries (2013-2020)' 'United Kingdom']\n",
      "Uniques values in TIME_PERIOD: [2021 2022 2023 2020 2019 2014 2015 2016 2017 2018]\n",
      "Uniques values in OBS_VALUE: [      0     880    5645    3795    5670       5      10    6035    7165\n",
      "    7620  121010      15    1160   11680   12160   61295  132595   90310\n",
      "      50     240    2890      20    1775     765    7865   29655     190\n",
      "     530     650      55    4800   13105   41715   72285  199475      80\n",
      "   67475  105130  157650     160     110      30     210     935     535\n",
      "      45     355      25      85     100   12925      40     895    1640\n",
      "    1900    1615    1280     430    1110     605     130    1805    2495\n",
      "    6565    2165    2275     150     295     305     145    1090    6635\n",
      "    4330    5730      90     105   10870   20265   49435  333405      35\n",
      "    2775   12960   12670   62405  133205   90440   69285  107625  164215\n",
      "     285    2900    2185    2285    2085    1060    8175   29800     545\n",
      "     165    2685   17640    6330    6870    8205    8555    1770    5895\n",
      "   24410    4740   65410   90565      95     175     180   26405   28100\n",
      "   22445  343140     395     310    5085    5000    3990   10195   30080\n",
      "   53630   12480   26505   11605   22785   28185   26460     800     120\n",
      "      60     270     235     300     860    1915    1500    1435    2630\n",
      "     810     245     815    1150   59315    1255   10940   46350      70\n",
      "    9320   21975    7500    5900    5095     135     280   37275   48370\n",
      "   71880  676545     400     345    5975    6640    5885   12965   43040\n",
      "   66305   74880  159710  102045   92070  135810  190680      75     320\n",
      "    4395    3620    4910    2330    1205    8990   30950    1445   11485\n",
      "   47005     620     585    1075     680     220   76950      65     375\n",
      "     415    1790    2780    4230     140     250   54965   60105   54865\n",
      "    1215    1830   13255    7485     170     335     330    1265    2485\n",
      "    1480    1710     405     770    1815    2705    1100     685   83590\n",
      "     155     265   54985   60120   54885   14050    1715     195    4690\n",
      "    5305    6925   10725    1440    2020    3295    5525     215     655\n",
      "     515     740     640     225   30615   68100   90860  108955     290\n",
      "     340     125     360     470     920     480    1170    1310    1000\n",
      "     570     595    1315    1765    2120    1590     760    2785    2350\n",
      "     955    1340    1650     255     205     830    2540    5535     325\n",
      "     905     720     790  192545     755    2795    4355     460     625\n",
      "    1185   55160   60145   54930   13280   14055    1045     700     695\n",
      "     525    1950    1845    3800    4265    3880    2770    4040     275\n",
      "    1115    8010    6485    7545     965     785     560     200   15580\n",
      "     440     725     835    3650    2310    1390    2240    2390     950\n",
      "    3105    4900    8325     975    1675   23630    3750    2355    2410\n",
      "    2395    1250    1295    9000   11385   15910   38410   10885    9820\n",
      "    9945    1225     550  132900  173105  308925  109055  104975  107900\n",
      "     315     350     185     875    4915    5470    6475    1365    1375\n",
      "    4055    6470     485    2050    1740    1690   10790   10730    3115\n",
      "    1425  332560  109495  105700  108735     115    4100    2665    2805\n",
      "    1015    6450    5045    7765    9215   11870   16310    1995    5700\n",
      "  135655    1165   11695   12175   61410  132685   90430    6575    2895\n",
      "     500    8260    8315   13110  199520    1080    1555    1120     365\n",
      "     380  105455     420     435    3125    5145    6965    1735     820\n",
      "   59725   62995   57305    1810    5100   10635   13300    7505    3665\n",
      "    4095    5710    6530   10325    3095  105545   59465    2765    7255\n",
      "    6835     780   20320  500090     450   13135   13080  121135  195680\n",
      "  147735  110230  168285   13540   14085     390    6560    4595    6065\n",
      "   14950   18685   10965   32550     660    9885   10010    2875   17890\n",
      "   11020   15130   19280    3280   10705   28930   10820  120285  198310\n",
      "  263670     690     610   27145   28740   22665  761020    1025  114145\n",
      "  109990  112010   10640   30695   54870   13005   26835   12045    1240\n",
      "    1485    1065     840     540    1070    2305    3360    6235    5915\n",
      "   10415    1855    2170    1780    3520    3465   61245    1515   11155\n",
      "   46655   33055   86220   49810   26660   18840   16090   18715   15540\n",
      "   16275   19320   18285   19145   17585   11495   10825   12870   20810\n",
      "   14125    2595    1305     670    3200   10135   22805   13800   15555\n",
      "   15765   13940   14420   13885    4980    4215    3450    4090    6040\n",
      "    8895    6215   11175   21025   10115    4430    8165    4885    4360\n",
      "    4505    4995    6515   11040   29130   11185  128290  376435  370555\n",
      "  156710  134125  133525  117930    1105    1135    1195     490     425\n",
      "     510     980     665    1330     855   73670  911470  204820   68110\n",
      "   93365  123025   47295   38015   49060   72105   47885   42605   37295\n",
      "   44625   78280   62865   72265  606850 2085465  924035  563825  572195\n",
      "  627900  557455  679730 1120380 1265350  672215 2155485  983935  618730\n",
      "  600025  650175    2930   14285    2130     930    1220    1145    1190\n",
      "   96375  109720   91985  115085  105880  120455  103915  117265  115135\n",
      "  118975    2500    3320    3495    5580   13630   22240   43830   67950\n",
      "   56170  424055   41560   25730   18915   36440   89370  134140  222515\n",
      "  159780     900    2315    2045    2790   25300   27305   32365   36230\n",
      "   26780   26885  138420  194750    2465    2040    1920    2210    2660\n",
      "    2440    1960    5025    4235     580    1020     745   13575   14205\n",
      "    1130     995     990     575     590    1405    1695    2645    3150\n",
      "    2760    3565    3640    5010    5510    3720    5455    5330    3850\n",
      "    3230    2915    1430   12050   16835   23375   28470   31245   30900\n",
      "   12170   12795   10510   16480    4530    6500    6005    4760    5890\n",
      "    3145    2335    2010    2430    3340    2565    3030    3475   10780\n",
      "   18465   21390   72835    1210    2145    1720    2615    2635    2455\n",
      "    2510    2475    4180    4345    5765    4605   14430   35215    1155\n",
      "    1985    2035    2590    2005   11705   47310   65365   70020   59895\n",
      "   54910   27830   22275]\n"
     ]
    }
   ],
   "source": [
    "for col in df.columns:\n",
    "    print(f\"Uniques values in {col}: {df[col].unique()}\")"
   ],
   "metadata": {
    "collapsed": false,
    "ExecuteTime": {
     "end_time": "2025-03-26T21:33:56.720938600Z",
     "start_time": "2025-03-26T21:33:56.697650400Z"
    }
   },
   "id": "c32963e3c8af7426"
  },
  {
   "cell_type": "code",
   "execution_count": 55,
   "outputs": [],
   "source": [
    "df = df[df[\"geo\"] != \"European Union - 27 countries (from 2020)\"]\n",
    "df = df[df[\"geo\"] != \"European Union - 28 countries (2013-2020)\"]"
   ],
   "metadata": {
    "collapsed": false,
    "ExecuteTime": {
     "end_time": "2025-03-26T21:33:57.373617700Z",
     "start_time": "2025-03-26T21:33:57.340861Z"
    }
   },
   "id": "12f36181cd7b1c0f"
  },
  {
   "cell_type": "code",
   "execution_count": 56,
   "outputs": [],
   "source": [
    "df = df.drop(columns=[\"freq\", \"citizen\", \"sex\", \"age\", \"unit\"])\n",
    "df = df.dropna()"
   ],
   "metadata": {
    "collapsed": false,
    "ExecuteTime": {
     "end_time": "2025-03-26T21:33:57.611554900Z",
     "start_time": "2025-03-26T21:33:57.593109800Z"
    }
   },
   "id": "c06a87f75f218afc"
  },
  {
   "cell_type": "code",
   "execution_count": 57,
   "outputs": [],
   "source": [
    "df = df.rename(columns={\"OBS_VALUE\": \"Migrants\"})"
   ],
   "metadata": {
    "collapsed": false,
    "ExecuteTime": {
     "end_time": "2025-03-26T21:33:57.775546800Z",
     "start_time": "2025-03-26T21:33:57.753302800Z"
    }
   },
   "id": "da4b1dea64b9af20"
  },
  {
   "cell_type": "code",
   "execution_count": 58,
   "outputs": [
    {
     "data": {
      "text/plain": "     reason apprehen             geo  TIME_PERIOD  Migrants\n2530  Total    Total  United Kingdom         2015     70020\n2531  Total    Total  United Kingdom         2016     59895\n2532  Total    Total  United Kingdom         2017     54910\n2533  Total    Total  United Kingdom         2018     27830\n2534  Total    Total  United Kingdom         2019     22275",
      "text/html": "<div>\n<style scoped>\n    .dataframe tbody tr th:only-of-type {\n        vertical-align: middle;\n    }\n\n    .dataframe tbody tr th {\n        vertical-align: top;\n    }\n\n    .dataframe thead th {\n        text-align: right;\n    }\n</style>\n<table border=\"1\" class=\"dataframe\">\n  <thead>\n    <tr style=\"text-align: right;\">\n      <th></th>\n      <th>reason</th>\n      <th>apprehen</th>\n      <th>geo</th>\n      <th>TIME_PERIOD</th>\n      <th>Migrants</th>\n    </tr>\n  </thead>\n  <tbody>\n    <tr>\n      <th>2530</th>\n      <td>Total</td>\n      <td>Total</td>\n      <td>United Kingdom</td>\n      <td>2015</td>\n      <td>70020</td>\n    </tr>\n    <tr>\n      <th>2531</th>\n      <td>Total</td>\n      <td>Total</td>\n      <td>United Kingdom</td>\n      <td>2016</td>\n      <td>59895</td>\n    </tr>\n    <tr>\n      <th>2532</th>\n      <td>Total</td>\n      <td>Total</td>\n      <td>United Kingdom</td>\n      <td>2017</td>\n      <td>54910</td>\n    </tr>\n    <tr>\n      <th>2533</th>\n      <td>Total</td>\n      <td>Total</td>\n      <td>United Kingdom</td>\n      <td>2018</td>\n      <td>27830</td>\n    </tr>\n    <tr>\n      <th>2534</th>\n      <td>Total</td>\n      <td>Total</td>\n      <td>United Kingdom</td>\n      <td>2019</td>\n      <td>22275</td>\n    </tr>\n  </tbody>\n</table>\n</div>"
     },
     "execution_count": 58,
     "metadata": {},
     "output_type": "execute_result"
    }
   ],
   "source": [
    "df.tail()"
   ],
   "metadata": {
    "collapsed": false,
    "ExecuteTime": {
     "end_time": "2025-03-26T21:33:58.362387600Z",
     "start_time": "2025-03-26T21:33:58.340772100Z"
    }
   },
   "id": "4da7532bcb6fde36"
  },
  {
   "cell_type": "code",
   "execution_count": 59,
   "outputs": [],
   "source": [
    "# TODO: liczone na 100 000 mieszkańców"
   ],
   "metadata": {
    "collapsed": false,
    "ExecuteTime": {
     "end_time": "2025-03-26T21:33:58.936913400Z",
     "start_time": "2025-03-26T21:33:58.911657700Z"
    }
   },
   "id": "5188da6bfab7dcce"
  },
  {
   "cell_type": "code",
   "execution_count": 60,
   "outputs": [],
   "source": [
    "df.to_csv(\"../../processed_data/migrants_illegally_present.csv\", index=False)"
   ],
   "metadata": {
    "collapsed": false,
    "ExecuteTime": {
     "end_time": "2025-03-26T21:33:59.529413300Z",
     "start_time": "2025-03-26T21:33:59.469002500Z"
    }
   },
   "id": "2eb4b798e1f475e"
  },
  {
   "cell_type": "code",
   "execution_count": null,
   "outputs": [],
   "source": [],
   "metadata": {
    "collapsed": false
   },
   "id": "c6c0d1ffe6adadff"
  }
 ],
 "metadata": {
  "kernelspec": {
   "display_name": "Python 3",
   "language": "python",
   "name": "python3"
  },
  "language_info": {
   "codemirror_mode": {
    "name": "ipython",
    "version": 2
   },
   "file_extension": ".py",
   "mimetype": "text/x-python",
   "name": "python",
   "nbconvert_exporter": "python",
   "pygments_lexer": "ipython2",
   "version": "2.7.6"
  }
 },
 "nbformat": 4,
 "nbformat_minor": 5
}
