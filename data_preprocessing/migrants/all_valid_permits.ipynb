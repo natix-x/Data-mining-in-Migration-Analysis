{
 "cells": [
  {
   "cell_type": "code",
   "execution_count": 68,
   "id": "initial_id",
   "metadata": {
    "collapsed": true,
    "id": "initial_id",
    "ExecuteTime": {
     "end_time": "2025-04-06T23:29:55.482560100Z",
     "start_time": "2025-04-06T23:29:55.432932200Z"
    }
   },
   "outputs": [],
   "source": [
    "import pandas as pd"
   ]
  },
  {
   "cell_type": "markdown",
   "source": [
    "**All valid permits by reason on 31 December of each year**\n",
    "\n",
    "\n",
    "---\n",
    "\n",
    "Residence permit means any authorisation valid for at least 3 months issued by the authorities of a Member State allowing a third country national to stay legally on its territory. All valid permits on 31st December (end of the year)."
   ],
   "metadata": {
    "id": "HggaBvZ30LCy"
   },
   "id": "HggaBvZ30LCy"
  },
  {
   "cell_type": "code",
   "execution_count": 69,
   "outputs": [],
   "source": [
    "df = pd.read_csv('../../data/migrants_all_valid_permits.csv')"
   ],
   "metadata": {
    "id": "bace7a45d6951602",
    "ExecuteTime": {
     "end_time": "2025-04-06T23:29:55.743597200Z",
     "start_time": "2025-04-06T23:29:55.682847700Z"
    }
   },
   "id": "bace7a45d6951602"
  },
  {
   "cell_type": "code",
   "execution_count": 70,
   "outputs": [
    {
     "data": {
      "text/plain": "              DATAFLOW        LAST UPDATE    freq duration             reason  \\\n0  ESTAT:TPS00171(1.0)  27/01/25 23:00:00  Annual    Total  Education reasons   \n1  ESTAT:TPS00171(1.0)  27/01/25 23:00:00  Annual    Total  Education reasons   \n2  ESTAT:TPS00171(1.0)  27/01/25 23:00:00  Annual    Total  Education reasons   \n3  ESTAT:TPS00171(1.0)  27/01/25 23:00:00  Annual    Total  Education reasons   \n4  ESTAT:TPS00171(1.0)  27/01/25 23:00:00  Annual    Total  Education reasons   \n\n     unit citizen      geo  TIME_PERIOD  OBS_VALUE OBS_FLAG  CONF_STATUS  \n0  Person   Total  Austria         2012    16955.0      NaN          NaN  \n1  Person   Total  Austria         2013    17960.0      NaN          NaN  \n2  Person   Total  Austria         2014    19538.0      NaN          NaN  \n3  Person   Total  Austria         2015    22474.0      NaN          NaN  \n4  Person   Total  Austria         2016    22497.0      NaN          NaN  ",
      "text/html": "<div>\n<style scoped>\n    .dataframe tbody tr th:only-of-type {\n        vertical-align: middle;\n    }\n\n    .dataframe tbody tr th {\n        vertical-align: top;\n    }\n\n    .dataframe thead th {\n        text-align: right;\n    }\n</style>\n<table border=\"1\" class=\"dataframe\">\n  <thead>\n    <tr style=\"text-align: right;\">\n      <th></th>\n      <th>DATAFLOW</th>\n      <th>LAST UPDATE</th>\n      <th>freq</th>\n      <th>duration</th>\n      <th>reason</th>\n      <th>unit</th>\n      <th>citizen</th>\n      <th>geo</th>\n      <th>TIME_PERIOD</th>\n      <th>OBS_VALUE</th>\n      <th>OBS_FLAG</th>\n      <th>CONF_STATUS</th>\n    </tr>\n  </thead>\n  <tbody>\n    <tr>\n      <th>0</th>\n      <td>ESTAT:TPS00171(1.0)</td>\n      <td>27/01/25 23:00:00</td>\n      <td>Annual</td>\n      <td>Total</td>\n      <td>Education reasons</td>\n      <td>Person</td>\n      <td>Total</td>\n      <td>Austria</td>\n      <td>2012</td>\n      <td>16955.0</td>\n      <td>NaN</td>\n      <td>NaN</td>\n    </tr>\n    <tr>\n      <th>1</th>\n      <td>ESTAT:TPS00171(1.0)</td>\n      <td>27/01/25 23:00:00</td>\n      <td>Annual</td>\n      <td>Total</td>\n      <td>Education reasons</td>\n      <td>Person</td>\n      <td>Total</td>\n      <td>Austria</td>\n      <td>2013</td>\n      <td>17960.0</td>\n      <td>NaN</td>\n      <td>NaN</td>\n    </tr>\n    <tr>\n      <th>2</th>\n      <td>ESTAT:TPS00171(1.0)</td>\n      <td>27/01/25 23:00:00</td>\n      <td>Annual</td>\n      <td>Total</td>\n      <td>Education reasons</td>\n      <td>Person</td>\n      <td>Total</td>\n      <td>Austria</td>\n      <td>2014</td>\n      <td>19538.0</td>\n      <td>NaN</td>\n      <td>NaN</td>\n    </tr>\n    <tr>\n      <th>3</th>\n      <td>ESTAT:TPS00171(1.0)</td>\n      <td>27/01/25 23:00:00</td>\n      <td>Annual</td>\n      <td>Total</td>\n      <td>Education reasons</td>\n      <td>Person</td>\n      <td>Total</td>\n      <td>Austria</td>\n      <td>2015</td>\n      <td>22474.0</td>\n      <td>NaN</td>\n      <td>NaN</td>\n    </tr>\n    <tr>\n      <th>4</th>\n      <td>ESTAT:TPS00171(1.0)</td>\n      <td>27/01/25 23:00:00</td>\n      <td>Annual</td>\n      <td>Total</td>\n      <td>Education reasons</td>\n      <td>Person</td>\n      <td>Total</td>\n      <td>Austria</td>\n      <td>2016</td>\n      <td>22497.0</td>\n      <td>NaN</td>\n      <td>NaN</td>\n    </tr>\n  </tbody>\n</table>\n</div>"
     },
     "execution_count": 70,
     "metadata": {},
     "output_type": "execute_result"
    }
   ],
   "source": [
    "df.head()"
   ],
   "metadata": {
    "colab": {
     "base_uri": "https://localhost:8080/",
     "height": 206
    },
    "id": "7f20a3629229cf52",
    "outputId": "11236e92-b513-455a-c7ac-6b4058f8c35c",
    "ExecuteTime": {
     "end_time": "2025-04-06T23:29:55.879307900Z",
     "start_time": "2025-04-06T23:29:55.829734400Z"
    }
   },
   "id": "7f20a3629229cf52"
  },
  {
   "cell_type": "code",
   "execution_count": 71,
   "outputs": [
    {
     "name": "stdout",
     "output_type": "stream",
     "text": [
      "<class 'pandas.core.frame.DataFrame'>\n",
      "RangeIndex: 1485 entries, 0 to 1484\n",
      "Data columns (total 12 columns):\n",
      " #   Column       Non-Null Count  Dtype  \n",
      "---  ------       --------------  -----  \n",
      " 0   DATAFLOW     1485 non-null   object \n",
      " 1   LAST UPDATE  1485 non-null   object \n",
      " 2   freq         1485 non-null   object \n",
      " 3   duration     1485 non-null   object \n",
      " 4   reason       1485 non-null   object \n",
      " 5   unit         1485 non-null   object \n",
      " 6   citizen      1485 non-null   object \n",
      " 7   geo          1485 non-null   object \n",
      " 8   TIME_PERIOD  1485 non-null   int64  \n",
      " 9   OBS_VALUE    1484 non-null   float64\n",
      " 10  OBS_FLAG     42 non-null     object \n",
      " 11  CONF_STATUS  0 non-null      float64\n",
      "dtypes: float64(2), int64(1), object(9)\n",
      "memory usage: 139.3+ KB\n"
     ]
    }
   ],
   "source": [
    "df.info()"
   ],
   "metadata": {
    "colab": {
     "base_uri": "https://localhost:8080/"
    },
    "id": "17501c2d216f48d7",
    "outputId": "4cc722c7-5651-4f85-f89d-a60d26b703ba",
    "ExecuteTime": {
     "end_time": "2025-04-06T23:29:56.050215900Z",
     "start_time": "2025-04-06T23:29:55.978584700Z"
    }
   },
   "id": "17501c2d216f48d7"
  },
  {
   "cell_type": "code",
   "source": [
    "df.duplicated().sum()"
   ],
   "metadata": {
    "colab": {
     "base_uri": "https://localhost:8080/"
    },
    "id": "RM5aT5_vvFeO",
    "outputId": "a6c60488-3e29-4030-c0c2-ff927a52cc9b",
    "ExecuteTime": {
     "end_time": "2025-04-06T23:29:56.301313700Z",
     "start_time": "2025-04-06T23:29:56.166952400Z"
    }
   },
   "id": "RM5aT5_vvFeO",
   "execution_count": 72,
   "outputs": [
    {
     "data": {
      "text/plain": "np.int64(0)"
     },
     "execution_count": 72,
     "metadata": {},
     "output_type": "execute_result"
    }
   ]
  },
  {
   "cell_type": "code",
   "source": [
    "df.isnull().sum()"
   ],
   "metadata": {
    "colab": {
     "base_uri": "https://localhost:8080/",
     "height": 460
    },
    "id": "SO0aT5tivRhn",
    "outputId": "621ce13c-37d9-4033-d8a2-19b8508a16a5",
    "ExecuteTime": {
     "end_time": "2025-04-06T23:29:56.515203100Z",
     "start_time": "2025-04-06T23:29:56.465952100Z"
    }
   },
   "id": "SO0aT5tivRhn",
   "execution_count": 73,
   "outputs": [
    {
     "data": {
      "text/plain": "DATAFLOW          0\nLAST UPDATE       0\nfreq              0\nduration          0\nreason            0\nunit              0\ncitizen           0\ngeo               0\nTIME_PERIOD       0\nOBS_VALUE         1\nOBS_FLAG       1443\nCONF_STATUS    1485\ndtype: int64"
     },
     "execution_count": 73,
     "metadata": {},
     "output_type": "execute_result"
    }
   ]
  },
  {
   "cell_type": "code",
   "source": [
    "df = df.drop(columns=[\"DATAFLOW\", \"LAST UPDATE\", \"OBS_FLAG\", \"CONF_STATUS\"])"
   ],
   "metadata": {
    "id": "_jWl2G_4vTlm",
    "ExecuteTime": {
     "end_time": "2025-04-06T23:29:56.771455400Z",
     "start_time": "2025-04-06T23:29:56.760224700Z"
    }
   },
   "id": "_jWl2G_4vTlm",
   "execution_count": 74,
   "outputs": []
  },
  {
   "cell_type": "code",
   "source": [
    "df.head()\n",
    "df = df.dropna()"
   ],
   "metadata": {
    "colab": {
     "base_uri": "https://localhost:8080/",
     "height": 206
    },
    "id": "9qGzF-LLvaeG",
    "outputId": "01a69ff2-4f1c-41fc-f1bf-fa9c6ff1c654",
    "ExecuteTime": {
     "end_time": "2025-04-06T23:29:56.927060100Z",
     "start_time": "2025-04-06T23:29:56.893687100Z"
    }
   },
   "id": "9qGzF-LLvaeG",
   "execution_count": 75,
   "outputs": []
  },
  {
   "cell_type": "code",
   "source": [
    "for col in df.columns:\n",
    "    print(f\"Uniques values in {col}: {df[col].unique()}\")"
   ],
   "metadata": {
    "colab": {
     "base_uri": "https://localhost:8080/"
    },
    "id": "SkkHb3oLvb-H",
    "outputId": "f4f7b8db-7680-4182-82e4-1e26decfacef",
    "ExecuteTime": {
     "end_time": "2025-04-06T23:29:57.051742400Z",
     "start_time": "2025-04-06T23:29:57.033902100Z"
    }
   },
   "id": "SkkHb3oLvb-H",
   "execution_count": 76,
   "outputs": [
    {
     "name": "stdout",
     "output_type": "stream",
     "text": [
      "Uniques values in freq: ['Annual']\n",
      "Uniques values in duration: ['Total']\n",
      "Uniques values in reason: ['Education reasons' 'Family reasons' 'Other reason' 'Total']\n",
      "Uniques values in unit: ['Person']\n",
      "Uniques values in citizen: ['Total']\n",
      "Uniques values in geo: ['Austria' 'Belgium' 'Bulgaria' 'Switzerland' 'Cyprus' 'Czechia' 'Germany'\n",
      " 'Denmark' 'Estonia' 'Greece' 'Spain'\n",
      " 'European Union - 27 countries (from 2020)' 'Finland' 'France' 'Croatia'\n",
      " 'Hungary' 'Ireland' 'Iceland' 'Italy' 'Liechtenstein' 'Lithuania'\n",
      " 'Luxembourg' 'Latvia' 'Malta' 'Netherlands' 'Norway' 'Poland' 'Portugal'\n",
      " 'Romania' 'Sweden' 'Slovenia' 'Slovakia' 'United Kingdom']\n",
      "Uniques values in TIME_PERIOD: [2012 2013 2014 2015 2016 2017 2018 2019 2020 2021 2022 2023]\n",
      "Uniques values in OBS_VALUE: [  16955.   17960.   19538. ... 1504018. 1533551. 1577559.]\n"
     ]
    }
   ]
  },
  {
   "cell_type": "code",
   "source": [
    "df = df[df[\"reason\"] == \"Total\"]\n",
    "df = df.drop(columns=[\"reason\", \"citizen\", \"duration\", \"unit\", \"freq\"])"
   ],
   "metadata": {
    "id": "OjQGJ5jswKsG",
    "ExecuteTime": {
     "end_time": "2025-04-06T23:29:57.445453800Z",
     "start_time": "2025-04-06T23:29:57.419425900Z"
    }
   },
   "id": "OjQGJ5jswKsG",
   "execution_count": 77,
   "outputs": []
  },
  {
   "cell_type": "code",
   "source": [
    "df = df.dropna()"
   ],
   "metadata": {
    "id": "J7h8LO_Z0Cqc",
    "ExecuteTime": {
     "end_time": "2025-04-06T23:29:57.745560400Z",
     "start_time": "2025-04-06T23:29:57.727055300Z"
    }
   },
   "id": "J7h8LO_Z0Cqc",
   "execution_count": 78,
   "outputs": []
  },
  {
   "cell_type": "code",
   "source": [
    "df = df.rename(columns={\"OBS_VALUE\": \"Migrants number\"})"
   ],
   "metadata": {
    "id": "oniskw7nxOE8",
    "ExecuteTime": {
     "end_time": "2025-04-06T23:29:58.045002800Z",
     "start_time": "2025-04-06T23:29:58.021955100Z"
    }
   },
   "id": "oniskw7nxOE8",
   "execution_count": 79,
   "outputs": []
  },
  {
   "cell_type": "code",
   "source": [
    "df.head()"
   ],
   "metadata": {
    "colab": {
     "base_uri": "https://localhost:8080/",
     "height": 206
    },
    "id": "nLXev_No0ll5",
    "outputId": "45971b65-a65a-4358-c005-fa1d63009e50",
    "ExecuteTime": {
     "end_time": "2025-04-06T23:29:58.410553700Z",
     "start_time": "2025-04-06T23:29:58.352183400Z"
    }
   },
   "id": "nLXev_No0ll5",
   "execution_count": 80,
   "outputs": [
    {
     "data": {
      "text/plain": "          geo  TIME_PERIOD  Migrants number\n1113  Austria         2012         493171.0\n1114  Austria         2013         450410.0\n1115  Austria         2014         427923.0\n1116  Austria         2015         453069.0\n1117  Austria         2016         471054.0",
      "text/html": "<div>\n<style scoped>\n    .dataframe tbody tr th:only-of-type {\n        vertical-align: middle;\n    }\n\n    .dataframe tbody tr th {\n        vertical-align: top;\n    }\n\n    .dataframe thead th {\n        text-align: right;\n    }\n</style>\n<table border=\"1\" class=\"dataframe\">\n  <thead>\n    <tr style=\"text-align: right;\">\n      <th></th>\n      <th>geo</th>\n      <th>TIME_PERIOD</th>\n      <th>Migrants number</th>\n    </tr>\n  </thead>\n  <tbody>\n    <tr>\n      <th>1113</th>\n      <td>Austria</td>\n      <td>2012</td>\n      <td>493171.0</td>\n    </tr>\n    <tr>\n      <th>1114</th>\n      <td>Austria</td>\n      <td>2013</td>\n      <td>450410.0</td>\n    </tr>\n    <tr>\n      <th>1115</th>\n      <td>Austria</td>\n      <td>2014</td>\n      <td>427923.0</td>\n    </tr>\n    <tr>\n      <th>1116</th>\n      <td>Austria</td>\n      <td>2015</td>\n      <td>453069.0</td>\n    </tr>\n    <tr>\n      <th>1117</th>\n      <td>Austria</td>\n      <td>2016</td>\n      <td>471054.0</td>\n    </tr>\n  </tbody>\n</table>\n</div>"
     },
     "execution_count": 80,
     "metadata": {},
     "output_type": "execute_result"
    }
   ]
  },
  {
   "cell_type": "code",
   "source": [
    "df.describe()"
   ],
   "metadata": {
    "colab": {
     "base_uri": "https://localhost:8080/",
     "height": 300
    },
    "id": "IrxGOpua0rhi",
    "outputId": "5146a5fe-7b76-419b-891a-192d4801e0a1",
    "ExecuteTime": {
     "end_time": "2025-04-06T23:29:58.755048100Z",
     "start_time": "2025-04-06T23:29:58.672254500Z"
    }
   },
   "id": "IrxGOpua0rhi",
   "execution_count": 81,
   "outputs": [
    {
     "data": {
      "text/plain": "       TIME_PERIOD  Migrants number\ncount   371.000000     3.710000e+02\nmean   2017.555256     8.886252e+05\nstd       3.458486     2.400657e+06\nmin    2012.000000     3.527000e+03\n25%    2015.000000     7.205650e+04\n50%    2018.000000     2.186010e+05\n75%    2021.000000     5.710145e+05\nmax    2023.000000     2.522427e+07",
      "text/html": "<div>\n<style scoped>\n    .dataframe tbody tr th:only-of-type {\n        vertical-align: middle;\n    }\n\n    .dataframe tbody tr th {\n        vertical-align: top;\n    }\n\n    .dataframe thead th {\n        text-align: right;\n    }\n</style>\n<table border=\"1\" class=\"dataframe\">\n  <thead>\n    <tr style=\"text-align: right;\">\n      <th></th>\n      <th>TIME_PERIOD</th>\n      <th>Migrants number</th>\n    </tr>\n  </thead>\n  <tbody>\n    <tr>\n      <th>count</th>\n      <td>371.000000</td>\n      <td>3.710000e+02</td>\n    </tr>\n    <tr>\n      <th>mean</th>\n      <td>2017.555256</td>\n      <td>8.886252e+05</td>\n    </tr>\n    <tr>\n      <th>std</th>\n      <td>3.458486</td>\n      <td>2.400657e+06</td>\n    </tr>\n    <tr>\n      <th>min</th>\n      <td>2012.000000</td>\n      <td>3.527000e+03</td>\n    </tr>\n    <tr>\n      <th>25%</th>\n      <td>2015.000000</td>\n      <td>7.205650e+04</td>\n    </tr>\n    <tr>\n      <th>50%</th>\n      <td>2018.000000</td>\n      <td>2.186010e+05</td>\n    </tr>\n    <tr>\n      <th>75%</th>\n      <td>2021.000000</td>\n      <td>5.710145e+05</td>\n    </tr>\n    <tr>\n      <th>max</th>\n      <td>2023.000000</td>\n      <td>2.522427e+07</td>\n    </tr>\n  </tbody>\n</table>\n</div>"
     },
     "execution_count": 81,
     "metadata": {},
     "output_type": "execute_result"
    }
   ]
  },
  {
   "cell_type": "code",
   "execution_count": 82,
   "outputs": [],
   "source": [
    "population_df = pd.read_csv('../../data/country_population.csv')"
   ],
   "metadata": {
    "collapsed": false,
    "ExecuteTime": {
     "end_time": "2025-04-06T23:29:59.139977800Z",
     "start_time": "2025-04-06T23:29:59.055691200Z"
    }
   },
   "id": "e2c20d92b79ae3a7"
  },
  {
   "cell_type": "code",
   "execution_count": 83,
   "outputs": [
    {
     "data": {
      "text/plain": "               DATAFLOW        LAST UPDATE    freq  \\\n0  ESTAT:DEMO_GIND(1.0)  27/03/25 23:00:00  Annual   \n1  ESTAT:DEMO_GIND(1.0)  27/03/25 23:00:00  Annual   \n2  ESTAT:DEMO_GIND(1.0)  27/03/25 23:00:00  Annual   \n3  ESTAT:DEMO_GIND(1.0)  27/03/25 23:00:00  Annual   \n4  ESTAT:DEMO_GIND(1.0)  27/03/25 23:00:00  Annual   \n\n                          indic_de      geo  TIME_PERIOD  OBS_VALUE OBS_FLAG  \\\n0  Population on 1 January - total  Andorra         2003      67159      NaN   \n1  Population on 1 January - total  Andorra         2004      72320      NaN   \n2  Population on 1 January - total  Andorra         2005      76875      NaN   \n3  Population on 1 January - total  Andorra         2006      78549      NaN   \n4  Population on 1 January - total  Andorra         2007      81222      NaN   \n\n   CONF_STATUS  \n0          NaN  \n1          NaN  \n2          NaN  \n3          NaN  \n4          NaN  ",
      "text/html": "<div>\n<style scoped>\n    .dataframe tbody tr th:only-of-type {\n        vertical-align: middle;\n    }\n\n    .dataframe tbody tr th {\n        vertical-align: top;\n    }\n\n    .dataframe thead th {\n        text-align: right;\n    }\n</style>\n<table border=\"1\" class=\"dataframe\">\n  <thead>\n    <tr style=\"text-align: right;\">\n      <th></th>\n      <th>DATAFLOW</th>\n      <th>LAST UPDATE</th>\n      <th>freq</th>\n      <th>indic_de</th>\n      <th>geo</th>\n      <th>TIME_PERIOD</th>\n      <th>OBS_VALUE</th>\n      <th>OBS_FLAG</th>\n      <th>CONF_STATUS</th>\n    </tr>\n  </thead>\n  <tbody>\n    <tr>\n      <th>0</th>\n      <td>ESTAT:DEMO_GIND(1.0)</td>\n      <td>27/03/25 23:00:00</td>\n      <td>Annual</td>\n      <td>Population on 1 January - total</td>\n      <td>Andorra</td>\n      <td>2003</td>\n      <td>67159</td>\n      <td>NaN</td>\n      <td>NaN</td>\n    </tr>\n    <tr>\n      <th>1</th>\n      <td>ESTAT:DEMO_GIND(1.0)</td>\n      <td>27/03/25 23:00:00</td>\n      <td>Annual</td>\n      <td>Population on 1 January - total</td>\n      <td>Andorra</td>\n      <td>2004</td>\n      <td>72320</td>\n      <td>NaN</td>\n      <td>NaN</td>\n    </tr>\n    <tr>\n      <th>2</th>\n      <td>ESTAT:DEMO_GIND(1.0)</td>\n      <td>27/03/25 23:00:00</td>\n      <td>Annual</td>\n      <td>Population on 1 January - total</td>\n      <td>Andorra</td>\n      <td>2005</td>\n      <td>76875</td>\n      <td>NaN</td>\n      <td>NaN</td>\n    </tr>\n    <tr>\n      <th>3</th>\n      <td>ESTAT:DEMO_GIND(1.0)</td>\n      <td>27/03/25 23:00:00</td>\n      <td>Annual</td>\n      <td>Population on 1 January - total</td>\n      <td>Andorra</td>\n      <td>2006</td>\n      <td>78549</td>\n      <td>NaN</td>\n      <td>NaN</td>\n    </tr>\n    <tr>\n      <th>4</th>\n      <td>ESTAT:DEMO_GIND(1.0)</td>\n      <td>27/03/25 23:00:00</td>\n      <td>Annual</td>\n      <td>Population on 1 January - total</td>\n      <td>Andorra</td>\n      <td>2007</td>\n      <td>81222</td>\n      <td>NaN</td>\n      <td>NaN</td>\n    </tr>\n  </tbody>\n</table>\n</div>"
     },
     "execution_count": 83,
     "metadata": {},
     "output_type": "execute_result"
    }
   ],
   "source": [
    "population_df.head()"
   ],
   "metadata": {
    "collapsed": false,
    "ExecuteTime": {
     "end_time": "2025-04-06T23:29:59.442573100Z",
     "start_time": "2025-04-06T23:29:59.385642800Z"
    }
   },
   "id": "14fc871c5844c139"
  },
  {
   "cell_type": "code",
   "execution_count": 84,
   "outputs": [],
   "source": [
    "population_df = population_df.drop(columns=[\"DATAFLOW\", \"LAST UPDATE\", \"freq\", \"indic_de\", \"OBS_FLAG\", \"CONF_STATUS\"])"
   ],
   "metadata": {
    "collapsed": false,
    "ExecuteTime": {
     "end_time": "2025-04-06T23:30:00.348477900Z",
     "start_time": "2025-04-06T23:30:00.293488600Z"
    }
   },
   "id": "baa5a551cc8ad4f5"
  },
  {
   "cell_type": "code",
   "execution_count": 85,
   "outputs": [
    {
     "data": {
      "text/plain": "array([2003, 2004, 2005, 2006, 2007, 2008, 2009, 2010, 2011, 2012, 2013,\n       2016, 2018, 2019, 2020, 2022, 2023, 2024, 2014, 2015, 2017, 2021])"
     },
     "execution_count": 85,
     "metadata": {},
     "output_type": "execute_result"
    }
   ],
   "source": [
    "population_df[\"TIME_PERIOD\"].unique()"
   ],
   "metadata": {
    "collapsed": false,
    "ExecuteTime": {
     "end_time": "2025-04-06T23:30:00.993746800Z",
     "start_time": "2025-04-06T23:30:00.972109800Z"
    }
   },
   "id": "98b88a42e3078966"
  },
  {
   "cell_type": "code",
   "execution_count": 86,
   "outputs": [
    {
     "data": {
      "text/plain": "array([2012, 2013, 2014, 2015, 2016, 2017, 2018, 2019, 2020, 2021, 2022,\n       2023])"
     },
     "execution_count": 86,
     "metadata": {},
     "output_type": "execute_result"
    }
   ],
   "source": [
    "df[\"TIME_PERIOD\"].unique()"
   ],
   "metadata": {
    "collapsed": false,
    "ExecuteTime": {
     "end_time": "2025-04-06T23:30:01.466987600Z",
     "start_time": "2025-04-06T23:30:01.451124500Z"
    }
   },
   "id": "70e1356d720881ec"
  },
  {
   "cell_type": "code",
   "execution_count": 87,
   "outputs": [],
   "source": [
    "population_df = population_df.rename(columns={\"OBS_VALUE\": \"Population\"})"
   ],
   "metadata": {
    "collapsed": false,
    "ExecuteTime": {
     "end_time": "2025-04-06T23:30:01.850815500Z",
     "start_time": "2025-04-06T23:30:01.818224300Z"
    }
   },
   "id": "f31239cf3e729b5a"
  },
  {
   "cell_type": "code",
   "execution_count": 88,
   "outputs": [],
   "source": [
    "merged_df = df.merge(population_df, how=\"left\", left_on=[\"TIME_PERIOD\", \"geo\"], right_on=[\"TIME_PERIOD\", \"geo\"])"
   ],
   "metadata": {
    "collapsed": false,
    "ExecuteTime": {
     "end_time": "2025-04-06T23:30:02.174836700Z",
     "start_time": "2025-04-06T23:30:02.150595700Z"
    }
   },
   "id": "4bcbddf947ab1380"
  },
  {
   "cell_type": "code",
   "execution_count": 89,
   "outputs": [
    {
     "data": {
      "text/plain": "       geo  TIME_PERIOD  Migrants number  Population\n0  Austria         2012         493171.0     8408121\n1  Austria         2013         450410.0     8451860\n2  Austria         2014         427923.0     8507786\n3  Austria         2015         453069.0     8584926\n4  Austria         2016         471054.0     8700471",
      "text/html": "<div>\n<style scoped>\n    .dataframe tbody tr th:only-of-type {\n        vertical-align: middle;\n    }\n\n    .dataframe tbody tr th {\n        vertical-align: top;\n    }\n\n    .dataframe thead th {\n        text-align: right;\n    }\n</style>\n<table border=\"1\" class=\"dataframe\">\n  <thead>\n    <tr style=\"text-align: right;\">\n      <th></th>\n      <th>geo</th>\n      <th>TIME_PERIOD</th>\n      <th>Migrants number</th>\n      <th>Population</th>\n    </tr>\n  </thead>\n  <tbody>\n    <tr>\n      <th>0</th>\n      <td>Austria</td>\n      <td>2012</td>\n      <td>493171.0</td>\n      <td>8408121</td>\n    </tr>\n    <tr>\n      <th>1</th>\n      <td>Austria</td>\n      <td>2013</td>\n      <td>450410.0</td>\n      <td>8451860</td>\n    </tr>\n    <tr>\n      <th>2</th>\n      <td>Austria</td>\n      <td>2014</td>\n      <td>427923.0</td>\n      <td>8507786</td>\n    </tr>\n    <tr>\n      <th>3</th>\n      <td>Austria</td>\n      <td>2015</td>\n      <td>453069.0</td>\n      <td>8584926</td>\n    </tr>\n    <tr>\n      <th>4</th>\n      <td>Austria</td>\n      <td>2016</td>\n      <td>471054.0</td>\n      <td>8700471</td>\n    </tr>\n  </tbody>\n</table>\n</div>"
     },
     "execution_count": 89,
     "metadata": {},
     "output_type": "execute_result"
    }
   ],
   "source": [
    "merged_df.head()"
   ],
   "metadata": {
    "collapsed": false,
    "ExecuteTime": {
     "end_time": "2025-04-06T23:30:02.619902700Z",
     "start_time": "2025-04-06T23:30:02.596396100Z"
    }
   },
   "id": "400e8940518476fd"
  },
  {
   "cell_type": "code",
   "execution_count": 90,
   "outputs": [
    {
     "name": "stdout",
     "output_type": "stream",
     "text": [
      "<class 'pandas.core.frame.DataFrame'>\n",
      "RangeIndex: 371 entries, 0 to 370\n",
      "Data columns (total 4 columns):\n",
      " #   Column           Non-Null Count  Dtype  \n",
      "---  ------           --------------  -----  \n",
      " 0   geo              371 non-null    object \n",
      " 1   TIME_PERIOD      371 non-null    int64  \n",
      " 2   Migrants number  371 non-null    float64\n",
      " 3   Population       371 non-null    int64  \n",
      "dtypes: float64(1), int64(2), object(1)\n",
      "memory usage: 11.7+ KB\n"
     ]
    }
   ],
   "source": [
    "merged_df.info()"
   ],
   "metadata": {
    "collapsed": false,
    "ExecuteTime": {
     "end_time": "2025-04-06T23:30:02.837987200Z",
     "start_time": "2025-04-06T23:30:02.763505700Z"
    }
   },
   "id": "c1fe4b7a36b48708"
  },
  {
   "cell_type": "code",
   "execution_count": 91,
   "outputs": [
    {
     "data": {
      "text/plain": "       geo  TIME_PERIOD  Migrants number  Population\n0  Austria         2012         493171.0     8408121\n1  Austria         2013         450410.0     8451860\n2  Austria         2014         427923.0     8507786\n3  Austria         2015         453069.0     8584926\n4  Austria         2016         471054.0     8700471",
      "text/html": "<div>\n<style scoped>\n    .dataframe tbody tr th:only-of-type {\n        vertical-align: middle;\n    }\n\n    .dataframe tbody tr th {\n        vertical-align: top;\n    }\n\n    .dataframe thead th {\n        text-align: right;\n    }\n</style>\n<table border=\"1\" class=\"dataframe\">\n  <thead>\n    <tr style=\"text-align: right;\">\n      <th></th>\n      <th>geo</th>\n      <th>TIME_PERIOD</th>\n      <th>Migrants number</th>\n      <th>Population</th>\n    </tr>\n  </thead>\n  <tbody>\n    <tr>\n      <th>0</th>\n      <td>Austria</td>\n      <td>2012</td>\n      <td>493171.0</td>\n      <td>8408121</td>\n    </tr>\n    <tr>\n      <th>1</th>\n      <td>Austria</td>\n      <td>2013</td>\n      <td>450410.0</td>\n      <td>8451860</td>\n    </tr>\n    <tr>\n      <th>2</th>\n      <td>Austria</td>\n      <td>2014</td>\n      <td>427923.0</td>\n      <td>8507786</td>\n    </tr>\n    <tr>\n      <th>3</th>\n      <td>Austria</td>\n      <td>2015</td>\n      <td>453069.0</td>\n      <td>8584926</td>\n    </tr>\n    <tr>\n      <th>4</th>\n      <td>Austria</td>\n      <td>2016</td>\n      <td>471054.0</td>\n      <td>8700471</td>\n    </tr>\n  </tbody>\n</table>\n</div>"
     },
     "execution_count": 91,
     "metadata": {},
     "output_type": "execute_result"
    }
   ],
   "source": [
    "merged_df.head()"
   ],
   "metadata": {
    "collapsed": false,
    "ExecuteTime": {
     "end_time": "2025-04-06T23:30:03.204470500Z",
     "start_time": "2025-04-06T23:30:03.171035Z"
    }
   },
   "id": "5054ccc024f216ed"
  },
  {
   "cell_type": "code",
   "execution_count": 92,
   "outputs": [
    {
     "name": "stdout",
     "output_type": "stream",
     "text": [
      "<class 'pandas.core.frame.DataFrame'>\n",
      "RangeIndex: 371 entries, 0 to 370\n",
      "Data columns (total 4 columns):\n",
      " #   Column           Non-Null Count  Dtype  \n",
      "---  ------           --------------  -----  \n",
      " 0   geo              371 non-null    object \n",
      " 1   TIME_PERIOD      371 non-null    int64  \n",
      " 2   Migrants number  371 non-null    float64\n",
      " 3   Population       371 non-null    int64  \n",
      "dtypes: float64(1), int64(2), object(1)\n",
      "memory usage: 11.7+ KB\n"
     ]
    }
   ],
   "source": [
    "merged_df.info()"
   ],
   "metadata": {
    "collapsed": false,
    "ExecuteTime": {
     "end_time": "2025-04-06T23:30:03.647418Z",
     "start_time": "2025-04-06T23:30:03.625891300Z"
    }
   },
   "id": "8785a032535f83cc"
  },
  {
   "cell_type": "code",
   "execution_count": 93,
   "outputs": [],
   "source": [
    "merged_df[\"Migrants number per 100k inhabitants\"] = round(merged_df[\"Migrants number\"] / merged_df[\"Population\"] * 100_000, 2)"
   ],
   "metadata": {
    "collapsed": false,
    "ExecuteTime": {
     "end_time": "2025-04-06T23:30:04.201429100Z",
     "start_time": "2025-04-06T23:30:04.174756300Z"
    }
   },
   "id": "4f45fb3bd13d0b26"
  },
  {
   "cell_type": "code",
   "execution_count": 94,
   "outputs": [],
   "source": [
    "merged_df = merged_df.rename(columns={\"TIME_PERIOD\": \"year\"})"
   ],
   "metadata": {
    "collapsed": false,
    "ExecuteTime": {
     "end_time": "2025-04-06T23:30:04.759574400Z",
     "start_time": "2025-04-06T23:30:04.736173100Z"
    }
   },
   "id": "6a3de9f25804d3a0"
  },
  {
   "cell_type": "code",
   "execution_count": 95,
   "outputs": [
    {
     "data": {
      "text/plain": "                geo  year  Migrants number  Population  \\\n0           Austria  2012         493171.0     8408121   \n1           Austria  2013         450410.0     8451860   \n2           Austria  2014         427923.0     8507786   \n3           Austria  2015         453069.0     8584926   \n4           Austria  2016         471054.0     8700471   \n..              ...   ...              ...         ...   \n366  United Kingdom  2014        1509007.0    64351203   \n367  United Kingdom  2015        1544879.0    64853393   \n368  United Kingdom  2016        1504018.0    65379044   \n369  United Kingdom  2017        1533551.0    65844142   \n370  United Kingdom  2018        1577559.0    66273576   \n\n     Migrants number per 100k inhabitants  \n0                                 5865.41  \n1                                 5329.12  \n2                                 5029.78  \n3                                 5277.49  \n4                                 5414.12  \n..                                    ...  \n366                               2344.96  \n367                               2382.11  \n368                               2300.46  \n369                               2329.06  \n370                               2380.37  \n\n[371 rows x 5 columns]",
      "text/html": "<div>\n<style scoped>\n    .dataframe tbody tr th:only-of-type {\n        vertical-align: middle;\n    }\n\n    .dataframe tbody tr th {\n        vertical-align: top;\n    }\n\n    .dataframe thead th {\n        text-align: right;\n    }\n</style>\n<table border=\"1\" class=\"dataframe\">\n  <thead>\n    <tr style=\"text-align: right;\">\n      <th></th>\n      <th>geo</th>\n      <th>year</th>\n      <th>Migrants number</th>\n      <th>Population</th>\n      <th>Migrants number per 100k inhabitants</th>\n    </tr>\n  </thead>\n  <tbody>\n    <tr>\n      <th>0</th>\n      <td>Austria</td>\n      <td>2012</td>\n      <td>493171.0</td>\n      <td>8408121</td>\n      <td>5865.41</td>\n    </tr>\n    <tr>\n      <th>1</th>\n      <td>Austria</td>\n      <td>2013</td>\n      <td>450410.0</td>\n      <td>8451860</td>\n      <td>5329.12</td>\n    </tr>\n    <tr>\n      <th>2</th>\n      <td>Austria</td>\n      <td>2014</td>\n      <td>427923.0</td>\n      <td>8507786</td>\n      <td>5029.78</td>\n    </tr>\n    <tr>\n      <th>3</th>\n      <td>Austria</td>\n      <td>2015</td>\n      <td>453069.0</td>\n      <td>8584926</td>\n      <td>5277.49</td>\n    </tr>\n    <tr>\n      <th>4</th>\n      <td>Austria</td>\n      <td>2016</td>\n      <td>471054.0</td>\n      <td>8700471</td>\n      <td>5414.12</td>\n    </tr>\n    <tr>\n      <th>...</th>\n      <td>...</td>\n      <td>...</td>\n      <td>...</td>\n      <td>...</td>\n      <td>...</td>\n    </tr>\n    <tr>\n      <th>366</th>\n      <td>United Kingdom</td>\n      <td>2014</td>\n      <td>1509007.0</td>\n      <td>64351203</td>\n      <td>2344.96</td>\n    </tr>\n    <tr>\n      <th>367</th>\n      <td>United Kingdom</td>\n      <td>2015</td>\n      <td>1544879.0</td>\n      <td>64853393</td>\n      <td>2382.11</td>\n    </tr>\n    <tr>\n      <th>368</th>\n      <td>United Kingdom</td>\n      <td>2016</td>\n      <td>1504018.0</td>\n      <td>65379044</td>\n      <td>2300.46</td>\n    </tr>\n    <tr>\n      <th>369</th>\n      <td>United Kingdom</td>\n      <td>2017</td>\n      <td>1533551.0</td>\n      <td>65844142</td>\n      <td>2329.06</td>\n    </tr>\n    <tr>\n      <th>370</th>\n      <td>United Kingdom</td>\n      <td>2018</td>\n      <td>1577559.0</td>\n      <td>66273576</td>\n      <td>2380.37</td>\n    </tr>\n  </tbody>\n</table>\n<p>371 rows × 5 columns</p>\n</div>"
     },
     "execution_count": 95,
     "metadata": {},
     "output_type": "execute_result"
    }
   ],
   "source": [
    "merged_df"
   ],
   "metadata": {
    "collapsed": false,
    "ExecuteTime": {
     "end_time": "2025-04-06T23:30:05.272717300Z",
     "start_time": "2025-04-06T23:30:05.234254100Z"
    }
   },
   "id": "1da955b1cdbed118"
  },
  {
   "cell_type": "code",
   "execution_count": 96,
   "outputs": [
    {
     "data": {
      "text/plain": "       geo  year  Migrants number  Population  \\\n0  Austria  2012         493171.0     8408121   \n1  Austria  2013         450410.0     8451860   \n2  Austria  2014         427923.0     8507786   \n3  Austria  2015         453069.0     8584926   \n4  Austria  2016         471054.0     8700471   \n\n   Migrants number per 100k inhabitants  \n0                               5865.41  \n1                               5329.12  \n2                               5029.78  \n3                               5277.49  \n4                               5414.12  ",
      "text/html": "<div>\n<style scoped>\n    .dataframe tbody tr th:only-of-type {\n        vertical-align: middle;\n    }\n\n    .dataframe tbody tr th {\n        vertical-align: top;\n    }\n\n    .dataframe thead th {\n        text-align: right;\n    }\n</style>\n<table border=\"1\" class=\"dataframe\">\n  <thead>\n    <tr style=\"text-align: right;\">\n      <th></th>\n      <th>geo</th>\n      <th>year</th>\n      <th>Migrants number</th>\n      <th>Population</th>\n      <th>Migrants number per 100k inhabitants</th>\n    </tr>\n  </thead>\n  <tbody>\n    <tr>\n      <th>0</th>\n      <td>Austria</td>\n      <td>2012</td>\n      <td>493171.0</td>\n      <td>8408121</td>\n      <td>5865.41</td>\n    </tr>\n    <tr>\n      <th>1</th>\n      <td>Austria</td>\n      <td>2013</td>\n      <td>450410.0</td>\n      <td>8451860</td>\n      <td>5329.12</td>\n    </tr>\n    <tr>\n      <th>2</th>\n      <td>Austria</td>\n      <td>2014</td>\n      <td>427923.0</td>\n      <td>8507786</td>\n      <td>5029.78</td>\n    </tr>\n    <tr>\n      <th>3</th>\n      <td>Austria</td>\n      <td>2015</td>\n      <td>453069.0</td>\n      <td>8584926</td>\n      <td>5277.49</td>\n    </tr>\n    <tr>\n      <th>4</th>\n      <td>Austria</td>\n      <td>2016</td>\n      <td>471054.0</td>\n      <td>8700471</td>\n      <td>5414.12</td>\n    </tr>\n  </tbody>\n</table>\n</div>"
     },
     "execution_count": 96,
     "metadata": {},
     "output_type": "execute_result"
    }
   ],
   "source": [
    "merged_df.head()"
   ],
   "metadata": {
    "collapsed": false,
    "ExecuteTime": {
     "end_time": "2025-04-06T23:30:05.836795400Z",
     "start_time": "2025-04-06T23:30:05.815380800Z"
    }
   },
   "id": "403e79eb8bb12814"
  },
  {
   "cell_type": "code",
   "execution_count": 97,
   "outputs": [],
   "source": [
    "merged_df.to_csv(\"../../processed_data/migrants_all_valid_permits.csv\", index=False)"
   ],
   "metadata": {
    "collapsed": false,
    "ExecuteTime": {
     "end_time": "2025-04-06T23:30:06.314554300Z",
     "start_time": "2025-04-06T23:30:06.299498600Z"
    }
   },
   "id": "63f39dea19d8d574"
  },
  {
   "cell_type": "code",
   "execution_count": null,
   "outputs": [],
   "source": [],
   "metadata": {
    "collapsed": false
   },
   "id": "6a6e67fad14cf820"
  }
 ],
 "metadata": {
  "kernelspec": {
   "display_name": "Python 3",
   "language": "python",
   "name": "python3"
  },
  "language_info": {
   "codemirror_mode": {
    "name": "ipython",
    "version": 2
   },
   "file_extension": ".py",
   "mimetype": "text/x-python",
   "name": "python",
   "nbconvert_exporter": "python",
   "pygments_lexer": "ipython2",
   "version": "2.7.6"
  },
  "colab": {
   "provenance": []
  }
 },
 "nbformat": 4,
 "nbformat_minor": 5
}
