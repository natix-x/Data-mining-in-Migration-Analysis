{
 "cells": [
  {
   "cell_type": "code",
   "execution_count": 60,
   "id": "initial_id",
   "metadata": {
    "ExecuteTime": {
     "end_time": "2025-04-06T23:29:55.482560100Z",
     "start_time": "2025-04-06T23:29:55.432932200Z"
    },
    "collapsed": true,
    "id": "initial_id"
   },
   "outputs": [],
   "source": [
    "import pandas as pd"
   ]
  },
  {
   "cell_type": "markdown",
   "id": "HggaBvZ30LCy",
   "metadata": {
    "id": "HggaBvZ30LCy"
   },
   "source": [
    "**All valid permits by reason on 31 December of each year**\n",
    "\n",
    "\n",
    "---\n",
    "\n",
    "Residence permit means any authorisation valid for at least 3 months issued by the authorities of a Member State allowing a third country national to stay legally on its territory. All valid permits on 31st December (end of the year)."
   ]
  },
  {
   "cell_type": "code",
   "execution_count": 61,
   "id": "bace7a45d6951602",
   "metadata": {
    "ExecuteTime": {
     "end_time": "2025-04-06T23:29:55.743597200Z",
     "start_time": "2025-04-06T23:29:55.682847700Z"
    },
    "id": "bace7a45d6951602"
   },
   "outputs": [],
   "source": [
    "df = pd.read_csv('../../data/migrants_all_valid_permits.csv')"
   ]
  },
  {
   "cell_type": "code",
   "execution_count": 62,
   "id": "7f20a3629229cf52",
   "metadata": {
    "ExecuteTime": {
     "end_time": "2025-04-06T23:29:55.879307900Z",
     "start_time": "2025-04-06T23:29:55.829734400Z"
    },
    "colab": {
     "base_uri": "https://localhost:8080/",
     "height": 206
    },
    "id": "7f20a3629229cf52",
    "outputId": "11236e92-b513-455a-c7ac-6b4058f8c35c"
   },
   "outputs": [
    {
     "data": {
      "text/html": [
       "<div>\n",
       "<style scoped>\n",
       "    .dataframe tbody tr th:only-of-type {\n",
       "        vertical-align: middle;\n",
       "    }\n",
       "\n",
       "    .dataframe tbody tr th {\n",
       "        vertical-align: top;\n",
       "    }\n",
       "\n",
       "    .dataframe thead th {\n",
       "        text-align: right;\n",
       "    }\n",
       "</style>\n",
       "<table border=\"1\" class=\"dataframe\">\n",
       "  <thead>\n",
       "    <tr style=\"text-align: right;\">\n",
       "      <th></th>\n",
       "      <th>STRUCTURE</th>\n",
       "      <th>STRUCTURE_ID</th>\n",
       "      <th>STRUCTURE_NAME</th>\n",
       "      <th>freq</th>\n",
       "      <th>Time frequency</th>\n",
       "      <th>duration</th>\n",
       "      <th>Duration</th>\n",
       "      <th>reason</th>\n",
       "      <th>Reason</th>\n",
       "      <th>unit</th>\n",
       "      <th>...</th>\n",
       "      <th>geo</th>\n",
       "      <th>Geopolitical entity (reporting)</th>\n",
       "      <th>TIME_PERIOD</th>\n",
       "      <th>Time</th>\n",
       "      <th>OBS_VALUE</th>\n",
       "      <th>Observation value</th>\n",
       "      <th>OBS_FLAG</th>\n",
       "      <th>Observation status (Flag) V2 structure</th>\n",
       "      <th>CONF_STATUS</th>\n",
       "      <th>Confidentiality status (flag)</th>\n",
       "    </tr>\n",
       "  </thead>\n",
       "  <tbody>\n",
       "    <tr>\n",
       "      <th>0</th>\n",
       "      <td>dataflow</td>\n",
       "      <td>ESTAT:MIGR_RESVALID(1.0)</td>\n",
       "      <td>All valid permits by reason, length of validit...</td>\n",
       "      <td>A</td>\n",
       "      <td>Annual</td>\n",
       "      <td>TOTAL</td>\n",
       "      <td>Total</td>\n",
       "      <td>TOTAL</td>\n",
       "      <td>Total</td>\n",
       "      <td>PER</td>\n",
       "      <td>...</td>\n",
       "      <td>AT</td>\n",
       "      <td>Austria</td>\n",
       "      <td>2016</td>\n",
       "      <td>NaN</td>\n",
       "      <td>1.0</td>\n",
       "      <td>NaN</td>\n",
       "      <td>NaN</td>\n",
       "      <td>NaN</td>\n",
       "      <td>NaN</td>\n",
       "      <td>NaN</td>\n",
       "    </tr>\n",
       "    <tr>\n",
       "      <th>1</th>\n",
       "      <td>dataflow</td>\n",
       "      <td>ESTAT:MIGR_RESVALID(1.0)</td>\n",
       "      <td>All valid permits by reason, length of validit...</td>\n",
       "      <td>A</td>\n",
       "      <td>Annual</td>\n",
       "      <td>TOTAL</td>\n",
       "      <td>Total</td>\n",
       "      <td>TOTAL</td>\n",
       "      <td>Total</td>\n",
       "      <td>PER</td>\n",
       "      <td>...</td>\n",
       "      <td>AT</td>\n",
       "      <td>Austria</td>\n",
       "      <td>2017</td>\n",
       "      <td>NaN</td>\n",
       "      <td>2.0</td>\n",
       "      <td>NaN</td>\n",
       "      <td>NaN</td>\n",
       "      <td>NaN</td>\n",
       "      <td>NaN</td>\n",
       "      <td>NaN</td>\n",
       "    </tr>\n",
       "    <tr>\n",
       "      <th>2</th>\n",
       "      <td>dataflow</td>\n",
       "      <td>ESTAT:MIGR_RESVALID(1.0)</td>\n",
       "      <td>All valid permits by reason, length of validit...</td>\n",
       "      <td>A</td>\n",
       "      <td>Annual</td>\n",
       "      <td>TOTAL</td>\n",
       "      <td>Total</td>\n",
       "      <td>TOTAL</td>\n",
       "      <td>Total</td>\n",
       "      <td>PER</td>\n",
       "      <td>...</td>\n",
       "      <td>AT</td>\n",
       "      <td>Austria</td>\n",
       "      <td>2018</td>\n",
       "      <td>NaN</td>\n",
       "      <td>2.0</td>\n",
       "      <td>NaN</td>\n",
       "      <td>NaN</td>\n",
       "      <td>NaN</td>\n",
       "      <td>NaN</td>\n",
       "      <td>NaN</td>\n",
       "    </tr>\n",
       "    <tr>\n",
       "      <th>3</th>\n",
       "      <td>dataflow</td>\n",
       "      <td>ESTAT:MIGR_RESVALID(1.0)</td>\n",
       "      <td>All valid permits by reason, length of validit...</td>\n",
       "      <td>A</td>\n",
       "      <td>Annual</td>\n",
       "      <td>TOTAL</td>\n",
       "      <td>Total</td>\n",
       "      <td>TOTAL</td>\n",
       "      <td>Total</td>\n",
       "      <td>PER</td>\n",
       "      <td>...</td>\n",
       "      <td>AT</td>\n",
       "      <td>Austria</td>\n",
       "      <td>2019</td>\n",
       "      <td>NaN</td>\n",
       "      <td>2.0</td>\n",
       "      <td>NaN</td>\n",
       "      <td>NaN</td>\n",
       "      <td>NaN</td>\n",
       "      <td>NaN</td>\n",
       "      <td>NaN</td>\n",
       "    </tr>\n",
       "    <tr>\n",
       "      <th>4</th>\n",
       "      <td>dataflow</td>\n",
       "      <td>ESTAT:MIGR_RESVALID(1.0)</td>\n",
       "      <td>All valid permits by reason, length of validit...</td>\n",
       "      <td>A</td>\n",
       "      <td>Annual</td>\n",
       "      <td>TOTAL</td>\n",
       "      <td>Total</td>\n",
       "      <td>TOTAL</td>\n",
       "      <td>Total</td>\n",
       "      <td>PER</td>\n",
       "      <td>...</td>\n",
       "      <td>AT</td>\n",
       "      <td>Austria</td>\n",
       "      <td>2020</td>\n",
       "      <td>NaN</td>\n",
       "      <td>2.0</td>\n",
       "      <td>NaN</td>\n",
       "      <td>NaN</td>\n",
       "      <td>NaN</td>\n",
       "      <td>NaN</td>\n",
       "      <td>NaN</td>\n",
       "    </tr>\n",
       "  </tbody>\n",
       "</table>\n",
       "<p>5 rows × 23 columns</p>\n",
       "</div>"
      ],
      "text/plain": [
       "  STRUCTURE              STRUCTURE_ID  \\\n",
       "0  dataflow  ESTAT:MIGR_RESVALID(1.0)   \n",
       "1  dataflow  ESTAT:MIGR_RESVALID(1.0)   \n",
       "2  dataflow  ESTAT:MIGR_RESVALID(1.0)   \n",
       "3  dataflow  ESTAT:MIGR_RESVALID(1.0)   \n",
       "4  dataflow  ESTAT:MIGR_RESVALID(1.0)   \n",
       "\n",
       "                                      STRUCTURE_NAME freq Time frequency  \\\n",
       "0  All valid permits by reason, length of validit...    A         Annual   \n",
       "1  All valid permits by reason, length of validit...    A         Annual   \n",
       "2  All valid permits by reason, length of validit...    A         Annual   \n",
       "3  All valid permits by reason, length of validit...    A         Annual   \n",
       "4  All valid permits by reason, length of validit...    A         Annual   \n",
       "\n",
       "  duration Duration reason Reason unit  ... geo  \\\n",
       "0    TOTAL    Total  TOTAL  Total  PER  ...  AT   \n",
       "1    TOTAL    Total  TOTAL  Total  PER  ...  AT   \n",
       "2    TOTAL    Total  TOTAL  Total  PER  ...  AT   \n",
       "3    TOTAL    Total  TOTAL  Total  PER  ...  AT   \n",
       "4    TOTAL    Total  TOTAL  Total  PER  ...  AT   \n",
       "\n",
       "  Geopolitical entity (reporting) TIME_PERIOD Time OBS_VALUE  \\\n",
       "0                         Austria        2016  NaN       1.0   \n",
       "1                         Austria        2017  NaN       2.0   \n",
       "2                         Austria        2018  NaN       2.0   \n",
       "3                         Austria        2019  NaN       2.0   \n",
       "4                         Austria        2020  NaN       2.0   \n",
       "\n",
       "   Observation value  OBS_FLAG  Observation status (Flag) V2 structure  \\\n",
       "0                NaN       NaN                                     NaN   \n",
       "1                NaN       NaN                                     NaN   \n",
       "2                NaN       NaN                                     NaN   \n",
       "3                NaN       NaN                                     NaN   \n",
       "4                NaN       NaN                                     NaN   \n",
       "\n",
       "   CONF_STATUS Confidentiality status (flag)  \n",
       "0          NaN                           NaN  \n",
       "1          NaN                           NaN  \n",
       "2          NaN                           NaN  \n",
       "3          NaN                           NaN  \n",
       "4          NaN                           NaN  \n",
       "\n",
       "[5 rows x 23 columns]"
      ]
     },
     "execution_count": 62,
     "metadata": {},
     "output_type": "execute_result"
    }
   ],
   "source": [
    "df.head()"
   ]
  },
  {
   "cell_type": "code",
   "execution_count": 63,
   "id": "17501c2d216f48d7",
   "metadata": {
    "ExecuteTime": {
     "end_time": "2025-04-06T23:29:56.050215900Z",
     "start_time": "2025-04-06T23:29:55.978584700Z"
    },
    "colab": {
     "base_uri": "https://localhost:8080/"
    },
    "id": "17501c2d216f48d7",
    "outputId": "4cc722c7-5651-4f85-f89d-a60d26b703ba"
   },
   "outputs": [
    {
     "name": "stdout",
     "output_type": "stream",
     "text": [
      "<class 'pandas.core.frame.DataFrame'>\n",
      "RangeIndex: 71521 entries, 0 to 71520\n",
      "Data columns (total 23 columns):\n",
      " #   Column                                  Non-Null Count  Dtype  \n",
      "---  ------                                  --------------  -----  \n",
      " 0   STRUCTURE                               71521 non-null  object \n",
      " 1   STRUCTURE_ID                            71521 non-null  object \n",
      " 2   STRUCTURE_NAME                          71521 non-null  object \n",
      " 3   freq                                    71521 non-null  object \n",
      " 4   Time frequency                          71521 non-null  object \n",
      " 5   duration                                71521 non-null  object \n",
      " 6   Duration                                71521 non-null  object \n",
      " 7   reason                                  71521 non-null  object \n",
      " 8   Reason                                  71521 non-null  object \n",
      " 9   unit                                    71521 non-null  object \n",
      " 10  Unit of measure                         71521 non-null  object \n",
      " 11  citizen                                 71084 non-null  object \n",
      " 12  Country of citizenship                  71521 non-null  object \n",
      " 13  geo                                     71521 non-null  object \n",
      " 14  Geopolitical entity (reporting)         71521 non-null  object \n",
      " 15  TIME_PERIOD                             71521 non-null  int64  \n",
      " 16  Time                                    0 non-null      float64\n",
      " 17  OBS_VALUE                               70857 non-null  float64\n",
      " 18  Observation value                       0 non-null      float64\n",
      " 19  OBS_FLAG                                2831 non-null   object \n",
      " 20  Observation status (Flag) V2 structure  2831 non-null   object \n",
      " 21  CONF_STATUS                             0 non-null      float64\n",
      " 22  Confidentiality status (flag)           0 non-null      float64\n",
      "dtypes: float64(5), int64(1), object(17)\n",
      "memory usage: 12.6+ MB\n"
     ]
    }
   ],
   "source": [
    "df.info()"
   ]
  },
  {
   "cell_type": "code",
   "execution_count": 64,
   "id": "RM5aT5_vvFeO",
   "metadata": {
    "ExecuteTime": {
     "end_time": "2025-04-06T23:29:56.301313700Z",
     "start_time": "2025-04-06T23:29:56.166952400Z"
    },
    "colab": {
     "base_uri": "https://localhost:8080/"
    },
    "id": "RM5aT5_vvFeO",
    "outputId": "a6c60488-3e29-4030-c0c2-ff927a52cc9b"
   },
   "outputs": [
    {
     "data": {
      "text/plain": [
       "np.int64(0)"
      ]
     },
     "execution_count": 64,
     "metadata": {},
     "output_type": "execute_result"
    }
   ],
   "source": [
    "df.duplicated().sum()"
   ]
  },
  {
   "cell_type": "code",
   "execution_count": 65,
   "id": "SO0aT5tivRhn",
   "metadata": {
    "ExecuteTime": {
     "end_time": "2025-04-06T23:29:56.515203100Z",
     "start_time": "2025-04-06T23:29:56.465952100Z"
    },
    "colab": {
     "base_uri": "https://localhost:8080/",
     "height": 460
    },
    "id": "SO0aT5tivRhn",
    "outputId": "621ce13c-37d9-4033-d8a2-19b8508a16a5"
   },
   "outputs": [
    {
     "data": {
      "text/plain": [
       "STRUCTURE                                     0\n",
       "STRUCTURE_ID                                  0\n",
       "STRUCTURE_NAME                                0\n",
       "freq                                          0\n",
       "Time frequency                                0\n",
       "duration                                      0\n",
       "Duration                                      0\n",
       "reason                                        0\n",
       "Reason                                        0\n",
       "unit                                          0\n",
       "Unit of measure                               0\n",
       "citizen                                     437\n",
       "Country of citizenship                        0\n",
       "geo                                           0\n",
       "Geopolitical entity (reporting)               0\n",
       "TIME_PERIOD                                   0\n",
       "Time                                      71521\n",
       "OBS_VALUE                                   664\n",
       "Observation value                         71521\n",
       "OBS_FLAG                                  68690\n",
       "Observation status (Flag) V2 structure    68690\n",
       "CONF_STATUS                               71521\n",
       "Confidentiality status (flag)             71521\n",
       "dtype: int64"
      ]
     },
     "execution_count": 65,
     "metadata": {},
     "output_type": "execute_result"
    }
   ],
   "source": [
    "df.isnull().sum()"
   ]
  },
  {
   "cell_type": "code",
   "execution_count": 66,
   "id": "_jWl2G_4vTlm",
   "metadata": {
    "ExecuteTime": {
     "end_time": "2025-04-06T23:29:56.771455400Z",
     "start_time": "2025-04-06T23:29:56.760224700Z"
    },
    "id": "_jWl2G_4vTlm"
   },
   "outputs": [],
   "source": [
    "df = df[[\"Country of citizenship\", \"Geopolitical entity (reporting)\", \"OBS_VALUE\", \"TIME_PERIOD\"]]\n",
    "df = df.rename(columns={\n",
    "    \"Geopolitical entity (reporting)\": \"geo\",\n",
    "    \"TIME_PERIOD\": \"year\"\n",
    "})"
   ]
  },
  {
   "cell_type": "code",
   "execution_count": 67,
   "id": "9qGzF-LLvaeG",
   "metadata": {
    "ExecuteTime": {
     "end_time": "2025-04-06T23:29:56.927060100Z",
     "start_time": "2025-04-06T23:29:56.893687100Z"
    },
    "colab": {
     "base_uri": "https://localhost:8080/",
     "height": 206
    },
    "id": "9qGzF-LLvaeG",
    "outputId": "01a69ff2-4f1c-41fc-f1bf-fa9c6ff1c654"
   },
   "outputs": [],
   "source": [
    "df.head()\n",
    "df = df.dropna()"
   ]
  },
  {
   "cell_type": "code",
   "execution_count": 68,
   "id": "SkkHb3oLvb-H",
   "metadata": {
    "ExecuteTime": {
     "end_time": "2025-04-06T23:29:57.051742400Z",
     "start_time": "2025-04-06T23:29:57.033902100Z"
    },
    "colab": {
     "base_uri": "https://localhost:8080/"
    },
    "id": "SkkHb3oLvb-H",
    "outputId": "f4f7b8db-7680-4182-82e4-1e26decfacef"
   },
   "outputs": [
    {
     "name": "stdout",
     "output_type": "stream",
     "text": [
      "Uniques values in Country of citizenship: ['Andorra' 'United Arab Emirates' 'Afghanistan' 'Antigua and Barbuda'\n",
      " 'Albania' 'Armenia' 'Angola' 'Argentina' 'Australia' 'Azerbaijan'\n",
      " 'Bosnia and Herzegovina' 'Barbados' 'Bangladesh' 'Burkina Faso' 'Bahrain'\n",
      " 'Burundi' 'Benin' 'Brunei Darussalam' 'Bolivia' 'Brazil' 'Bahamas'\n",
      " 'Bhutan' 'Botswana' 'Belarus' 'Belize' 'Canada'\n",
      " 'Democratic Republic of the Congo' 'Central African Republic' 'Congo'\n",
      " 'Switzerland' 'Côte d’Ivoire' 'Cook Islands' 'Chile' 'Cameroon' 'China'\n",
      " 'Colombia' 'Costa Rica' 'Cuba' 'Cabo Verde' 'Djibouti' 'Dominica'\n",
      " 'Dominican Republic' 'Algeria' 'Ecuador' 'Egypt' 'Western Sahara'\n",
      " 'Eritrea' 'Ethiopia' 'Fiji' 'Federated States of Micronesia' 'Gabon'\n",
      " 'Grenada' 'Georgia' 'Ghana' 'Gambia, The' 'Guinea' 'Equatorial Guinea'\n",
      " 'Guatemala' 'Guinea-Bissau' 'Guyana' 'Honduras' 'Croatia' 'Haiti'\n",
      " 'Indonesia' 'Israel' 'India' 'Iraq' 'Iran' 'Iceland' 'Jamaica' 'Jordan'\n",
      " 'Japan' 'Kenya' 'Kyrgyzstan' 'Cambodia' 'Kiribati' 'Comoros'\n",
      " 'Saint Kitts and Nevis' 'North Korea' 'South Korea' 'Kuwait' 'Kazakhstan'\n",
      " 'Laos' 'Lebanon' 'Saint Lucia' 'Liechtenstein' 'Sri Lanka' 'Liberia'\n",
      " 'Lesotho' 'Libya' 'Morocco' 'Monaco' 'Moldova' 'Montenegro' 'Madagascar'\n",
      " 'Marshall Islands' 'North Macedonia' 'Mali' 'Myanmar/Burma' 'Mongolia'\n",
      " 'Mauritania' 'Mauritius' 'Maldives' 'Malawi' 'Mexico' 'Malaysia'\n",
      " 'Mozambique' 'Namibia' 'Niger' 'Nigeria' 'Nicaragua' 'Norway' 'Nepal'\n",
      " 'Nauru' 'New Zealand' 'Oman' 'Panama' 'Peru' 'Papua New Guinea'\n",
      " 'Philippines' 'Pakistan' 'Palestine*' 'Palau' 'Paraguay' 'Qatar'\n",
      " 'Recognised non-citizens' 'Serbia' 'Russia' 'Rwanda' 'Saudi Arabia'\n",
      " 'Solomon Islands' 'Seychelles' 'Sudan' 'Singapore' 'Sierra Leone'\n",
      " 'San Marino' 'Senegal' 'Somalia' 'Suriname' 'South Sudan'\n",
      " 'São Tomé and Príncipe' 'Stateless' 'El Salvador' 'Syria' 'Eswatini'\n",
      " 'Chad' 'Togo' 'Thailand' 'Tajikistan' 'Timor-Leste' 'Turkmenistan'\n",
      " 'Tunisia' 'Tonga' 'Total' 'Türkiye' 'Trinidad and Tobago' 'Tuvalu'\n",
      " 'Taiwan' 'Tanzania' 'Ukraine' 'Uganda' 'United Kingdom'\n",
      " 'British overseas countries and territories' 'Unknown' 'United States'\n",
      " 'Uruguay' 'Uzbekistan' 'Holy See' 'Saint Vincent and the Grenadines'\n",
      " 'Venezuela' 'Viet Nam' 'Vanuatu' 'Samoa' 'Kosovo*' 'Yemen' 'South Africa'\n",
      " 'Zambia' 'Zimbabwe']\n",
      "Uniques values in geo: ['Austria' 'Belgium' 'Bulgaria' 'Switzerland' 'Cyprus' 'Czechia' 'Germany'\n",
      " 'Denmark' 'Estonia' 'Greece' 'Spain' 'Finland' 'France' 'Croatia'\n",
      " 'Hungary' 'Ireland' 'Iceland' 'Italy' 'Liechtenstein' 'Lithuania'\n",
      " 'Luxembourg' 'Latvia' 'Malta' 'Netherlands' 'Norway' 'Poland' 'Portugal'\n",
      " 'Romania' 'Sweden' 'Slovenia' 'Slovakia' 'United Kingdom']\n",
      "Uniques values in OBS_VALUE: [1.0000e+00 2.0000e+00 9.0000e+00 ... 1.6822e+04 1.1270e+04 8.5640e+03]\n",
      "Uniques values in year: [2016 2017 2018 2019 2020 2021 2022 2023 2008 2009 2010 2011 2012 2013\n",
      " 2014 2015]\n"
     ]
    }
   ],
   "source": [
    "for col in df.columns:\n",
    "    print(f\"Uniques values in {col}: {df[col].unique()}\")"
   ]
  },
  {
   "cell_type": "code",
   "execution_count": 69,
   "id": "oniskw7nxOE8",
   "metadata": {
    "ExecuteTime": {
     "end_time": "2025-04-06T23:29:58.045002800Z",
     "start_time": "2025-04-06T23:29:58.021955100Z"
    },
    "id": "oniskw7nxOE8"
   },
   "outputs": [],
   "source": [
    "df = df.rename(columns={\"OBS_VALUE\": \"Migrants number\"})"
   ]
  },
  {
   "cell_type": "code",
   "execution_count": 70,
   "id": "nLXev_No0ll5",
   "metadata": {
    "ExecuteTime": {
     "end_time": "2025-04-06T23:29:58.410553700Z",
     "start_time": "2025-04-06T23:29:58.352183400Z"
    },
    "colab": {
     "base_uri": "https://localhost:8080/",
     "height": 206
    },
    "id": "nLXev_No0ll5",
    "outputId": "45971b65-a65a-4358-c005-fa1d63009e50"
   },
   "outputs": [
    {
     "data": {
      "text/html": [
       "<div>\n",
       "<style scoped>\n",
       "    .dataframe tbody tr th:only-of-type {\n",
       "        vertical-align: middle;\n",
       "    }\n",
       "\n",
       "    .dataframe tbody tr th {\n",
       "        vertical-align: top;\n",
       "    }\n",
       "\n",
       "    .dataframe thead th {\n",
       "        text-align: right;\n",
       "    }\n",
       "</style>\n",
       "<table border=\"1\" class=\"dataframe\">\n",
       "  <thead>\n",
       "    <tr style=\"text-align: right;\">\n",
       "      <th></th>\n",
       "      <th>Country of citizenship</th>\n",
       "      <th>geo</th>\n",
       "      <th>Migrants number</th>\n",
       "      <th>year</th>\n",
       "    </tr>\n",
       "  </thead>\n",
       "  <tbody>\n",
       "    <tr>\n",
       "      <th>0</th>\n",
       "      <td>Andorra</td>\n",
       "      <td>Austria</td>\n",
       "      <td>1.0</td>\n",
       "      <td>2016</td>\n",
       "    </tr>\n",
       "    <tr>\n",
       "      <th>1</th>\n",
       "      <td>Andorra</td>\n",
       "      <td>Austria</td>\n",
       "      <td>2.0</td>\n",
       "      <td>2017</td>\n",
       "    </tr>\n",
       "    <tr>\n",
       "      <th>2</th>\n",
       "      <td>Andorra</td>\n",
       "      <td>Austria</td>\n",
       "      <td>2.0</td>\n",
       "      <td>2018</td>\n",
       "    </tr>\n",
       "    <tr>\n",
       "      <th>3</th>\n",
       "      <td>Andorra</td>\n",
       "      <td>Austria</td>\n",
       "      <td>2.0</td>\n",
       "      <td>2019</td>\n",
       "    </tr>\n",
       "    <tr>\n",
       "      <th>4</th>\n",
       "      <td>Andorra</td>\n",
       "      <td>Austria</td>\n",
       "      <td>2.0</td>\n",
       "      <td>2020</td>\n",
       "    </tr>\n",
       "  </tbody>\n",
       "</table>\n",
       "</div>"
      ],
      "text/plain": [
       "  Country of citizenship      geo  Migrants number  year\n",
       "0                Andorra  Austria              1.0  2016\n",
       "1                Andorra  Austria              2.0  2017\n",
       "2                Andorra  Austria              2.0  2018\n",
       "3                Andorra  Austria              2.0  2019\n",
       "4                Andorra  Austria              2.0  2020"
      ]
     },
     "execution_count": 70,
     "metadata": {},
     "output_type": "execute_result"
    }
   ],
   "source": [
    "df.head()"
   ]
  },
  {
   "cell_type": "code",
   "execution_count": 71,
   "id": "IrxGOpua0rhi",
   "metadata": {
    "ExecuteTime": {
     "end_time": "2025-04-06T23:29:58.755048100Z",
     "start_time": "2025-04-06T23:29:58.672254500Z"
    },
    "colab": {
     "base_uri": "https://localhost:8080/",
     "height": 300
    },
    "id": "IrxGOpua0rhi",
    "outputId": "5146a5fe-7b76-419b-891a-192d4801e0a1"
   },
   "outputs": [
    {
     "data": {
      "text/html": [
       "<div>\n",
       "<style scoped>\n",
       "    .dataframe tbody tr th:only-of-type {\n",
       "        vertical-align: middle;\n",
       "    }\n",
       "\n",
       "    .dataframe tbody tr th {\n",
       "        vertical-align: top;\n",
       "    }\n",
       "\n",
       "    .dataframe thead th {\n",
       "        text-align: right;\n",
       "    }\n",
       "</style>\n",
       "<table border=\"1\" class=\"dataframe\">\n",
       "  <thead>\n",
       "    <tr style=\"text-align: right;\">\n",
       "      <th></th>\n",
       "      <th>Migrants number</th>\n",
       "      <th>year</th>\n",
       "    </tr>\n",
       "  </thead>\n",
       "  <tbody>\n",
       "    <tr>\n",
       "      <th>count</th>\n",
       "      <td>7.085700e+04</td>\n",
       "      <td>70857.000000</td>\n",
       "    </tr>\n",
       "    <tr>\n",
       "      <th>mean</th>\n",
       "      <td>9.116500e+03</td>\n",
       "      <td>2016.121230</td>\n",
       "    </tr>\n",
       "    <tr>\n",
       "      <th>std</th>\n",
       "      <td>1.143862e+05</td>\n",
       "      <td>4.599027</td>\n",
       "    </tr>\n",
       "    <tr>\n",
       "      <th>min</th>\n",
       "      <td>0.000000e+00</td>\n",
       "      <td>2008.000000</td>\n",
       "    </tr>\n",
       "    <tr>\n",
       "      <th>25%</th>\n",
       "      <td>7.000000e+00</td>\n",
       "      <td>2012.000000</td>\n",
       "    </tr>\n",
       "    <tr>\n",
       "      <th>50%</th>\n",
       "      <td>6.300000e+01</td>\n",
       "      <td>2016.000000</td>\n",
       "    </tr>\n",
       "    <tr>\n",
       "      <th>75%</th>\n",
       "      <td>6.930000e+02</td>\n",
       "      <td>2020.000000</td>\n",
       "    </tr>\n",
       "    <tr>\n",
       "      <th>max</th>\n",
       "      <td>5.724832e+06</td>\n",
       "      <td>2023.000000</td>\n",
       "    </tr>\n",
       "  </tbody>\n",
       "</table>\n",
       "</div>"
      ],
      "text/plain": [
       "       Migrants number          year\n",
       "count     7.085700e+04  70857.000000\n",
       "mean      9.116500e+03   2016.121230\n",
       "std       1.143862e+05      4.599027\n",
       "min       0.000000e+00   2008.000000\n",
       "25%       7.000000e+00   2012.000000\n",
       "50%       6.300000e+01   2016.000000\n",
       "75%       6.930000e+02   2020.000000\n",
       "max       5.724832e+06   2023.000000"
      ]
     },
     "execution_count": 71,
     "metadata": {},
     "output_type": "execute_result"
    }
   ],
   "source": [
    "df.describe()"
   ]
  },
  {
   "cell_type": "code",
   "execution_count": 72,
   "id": "e2c20d92b79ae3a7",
   "metadata": {
    "ExecuteTime": {
     "end_time": "2025-04-06T23:29:59.139977800Z",
     "start_time": "2025-04-06T23:29:59.055691200Z"
    },
    "collapsed": false
   },
   "outputs": [],
   "source": [
    "population_df = pd.read_csv('../../data/country_population.csv')"
   ]
  },
  {
   "cell_type": "code",
   "execution_count": 73,
   "id": "14fc871c5844c139",
   "metadata": {
    "ExecuteTime": {
     "end_time": "2025-04-06T23:29:59.442573100Z",
     "start_time": "2025-04-06T23:29:59.385642800Z"
    },
    "collapsed": false
   },
   "outputs": [
    {
     "data": {
      "text/html": [
       "<div>\n",
       "<style scoped>\n",
       "    .dataframe tbody tr th:only-of-type {\n",
       "        vertical-align: middle;\n",
       "    }\n",
       "\n",
       "    .dataframe tbody tr th {\n",
       "        vertical-align: top;\n",
       "    }\n",
       "\n",
       "    .dataframe thead th {\n",
       "        text-align: right;\n",
       "    }\n",
       "</style>\n",
       "<table border=\"1\" class=\"dataframe\">\n",
       "  <thead>\n",
       "    <tr style=\"text-align: right;\">\n",
       "      <th></th>\n",
       "      <th>DATAFLOW</th>\n",
       "      <th>LAST UPDATE</th>\n",
       "      <th>freq</th>\n",
       "      <th>indic_de</th>\n",
       "      <th>geo</th>\n",
       "      <th>TIME_PERIOD</th>\n",
       "      <th>OBS_VALUE</th>\n",
       "      <th>OBS_FLAG</th>\n",
       "      <th>CONF_STATUS</th>\n",
       "    </tr>\n",
       "  </thead>\n",
       "  <tbody>\n",
       "    <tr>\n",
       "      <th>0</th>\n",
       "      <td>ESTAT:DEMO_GIND(1.0)</td>\n",
       "      <td>27/03/25 23:00:00</td>\n",
       "      <td>Annual</td>\n",
       "      <td>Population on 1 January - total</td>\n",
       "      <td>Andorra</td>\n",
       "      <td>2003</td>\n",
       "      <td>67159</td>\n",
       "      <td>NaN</td>\n",
       "      <td>NaN</td>\n",
       "    </tr>\n",
       "    <tr>\n",
       "      <th>1</th>\n",
       "      <td>ESTAT:DEMO_GIND(1.0)</td>\n",
       "      <td>27/03/25 23:00:00</td>\n",
       "      <td>Annual</td>\n",
       "      <td>Population on 1 January - total</td>\n",
       "      <td>Andorra</td>\n",
       "      <td>2004</td>\n",
       "      <td>72320</td>\n",
       "      <td>NaN</td>\n",
       "      <td>NaN</td>\n",
       "    </tr>\n",
       "    <tr>\n",
       "      <th>2</th>\n",
       "      <td>ESTAT:DEMO_GIND(1.0)</td>\n",
       "      <td>27/03/25 23:00:00</td>\n",
       "      <td>Annual</td>\n",
       "      <td>Population on 1 January - total</td>\n",
       "      <td>Andorra</td>\n",
       "      <td>2005</td>\n",
       "      <td>76875</td>\n",
       "      <td>NaN</td>\n",
       "      <td>NaN</td>\n",
       "    </tr>\n",
       "    <tr>\n",
       "      <th>3</th>\n",
       "      <td>ESTAT:DEMO_GIND(1.0)</td>\n",
       "      <td>27/03/25 23:00:00</td>\n",
       "      <td>Annual</td>\n",
       "      <td>Population on 1 January - total</td>\n",
       "      <td>Andorra</td>\n",
       "      <td>2006</td>\n",
       "      <td>78549</td>\n",
       "      <td>NaN</td>\n",
       "      <td>NaN</td>\n",
       "    </tr>\n",
       "    <tr>\n",
       "      <th>4</th>\n",
       "      <td>ESTAT:DEMO_GIND(1.0)</td>\n",
       "      <td>27/03/25 23:00:00</td>\n",
       "      <td>Annual</td>\n",
       "      <td>Population on 1 January - total</td>\n",
       "      <td>Andorra</td>\n",
       "      <td>2007</td>\n",
       "      <td>81222</td>\n",
       "      <td>NaN</td>\n",
       "      <td>NaN</td>\n",
       "    </tr>\n",
       "  </tbody>\n",
       "</table>\n",
       "</div>"
      ],
      "text/plain": [
       "               DATAFLOW        LAST UPDATE    freq  \\\n",
       "0  ESTAT:DEMO_GIND(1.0)  27/03/25 23:00:00  Annual   \n",
       "1  ESTAT:DEMO_GIND(1.0)  27/03/25 23:00:00  Annual   \n",
       "2  ESTAT:DEMO_GIND(1.0)  27/03/25 23:00:00  Annual   \n",
       "3  ESTAT:DEMO_GIND(1.0)  27/03/25 23:00:00  Annual   \n",
       "4  ESTAT:DEMO_GIND(1.0)  27/03/25 23:00:00  Annual   \n",
       "\n",
       "                          indic_de      geo  TIME_PERIOD  OBS_VALUE OBS_FLAG  \\\n",
       "0  Population on 1 January - total  Andorra         2003      67159      NaN   \n",
       "1  Population on 1 January - total  Andorra         2004      72320      NaN   \n",
       "2  Population on 1 January - total  Andorra         2005      76875      NaN   \n",
       "3  Population on 1 January - total  Andorra         2006      78549      NaN   \n",
       "4  Population on 1 January - total  Andorra         2007      81222      NaN   \n",
       "\n",
       "   CONF_STATUS  \n",
       "0          NaN  \n",
       "1          NaN  \n",
       "2          NaN  \n",
       "3          NaN  \n",
       "4          NaN  "
      ]
     },
     "execution_count": 73,
     "metadata": {},
     "output_type": "execute_result"
    }
   ],
   "source": [
    "population_df.head()"
   ]
  },
  {
   "cell_type": "code",
   "execution_count": 74,
   "id": "baa5a551cc8ad4f5",
   "metadata": {
    "ExecuteTime": {
     "end_time": "2025-04-06T23:30:00.348477900Z",
     "start_time": "2025-04-06T23:30:00.293488600Z"
    },
    "collapsed": false
   },
   "outputs": [],
   "source": [
    "population_df = population_df.drop(columns=[\"DATAFLOW\", \"LAST UPDATE\", \"freq\", \"indic_de\", \"OBS_FLAG\", \"CONF_STATUS\"])"
   ]
  },
  {
   "cell_type": "code",
   "execution_count": 75,
   "id": "98b88a42e3078966",
   "metadata": {
    "ExecuteTime": {
     "end_time": "2025-04-06T23:30:00.993746800Z",
     "start_time": "2025-04-06T23:30:00.972109800Z"
    },
    "collapsed": false
   },
   "outputs": [
    {
     "data": {
      "text/plain": [
       "array([2003, 2004, 2005, 2006, 2007, 2008, 2009, 2010, 2011, 2012, 2013,\n",
       "       2016, 2018, 2019, 2020, 2022, 2023, 2024, 2014, 2015, 2017, 2021])"
      ]
     },
     "execution_count": 75,
     "metadata": {},
     "output_type": "execute_result"
    }
   ],
   "source": [
    "population_df[\"TIME_PERIOD\"].unique()"
   ]
  },
  {
   "cell_type": "code",
   "execution_count": 76,
   "id": "70e1356d720881ec",
   "metadata": {
    "ExecuteTime": {
     "end_time": "2025-04-06T23:30:01.466987600Z",
     "start_time": "2025-04-06T23:30:01.451124500Z"
    },
    "collapsed": false
   },
   "outputs": [
    {
     "data": {
      "text/plain": [
       "array([2016, 2017, 2018, 2019, 2020, 2021, 2022, 2023, 2008, 2009, 2010,\n",
       "       2011, 2012, 2013, 2014, 2015])"
      ]
     },
     "execution_count": 76,
     "metadata": {},
     "output_type": "execute_result"
    }
   ],
   "source": [
    "df[\"year\"].unique()"
   ]
  },
  {
   "cell_type": "code",
   "execution_count": 77,
   "id": "f31239cf3e729b5a",
   "metadata": {
    "ExecuteTime": {
     "end_time": "2025-04-06T23:30:01.850815500Z",
     "start_time": "2025-04-06T23:30:01.818224300Z"
    },
    "collapsed": false
   },
   "outputs": [],
   "source": [
    "population_df = population_df.rename(columns={\"OBS_VALUE\": \"Population\"})"
   ]
  },
  {
   "cell_type": "code",
   "execution_count": 78,
   "id": "4bcbddf947ab1380",
   "metadata": {
    "ExecuteTime": {
     "end_time": "2025-04-06T23:30:02.174836700Z",
     "start_time": "2025-04-06T23:30:02.150595700Z"
    },
    "collapsed": false
   },
   "outputs": [],
   "source": [
    "merged_df = df.merge(population_df, how=\"left\", left_on=[\"year\", \"geo\"], right_on=[\"TIME_PERIOD\", \"geo\"])"
   ]
  },
  {
   "cell_type": "code",
   "execution_count": 79,
   "id": "400e8940518476fd",
   "metadata": {
    "ExecuteTime": {
     "end_time": "2025-04-06T23:30:02.619902700Z",
     "start_time": "2025-04-06T23:30:02.596396100Z"
    },
    "collapsed": false
   },
   "outputs": [
    {
     "data": {
      "text/html": [
       "<div>\n",
       "<style scoped>\n",
       "    .dataframe tbody tr th:only-of-type {\n",
       "        vertical-align: middle;\n",
       "    }\n",
       "\n",
       "    .dataframe tbody tr th {\n",
       "        vertical-align: top;\n",
       "    }\n",
       "\n",
       "    .dataframe thead th {\n",
       "        text-align: right;\n",
       "    }\n",
       "</style>\n",
       "<table border=\"1\" class=\"dataframe\">\n",
       "  <thead>\n",
       "    <tr style=\"text-align: right;\">\n",
       "      <th></th>\n",
       "      <th>Country of citizenship</th>\n",
       "      <th>geo</th>\n",
       "      <th>Migrants number</th>\n",
       "      <th>year</th>\n",
       "      <th>TIME_PERIOD</th>\n",
       "      <th>Population</th>\n",
       "    </tr>\n",
       "  </thead>\n",
       "  <tbody>\n",
       "    <tr>\n",
       "      <th>0</th>\n",
       "      <td>Andorra</td>\n",
       "      <td>Austria</td>\n",
       "      <td>1.0</td>\n",
       "      <td>2016</td>\n",
       "      <td>2016</td>\n",
       "      <td>8700471</td>\n",
       "    </tr>\n",
       "    <tr>\n",
       "      <th>1</th>\n",
       "      <td>Andorra</td>\n",
       "      <td>Austria</td>\n",
       "      <td>2.0</td>\n",
       "      <td>2017</td>\n",
       "      <td>2017</td>\n",
       "      <td>8772865</td>\n",
       "    </tr>\n",
       "    <tr>\n",
       "      <th>2</th>\n",
       "      <td>Andorra</td>\n",
       "      <td>Austria</td>\n",
       "      <td>2.0</td>\n",
       "      <td>2018</td>\n",
       "      <td>2018</td>\n",
       "      <td>8822267</td>\n",
       "    </tr>\n",
       "    <tr>\n",
       "      <th>3</th>\n",
       "      <td>Andorra</td>\n",
       "      <td>Austria</td>\n",
       "      <td>2.0</td>\n",
       "      <td>2019</td>\n",
       "      <td>2019</td>\n",
       "      <td>8858775</td>\n",
       "    </tr>\n",
       "    <tr>\n",
       "      <th>4</th>\n",
       "      <td>Andorra</td>\n",
       "      <td>Austria</td>\n",
       "      <td>2.0</td>\n",
       "      <td>2020</td>\n",
       "      <td>2020</td>\n",
       "      <td>8901064</td>\n",
       "    </tr>\n",
       "  </tbody>\n",
       "</table>\n",
       "</div>"
      ],
      "text/plain": [
       "  Country of citizenship      geo  Migrants number  year  TIME_PERIOD  \\\n",
       "0                Andorra  Austria              1.0  2016         2016   \n",
       "1                Andorra  Austria              2.0  2017         2017   \n",
       "2                Andorra  Austria              2.0  2018         2018   \n",
       "3                Andorra  Austria              2.0  2019         2019   \n",
       "4                Andorra  Austria              2.0  2020         2020   \n",
       "\n",
       "   Population  \n",
       "0     8700471  \n",
       "1     8772865  \n",
       "2     8822267  \n",
       "3     8858775  \n",
       "4     8901064  "
      ]
     },
     "execution_count": 79,
     "metadata": {},
     "output_type": "execute_result"
    }
   ],
   "source": [
    "merged_df.head()"
   ]
  },
  {
   "cell_type": "code",
   "execution_count": 80,
   "id": "c1fe4b7a36b48708",
   "metadata": {
    "ExecuteTime": {
     "end_time": "2025-04-06T23:30:02.837987200Z",
     "start_time": "2025-04-06T23:30:02.763505700Z"
    },
    "collapsed": false
   },
   "outputs": [
    {
     "name": "stdout",
     "output_type": "stream",
     "text": [
      "<class 'pandas.core.frame.DataFrame'>\n",
      "RangeIndex: 70857 entries, 0 to 70856\n",
      "Data columns (total 6 columns):\n",
      " #   Column                  Non-Null Count  Dtype  \n",
      "---  ------                  --------------  -----  \n",
      " 0   Country of citizenship  70857 non-null  object \n",
      " 1   geo                     70857 non-null  object \n",
      " 2   Migrants number         70857 non-null  float64\n",
      " 3   year                    70857 non-null  int64  \n",
      " 4   TIME_PERIOD             70857 non-null  int64  \n",
      " 5   Population              70857 non-null  int64  \n",
      "dtypes: float64(1), int64(3), object(2)\n",
      "memory usage: 3.2+ MB\n"
     ]
    }
   ],
   "source": [
    "merged_df.info()"
   ]
  },
  {
   "cell_type": "code",
   "execution_count": 81,
   "id": "4f45fb3bd13d0b26",
   "metadata": {
    "ExecuteTime": {
     "end_time": "2025-04-06T23:30:04.201429100Z",
     "start_time": "2025-04-06T23:30:04.174756300Z"
    },
    "collapsed": false
   },
   "outputs": [],
   "source": [
    "merged_df[\"Migrants number per 100k inhabitants\"] = round(merged_df[\"Migrants number\"] / merged_df[\"Population\"] * 100_000, 2)"
   ]
  },
  {
   "cell_type": "code",
   "execution_count": 82,
   "id": "6a3de9f25804d3a0",
   "metadata": {
    "ExecuteTime": {
     "end_time": "2025-04-06T23:30:04.759574400Z",
     "start_time": "2025-04-06T23:30:04.736173100Z"
    },
    "collapsed": false
   },
   "outputs": [],
   "source": [
    "merged_df.drop(columns=[\"TIME_PERIOD\"], inplace=True)"
   ]
  },
  {
   "cell_type": "code",
   "execution_count": 83,
   "id": "403e79eb8bb12814",
   "metadata": {
    "ExecuteTime": {
     "end_time": "2025-04-06T23:30:05.836795400Z",
     "start_time": "2025-04-06T23:30:05.815380800Z"
    },
    "collapsed": false
   },
   "outputs": [
    {
     "data": {
      "text/html": [
       "<div>\n",
       "<style scoped>\n",
       "    .dataframe tbody tr th:only-of-type {\n",
       "        vertical-align: middle;\n",
       "    }\n",
       "\n",
       "    .dataframe tbody tr th {\n",
       "        vertical-align: top;\n",
       "    }\n",
       "\n",
       "    .dataframe thead th {\n",
       "        text-align: right;\n",
       "    }\n",
       "</style>\n",
       "<table border=\"1\" class=\"dataframe\">\n",
       "  <thead>\n",
       "    <tr style=\"text-align: right;\">\n",
       "      <th></th>\n",
       "      <th>Country of citizenship</th>\n",
       "      <th>geo</th>\n",
       "      <th>Migrants number</th>\n",
       "      <th>year</th>\n",
       "      <th>Population</th>\n",
       "      <th>Migrants number per 100k inhabitants</th>\n",
       "    </tr>\n",
       "  </thead>\n",
       "  <tbody>\n",
       "    <tr>\n",
       "      <th>0</th>\n",
       "      <td>Andorra</td>\n",
       "      <td>Austria</td>\n",
       "      <td>1.0</td>\n",
       "      <td>2016</td>\n",
       "      <td>8700471</td>\n",
       "      <td>0.01</td>\n",
       "    </tr>\n",
       "    <tr>\n",
       "      <th>1</th>\n",
       "      <td>Andorra</td>\n",
       "      <td>Austria</td>\n",
       "      <td>2.0</td>\n",
       "      <td>2017</td>\n",
       "      <td>8772865</td>\n",
       "      <td>0.02</td>\n",
       "    </tr>\n",
       "    <tr>\n",
       "      <th>2</th>\n",
       "      <td>Andorra</td>\n",
       "      <td>Austria</td>\n",
       "      <td>2.0</td>\n",
       "      <td>2018</td>\n",
       "      <td>8822267</td>\n",
       "      <td>0.02</td>\n",
       "    </tr>\n",
       "    <tr>\n",
       "      <th>3</th>\n",
       "      <td>Andorra</td>\n",
       "      <td>Austria</td>\n",
       "      <td>2.0</td>\n",
       "      <td>2019</td>\n",
       "      <td>8858775</td>\n",
       "      <td>0.02</td>\n",
       "    </tr>\n",
       "    <tr>\n",
       "      <th>4</th>\n",
       "      <td>Andorra</td>\n",
       "      <td>Austria</td>\n",
       "      <td>2.0</td>\n",
       "      <td>2020</td>\n",
       "      <td>8901064</td>\n",
       "      <td>0.02</td>\n",
       "    </tr>\n",
       "  </tbody>\n",
       "</table>\n",
       "</div>"
      ],
      "text/plain": [
       "  Country of citizenship      geo  Migrants number  year  Population  \\\n",
       "0                Andorra  Austria              1.0  2016     8700471   \n",
       "1                Andorra  Austria              2.0  2017     8772865   \n",
       "2                Andorra  Austria              2.0  2018     8822267   \n",
       "3                Andorra  Austria              2.0  2019     8858775   \n",
       "4                Andorra  Austria              2.0  2020     8901064   \n",
       "\n",
       "   Migrants number per 100k inhabitants  \n",
       "0                                  0.01  \n",
       "1                                  0.02  \n",
       "2                                  0.02  \n",
       "3                                  0.02  \n",
       "4                                  0.02  "
      ]
     },
     "execution_count": 83,
     "metadata": {},
     "output_type": "execute_result"
    }
   ],
   "source": [
    "merged_df.head()"
   ]
  },
  {
   "cell_type": "code",
   "execution_count": 84,
   "id": "63f39dea19d8d574",
   "metadata": {
    "ExecuteTime": {
     "end_time": "2025-04-06T23:30:06.314554300Z",
     "start_time": "2025-04-06T23:30:06.299498600Z"
    },
    "collapsed": false
   },
   "outputs": [],
   "source": [
    "merged_df.to_csv(\"../../processed_data/migrants_all_valid_permits.csv\", index=False)"
   ]
  },
  {
   "cell_type": "code",
   "execution_count": null,
   "id": "6a6e67fad14cf820",
   "metadata": {
    "collapsed": false
   },
   "outputs": [],
   "source": []
  },
  {
   "cell_type": "code",
   "execution_count": null,
   "id": "43517aae",
   "metadata": {},
   "outputs": [],
   "source": []
  }
 ],
 "metadata": {
  "colab": {
   "provenance": []
  },
  "kernelspec": {
   "display_name": "Python 3",
   "language": "python",
   "name": "python3"
  },
  "language_info": {
   "codemirror_mode": {
    "name": "ipython",
    "version": 3
   },
   "file_extension": ".py",
   "mimetype": "text/x-python",
   "name": "python",
   "nbconvert_exporter": "python",
   "pygments_lexer": "ipython3",
   "version": "3.11.4"
  }
 },
 "nbformat": 4,
 "nbformat_minor": 5
}
