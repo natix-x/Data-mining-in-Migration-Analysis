{
 "cells": [
  {
   "cell_type": "code",
   "execution_count": 123,
   "id": "initial_id",
   "metadata": {
    "collapsed": true,
    "id": "initial_id",
    "ExecuteTime": {
     "end_time": "2025-03-26T21:33:44.584010500Z",
     "start_time": "2025-03-26T21:33:44.575640600Z"
    }
   },
   "outputs": [],
   "source": [
    "import pandas as pd"
   ]
  },
  {
   "cell_type": "markdown",
   "source": [
    "**All valid permits by reason on 31 December of each year**\n",
    "\n",
    "\n",
    "---\n",
    "\n",
    "Residence permit means any authorisation valid for at least 3 months issued by the authorities of a Member State allowing a third country national to stay legally on its territory. All valid permits on 31st December (end of the year).\n",
    "\n",
    "Units of measure are are in general absolute numbers of persons for residence permit statistics.\n",
    "\n"
   ],
   "metadata": {
    "id": "HggaBvZ30LCy"
   },
   "id": "HggaBvZ30LCy"
  },
  {
   "cell_type": "code",
   "execution_count": 124,
   "outputs": [],
   "source": [
    "df = pd.read_csv('../../data/migration_all_valid_permits_tps00171.csv')"
   ],
   "metadata": {
    "id": "bace7a45d6951602",
    "ExecuteTime": {
     "end_time": "2025-03-26T21:33:45.005879300Z",
     "start_time": "2025-03-26T21:33:44.976242800Z"
    }
   },
   "id": "bace7a45d6951602"
  },
  {
   "cell_type": "code",
   "execution_count": 125,
   "outputs": [
    {
     "data": {
      "text/plain": "              DATAFLOW        LAST UPDATE    freq duration             reason  \\\n0  ESTAT:TPS00171(1.0)  27/01/25 23:00:00  Annual    Total  Education reasons   \n1  ESTAT:TPS00171(1.0)  27/01/25 23:00:00  Annual    Total  Education reasons   \n2  ESTAT:TPS00171(1.0)  27/01/25 23:00:00  Annual    Total  Education reasons   \n3  ESTAT:TPS00171(1.0)  27/01/25 23:00:00  Annual    Total  Education reasons   \n4  ESTAT:TPS00171(1.0)  27/01/25 23:00:00  Annual    Total  Education reasons   \n\n     unit citizen      geo  TIME_PERIOD  OBS_VALUE OBS_FLAG  CONF_STATUS  \n0  Person   Total  Austria         2012    16955.0      NaN          NaN  \n1  Person   Total  Austria         2013    17960.0      NaN          NaN  \n2  Person   Total  Austria         2014    19538.0      NaN          NaN  \n3  Person   Total  Austria         2015    22474.0      NaN          NaN  \n4  Person   Total  Austria         2016    22497.0      NaN          NaN  ",
      "text/html": "<div>\n<style scoped>\n    .dataframe tbody tr th:only-of-type {\n        vertical-align: middle;\n    }\n\n    .dataframe tbody tr th {\n        vertical-align: top;\n    }\n\n    .dataframe thead th {\n        text-align: right;\n    }\n</style>\n<table border=\"1\" class=\"dataframe\">\n  <thead>\n    <tr style=\"text-align: right;\">\n      <th></th>\n      <th>DATAFLOW</th>\n      <th>LAST UPDATE</th>\n      <th>freq</th>\n      <th>duration</th>\n      <th>reason</th>\n      <th>unit</th>\n      <th>citizen</th>\n      <th>geo</th>\n      <th>TIME_PERIOD</th>\n      <th>OBS_VALUE</th>\n      <th>OBS_FLAG</th>\n      <th>CONF_STATUS</th>\n    </tr>\n  </thead>\n  <tbody>\n    <tr>\n      <th>0</th>\n      <td>ESTAT:TPS00171(1.0)</td>\n      <td>27/01/25 23:00:00</td>\n      <td>Annual</td>\n      <td>Total</td>\n      <td>Education reasons</td>\n      <td>Person</td>\n      <td>Total</td>\n      <td>Austria</td>\n      <td>2012</td>\n      <td>16955.0</td>\n      <td>NaN</td>\n      <td>NaN</td>\n    </tr>\n    <tr>\n      <th>1</th>\n      <td>ESTAT:TPS00171(1.0)</td>\n      <td>27/01/25 23:00:00</td>\n      <td>Annual</td>\n      <td>Total</td>\n      <td>Education reasons</td>\n      <td>Person</td>\n      <td>Total</td>\n      <td>Austria</td>\n      <td>2013</td>\n      <td>17960.0</td>\n      <td>NaN</td>\n      <td>NaN</td>\n    </tr>\n    <tr>\n      <th>2</th>\n      <td>ESTAT:TPS00171(1.0)</td>\n      <td>27/01/25 23:00:00</td>\n      <td>Annual</td>\n      <td>Total</td>\n      <td>Education reasons</td>\n      <td>Person</td>\n      <td>Total</td>\n      <td>Austria</td>\n      <td>2014</td>\n      <td>19538.0</td>\n      <td>NaN</td>\n      <td>NaN</td>\n    </tr>\n    <tr>\n      <th>3</th>\n      <td>ESTAT:TPS00171(1.0)</td>\n      <td>27/01/25 23:00:00</td>\n      <td>Annual</td>\n      <td>Total</td>\n      <td>Education reasons</td>\n      <td>Person</td>\n      <td>Total</td>\n      <td>Austria</td>\n      <td>2015</td>\n      <td>22474.0</td>\n      <td>NaN</td>\n      <td>NaN</td>\n    </tr>\n    <tr>\n      <th>4</th>\n      <td>ESTAT:TPS00171(1.0)</td>\n      <td>27/01/25 23:00:00</td>\n      <td>Annual</td>\n      <td>Total</td>\n      <td>Education reasons</td>\n      <td>Person</td>\n      <td>Total</td>\n      <td>Austria</td>\n      <td>2016</td>\n      <td>22497.0</td>\n      <td>NaN</td>\n      <td>NaN</td>\n    </tr>\n  </tbody>\n</table>\n</div>"
     },
     "execution_count": 125,
     "metadata": {},
     "output_type": "execute_result"
    }
   ],
   "source": [
    "df.head()"
   ],
   "metadata": {
    "colab": {
     "base_uri": "https://localhost:8080/",
     "height": 206
    },
    "id": "7f20a3629229cf52",
    "outputId": "11236e92-b513-455a-c7ac-6b4058f8c35c",
    "ExecuteTime": {
     "end_time": "2025-03-26T21:33:45.216480800Z",
     "start_time": "2025-03-26T21:33:45.168279500Z"
    }
   },
   "id": "7f20a3629229cf52"
  },
  {
   "cell_type": "code",
   "execution_count": 126,
   "outputs": [
    {
     "name": "stdout",
     "output_type": "stream",
     "text": [
      "<class 'pandas.core.frame.DataFrame'>\n",
      "RangeIndex: 1485 entries, 0 to 1484\n",
      "Data columns (total 12 columns):\n",
      " #   Column       Non-Null Count  Dtype  \n",
      "---  ------       --------------  -----  \n",
      " 0   DATAFLOW     1485 non-null   object \n",
      " 1   LAST UPDATE  1485 non-null   object \n",
      " 2   freq         1485 non-null   object \n",
      " 3   duration     1485 non-null   object \n",
      " 4   reason       1485 non-null   object \n",
      " 5   unit         1485 non-null   object \n",
      " 6   citizen      1485 non-null   object \n",
      " 7   geo          1485 non-null   object \n",
      " 8   TIME_PERIOD  1485 non-null   int64  \n",
      " 9   OBS_VALUE    1484 non-null   float64\n",
      " 10  OBS_FLAG     42 non-null     object \n",
      " 11  CONF_STATUS  0 non-null      float64\n",
      "dtypes: float64(2), int64(1), object(9)\n",
      "memory usage: 139.3+ KB\n"
     ]
    }
   ],
   "source": [
    "df.info()"
   ],
   "metadata": {
    "colab": {
     "base_uri": "https://localhost:8080/"
    },
    "id": "17501c2d216f48d7",
    "outputId": "4cc722c7-5651-4f85-f89d-a60d26b703ba",
    "ExecuteTime": {
     "end_time": "2025-03-26T21:33:45.466213100Z",
     "start_time": "2025-03-26T21:33:45.336406100Z"
    }
   },
   "id": "17501c2d216f48d7"
  },
  {
   "cell_type": "code",
   "source": [
    "df.duplicated().sum()"
   ],
   "metadata": {
    "colab": {
     "base_uri": "https://localhost:8080/"
    },
    "id": "RM5aT5_vvFeO",
    "outputId": "a6c60488-3e29-4030-c0c2-ff927a52cc9b",
    "ExecuteTime": {
     "end_time": "2025-03-26T21:33:45.595278600Z",
     "start_time": "2025-03-26T21:33:45.527811Z"
    }
   },
   "id": "RM5aT5_vvFeO",
   "execution_count": 127,
   "outputs": [
    {
     "data": {
      "text/plain": "np.int64(0)"
     },
     "execution_count": 127,
     "metadata": {},
     "output_type": "execute_result"
    }
   ]
  },
  {
   "cell_type": "code",
   "source": [
    "df.isnull().sum()"
   ],
   "metadata": {
    "colab": {
     "base_uri": "https://localhost:8080/",
     "height": 460
    },
    "id": "SO0aT5tivRhn",
    "outputId": "621ce13c-37d9-4033-d8a2-19b8508a16a5",
    "ExecuteTime": {
     "end_time": "2025-03-26T21:33:45.839904Z",
     "start_time": "2025-03-26T21:33:45.825427200Z"
    }
   },
   "id": "SO0aT5tivRhn",
   "execution_count": 128,
   "outputs": [
    {
     "data": {
      "text/plain": "DATAFLOW          0\nLAST UPDATE       0\nfreq              0\nduration          0\nreason            0\nunit              0\ncitizen           0\ngeo               0\nTIME_PERIOD       0\nOBS_VALUE         1\nOBS_FLAG       1443\nCONF_STATUS    1485\ndtype: int64"
     },
     "execution_count": 128,
     "metadata": {},
     "output_type": "execute_result"
    }
   ]
  },
  {
   "cell_type": "code",
   "source": [
    "df = df.drop(columns=[\"DATAFLOW\", \"LAST UPDATE\", \"OBS_FLAG\", \"CONF_STATUS\"])"
   ],
   "metadata": {
    "id": "_jWl2G_4vTlm",
    "ExecuteTime": {
     "end_time": "2025-03-26T21:33:46.057970300Z",
     "start_time": "2025-03-26T21:33:46.033530600Z"
    }
   },
   "id": "_jWl2G_4vTlm",
   "execution_count": 129,
   "outputs": []
  },
  {
   "cell_type": "code",
   "source": [
    "df.head()\n",
    "df = df.dropna()"
   ],
   "metadata": {
    "colab": {
     "base_uri": "https://localhost:8080/",
     "height": 206
    },
    "id": "9qGzF-LLvaeG",
    "outputId": "01a69ff2-4f1c-41fc-f1bf-fa9c6ff1c654",
    "ExecuteTime": {
     "end_time": "2025-03-26T21:33:46.286491500Z",
     "start_time": "2025-03-26T21:33:46.272458400Z"
    }
   },
   "id": "9qGzF-LLvaeG",
   "execution_count": 130,
   "outputs": []
  },
  {
   "cell_type": "code",
   "source": [
    "for col in df.columns:\n",
    "    print(f\"Uniques values in {col}: {df[col].unique()}\")"
   ],
   "metadata": {
    "colab": {
     "base_uri": "https://localhost:8080/"
    },
    "id": "SkkHb3oLvb-H",
    "outputId": "f4f7b8db-7680-4182-82e4-1e26decfacef",
    "ExecuteTime": {
     "end_time": "2025-03-26T21:33:46.813145500Z",
     "start_time": "2025-03-26T21:33:46.751668200Z"
    }
   },
   "id": "SkkHb3oLvb-H",
   "execution_count": 131,
   "outputs": [
    {
     "name": "stdout",
     "output_type": "stream",
     "text": [
      "Uniques values in freq: ['Annual']\n",
      "Uniques values in duration: ['Total']\n",
      "Uniques values in reason: ['Education reasons' 'Family reasons' 'Other reason' 'Total']\n",
      "Uniques values in unit: ['Person']\n",
      "Uniques values in citizen: ['Total']\n",
      "Uniques values in geo: ['Austria' 'Belgium' 'Bulgaria' 'Switzerland' 'Cyprus' 'Czechia' 'Germany'\n",
      " 'Denmark' 'Estonia' 'Greece' 'Spain'\n",
      " 'European Union - 27 countries (from 2020)' 'Finland' 'France' 'Croatia'\n",
      " 'Hungary' 'Ireland' 'Iceland' 'Italy' 'Liechtenstein' 'Lithuania'\n",
      " 'Luxembourg' 'Latvia' 'Malta' 'Netherlands' 'Norway' 'Poland' 'Portugal'\n",
      " 'Romania' 'Sweden' 'Slovenia' 'Slovakia' 'United Kingdom']\n",
      "Uniques values in TIME_PERIOD: [2012 2013 2014 2015 2016 2017 2018 2019 2020 2021 2022 2023]\n",
      "Uniques values in OBS_VALUE: [  16955.   17960.   19538. ... 1504018. 1533551. 1577559.]\n"
     ]
    }
   ]
  },
  {
   "cell_type": "code",
   "source": [
    "df = df[df[\"geo\"] != \"European Union - 27 countries (from 2020)\"]"
   ],
   "metadata": {
    "id": "1AxcVHJy1K3n",
    "ExecuteTime": {
     "end_time": "2025-03-26T21:33:47.224000200Z",
     "start_time": "2025-03-26T21:33:47.212262400Z"
    }
   },
   "id": "1AxcVHJy1K3n",
   "execution_count": 132,
   "outputs": []
  },
  {
   "cell_type": "code",
   "source": [
    "df = df.drop(columns=[\"reason\", \"citizen\", \"duration\", \"unit\", \"freq\"])"
   ],
   "metadata": {
    "id": "OjQGJ5jswKsG",
    "ExecuteTime": {
     "end_time": "2025-03-26T21:33:48.061212800Z",
     "start_time": "2025-03-26T21:33:48.037826400Z"
    }
   },
   "id": "OjQGJ5jswKsG",
   "execution_count": 133,
   "outputs": []
  },
  {
   "cell_type": "code",
   "source": [
    "df = df.dropna()"
   ],
   "metadata": {
    "id": "J7h8LO_Z0Cqc",
    "ExecuteTime": {
     "end_time": "2025-03-26T21:33:48.355336800Z",
     "start_time": "2025-03-26T21:33:48.331604500Z"
    }
   },
   "id": "J7h8LO_Z0Cqc",
   "execution_count": 134,
   "outputs": []
  },
  {
   "cell_type": "code",
   "source": [
    "df = df.rename(columns={\"OBS_VALUE\": \"Migrants\"})"
   ],
   "metadata": {
    "id": "oniskw7nxOE8",
    "ExecuteTime": {
     "end_time": "2025-03-26T21:33:48.809289700Z",
     "start_time": "2025-03-26T21:33:48.785003100Z"
    }
   },
   "id": "oniskw7nxOE8",
   "execution_count": 135,
   "outputs": []
  },
  {
   "cell_type": "code",
   "source": [
    "df.head()"
   ],
   "metadata": {
    "colab": {
     "base_uri": "https://localhost:8080/",
     "height": 206
    },
    "id": "nLXev_No0ll5",
    "outputId": "45971b65-a65a-4358-c005-fa1d63009e50",
    "ExecuteTime": {
     "end_time": "2025-03-26T21:33:49.142185700Z",
     "start_time": "2025-03-26T21:33:49.125220700Z"
    }
   },
   "id": "nLXev_No0ll5",
   "execution_count": 136,
   "outputs": [
    {
     "data": {
      "text/plain": "       geo  TIME_PERIOD  Migrants\n0  Austria         2012   16955.0\n1  Austria         2013   17960.0\n2  Austria         2014   19538.0\n3  Austria         2015   22474.0\n4  Austria         2016   22497.0",
      "text/html": "<div>\n<style scoped>\n    .dataframe tbody tr th:only-of-type {\n        vertical-align: middle;\n    }\n\n    .dataframe tbody tr th {\n        vertical-align: top;\n    }\n\n    .dataframe thead th {\n        text-align: right;\n    }\n</style>\n<table border=\"1\" class=\"dataframe\">\n  <thead>\n    <tr style=\"text-align: right;\">\n      <th></th>\n      <th>geo</th>\n      <th>TIME_PERIOD</th>\n      <th>Migrants</th>\n    </tr>\n  </thead>\n  <tbody>\n    <tr>\n      <th>0</th>\n      <td>Austria</td>\n      <td>2012</td>\n      <td>16955.0</td>\n    </tr>\n    <tr>\n      <th>1</th>\n      <td>Austria</td>\n      <td>2013</td>\n      <td>17960.0</td>\n    </tr>\n    <tr>\n      <th>2</th>\n      <td>Austria</td>\n      <td>2014</td>\n      <td>19538.0</td>\n    </tr>\n    <tr>\n      <th>3</th>\n      <td>Austria</td>\n      <td>2015</td>\n      <td>22474.0</td>\n    </tr>\n    <tr>\n      <th>4</th>\n      <td>Austria</td>\n      <td>2016</td>\n      <td>22497.0</td>\n    </tr>\n  </tbody>\n</table>\n</div>"
     },
     "execution_count": 136,
     "metadata": {},
     "output_type": "execute_result"
    }
   ]
  },
  {
   "cell_type": "code",
   "source": [
    "df.describe()"
   ],
   "metadata": {
    "colab": {
     "base_uri": "https://localhost:8080/",
     "height": 300
    },
    "id": "IrxGOpua0rhi",
    "outputId": "5146a5fe-7b76-419b-891a-192d4801e0a1",
    "ExecuteTime": {
     "end_time": "2025-03-26T21:33:49.894085100Z",
     "start_time": "2025-03-26T21:33:49.840895800Z"
    }
   },
   "id": "IrxGOpua0rhi",
   "execution_count": 137,
   "outputs": [
    {
     "data": {
      "text/plain": "       TIME_PERIOD      Migrants\ncount  1472.000000  1.472000e+03\nmean   2017.519022  3.038971e+05\nstd       3.444763  7.124761e+05\nmin    2012.000000  4.200000e+01\n25%    2015.000000  1.175100e+04\n50%    2017.500000  4.429750e+04\n75%    2021.000000  2.191000e+05\nmax    2023.000000  5.724832e+06",
      "text/html": "<div>\n<style scoped>\n    .dataframe tbody tr th:only-of-type {\n        vertical-align: middle;\n    }\n\n    .dataframe tbody tr th {\n        vertical-align: top;\n    }\n\n    .dataframe thead th {\n        text-align: right;\n    }\n</style>\n<table border=\"1\" class=\"dataframe\">\n  <thead>\n    <tr style=\"text-align: right;\">\n      <th></th>\n      <th>TIME_PERIOD</th>\n      <th>Migrants</th>\n    </tr>\n  </thead>\n  <tbody>\n    <tr>\n      <th>count</th>\n      <td>1472.000000</td>\n      <td>1.472000e+03</td>\n    </tr>\n    <tr>\n      <th>mean</th>\n      <td>2017.519022</td>\n      <td>3.038971e+05</td>\n    </tr>\n    <tr>\n      <th>std</th>\n      <td>3.444763</td>\n      <td>7.124761e+05</td>\n    </tr>\n    <tr>\n      <th>min</th>\n      <td>2012.000000</td>\n      <td>4.200000e+01</td>\n    </tr>\n    <tr>\n      <th>25%</th>\n      <td>2015.000000</td>\n      <td>1.175100e+04</td>\n    </tr>\n    <tr>\n      <th>50%</th>\n      <td>2017.500000</td>\n      <td>4.429750e+04</td>\n    </tr>\n    <tr>\n      <th>75%</th>\n      <td>2021.000000</td>\n      <td>2.191000e+05</td>\n    </tr>\n    <tr>\n      <th>max</th>\n      <td>2023.000000</td>\n      <td>5.724832e+06</td>\n    </tr>\n  </tbody>\n</table>\n</div>"
     },
     "execution_count": 137,
     "metadata": {},
     "output_type": "execute_result"
    }
   ]
  },
  {
   "cell_type": "code",
   "execution_count": 138,
   "outputs": [],
   "source": [
    "df.to_csv(\"../../processed_data/migrants_all_valid_permits.csv\", index=False)"
   ],
   "metadata": {
    "collapsed": false,
    "ExecuteTime": {
     "end_time": "2025-03-26T21:33:50.901099200Z",
     "start_time": "2025-03-26T21:33:50.855357300Z"
    }
   },
   "id": "e2c20d92b79ae3a7"
  },
  {
   "cell_type": "code",
   "source": [
    "# TODO: trzeba dodać żeby było na 100 000 mieszkańców"
   ],
   "metadata": {
    "id": "MAp3zeTM4uA_",
    "ExecuteTime": {
     "end_time": "2025-03-26T21:33:51.950001400Z",
     "start_time": "2025-03-26T21:33:51.899361800Z"
    }
   },
   "id": "MAp3zeTM4uA_",
   "execution_count": 139,
   "outputs": []
  },
  {
   "cell_type": "code",
   "execution_count": null,
   "outputs": [],
   "source": [],
   "metadata": {
    "collapsed": false
   },
   "id": "63f39dea19d8d574"
  }
 ],
 "metadata": {
  "kernelspec": {
   "display_name": "Python 3",
   "language": "python",
   "name": "python3"
  },
  "language_info": {
   "codemirror_mode": {
    "name": "ipython",
    "version": 2
   },
   "file_extension": ".py",
   "mimetype": "text/x-python",
   "name": "python",
   "nbconvert_exporter": "python",
   "pygments_lexer": "ipython2",
   "version": "2.7.6"
  },
  "colab": {
   "provenance": []
  }
 },
 "nbformat": 4,
 "nbformat_minor": 5
}
