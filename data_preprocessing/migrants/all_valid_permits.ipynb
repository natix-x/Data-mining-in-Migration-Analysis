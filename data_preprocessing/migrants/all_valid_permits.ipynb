{
 "cells": [
  {
   "cell_type": "code",
   "execution_count": 1,
   "id": "initial_id",
   "metadata": {
    "collapsed": true,
    "id": "initial_id",
    "ExecuteTime": {
     "end_time": "2025-03-31T11:50:26.146845Z",
     "start_time": "2025-03-31T11:50:14.989449100Z"
    }
   },
   "outputs": [],
   "source": [
    "import pandas as pd"
   ]
  },
  {
   "cell_type": "markdown",
   "source": [
    "**All valid permits by reason on 31 December of each year**\n",
    "\n",
    "\n",
    "---\n",
    "\n",
    "Residence permit means any authorisation valid for at least 3 months issued by the authorities of a Member State allowing a third country national to stay legally on its territory. All valid permits on 31st December (end of the year)."
   ],
   "metadata": {
    "id": "HggaBvZ30LCy"
   },
   "id": "HggaBvZ30LCy"
  },
  {
   "cell_type": "code",
   "execution_count": 2,
   "outputs": [],
   "source": [
    "df = pd.read_csv('../../data/migration_all_valid_permits_tps00171.csv')"
   ],
   "metadata": {
    "id": "bace7a45d6951602",
    "ExecuteTime": {
     "end_time": "2025-03-31T11:50:26.195777400Z",
     "start_time": "2025-03-31T11:50:26.138776Z"
    }
   },
   "id": "bace7a45d6951602"
  },
  {
   "cell_type": "code",
   "execution_count": 3,
   "outputs": [
    {
     "data": {
      "text/plain": "              DATAFLOW        LAST UPDATE    freq duration             reason  \\\n0  ESTAT:TPS00171(1.0)  27/01/25 23:00:00  Annual    Total  Education reasons   \n1  ESTAT:TPS00171(1.0)  27/01/25 23:00:00  Annual    Total  Education reasons   \n2  ESTAT:TPS00171(1.0)  27/01/25 23:00:00  Annual    Total  Education reasons   \n3  ESTAT:TPS00171(1.0)  27/01/25 23:00:00  Annual    Total  Education reasons   \n4  ESTAT:TPS00171(1.0)  27/01/25 23:00:00  Annual    Total  Education reasons   \n\n     unit citizen      geo  TIME_PERIOD  OBS_VALUE OBS_FLAG  CONF_STATUS  \n0  Person   Total  Austria         2012    16955.0      NaN          NaN  \n1  Person   Total  Austria         2013    17960.0      NaN          NaN  \n2  Person   Total  Austria         2014    19538.0      NaN          NaN  \n3  Person   Total  Austria         2015    22474.0      NaN          NaN  \n4  Person   Total  Austria         2016    22497.0      NaN          NaN  ",
      "text/html": "<div>\n<style scoped>\n    .dataframe tbody tr th:only-of-type {\n        vertical-align: middle;\n    }\n\n    .dataframe tbody tr th {\n        vertical-align: top;\n    }\n\n    .dataframe thead th {\n        text-align: right;\n    }\n</style>\n<table border=\"1\" class=\"dataframe\">\n  <thead>\n    <tr style=\"text-align: right;\">\n      <th></th>\n      <th>DATAFLOW</th>\n      <th>LAST UPDATE</th>\n      <th>freq</th>\n      <th>duration</th>\n      <th>reason</th>\n      <th>unit</th>\n      <th>citizen</th>\n      <th>geo</th>\n      <th>TIME_PERIOD</th>\n      <th>OBS_VALUE</th>\n      <th>OBS_FLAG</th>\n      <th>CONF_STATUS</th>\n    </tr>\n  </thead>\n  <tbody>\n    <tr>\n      <th>0</th>\n      <td>ESTAT:TPS00171(1.0)</td>\n      <td>27/01/25 23:00:00</td>\n      <td>Annual</td>\n      <td>Total</td>\n      <td>Education reasons</td>\n      <td>Person</td>\n      <td>Total</td>\n      <td>Austria</td>\n      <td>2012</td>\n      <td>16955.0</td>\n      <td>NaN</td>\n      <td>NaN</td>\n    </tr>\n    <tr>\n      <th>1</th>\n      <td>ESTAT:TPS00171(1.0)</td>\n      <td>27/01/25 23:00:00</td>\n      <td>Annual</td>\n      <td>Total</td>\n      <td>Education reasons</td>\n      <td>Person</td>\n      <td>Total</td>\n      <td>Austria</td>\n      <td>2013</td>\n      <td>17960.0</td>\n      <td>NaN</td>\n      <td>NaN</td>\n    </tr>\n    <tr>\n      <th>2</th>\n      <td>ESTAT:TPS00171(1.0)</td>\n      <td>27/01/25 23:00:00</td>\n      <td>Annual</td>\n      <td>Total</td>\n      <td>Education reasons</td>\n      <td>Person</td>\n      <td>Total</td>\n      <td>Austria</td>\n      <td>2014</td>\n      <td>19538.0</td>\n      <td>NaN</td>\n      <td>NaN</td>\n    </tr>\n    <tr>\n      <th>3</th>\n      <td>ESTAT:TPS00171(1.0)</td>\n      <td>27/01/25 23:00:00</td>\n      <td>Annual</td>\n      <td>Total</td>\n      <td>Education reasons</td>\n      <td>Person</td>\n      <td>Total</td>\n      <td>Austria</td>\n      <td>2015</td>\n      <td>22474.0</td>\n      <td>NaN</td>\n      <td>NaN</td>\n    </tr>\n    <tr>\n      <th>4</th>\n      <td>ESTAT:TPS00171(1.0)</td>\n      <td>27/01/25 23:00:00</td>\n      <td>Annual</td>\n      <td>Total</td>\n      <td>Education reasons</td>\n      <td>Person</td>\n      <td>Total</td>\n      <td>Austria</td>\n      <td>2016</td>\n      <td>22497.0</td>\n      <td>NaN</td>\n      <td>NaN</td>\n    </tr>\n  </tbody>\n</table>\n</div>"
     },
     "execution_count": 3,
     "metadata": {},
     "output_type": "execute_result"
    }
   ],
   "source": [
    "df.head()"
   ],
   "metadata": {
    "colab": {
     "base_uri": "https://localhost:8080/",
     "height": 206
    },
    "id": "7f20a3629229cf52",
    "outputId": "11236e92-b513-455a-c7ac-6b4058f8c35c",
    "ExecuteTime": {
     "end_time": "2025-03-31T11:50:26.314620900Z",
     "start_time": "2025-03-31T11:50:26.199810700Z"
    }
   },
   "id": "7f20a3629229cf52"
  },
  {
   "cell_type": "code",
   "execution_count": 4,
   "outputs": [
    {
     "name": "stdout",
     "output_type": "stream",
     "text": [
      "<class 'pandas.core.frame.DataFrame'>\n",
      "RangeIndex: 1485 entries, 0 to 1484\n",
      "Data columns (total 12 columns):\n",
      " #   Column       Non-Null Count  Dtype  \n",
      "---  ------       --------------  -----  \n",
      " 0   DATAFLOW     1485 non-null   object \n",
      " 1   LAST UPDATE  1485 non-null   object \n",
      " 2   freq         1485 non-null   object \n",
      " 3   duration     1485 non-null   object \n",
      " 4   reason       1485 non-null   object \n",
      " 5   unit         1485 non-null   object \n",
      " 6   citizen      1485 non-null   object \n",
      " 7   geo          1485 non-null   object \n",
      " 8   TIME_PERIOD  1485 non-null   int64  \n",
      " 9   OBS_VALUE    1484 non-null   float64\n",
      " 10  OBS_FLAG     42 non-null     object \n",
      " 11  CONF_STATUS  0 non-null      float64\n",
      "dtypes: float64(2), int64(1), object(9)\n",
      "memory usage: 139.3+ KB\n"
     ]
    }
   ],
   "source": [
    "df.info()"
   ],
   "metadata": {
    "colab": {
     "base_uri": "https://localhost:8080/"
    },
    "id": "17501c2d216f48d7",
    "outputId": "4cc722c7-5651-4f85-f89d-a60d26b703ba",
    "ExecuteTime": {
     "end_time": "2025-03-31T11:50:26.548945600Z",
     "start_time": "2025-03-31T11:50:26.316385800Z"
    }
   },
   "id": "17501c2d216f48d7"
  },
  {
   "cell_type": "code",
   "source": [
    "df.duplicated().sum()"
   ],
   "metadata": {
    "colab": {
     "base_uri": "https://localhost:8080/"
    },
    "id": "RM5aT5_vvFeO",
    "outputId": "a6c60488-3e29-4030-c0c2-ff927a52cc9b",
    "ExecuteTime": {
     "end_time": "2025-03-31T11:50:26.693917700Z",
     "start_time": "2025-03-31T11:50:26.415725800Z"
    }
   },
   "id": "RM5aT5_vvFeO",
   "execution_count": 5,
   "outputs": [
    {
     "data": {
      "text/plain": "np.int64(0)"
     },
     "execution_count": 5,
     "metadata": {},
     "output_type": "execute_result"
    }
   ]
  },
  {
   "cell_type": "code",
   "source": [
    "df.isnull().sum()"
   ],
   "metadata": {
    "colab": {
     "base_uri": "https://localhost:8080/",
     "height": 460
    },
    "id": "SO0aT5tivRhn",
    "outputId": "621ce13c-37d9-4033-d8a2-19b8508a16a5",
    "ExecuteTime": {
     "end_time": "2025-03-31T11:50:26.701497200Z",
     "start_time": "2025-03-31T11:50:26.475611300Z"
    }
   },
   "id": "SO0aT5tivRhn",
   "execution_count": 6,
   "outputs": [
    {
     "data": {
      "text/plain": "DATAFLOW          0\nLAST UPDATE       0\nfreq              0\nduration          0\nreason            0\nunit              0\ncitizen           0\ngeo               0\nTIME_PERIOD       0\nOBS_VALUE         1\nOBS_FLAG       1443\nCONF_STATUS    1485\ndtype: int64"
     },
     "execution_count": 6,
     "metadata": {},
     "output_type": "execute_result"
    }
   ]
  },
  {
   "cell_type": "code",
   "source": [
    "df = df.drop(columns=[\"DATAFLOW\", \"LAST UPDATE\", \"OBS_FLAG\", \"CONF_STATUS\"])"
   ],
   "metadata": {
    "id": "_jWl2G_4vTlm",
    "ExecuteTime": {
     "end_time": "2025-03-31T11:50:26.785275100Z",
     "start_time": "2025-03-31T11:50:26.505113Z"
    }
   },
   "id": "_jWl2G_4vTlm",
   "execution_count": 7,
   "outputs": []
  },
  {
   "cell_type": "code",
   "source": [
    "df.head()\n",
    "df = df.dropna()"
   ],
   "metadata": {
    "colab": {
     "base_uri": "https://localhost:8080/",
     "height": 206
    },
    "id": "9qGzF-LLvaeG",
    "outputId": "01a69ff2-4f1c-41fc-f1bf-fa9c6ff1c654",
    "ExecuteTime": {
     "end_time": "2025-03-31T11:50:26.815571300Z",
     "start_time": "2025-03-31T11:50:26.594191500Z"
    }
   },
   "id": "9qGzF-LLvaeG",
   "execution_count": 8,
   "outputs": []
  },
  {
   "cell_type": "code",
   "source": [
    "for col in df.columns:\n",
    "    print(f\"Uniques values in {col}: {df[col].unique()}\")"
   ],
   "metadata": {
    "colab": {
     "base_uri": "https://localhost:8080/"
    },
    "id": "SkkHb3oLvb-H",
    "outputId": "f4f7b8db-7680-4182-82e4-1e26decfacef",
    "ExecuteTime": {
     "end_time": "2025-03-31T11:50:26.844416300Z",
     "start_time": "2025-03-31T11:50:26.624742700Z"
    }
   },
   "id": "SkkHb3oLvb-H",
   "execution_count": 9,
   "outputs": [
    {
     "name": "stdout",
     "output_type": "stream",
     "text": [
      "Uniques values in freq: ['Annual']\n",
      "Uniques values in duration: ['Total']\n",
      "Uniques values in reason: ['Education reasons' 'Family reasons' 'Other reason' 'Total']\n",
      "Uniques values in unit: ['Person']\n",
      "Uniques values in citizen: ['Total']\n",
      "Uniques values in geo: ['Austria' 'Belgium' 'Bulgaria' 'Switzerland' 'Cyprus' 'Czechia' 'Germany'\n",
      " 'Denmark' 'Estonia' 'Greece' 'Spain'\n",
      " 'European Union - 27 countries (from 2020)' 'Finland' 'France' 'Croatia'\n",
      " 'Hungary' 'Ireland' 'Iceland' 'Italy' 'Liechtenstein' 'Lithuania'\n",
      " 'Luxembourg' 'Latvia' 'Malta' 'Netherlands' 'Norway' 'Poland' 'Portugal'\n",
      " 'Romania' 'Sweden' 'Slovenia' 'Slovakia' 'United Kingdom']\n",
      "Uniques values in TIME_PERIOD: [2012 2013 2014 2015 2016 2017 2018 2019 2020 2021 2022 2023]\n",
      "Uniques values in OBS_VALUE: [  16955.   17960.   19538. ... 1504018. 1533551. 1577559.]\n"
     ]
    }
   ]
  },
  {
   "cell_type": "code",
   "source": [
    "df = df.drop(columns=[\"reason\", \"citizen\", \"duration\", \"unit\", \"freq\"])"
   ],
   "metadata": {
    "id": "OjQGJ5jswKsG",
    "ExecuteTime": {
     "end_time": "2025-03-31T11:50:26.887062300Z",
     "start_time": "2025-03-31T11:50:26.691899100Z"
    }
   },
   "id": "OjQGJ5jswKsG",
   "execution_count": 10,
   "outputs": []
  },
  {
   "cell_type": "code",
   "source": [
    "df = df.dropna()"
   ],
   "metadata": {
    "id": "J7h8LO_Z0Cqc",
    "ExecuteTime": {
     "end_time": "2025-03-31T11:50:26.938675400Z",
     "start_time": "2025-03-31T11:50:26.728023900Z"
    }
   },
   "id": "J7h8LO_Z0Cqc",
   "execution_count": 11,
   "outputs": []
  },
  {
   "cell_type": "code",
   "source": [
    "df = df.rename(columns={\"OBS_VALUE\": \"Migrants number\"})"
   ],
   "metadata": {
    "id": "oniskw7nxOE8",
    "ExecuteTime": {
     "end_time": "2025-03-31T11:50:26.975344700Z",
     "start_time": "2025-03-31T11:50:26.807538700Z"
    }
   },
   "id": "oniskw7nxOE8",
   "execution_count": 12,
   "outputs": []
  },
  {
   "cell_type": "code",
   "source": [
    "df.head()"
   ],
   "metadata": {
    "colab": {
     "base_uri": "https://localhost:8080/",
     "height": 206
    },
    "id": "nLXev_No0ll5",
    "outputId": "45971b65-a65a-4358-c005-fa1d63009e50",
    "ExecuteTime": {
     "end_time": "2025-03-31T11:50:27.001119600Z",
     "start_time": "2025-03-31T11:50:26.824730900Z"
    }
   },
   "id": "nLXev_No0ll5",
   "execution_count": 13,
   "outputs": [
    {
     "data": {
      "text/plain": "       geo  TIME_PERIOD  Migrants number\n0  Austria         2012          16955.0\n1  Austria         2013          17960.0\n2  Austria         2014          19538.0\n3  Austria         2015          22474.0\n4  Austria         2016          22497.0",
      "text/html": "<div>\n<style scoped>\n    .dataframe tbody tr th:only-of-type {\n        vertical-align: middle;\n    }\n\n    .dataframe tbody tr th {\n        vertical-align: top;\n    }\n\n    .dataframe thead th {\n        text-align: right;\n    }\n</style>\n<table border=\"1\" class=\"dataframe\">\n  <thead>\n    <tr style=\"text-align: right;\">\n      <th></th>\n      <th>geo</th>\n      <th>TIME_PERIOD</th>\n      <th>Migrants number</th>\n    </tr>\n  </thead>\n  <tbody>\n    <tr>\n      <th>0</th>\n      <td>Austria</td>\n      <td>2012</td>\n      <td>16955.0</td>\n    </tr>\n    <tr>\n      <th>1</th>\n      <td>Austria</td>\n      <td>2013</td>\n      <td>17960.0</td>\n    </tr>\n    <tr>\n      <th>2</th>\n      <td>Austria</td>\n      <td>2014</td>\n      <td>19538.0</td>\n    </tr>\n    <tr>\n      <th>3</th>\n      <td>Austria</td>\n      <td>2015</td>\n      <td>22474.0</td>\n    </tr>\n    <tr>\n      <th>4</th>\n      <td>Austria</td>\n      <td>2016</td>\n      <td>22497.0</td>\n    </tr>\n  </tbody>\n</table>\n</div>"
     },
     "execution_count": 13,
     "metadata": {},
     "output_type": "execute_result"
    }
   ]
  },
  {
   "cell_type": "code",
   "source": [
    "df.describe()"
   ],
   "metadata": {
    "colab": {
     "base_uri": "https://localhost:8080/",
     "height": 300
    },
    "id": "IrxGOpua0rhi",
    "outputId": "5146a5fe-7b76-419b-891a-192d4801e0a1",
    "ExecuteTime": {
     "end_time": "2025-03-31T11:50:27.007207Z",
     "start_time": "2025-03-31T11:50:26.869397100Z"
    }
   },
   "id": "IrxGOpua0rhi",
   "execution_count": 14,
   "outputs": [
    {
     "data": {
      "text/plain": "       TIME_PERIOD  Migrants number\ncount  1484.000000     1.484000e+03\nmean   2017.555256     3.817354e+05\nstd       3.454986     1.358683e+06\nmin    2012.000000     4.200000e+01\n25%    2015.000000     1.200800e+04\n50%    2018.000000     4.547550e+04\n75%    2021.000000     2.241750e+05\nmax    2023.000000     2.522427e+07",
      "text/html": "<div>\n<style scoped>\n    .dataframe tbody tr th:only-of-type {\n        vertical-align: middle;\n    }\n\n    .dataframe tbody tr th {\n        vertical-align: top;\n    }\n\n    .dataframe thead th {\n        text-align: right;\n    }\n</style>\n<table border=\"1\" class=\"dataframe\">\n  <thead>\n    <tr style=\"text-align: right;\">\n      <th></th>\n      <th>TIME_PERIOD</th>\n      <th>Migrants number</th>\n    </tr>\n  </thead>\n  <tbody>\n    <tr>\n      <th>count</th>\n      <td>1484.000000</td>\n      <td>1.484000e+03</td>\n    </tr>\n    <tr>\n      <th>mean</th>\n      <td>2017.555256</td>\n      <td>3.817354e+05</td>\n    </tr>\n    <tr>\n      <th>std</th>\n      <td>3.454986</td>\n      <td>1.358683e+06</td>\n    </tr>\n    <tr>\n      <th>min</th>\n      <td>2012.000000</td>\n      <td>4.200000e+01</td>\n    </tr>\n    <tr>\n      <th>25%</th>\n      <td>2015.000000</td>\n      <td>1.200800e+04</td>\n    </tr>\n    <tr>\n      <th>50%</th>\n      <td>2018.000000</td>\n      <td>4.547550e+04</td>\n    </tr>\n    <tr>\n      <th>75%</th>\n      <td>2021.000000</td>\n      <td>2.241750e+05</td>\n    </tr>\n    <tr>\n      <th>max</th>\n      <td>2023.000000</td>\n      <td>2.522427e+07</td>\n    </tr>\n  </tbody>\n</table>\n</div>"
     },
     "execution_count": 14,
     "metadata": {},
     "output_type": "execute_result"
    }
   ]
  },
  {
   "cell_type": "code",
   "execution_count": 15,
   "outputs": [],
   "source": [
    "population_df = pd.read_csv('../../data/population_data_tps00001.csv')"
   ],
   "metadata": {
    "collapsed": false,
    "ExecuteTime": {
     "end_time": "2025-03-31T11:50:27.941418400Z",
     "start_time": "2025-03-31T11:50:26.924889600Z"
    }
   },
   "id": "e2c20d92b79ae3a7"
  },
  {
   "cell_type": "code",
   "execution_count": 16,
   "outputs": [
    {
     "data": {
      "text/plain": "              DATAFLOW        LAST UPDATE    freq  \\\n0  ESTAT:TPS00001(1.0)  09/01/25 23:00:00  Annual   \n1  ESTAT:TPS00001(1.0)  09/01/25 23:00:00  Annual   \n2  ESTAT:TPS00001(1.0)  09/01/25 23:00:00  Annual   \n3  ESTAT:TPS00001(1.0)  09/01/25 23:00:00  Annual   \n4  ESTAT:TPS00001(1.0)  09/01/25 23:00:00  Annual   \n\n                          indic_de      geo  TIME_PERIOD  OBS_VALUE OBS_FLAG  \\\n0  Population on 1 January - total  Andorra         2013      76246      NaN   \n1  Population on 1 January - total  Andorra         2016      71732      NaN   \n2  Population on 1 January - total  Andorra         2018      74794        e   \n3  Population on 1 January - total  Andorra         2019      76177      NaN   \n4  Population on 1 January - total  Andorra         2020      77543        e   \n\n   CONF_STATUS  \n0          NaN  \n1          NaN  \n2          NaN  \n3          NaN  \n4          NaN  ",
      "text/html": "<div>\n<style scoped>\n    .dataframe tbody tr th:only-of-type {\n        vertical-align: middle;\n    }\n\n    .dataframe tbody tr th {\n        vertical-align: top;\n    }\n\n    .dataframe thead th {\n        text-align: right;\n    }\n</style>\n<table border=\"1\" class=\"dataframe\">\n  <thead>\n    <tr style=\"text-align: right;\">\n      <th></th>\n      <th>DATAFLOW</th>\n      <th>LAST UPDATE</th>\n      <th>freq</th>\n      <th>indic_de</th>\n      <th>geo</th>\n      <th>TIME_PERIOD</th>\n      <th>OBS_VALUE</th>\n      <th>OBS_FLAG</th>\n      <th>CONF_STATUS</th>\n    </tr>\n  </thead>\n  <tbody>\n    <tr>\n      <th>0</th>\n      <td>ESTAT:TPS00001(1.0)</td>\n      <td>09/01/25 23:00:00</td>\n      <td>Annual</td>\n      <td>Population on 1 January - total</td>\n      <td>Andorra</td>\n      <td>2013</td>\n      <td>76246</td>\n      <td>NaN</td>\n      <td>NaN</td>\n    </tr>\n    <tr>\n      <th>1</th>\n      <td>ESTAT:TPS00001(1.0)</td>\n      <td>09/01/25 23:00:00</td>\n      <td>Annual</td>\n      <td>Population on 1 January - total</td>\n      <td>Andorra</td>\n      <td>2016</td>\n      <td>71732</td>\n      <td>NaN</td>\n      <td>NaN</td>\n    </tr>\n    <tr>\n      <th>2</th>\n      <td>ESTAT:TPS00001(1.0)</td>\n      <td>09/01/25 23:00:00</td>\n      <td>Annual</td>\n      <td>Population on 1 January - total</td>\n      <td>Andorra</td>\n      <td>2018</td>\n      <td>74794</td>\n      <td>e</td>\n      <td>NaN</td>\n    </tr>\n    <tr>\n      <th>3</th>\n      <td>ESTAT:TPS00001(1.0)</td>\n      <td>09/01/25 23:00:00</td>\n      <td>Annual</td>\n      <td>Population on 1 January - total</td>\n      <td>Andorra</td>\n      <td>2019</td>\n      <td>76177</td>\n      <td>NaN</td>\n      <td>NaN</td>\n    </tr>\n    <tr>\n      <th>4</th>\n      <td>ESTAT:TPS00001(1.0)</td>\n      <td>09/01/25 23:00:00</td>\n      <td>Annual</td>\n      <td>Population on 1 January - total</td>\n      <td>Andorra</td>\n      <td>2020</td>\n      <td>77543</td>\n      <td>e</td>\n      <td>NaN</td>\n    </tr>\n  </tbody>\n</table>\n</div>"
     },
     "execution_count": 16,
     "metadata": {},
     "output_type": "execute_result"
    }
   ],
   "source": [
    "population_df.head()"
   ],
   "metadata": {
    "collapsed": false,
    "ExecuteTime": {
     "end_time": "2025-03-31T11:50:28.022542300Z",
     "start_time": "2025-03-31T11:50:27.764922200Z"
    }
   },
   "id": "14fc871c5844c139"
  },
  {
   "cell_type": "code",
   "execution_count": 17,
   "outputs": [],
   "source": [
    "population_df = population_df.drop(columns=[\"DATAFLOW\", \"LAST UPDATE\", \"freq\", \"indic_de\", \"OBS_FLAG\", \"CONF_STATUS\"])"
   ],
   "metadata": {
    "collapsed": false,
    "ExecuteTime": {
     "end_time": "2025-03-31T11:50:28.109865800Z",
     "start_time": "2025-03-31T11:50:27.893778300Z"
    }
   },
   "id": "baa5a551cc8ad4f5"
  },
  {
   "cell_type": "code",
   "execution_count": 18,
   "outputs": [
    {
     "data": {
      "text/plain": "array([2013, 2016, 2018, 2019, 2020, 2022, 2023, 2024, 2014, 2015, 2017,\n       2021])"
     },
     "execution_count": 18,
     "metadata": {},
     "output_type": "execute_result"
    }
   ],
   "source": [
    "population_df[\"TIME_PERIOD\"].unique()"
   ],
   "metadata": {
    "collapsed": false,
    "ExecuteTime": {
     "end_time": "2025-03-31T11:50:28.277707700Z",
     "start_time": "2025-03-31T11:50:27.986465500Z"
    }
   },
   "id": "98b88a42e3078966"
  },
  {
   "cell_type": "code",
   "execution_count": 19,
   "outputs": [
    {
     "data": {
      "text/plain": "array([2012, 2013, 2014, 2015, 2016, 2017, 2018, 2019, 2020, 2021, 2022,\n       2023])"
     },
     "execution_count": 19,
     "metadata": {},
     "output_type": "execute_result"
    }
   ],
   "source": [
    "df[\"TIME_PERIOD\"].unique()"
   ],
   "metadata": {
    "collapsed": false,
    "ExecuteTime": {
     "end_time": "2025-03-31T11:50:28.280868400Z",
     "start_time": "2025-03-31T11:50:28.206839200Z"
    }
   },
   "id": "70e1356d720881ec"
  },
  {
   "cell_type": "code",
   "execution_count": 20,
   "outputs": [],
   "source": [
    "population_df = population_df.rename(columns={\"OBS_VALUE\": \"Population\"})"
   ],
   "metadata": {
    "collapsed": false,
    "ExecuteTime": {
     "end_time": "2025-03-31T11:50:28.355706100Z",
     "start_time": "2025-03-31T11:50:28.225480800Z"
    }
   },
   "id": "f31239cf3e729b5a"
  },
  {
   "cell_type": "code",
   "execution_count": 21,
   "outputs": [],
   "source": [
    "merged_df = df.merge(population_df, how=\"left\", left_on=[\"TIME_PERIOD\", \"geo\"], right_on=[\"TIME_PERIOD\", \"geo\"])"
   ],
   "metadata": {
    "collapsed": false,
    "ExecuteTime": {
     "end_time": "2025-03-31T11:50:28.404136200Z",
     "start_time": "2025-03-31T11:50:28.289718Z"
    }
   },
   "id": "4bcbddf947ab1380"
  },
  {
   "cell_type": "code",
   "execution_count": 22,
   "outputs": [
    {
     "data": {
      "text/plain": "       geo  TIME_PERIOD  Migrants number  Population\n0  Austria         2012          16955.0         NaN\n1  Austria         2013          17960.0   8451860.0\n2  Austria         2014          19538.0   8507786.0\n3  Austria         2015          22474.0   8584926.0\n4  Austria         2016          22497.0   8700471.0",
      "text/html": "<div>\n<style scoped>\n    .dataframe tbody tr th:only-of-type {\n        vertical-align: middle;\n    }\n\n    .dataframe tbody tr th {\n        vertical-align: top;\n    }\n\n    .dataframe thead th {\n        text-align: right;\n    }\n</style>\n<table border=\"1\" class=\"dataframe\">\n  <thead>\n    <tr style=\"text-align: right;\">\n      <th></th>\n      <th>geo</th>\n      <th>TIME_PERIOD</th>\n      <th>Migrants number</th>\n      <th>Population</th>\n    </tr>\n  </thead>\n  <tbody>\n    <tr>\n      <th>0</th>\n      <td>Austria</td>\n      <td>2012</td>\n      <td>16955.0</td>\n      <td>NaN</td>\n    </tr>\n    <tr>\n      <th>1</th>\n      <td>Austria</td>\n      <td>2013</td>\n      <td>17960.0</td>\n      <td>8451860.0</td>\n    </tr>\n    <tr>\n      <th>2</th>\n      <td>Austria</td>\n      <td>2014</td>\n      <td>19538.0</td>\n      <td>8507786.0</td>\n    </tr>\n    <tr>\n      <th>3</th>\n      <td>Austria</td>\n      <td>2015</td>\n      <td>22474.0</td>\n      <td>8584926.0</td>\n    </tr>\n    <tr>\n      <th>4</th>\n      <td>Austria</td>\n      <td>2016</td>\n      <td>22497.0</td>\n      <td>8700471.0</td>\n    </tr>\n  </tbody>\n</table>\n</div>"
     },
     "execution_count": 22,
     "metadata": {},
     "output_type": "execute_result"
    }
   ],
   "source": [
    "merged_df.head()"
   ],
   "metadata": {
    "collapsed": false,
    "ExecuteTime": {
     "end_time": "2025-03-31T11:50:28.526546100Z",
     "start_time": "2025-03-31T11:50:28.330052600Z"
    }
   },
   "id": "400e8940518476fd"
  },
  {
   "cell_type": "code",
   "execution_count": 23,
   "outputs": [
    {
     "name": "stdout",
     "output_type": "stream",
     "text": [
      "<class 'pandas.core.frame.DataFrame'>\n",
      "RangeIndex: 1484 entries, 0 to 1483\n",
      "Data columns (total 4 columns):\n",
      " #   Column           Non-Null Count  Dtype  \n",
      "---  ------           --------------  -----  \n",
      " 0   geo              1484 non-null   object \n",
      " 1   TIME_PERIOD      1484 non-null   int64  \n",
      " 2   Migrants number  1484 non-null   float64\n",
      " 3   Population       1356 non-null   float64\n",
      "dtypes: float64(2), int64(1), object(1)\n",
      "memory usage: 46.5+ KB\n"
     ]
    }
   ],
   "source": [
    "merged_df.info()"
   ],
   "metadata": {
    "collapsed": false,
    "ExecuteTime": {
     "end_time": "2025-03-31T11:50:28.577304900Z",
     "start_time": "2025-03-31T11:50:28.398702400Z"
    }
   },
   "id": "c1fe4b7a36b48708"
  },
  {
   "cell_type": "code",
   "execution_count": 24,
   "outputs": [],
   "source": [
    "population_df2 = pd.read_csv('../../data/population_total_long.csv')"
   ],
   "metadata": {
    "collapsed": false,
    "ExecuteTime": {
     "end_time": "2025-03-31T11:50:28.644668300Z",
     "start_time": "2025-03-31T11:50:28.433334900Z"
    }
   },
   "id": "6a405c4e93a09003"
  },
  {
   "cell_type": "code",
   "execution_count": 25,
   "outputs": [
    {
     "name": "stdout",
     "output_type": "stream",
     "text": [
      "<class 'pandas.core.frame.DataFrame'>\n",
      "RangeIndex: 12595 entries, 0 to 12594\n",
      "Data columns (total 3 columns):\n",
      " #   Column        Non-Null Count  Dtype \n",
      "---  ------        --------------  ----- \n",
      " 0   Country Name  12595 non-null  object\n",
      " 1   Year          12595 non-null  int64 \n",
      " 2   Count         12595 non-null  int64 \n",
      "dtypes: int64(2), object(1)\n",
      "memory usage: 295.3+ KB\n"
     ]
    }
   ],
   "source": [
    "population_df2.info()"
   ],
   "metadata": {
    "collapsed": false,
    "ExecuteTime": {
     "end_time": "2025-03-31T11:50:28.703703700Z",
     "start_time": "2025-03-31T11:50:28.522524500Z"
    }
   },
   "id": "704e28f79cd6cd9e"
  },
  {
   "cell_type": "code",
   "execution_count": 26,
   "outputs": [],
   "source": [
    "merged_df = merged_df.merge(population_df2, how=\"left\", left_on=[\"TIME_PERIOD\", \"geo\"], right_on=[\"Year\", \"Country Name\"])"
   ],
   "metadata": {
    "collapsed": false,
    "ExecuteTime": {
     "end_time": "2025-03-31T11:50:28.778606800Z",
     "start_time": "2025-03-31T11:50:28.597225800Z"
    }
   },
   "id": "367843568bbca82"
  },
  {
   "cell_type": "code",
   "execution_count": 27,
   "outputs": [],
   "source": [
    "merged_df[\"Population\"] = merged_df[\"Population\"].fillna(merged_df[\"Count\"])"
   ],
   "metadata": {
    "collapsed": false,
    "ExecuteTime": {
     "end_time": "2025-03-31T11:50:28.951288400Z",
     "start_time": "2025-03-31T11:50:28.639147900Z"
    }
   },
   "id": "c1125025c3113fe"
  },
  {
   "cell_type": "code",
   "execution_count": 28,
   "outputs": [],
   "source": [
    "merged_df.drop(columns=[\"Count\"], inplace=True)"
   ],
   "metadata": {
    "collapsed": false,
    "ExecuteTime": {
     "end_time": "2025-03-31T11:50:29.004217400Z",
     "start_time": "2025-03-31T11:50:28.712124200Z"
    }
   },
   "id": "25d69441c44fd37b"
  },
  {
   "cell_type": "code",
   "execution_count": 29,
   "outputs": [
    {
     "data": {
      "text/plain": "       geo  TIME_PERIOD  Migrants number  Population Country Name    Year\n0  Austria         2012          16955.0   8429991.0      Austria  2012.0\n1  Austria         2013          17960.0   8451860.0      Austria  2013.0\n2  Austria         2014          19538.0   8507786.0      Austria  2014.0\n3  Austria         2015          22474.0   8584926.0      Austria  2015.0\n4  Austria         2016          22497.0   8700471.0      Austria  2016.0",
      "text/html": "<div>\n<style scoped>\n    .dataframe tbody tr th:only-of-type {\n        vertical-align: middle;\n    }\n\n    .dataframe tbody tr th {\n        vertical-align: top;\n    }\n\n    .dataframe thead th {\n        text-align: right;\n    }\n</style>\n<table border=\"1\" class=\"dataframe\">\n  <thead>\n    <tr style=\"text-align: right;\">\n      <th></th>\n      <th>geo</th>\n      <th>TIME_PERIOD</th>\n      <th>Migrants number</th>\n      <th>Population</th>\n      <th>Country Name</th>\n      <th>Year</th>\n    </tr>\n  </thead>\n  <tbody>\n    <tr>\n      <th>0</th>\n      <td>Austria</td>\n      <td>2012</td>\n      <td>16955.0</td>\n      <td>8429991.0</td>\n      <td>Austria</td>\n      <td>2012.0</td>\n    </tr>\n    <tr>\n      <th>1</th>\n      <td>Austria</td>\n      <td>2013</td>\n      <td>17960.0</td>\n      <td>8451860.0</td>\n      <td>Austria</td>\n      <td>2013.0</td>\n    </tr>\n    <tr>\n      <th>2</th>\n      <td>Austria</td>\n      <td>2014</td>\n      <td>19538.0</td>\n      <td>8507786.0</td>\n      <td>Austria</td>\n      <td>2014.0</td>\n    </tr>\n    <tr>\n      <th>3</th>\n      <td>Austria</td>\n      <td>2015</td>\n      <td>22474.0</td>\n      <td>8584926.0</td>\n      <td>Austria</td>\n      <td>2015.0</td>\n    </tr>\n    <tr>\n      <th>4</th>\n      <td>Austria</td>\n      <td>2016</td>\n      <td>22497.0</td>\n      <td>8700471.0</td>\n      <td>Austria</td>\n      <td>2016.0</td>\n    </tr>\n  </tbody>\n</table>\n</div>"
     },
     "execution_count": 29,
     "metadata": {},
     "output_type": "execute_result"
    }
   ],
   "source": [
    "merged_df.head()"
   ],
   "metadata": {
    "collapsed": false,
    "ExecuteTime": {
     "end_time": "2025-03-31T11:50:29.084757Z",
     "start_time": "2025-03-31T11:50:28.761513Z"
    }
   },
   "id": "5054ccc024f216ed"
  },
  {
   "cell_type": "code",
   "execution_count": 30,
   "outputs": [
    {
     "name": "stdout",
     "output_type": "stream",
     "text": [
      "<class 'pandas.core.frame.DataFrame'>\n",
      "RangeIndex: 1484 entries, 0 to 1483\n",
      "Data columns (total 6 columns):\n",
      " #   Column           Non-Null Count  Dtype  \n",
      "---  ------           --------------  -----  \n",
      " 0   geo              1484 non-null   object \n",
      " 1   TIME_PERIOD      1484 non-null   int64  \n",
      " 2   Migrants number  1484 non-null   float64\n",
      " 3   Population       1464 non-null   float64\n",
      " 4   Country Name     688 non-null    object \n",
      " 5   Year             688 non-null    float64\n",
      "dtypes: float64(3), int64(1), object(2)\n",
      "memory usage: 69.7+ KB\n"
     ]
    }
   ],
   "source": [
    "merged_df.info()"
   ],
   "metadata": {
    "collapsed": false,
    "ExecuteTime": {
     "end_time": "2025-03-31T11:50:29.111743800Z",
     "start_time": "2025-03-31T11:50:28.845594100Z"
    }
   },
   "id": "8785a032535f83cc"
  },
  {
   "cell_type": "code",
   "execution_count": 31,
   "outputs": [],
   "source": [
    "merged_df[\"Migrants number per 100k inhabitants\"] = round(merged_df[\"Migrants number\"] / merged_df[\"Population\"] * 100_000, 2)"
   ],
   "metadata": {
    "collapsed": false,
    "ExecuteTime": {
     "end_time": "2025-03-31T11:50:29.115772600Z",
     "start_time": "2025-03-31T11:50:28.944546900Z"
    }
   },
   "id": "4f45fb3bd13d0b26"
  },
  {
   "cell_type": "code",
   "execution_count": 32,
   "outputs": [
    {
     "data": {
      "text/plain": "                 geo  TIME_PERIOD  Migrants number  Population  \\\n0            Austria         2012          16955.0   8429991.0   \n1            Austria         2013          17960.0   8451860.0   \n2            Austria         2014          19538.0   8507786.0   \n3            Austria         2015          22474.0   8584926.0   \n4            Austria         2016          22497.0   8700471.0   \n...              ...          ...              ...         ...   \n1479  United Kingdom         2014        1509007.0  64351203.0   \n1480  United Kingdom         2015        1544879.0  64853393.0   \n1481  United Kingdom         2016        1504018.0  65379044.0   \n1482  United Kingdom         2017        1533551.0  65844142.0   \n1483  United Kingdom         2018        1577559.0  66273576.0   \n\n        Country Name    Year  Migrants number per 100k inhabitants  \n0            Austria  2012.0                                201.13  \n1            Austria  2013.0                                212.50  \n2            Austria  2014.0                                229.65  \n3            Austria  2015.0                                261.78  \n4            Austria  2016.0                                258.57  \n...              ...     ...                                   ...  \n1479  United Kingdom  2014.0                               2344.96  \n1480  United Kingdom  2015.0                               2382.11  \n1481  United Kingdom  2016.0                               2300.46  \n1482  United Kingdom  2017.0                               2329.06  \n1483             NaN     NaN                               2380.37  \n\n[1484 rows x 7 columns]",
      "text/html": "<div>\n<style scoped>\n    .dataframe tbody tr th:only-of-type {\n        vertical-align: middle;\n    }\n\n    .dataframe tbody tr th {\n        vertical-align: top;\n    }\n\n    .dataframe thead th {\n        text-align: right;\n    }\n</style>\n<table border=\"1\" class=\"dataframe\">\n  <thead>\n    <tr style=\"text-align: right;\">\n      <th></th>\n      <th>geo</th>\n      <th>TIME_PERIOD</th>\n      <th>Migrants number</th>\n      <th>Population</th>\n      <th>Country Name</th>\n      <th>Year</th>\n      <th>Migrants number per 100k inhabitants</th>\n    </tr>\n  </thead>\n  <tbody>\n    <tr>\n      <th>0</th>\n      <td>Austria</td>\n      <td>2012</td>\n      <td>16955.0</td>\n      <td>8429991.0</td>\n      <td>Austria</td>\n      <td>2012.0</td>\n      <td>201.13</td>\n    </tr>\n    <tr>\n      <th>1</th>\n      <td>Austria</td>\n      <td>2013</td>\n      <td>17960.0</td>\n      <td>8451860.0</td>\n      <td>Austria</td>\n      <td>2013.0</td>\n      <td>212.50</td>\n    </tr>\n    <tr>\n      <th>2</th>\n      <td>Austria</td>\n      <td>2014</td>\n      <td>19538.0</td>\n      <td>8507786.0</td>\n      <td>Austria</td>\n      <td>2014.0</td>\n      <td>229.65</td>\n    </tr>\n    <tr>\n      <th>3</th>\n      <td>Austria</td>\n      <td>2015</td>\n      <td>22474.0</td>\n      <td>8584926.0</td>\n      <td>Austria</td>\n      <td>2015.0</td>\n      <td>261.78</td>\n    </tr>\n    <tr>\n      <th>4</th>\n      <td>Austria</td>\n      <td>2016</td>\n      <td>22497.0</td>\n      <td>8700471.0</td>\n      <td>Austria</td>\n      <td>2016.0</td>\n      <td>258.57</td>\n    </tr>\n    <tr>\n      <th>...</th>\n      <td>...</td>\n      <td>...</td>\n      <td>...</td>\n      <td>...</td>\n      <td>...</td>\n      <td>...</td>\n      <td>...</td>\n    </tr>\n    <tr>\n      <th>1479</th>\n      <td>United Kingdom</td>\n      <td>2014</td>\n      <td>1509007.0</td>\n      <td>64351203.0</td>\n      <td>United Kingdom</td>\n      <td>2014.0</td>\n      <td>2344.96</td>\n    </tr>\n    <tr>\n      <th>1480</th>\n      <td>United Kingdom</td>\n      <td>2015</td>\n      <td>1544879.0</td>\n      <td>64853393.0</td>\n      <td>United Kingdom</td>\n      <td>2015.0</td>\n      <td>2382.11</td>\n    </tr>\n    <tr>\n      <th>1481</th>\n      <td>United Kingdom</td>\n      <td>2016</td>\n      <td>1504018.0</td>\n      <td>65379044.0</td>\n      <td>United Kingdom</td>\n      <td>2016.0</td>\n      <td>2300.46</td>\n    </tr>\n    <tr>\n      <th>1482</th>\n      <td>United Kingdom</td>\n      <td>2017</td>\n      <td>1533551.0</td>\n      <td>65844142.0</td>\n      <td>United Kingdom</td>\n      <td>2017.0</td>\n      <td>2329.06</td>\n    </tr>\n    <tr>\n      <th>1483</th>\n      <td>United Kingdom</td>\n      <td>2018</td>\n      <td>1577559.0</td>\n      <td>66273576.0</td>\n      <td>NaN</td>\n      <td>NaN</td>\n      <td>2380.37</td>\n    </tr>\n  </tbody>\n</table>\n<p>1484 rows × 7 columns</p>\n</div>"
     },
     "execution_count": 32,
     "metadata": {},
     "output_type": "execute_result"
    }
   ],
   "source": [
    "merged_df"
   ],
   "metadata": {
    "collapsed": false,
    "ExecuteTime": {
     "end_time": "2025-03-31T11:50:29.173720400Z",
     "start_time": "2025-03-31T11:50:29.002201700Z"
    }
   },
   "id": "1da955b1cdbed118"
  },
  {
   "cell_type": "code",
   "execution_count": 33,
   "outputs": [],
   "source": [
    "merged_df = merged_df.drop(columns=[\"Population\", \"Country Name\", \"Year\"])"
   ],
   "metadata": {
    "collapsed": false,
    "ExecuteTime": {
     "end_time": "2025-03-31T11:50:29.279758100Z",
     "start_time": "2025-03-31T11:50:29.074952600Z"
    }
   },
   "id": "f19036cf9331d34e"
  },
  {
   "cell_type": "code",
   "execution_count": 34,
   "outputs": [
    {
     "data": {
      "text/plain": "       geo  TIME_PERIOD  Migrants number  Migrants number per 100k inhabitants\n0  Austria         2012          16955.0                                201.13\n1  Austria         2013          17960.0                                212.50\n2  Austria         2014          19538.0                                229.65\n3  Austria         2015          22474.0                                261.78\n4  Austria         2016          22497.0                                258.57",
      "text/html": "<div>\n<style scoped>\n    .dataframe tbody tr th:only-of-type {\n        vertical-align: middle;\n    }\n\n    .dataframe tbody tr th {\n        vertical-align: top;\n    }\n\n    .dataframe thead th {\n        text-align: right;\n    }\n</style>\n<table border=\"1\" class=\"dataframe\">\n  <thead>\n    <tr style=\"text-align: right;\">\n      <th></th>\n      <th>geo</th>\n      <th>TIME_PERIOD</th>\n      <th>Migrants number</th>\n      <th>Migrants number per 100k inhabitants</th>\n    </tr>\n  </thead>\n  <tbody>\n    <tr>\n      <th>0</th>\n      <td>Austria</td>\n      <td>2012</td>\n      <td>16955.0</td>\n      <td>201.13</td>\n    </tr>\n    <tr>\n      <th>1</th>\n      <td>Austria</td>\n      <td>2013</td>\n      <td>17960.0</td>\n      <td>212.50</td>\n    </tr>\n    <tr>\n      <th>2</th>\n      <td>Austria</td>\n      <td>2014</td>\n      <td>19538.0</td>\n      <td>229.65</td>\n    </tr>\n    <tr>\n      <th>3</th>\n      <td>Austria</td>\n      <td>2015</td>\n      <td>22474.0</td>\n      <td>261.78</td>\n    </tr>\n    <tr>\n      <th>4</th>\n      <td>Austria</td>\n      <td>2016</td>\n      <td>22497.0</td>\n      <td>258.57</td>\n    </tr>\n  </tbody>\n</table>\n</div>"
     },
     "execution_count": 34,
     "metadata": {},
     "output_type": "execute_result"
    }
   ],
   "source": [
    "merged_df.head()"
   ],
   "metadata": {
    "collapsed": false,
    "ExecuteTime": {
     "end_time": "2025-03-31T11:50:29.518689800Z",
     "start_time": "2025-03-31T11:50:29.137024300Z"
    }
   },
   "id": "403e79eb8bb12814"
  },
  {
   "cell_type": "code",
   "execution_count": 35,
   "outputs": [],
   "source": [
    "merged_df.to_csv(\"../../processed_data/migrants_all_valid_permits.csv\", index=False)"
   ],
   "metadata": {
    "collapsed": false,
    "ExecuteTime": {
     "end_time": "2025-03-31T11:50:29.585965900Z",
     "start_time": "2025-03-31T11:50:29.342911500Z"
    }
   },
   "id": "63f39dea19d8d574"
  },
  {
   "cell_type": "code",
   "execution_count": null,
   "outputs": [],
   "source": [],
   "metadata": {
    "collapsed": false
   },
   "id": "6a6e67fad14cf820"
  }
 ],
 "metadata": {
  "kernelspec": {
   "display_name": "Python 3",
   "language": "python",
   "name": "python3"
  },
  "language_info": {
   "codemirror_mode": {
    "name": "ipython",
    "version": 2
   },
   "file_extension": ".py",
   "mimetype": "text/x-python",
   "name": "python",
   "nbconvert_exporter": "python",
   "pygments_lexer": "ipython2",
   "version": "2.7.6"
  },
  "colab": {
   "provenance": []
  }
 },
 "nbformat": 4,
 "nbformat_minor": 5
}
