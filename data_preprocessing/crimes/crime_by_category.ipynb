{
 "cells": [
  {
   "cell_type": "code",
   "execution_count": 48,
   "id": "initial_id",
   "metadata": {
    "collapsed": true,
    "ExecuteTime": {
     "end_time": "2025-03-26T21:33:29.749573200Z",
     "start_time": "2025-03-26T21:33:29.732637800Z"
    }
   },
   "outputs": [],
   "source": [
    "import pandas as pd"
   ]
  },
  {
   "cell_type": "markdown",
   "source": [
    "**Police-recorded offences by offence category**\n",
    "\n",
    "---\n",
    "Unit: per thousand hundred inhabitants\n"
   ],
   "metadata": {
    "collapsed": false
   },
   "id": "ad34ff338539403b"
  },
  {
   "cell_type": "code",
   "execution_count": 49,
   "outputs": [],
   "source": [
    "df = pd.read_csv('../../data/crimes_crime_by_category_crim_off_cat.csv')"
   ],
   "metadata": {
    "collapsed": false,
    "ExecuteTime": {
     "end_time": "2025-03-26T21:33:30.046504500Z",
     "start_time": "2025-03-26T21:33:29.970371600Z"
    }
   },
   "id": "8a1c3cb166b38bac"
  },
  {
   "cell_type": "code",
   "execution_count": 50,
   "outputs": [
    {
     "data": {
      "text/plain": "                  DATAFLOW        LAST UPDATE    freq                  iccs  \\\n0  ESTAT:CRIM_OFF_CAT(1.0)  23/04/24 23:00:00  Annual  Intentional homicide   \n1  ESTAT:CRIM_OFF_CAT(1.0)  23/04/24 23:00:00  Annual  Intentional homicide   \n2  ESTAT:CRIM_OFF_CAT(1.0)  23/04/24 23:00:00  Annual  Intentional homicide   \n3  ESTAT:CRIM_OFF_CAT(1.0)  23/04/24 23:00:00  Annual  Intentional homicide   \n4  ESTAT:CRIM_OFF_CAT(1.0)  23/04/24 23:00:00  Annual  Intentional homicide   \n\n     unit      geo  TIME_PERIOD  OBS_VALUE  OBS_FLAG  CONF_STATUS  \n0  Number  Albania         2008       88.0       NaN          NaN  \n1  Number  Albania         2009       82.0       NaN          NaN  \n2  Number  Albania         2010      118.0       NaN          NaN  \n3  Number  Albania         2011      124.0       NaN          NaN  \n4  Number  Albania         2012      125.0       NaN          NaN  ",
      "text/html": "<div>\n<style scoped>\n    .dataframe tbody tr th:only-of-type {\n        vertical-align: middle;\n    }\n\n    .dataframe tbody tr th {\n        vertical-align: top;\n    }\n\n    .dataframe thead th {\n        text-align: right;\n    }\n</style>\n<table border=\"1\" class=\"dataframe\">\n  <thead>\n    <tr style=\"text-align: right;\">\n      <th></th>\n      <th>DATAFLOW</th>\n      <th>LAST UPDATE</th>\n      <th>freq</th>\n      <th>iccs</th>\n      <th>unit</th>\n      <th>geo</th>\n      <th>TIME_PERIOD</th>\n      <th>OBS_VALUE</th>\n      <th>OBS_FLAG</th>\n      <th>CONF_STATUS</th>\n    </tr>\n  </thead>\n  <tbody>\n    <tr>\n      <th>0</th>\n      <td>ESTAT:CRIM_OFF_CAT(1.0)</td>\n      <td>23/04/24 23:00:00</td>\n      <td>Annual</td>\n      <td>Intentional homicide</td>\n      <td>Number</td>\n      <td>Albania</td>\n      <td>2008</td>\n      <td>88.0</td>\n      <td>NaN</td>\n      <td>NaN</td>\n    </tr>\n    <tr>\n      <th>1</th>\n      <td>ESTAT:CRIM_OFF_CAT(1.0)</td>\n      <td>23/04/24 23:00:00</td>\n      <td>Annual</td>\n      <td>Intentional homicide</td>\n      <td>Number</td>\n      <td>Albania</td>\n      <td>2009</td>\n      <td>82.0</td>\n      <td>NaN</td>\n      <td>NaN</td>\n    </tr>\n    <tr>\n      <th>2</th>\n      <td>ESTAT:CRIM_OFF_CAT(1.0)</td>\n      <td>23/04/24 23:00:00</td>\n      <td>Annual</td>\n      <td>Intentional homicide</td>\n      <td>Number</td>\n      <td>Albania</td>\n      <td>2010</td>\n      <td>118.0</td>\n      <td>NaN</td>\n      <td>NaN</td>\n    </tr>\n    <tr>\n      <th>3</th>\n      <td>ESTAT:CRIM_OFF_CAT(1.0)</td>\n      <td>23/04/24 23:00:00</td>\n      <td>Annual</td>\n      <td>Intentional homicide</td>\n      <td>Number</td>\n      <td>Albania</td>\n      <td>2011</td>\n      <td>124.0</td>\n      <td>NaN</td>\n      <td>NaN</td>\n    </tr>\n    <tr>\n      <th>4</th>\n      <td>ESTAT:CRIM_OFF_CAT(1.0)</td>\n      <td>23/04/24 23:00:00</td>\n      <td>Annual</td>\n      <td>Intentional homicide</td>\n      <td>Number</td>\n      <td>Albania</td>\n      <td>2012</td>\n      <td>125.0</td>\n      <td>NaN</td>\n      <td>NaN</td>\n    </tr>\n  </tbody>\n</table>\n</div>"
     },
     "execution_count": 50,
     "metadata": {},
     "output_type": "execute_result"
    }
   ],
   "source": [
    "df.head()"
   ],
   "metadata": {
    "collapsed": false,
    "ExecuteTime": {
     "end_time": "2025-03-26T21:33:30.179922800Z",
     "start_time": "2025-03-26T21:33:30.152423700Z"
    }
   },
   "id": "bc73e52d00ed02a5"
  },
  {
   "cell_type": "code",
   "execution_count": 51,
   "outputs": [
    {
     "name": "stdout",
     "output_type": "stream",
     "text": [
      "<class 'pandas.core.frame.DataFrame'>\n",
      "RangeIndex: 17474 entries, 0 to 17473\n",
      "Data columns (total 10 columns):\n",
      " #   Column       Non-Null Count  Dtype  \n",
      "---  ------       --------------  -----  \n",
      " 0   DATAFLOW     17474 non-null  object \n",
      " 1   LAST UPDATE  17474 non-null  object \n",
      " 2   freq         17474 non-null  object \n",
      " 3   iccs         17474 non-null  object \n",
      " 4   unit         17474 non-null  object \n",
      " 5   geo          17474 non-null  object \n",
      " 6   TIME_PERIOD  17474 non-null  int64  \n",
      " 7   OBS_VALUE    17474 non-null  float64\n",
      " 8   OBS_FLAG     0 non-null      float64\n",
      " 9   CONF_STATUS  0 non-null      float64\n",
      "dtypes: float64(3), int64(1), object(6)\n",
      "memory usage: 1.3+ MB\n"
     ]
    }
   ],
   "source": [
    "df.info()"
   ],
   "metadata": {
    "collapsed": false,
    "ExecuteTime": {
     "end_time": "2025-03-26T21:33:30.449017400Z",
     "start_time": "2025-03-26T21:33:30.386401500Z"
    }
   },
   "id": "5234e7035112d55c"
  },
  {
   "cell_type": "code",
   "execution_count": 52,
   "outputs": [
    {
     "data": {
      "text/plain": "np.int64(0)"
     },
     "execution_count": 52,
     "metadata": {},
     "output_type": "execute_result"
    }
   ],
   "source": [
    "df.duplicated().sum()"
   ],
   "metadata": {
    "collapsed": false,
    "ExecuteTime": {
     "end_time": "2025-03-26T21:33:30.551720400Z",
     "start_time": "2025-03-26T21:33:30.477708700Z"
    }
   },
   "id": "59879450eeb2f4da"
  },
  {
   "cell_type": "code",
   "execution_count": 53,
   "outputs": [
    {
     "data": {
      "text/plain": "DATAFLOW           0\nLAST UPDATE        0\nfreq               0\niccs               0\nunit               0\ngeo                0\nTIME_PERIOD        0\nOBS_VALUE          0\nOBS_FLAG       17474\nCONF_STATUS    17474\ndtype: int64"
     },
     "execution_count": 53,
     "metadata": {},
     "output_type": "execute_result"
    }
   ],
   "source": [
    "df.isnull().sum()"
   ],
   "metadata": {
    "collapsed": false,
    "ExecuteTime": {
     "end_time": "2025-03-26T21:33:30.657375800Z",
     "start_time": "2025-03-26T21:33:30.584622Z"
    }
   },
   "id": "ff0c58727cebcd9e"
  },
  {
   "cell_type": "code",
   "execution_count": 54,
   "outputs": [],
   "source": [
    "df = df.drop(columns=[\"DATAFLOW\", \"LAST UPDATE\", \"OBS_FLAG\", \"CONF_STATUS\"])"
   ],
   "metadata": {
    "collapsed": false,
    "ExecuteTime": {
     "end_time": "2025-03-26T21:33:31.141121500Z",
     "start_time": "2025-03-26T21:33:31.126261300Z"
    }
   },
   "id": "b6afe4e51677c50"
  },
  {
   "cell_type": "code",
   "execution_count": 55,
   "outputs": [
    {
     "name": "stdout",
     "output_type": "stream",
     "text": [
      "Uniques values in freq: ['Annual']\n",
      "Uniques values in iccs: ['Intentional homicide' 'Attempted intentional homicide' 'Serious assault'\n",
      " 'Kidnapping' 'Sexual violence' 'Rape' 'Sexual assault'\n",
      " 'Sexual exploitation' 'Child pornography' 'Robbery' 'Burglary'\n",
      " 'Burglary of private residential premises' 'Theft'\n",
      " 'Theft of a motorized vehicle or parts thereof'\n",
      " 'Unlawful acts involving controlled drugs or precursors' 'Fraud'\n",
      " 'Corruption' 'Bribery' 'Money laundering' 'Acts against computer systems'\n",
      " 'Participation in an organized criminal group']\n",
      "Uniques values in unit: ['Number' 'Per hundred thousand inhabitants']\n",
      "Uniques values in geo: ['Albania' 'Austria' 'Bosnia and Herzegovina' 'Belgium' 'Bulgaria'\n",
      " 'Switzerland' 'Cyprus' 'Czechia' 'Germany' 'Denmark' 'Estonia' 'Greece'\n",
      " 'Spain' 'Finland' 'France' 'Croatia' 'Hungary' 'Ireland' 'Iceland'\n",
      " 'Italy' 'Liechtenstein' 'Lithuania' 'Luxembourg' 'Latvia' 'Montenegro'\n",
      " 'North Macedonia' 'Malta' 'Netherlands' 'Norway' 'Poland' 'Portugal'\n",
      " 'Romania' 'Serbia' 'Sweden' 'Slovenia' 'Slovakia' 'Türkiye'\n",
      " 'England and Wales' 'Scotland (NUTS 2021)'\n",
      " 'Northern Ireland (UK) (NUTS 2021)' 'Kosovo*']\n",
      "Uniques values in TIME_PERIOD: [2008 2009 2010 2011 2012 2013 2014 2015 2016 2017 2018 2019 2020 2021\n",
      " 2022]\n",
      "Uniques values in OBS_VALUE: [ 88.    82.   118.   ...   9.16  19.44   2.53]\n"
     ]
    }
   ],
   "source": [
    "for col in df.columns:\n",
    "    print(f\"Uniques values in {col}: {df[col].unique()}\")"
   ],
   "metadata": {
    "collapsed": false,
    "ExecuteTime": {
     "end_time": "2025-03-26T21:33:31.344957700Z",
     "start_time": "2025-03-26T21:33:31.316399900Z"
    }
   },
   "id": "8154844e434c7154"
  },
  {
   "cell_type": "code",
   "execution_count": 56,
   "outputs": [],
   "source": [
    "df = df.drop(columns=[\"freq\"])"
   ],
   "metadata": {
    "collapsed": false,
    "ExecuteTime": {
     "end_time": "2025-03-26T21:33:31.803620800Z",
     "start_time": "2025-03-26T21:33:31.790018500Z"
    }
   },
   "id": "11b580b792f9081"
  },
  {
   "cell_type": "code",
   "execution_count": 57,
   "outputs": [],
   "source": [
    "df = df.dropna()"
   ],
   "metadata": {
    "collapsed": false,
    "ExecuteTime": {
     "end_time": "2025-03-26T21:33:32.061662600Z",
     "start_time": "2025-03-26T21:33:32.041538300Z"
    }
   },
   "id": "4e38b3522443cf1c"
  },
  {
   "cell_type": "code",
   "execution_count": 58,
   "outputs": [],
   "source": [
    "df = df.rename(columns={\"OBS_VALUE\": \"Crimes num\"})"
   ],
   "metadata": {
    "collapsed": false,
    "ExecuteTime": {
     "end_time": "2025-03-26T21:33:32.194941800Z",
     "start_time": "2025-03-26T21:33:32.184663400Z"
    }
   },
   "id": "59c397420bbbfa54"
  },
  {
   "cell_type": "code",
   "execution_count": 59,
   "outputs": [],
   "source": [
    "df = df[df[\"unit\"] == \"Per hundred thousand inhabitants\"]"
   ],
   "metadata": {
    "collapsed": false,
    "ExecuteTime": {
     "end_time": "2025-03-26T21:33:32.545921Z",
     "start_time": "2025-03-26T21:33:32.535635800Z"
    }
   },
   "id": "1c5e68e03a4c296d"
  },
  {
   "cell_type": "code",
   "execution_count": 60,
   "outputs": [
    {
     "name": "stdout",
     "output_type": "stream",
     "text": [
      "<class 'pandas.core.frame.DataFrame'>\n",
      "Index: 8605 entries, 591 to 17473\n",
      "Data columns (total 5 columns):\n",
      " #   Column       Non-Null Count  Dtype  \n",
      "---  ------       --------------  -----  \n",
      " 0   iccs         8605 non-null   object \n",
      " 1   unit         8605 non-null   object \n",
      " 2   geo          8605 non-null   object \n",
      " 3   TIME_PERIOD  8605 non-null   int64  \n",
      " 4   Crimes num   8605 non-null   float64\n",
      "dtypes: float64(1), int64(1), object(3)\n",
      "memory usage: 403.4+ KB\n"
     ]
    }
   ],
   "source": [
    "df.info()"
   ],
   "metadata": {
    "collapsed": false,
    "ExecuteTime": {
     "end_time": "2025-03-26T21:33:33.126597300Z",
     "start_time": "2025-03-26T21:33:33.100460400Z"
    }
   },
   "id": "a74598c5b1577cff"
  },
  {
   "cell_type": "code",
   "execution_count": 61,
   "outputs": [],
   "source": [
    "df = df.drop(columns=[\"unit\"])"
   ],
   "metadata": {
    "collapsed": false,
    "ExecuteTime": {
     "end_time": "2025-03-26T21:33:33.607738300Z",
     "start_time": "2025-03-26T21:33:33.593800100Z"
    }
   },
   "id": "ddc571a444347c0"
  },
  {
   "cell_type": "code",
   "execution_count": 62,
   "outputs": [],
   "source": [
    "df.to_csv(\"../../processed_data/crimes_crime_by_category.csv\", index=False)"
   ],
   "metadata": {
    "collapsed": false,
    "ExecuteTime": {
     "end_time": "2025-03-26T21:33:34.349901200Z",
     "start_time": "2025-03-26T21:33:34.302666400Z"
    }
   },
   "id": "37dc92265bb3812f"
  },
  {
   "cell_type": "code",
   "execution_count": null,
   "outputs": [],
   "source": [],
   "metadata": {
    "collapsed": false
   },
   "id": "547982944d22192c"
  }
 ],
 "metadata": {
  "kernelspec": {
   "display_name": "Python 3",
   "language": "python",
   "name": "python3"
  },
  "language_info": {
   "codemirror_mode": {
    "name": "ipython",
    "version": 2
   },
   "file_extension": ".py",
   "mimetype": "text/x-python",
   "name": "python",
   "nbconvert_exporter": "python",
   "pygments_lexer": "ipython2",
   "version": "2.7.6"
  }
 },
 "nbformat": 4,
 "nbformat_minor": 5
}
