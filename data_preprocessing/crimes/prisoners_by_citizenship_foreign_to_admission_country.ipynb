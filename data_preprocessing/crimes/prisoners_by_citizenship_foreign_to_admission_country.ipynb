{
 "cells": [
  {
   "cell_type": "code",
   "execution_count": 23,
   "id": "initial_id",
   "metadata": {
    "collapsed": true,
    "ExecuteTime": {
     "end_time": "2025-03-26T21:33:37.628288800Z",
     "start_time": "2025-03-26T21:33:37.595529600Z"
    }
   },
   "outputs": [],
   "source": [
    "import pandas as pd"
   ]
  },
  {
   "cell_type": "markdown",
   "source": [
    "**Prisoners by citizenship**\n",
    "\n",
    "---\n",
    "Unit: per thousand hundred inhabitants"
   ],
   "metadata": {
    "collapsed": false
   },
   "id": "188d9f5d62d442bc"
  },
  {
   "cell_type": "code",
   "execution_count": 24,
   "outputs": [],
   "source": [
    "df = pd.read_csv('../../data/prisoners_by_citizenship_foreign_to_admission_country_crim_pris_ctz.csv')"
   ],
   "metadata": {
    "collapsed": false,
    "ExecuteTime": {
     "end_time": "2025-03-26T21:33:37.926235500Z",
     "start_time": "2025-03-26T21:33:37.894739200Z"
    }
   },
   "id": "53513a2169f02cec"
  },
  {
   "cell_type": "code",
   "execution_count": 25,
   "outputs": [
    {
     "data": {
      "text/plain": "                               DATAFLOW  LAST UPDATE    freq          citizen  \\\n0  ESTAT:CRIM_PRIS_CTZ$DEFAULTVIEW(1.0)          NaN  Annual  Foreign country   \n1  ESTAT:CRIM_PRIS_CTZ$DEFAULTVIEW(1.0)          NaN  Annual  Foreign country   \n2  ESTAT:CRIM_PRIS_CTZ$DEFAULTVIEW(1.0)          NaN  Annual  Foreign country   \n3  ESTAT:CRIM_PRIS_CTZ$DEFAULTVIEW(1.0)          NaN  Annual  Foreign country   \n4  ESTAT:CRIM_PRIS_CTZ$DEFAULTVIEW(1.0)          NaN  Annual  Foreign country   \n\n     unit      geo  TIME_PERIOD  OBS_VALUE  OBS_FLAG  CONF_STATUS  \n0  Number  Albania         2013       84.0       NaN          NaN  \n1  Number  Albania         2014       99.0       NaN          NaN  \n2  Number  Albania         2015       89.0       NaN          NaN  \n3  Number  Albania         2016       89.0       NaN          NaN  \n4  Number  Albania         2017      101.0       NaN          NaN  ",
      "text/html": "<div>\n<style scoped>\n    .dataframe tbody tr th:only-of-type {\n        vertical-align: middle;\n    }\n\n    .dataframe tbody tr th {\n        vertical-align: top;\n    }\n\n    .dataframe thead th {\n        text-align: right;\n    }\n</style>\n<table border=\"1\" class=\"dataframe\">\n  <thead>\n    <tr style=\"text-align: right;\">\n      <th></th>\n      <th>DATAFLOW</th>\n      <th>LAST UPDATE</th>\n      <th>freq</th>\n      <th>citizen</th>\n      <th>unit</th>\n      <th>geo</th>\n      <th>TIME_PERIOD</th>\n      <th>OBS_VALUE</th>\n      <th>OBS_FLAG</th>\n      <th>CONF_STATUS</th>\n    </tr>\n  </thead>\n  <tbody>\n    <tr>\n      <th>0</th>\n      <td>ESTAT:CRIM_PRIS_CTZ$DEFAULTVIEW(1.0)</td>\n      <td>NaN</td>\n      <td>Annual</td>\n      <td>Foreign country</td>\n      <td>Number</td>\n      <td>Albania</td>\n      <td>2013</td>\n      <td>84.0</td>\n      <td>NaN</td>\n      <td>NaN</td>\n    </tr>\n    <tr>\n      <th>1</th>\n      <td>ESTAT:CRIM_PRIS_CTZ$DEFAULTVIEW(1.0)</td>\n      <td>NaN</td>\n      <td>Annual</td>\n      <td>Foreign country</td>\n      <td>Number</td>\n      <td>Albania</td>\n      <td>2014</td>\n      <td>99.0</td>\n      <td>NaN</td>\n      <td>NaN</td>\n    </tr>\n    <tr>\n      <th>2</th>\n      <td>ESTAT:CRIM_PRIS_CTZ$DEFAULTVIEW(1.0)</td>\n      <td>NaN</td>\n      <td>Annual</td>\n      <td>Foreign country</td>\n      <td>Number</td>\n      <td>Albania</td>\n      <td>2015</td>\n      <td>89.0</td>\n      <td>NaN</td>\n      <td>NaN</td>\n    </tr>\n    <tr>\n      <th>3</th>\n      <td>ESTAT:CRIM_PRIS_CTZ$DEFAULTVIEW(1.0)</td>\n      <td>NaN</td>\n      <td>Annual</td>\n      <td>Foreign country</td>\n      <td>Number</td>\n      <td>Albania</td>\n      <td>2016</td>\n      <td>89.0</td>\n      <td>NaN</td>\n      <td>NaN</td>\n    </tr>\n    <tr>\n      <th>4</th>\n      <td>ESTAT:CRIM_PRIS_CTZ$DEFAULTVIEW(1.0)</td>\n      <td>NaN</td>\n      <td>Annual</td>\n      <td>Foreign country</td>\n      <td>Number</td>\n      <td>Albania</td>\n      <td>2017</td>\n      <td>101.0</td>\n      <td>NaN</td>\n      <td>NaN</td>\n    </tr>\n  </tbody>\n</table>\n</div>"
     },
     "execution_count": 25,
     "metadata": {},
     "output_type": "execute_result"
    }
   ],
   "source": [
    "df.head()"
   ],
   "metadata": {
    "collapsed": false,
    "ExecuteTime": {
     "end_time": "2025-03-26T21:33:38.085763600Z",
     "start_time": "2025-03-26T21:33:38.065756500Z"
    }
   },
   "id": "a7d598cd8a0788d7"
  },
  {
   "cell_type": "code",
   "execution_count": 26,
   "outputs": [
    {
     "name": "stdout",
     "output_type": "stream",
     "text": [
      "<class 'pandas.core.frame.DataFrame'>\n",
      "RangeIndex: 2188 entries, 0 to 2187\n",
      "Data columns (total 10 columns):\n",
      " #   Column       Non-Null Count  Dtype  \n",
      "---  ------       --------------  -----  \n",
      " 0   DATAFLOW     2188 non-null   object \n",
      " 1   LAST UPDATE  0 non-null      float64\n",
      " 2   freq         2188 non-null   object \n",
      " 3   citizen      2188 non-null   object \n",
      " 4   unit         2188 non-null   object \n",
      " 5   geo          2188 non-null   object \n",
      " 6   TIME_PERIOD  2188 non-null   int64  \n",
      " 7   OBS_VALUE    2188 non-null   float64\n",
      " 8   OBS_FLAG     0 non-null      float64\n",
      " 9   CONF_STATUS  0 non-null      float64\n",
      "dtypes: float64(4), int64(1), object(5)\n",
      "memory usage: 171.1+ KB\n"
     ]
    }
   ],
   "source": [
    "df.info()"
   ],
   "metadata": {
    "collapsed": false,
    "ExecuteTime": {
     "end_time": "2025-03-26T21:33:38.279597400Z",
     "start_time": "2025-03-26T21:33:38.197583Z"
    }
   },
   "id": "ef80ec26a379643d"
  },
  {
   "cell_type": "code",
   "execution_count": 27,
   "outputs": [
    {
     "data": {
      "text/plain": "DATAFLOW          0\nLAST UPDATE    2188\nfreq              0\ncitizen           0\nunit              0\ngeo               0\nTIME_PERIOD       0\nOBS_VALUE         0\nOBS_FLAG       2188\nCONF_STATUS    2188\ndtype: int64"
     },
     "execution_count": 27,
     "metadata": {},
     "output_type": "execute_result"
    }
   ],
   "source": [
    "df.isnull().sum()"
   ],
   "metadata": {
    "collapsed": false,
    "ExecuteTime": {
     "end_time": "2025-03-26T21:33:38.365879200Z",
     "start_time": "2025-03-26T21:33:38.335096700Z"
    }
   },
   "id": "e5ef4c64d70c46db"
  },
  {
   "cell_type": "code",
   "execution_count": 28,
   "outputs": [],
   "source": [
    "df = df.drop(columns=[\"DATAFLOW\", \"LAST UPDATE\", \"OBS_FLAG\", \"CONF_STATUS\"])"
   ],
   "metadata": {
    "collapsed": false,
    "ExecuteTime": {
     "end_time": "2025-03-26T21:33:38.539105Z",
     "start_time": "2025-03-26T21:33:38.491425400Z"
    }
   },
   "id": "3c24d255c455f4ac"
  },
  {
   "cell_type": "code",
   "execution_count": 29,
   "outputs": [
    {
     "name": "stdout",
     "output_type": "stream",
     "text": [
      "Uniques values in freq: ['Annual']\n",
      "Uniques values in citizen: ['Foreign country' 'Reporting country' 'Total']\n",
      "Uniques values in unit: ['Number' 'Per hundred thousand inhabitants']\n",
      "Uniques values in geo: ['Albania' 'Austria' 'Bosnia and Herzegovina' 'Belgium' 'Bulgaria'\n",
      " 'Switzerland' 'Cyprus' 'Czechia' 'Denmark' 'Estonia' 'Greece' 'Spain'\n",
      " 'Finland' 'France' 'Croatia' 'Hungary' 'Ireland' 'Iceland' 'Italy'\n",
      " 'Liechtenstein' 'Lithuania' 'Luxembourg' 'Latvia' 'Montenegro'\n",
      " 'North Macedonia' 'Malta' 'Netherlands' 'Norway' 'Poland' 'Portugal'\n",
      " 'Romania' 'Serbia' 'Sweden' 'Slovenia' 'Slovakia' 'Türkiye'\n",
      " 'England and Wales' 'Scotland (NUTS 2021)'\n",
      " 'Northern Ireland (UK) (NUTS 2021)' 'Kosovo*' 'Germany']\n",
      "Uniques values in TIME_PERIOD: [2013 2014 2015 2016 2017 2018 2019 2020 2021 2022]\n",
      "Uniques values in OBS_VALUE: [ 84.    99.    89.   ...  87.13 100.58  78.33]\n"
     ]
    }
   ],
   "source": [
    "for col in df.columns:\n",
    "    print(f\"Uniques values in {col}: {df[col].unique()}\")"
   ],
   "metadata": {
    "collapsed": false,
    "ExecuteTime": {
     "end_time": "2025-03-26T21:33:38.617707200Z",
     "start_time": "2025-03-26T21:33:38.597556300Z"
    }
   },
   "id": "2636dcc90c5599c"
  },
  {
   "cell_type": "code",
   "execution_count": 30,
   "outputs": [],
   "source": [
    "df = df.drop(columns=[\"freq\"])\n",
    "df = df.dropna()"
   ],
   "metadata": {
    "collapsed": false,
    "ExecuteTime": {
     "end_time": "2025-03-26T21:33:39.244542Z",
     "start_time": "2025-03-26T21:33:39.231782200Z"
    }
   },
   "id": "679aa08b41382d43"
  },
  {
   "cell_type": "code",
   "execution_count": 31,
   "outputs": [],
   "source": [
    "df = df.rename(columns={\"OBS_VALUE\": \"Crimes num\"})"
   ],
   "metadata": {
    "collapsed": false,
    "ExecuteTime": {
     "end_time": "2025-03-26T21:33:39.569600400Z",
     "start_time": "2025-03-26T21:33:39.558583900Z"
    }
   },
   "id": "92dbb2d4325096fa"
  },
  {
   "cell_type": "code",
   "execution_count": 32,
   "outputs": [
    {
     "data": {
      "text/plain": "           citizen    unit      geo  TIME_PERIOD  Crimes num\n0  Foreign country  Number  Albania         2013        84.0\n1  Foreign country  Number  Albania         2014        99.0\n2  Foreign country  Number  Albania         2015        89.0\n3  Foreign country  Number  Albania         2016        89.0\n4  Foreign country  Number  Albania         2017       101.0",
      "text/html": "<div>\n<style scoped>\n    .dataframe tbody tr th:only-of-type {\n        vertical-align: middle;\n    }\n\n    .dataframe tbody tr th {\n        vertical-align: top;\n    }\n\n    .dataframe thead th {\n        text-align: right;\n    }\n</style>\n<table border=\"1\" class=\"dataframe\">\n  <thead>\n    <tr style=\"text-align: right;\">\n      <th></th>\n      <th>citizen</th>\n      <th>unit</th>\n      <th>geo</th>\n      <th>TIME_PERIOD</th>\n      <th>Crimes num</th>\n    </tr>\n  </thead>\n  <tbody>\n    <tr>\n      <th>0</th>\n      <td>Foreign country</td>\n      <td>Number</td>\n      <td>Albania</td>\n      <td>2013</td>\n      <td>84.0</td>\n    </tr>\n    <tr>\n      <th>1</th>\n      <td>Foreign country</td>\n      <td>Number</td>\n      <td>Albania</td>\n      <td>2014</td>\n      <td>99.0</td>\n    </tr>\n    <tr>\n      <th>2</th>\n      <td>Foreign country</td>\n      <td>Number</td>\n      <td>Albania</td>\n      <td>2015</td>\n      <td>89.0</td>\n    </tr>\n    <tr>\n      <th>3</th>\n      <td>Foreign country</td>\n      <td>Number</td>\n      <td>Albania</td>\n      <td>2016</td>\n      <td>89.0</td>\n    </tr>\n    <tr>\n      <th>4</th>\n      <td>Foreign country</td>\n      <td>Number</td>\n      <td>Albania</td>\n      <td>2017</td>\n      <td>101.0</td>\n    </tr>\n  </tbody>\n</table>\n</div>"
     },
     "execution_count": 32,
     "metadata": {},
     "output_type": "execute_result"
    }
   ],
   "source": [
    "df.head()"
   ],
   "metadata": {
    "collapsed": false,
    "ExecuteTime": {
     "end_time": "2025-03-26T21:33:40.256475500Z",
     "start_time": "2025-03-26T21:33:40.236893800Z"
    }
   },
   "id": "8cd993f48b53adeb"
  },
  {
   "cell_type": "code",
   "execution_count": 33,
   "outputs": [],
   "source": [
    "df.to_csv(\"../../processed_data/crimes_prisoners_by_citizenship_foreign_to_admission.csv\", index=False)"
   ],
   "metadata": {
    "collapsed": false,
    "ExecuteTime": {
     "end_time": "2025-03-26T21:33:40.925125100Z",
     "start_time": "2025-03-26T21:33:40.896080600Z"
    }
   },
   "id": "3cf309acf086a8e2"
  },
  {
   "cell_type": "code",
   "execution_count": null,
   "outputs": [],
   "source": [],
   "metadata": {
    "collapsed": false
   },
   "id": "f709f14b91aee501"
  }
 ],
 "metadata": {
  "kernelspec": {
   "display_name": "Python 3",
   "language": "python",
   "name": "python3"
  },
  "language_info": {
   "codemirror_mode": {
    "name": "ipython",
    "version": 2
   },
   "file_extension": ".py",
   "mimetype": "text/x-python",
   "name": "python",
   "nbconvert_exporter": "python",
   "pygments_lexer": "ipython2",
   "version": "2.7.6"
  }
 },
 "nbformat": 4,
 "nbformat_minor": 5
}
