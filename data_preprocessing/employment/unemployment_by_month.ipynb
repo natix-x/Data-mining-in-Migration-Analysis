{
 "cells": [
  {
   "cell_type": "code",
   "execution_count": 15,
   "id": "initial_id",
   "metadata": {
    "collapsed": true,
    "ExecuteTime": {
     "end_time": "2025-03-30T01:38:12.152746300Z",
     "start_time": "2025-03-30T01:38:12.116724400Z"
    }
   },
   "outputs": [],
   "source": [
    "import pandas as pd"
   ]
  },
  {
   "cell_type": "markdown",
   "source": [
    "**Unemployment by sex and age - monthly data**\n",
    "\n",
    "---\n",
    "\n",
    "Monthly data\n",
    "Unit: Percentage of population in the labour force"
   ],
   "metadata": {
    "collapsed": false
   },
   "id": "1337cce7b6970721"
  },
  {
   "cell_type": "code",
   "execution_count": 16,
   "outputs": [],
   "source": [
    "df = pd.read_csv('../../data/unemployment_by_month_une_rt_m.csv')"
   ],
   "metadata": {
    "collapsed": false,
    "ExecuteTime": {
     "end_time": "2025-03-30T01:38:12.886988500Z",
     "start_time": "2025-03-30T01:38:12.648097600Z"
    }
   },
   "id": "4b9b36209df750ca"
  },
  {
   "cell_type": "code",
   "execution_count": 17,
   "outputs": [
    {
     "name": "stdout",
     "output_type": "stream",
     "text": [
      "<class 'pandas.core.frame.DataFrame'>\n",
      "RangeIndex: 52758 entries, 0 to 52757\n",
      "Data columns (total 12 columns):\n",
      " #   Column       Non-Null Count  Dtype  \n",
      "---  ------       --------------  -----  \n",
      " 0   DATAFLOW     52758 non-null  object \n",
      " 1   LAST UPDATE  52758 non-null  object \n",
      " 2   freq         52758 non-null  object \n",
      " 3   s_adj        52758 non-null  object \n",
      " 4   age          52758 non-null  object \n",
      " 5   unit         52758 non-null  object \n",
      " 6   sex          52758 non-null  object \n",
      " 7   geo          52758 non-null  object \n",
      " 8   TIME_PERIOD  52758 non-null  object \n",
      " 9   OBS_VALUE    52758 non-null  float64\n",
      " 10  OBS_FLAG     598 non-null    object \n",
      " 11  CONF_STATUS  0 non-null      float64\n",
      "dtypes: float64(2), object(10)\n",
      "memory usage: 4.8+ MB\n"
     ]
    }
   ],
   "source": [
    "df.info()"
   ],
   "metadata": {
    "collapsed": false,
    "ExecuteTime": {
     "end_time": "2025-03-30T01:38:13.236691200Z",
     "start_time": "2025-03-30T01:38:13.216236Z"
    }
   },
   "id": "a9375d9572ffd5bf"
  },
  {
   "cell_type": "code",
   "execution_count": 18,
   "outputs": [
    {
     "data": {
      "text/plain": "np.int64(0)"
     },
     "execution_count": 18,
     "metadata": {},
     "output_type": "execute_result"
    }
   ],
   "source": [
    "df.duplicated().sum()"
   ],
   "metadata": {
    "collapsed": false,
    "ExecuteTime": {
     "end_time": "2025-03-30T01:38:13.741448400Z",
     "start_time": "2025-03-30T01:38:13.656748500Z"
    }
   },
   "id": "d2cf435af9e6a53b"
  },
  {
   "cell_type": "code",
   "execution_count": 19,
   "outputs": [],
   "source": [
    "df = df.drop(columns=[\"DATAFLOW\", \"LAST UPDATE\", \"OBS_FLAG\", \"CONF_STATUS\"])"
   ],
   "metadata": {
    "collapsed": false,
    "ExecuteTime": {
     "end_time": "2025-03-30T01:38:14.164613500Z",
     "start_time": "2025-03-30T01:38:14.148795100Z"
    }
   },
   "id": "fccdae5e8340ee17"
  },
  {
   "cell_type": "code",
   "execution_count": 20,
   "outputs": [
    {
     "name": "stdout",
     "output_type": "stream",
     "text": [
      "Uniques values in freq: ['Monthly']\n",
      "Uniques values in s_adj: ['Unadjusted data (i.e. neither seasonally adjusted nor calendar adjusted data)'\n",
      " 'Seasonally adjusted data, not calendar adjusted data']\n",
      "Uniques values in age: ['Total']\n",
      "Uniques values in unit: ['Percentage of population in the labour force' 'Thousand persons']\n",
      "Uniques values in sex: ['Total']\n",
      "Uniques values in geo: ['Austria' 'Bosnia and Herzegovina' 'Belgium' 'Bulgaria' 'Switzerland'\n",
      " 'Cyprus' 'Czechia' 'Germany' 'Denmark' 'Estonia' 'Greece' 'Spain'\n",
      " 'Finland' 'France' 'Croatia' 'Hungary' 'Ireland' 'Iceland' 'Italy'\n",
      " 'Japan' 'Lithuania' 'Luxembourg' 'Latvia' 'Malta' 'Netherlands' 'Norway'\n",
      " 'Poland' 'Portugal' 'Romania' 'Sweden' 'Slovenia' 'Slovakia' 'Türkiye'\n",
      " 'United Kingdom' 'United States']\n",
      "Uniques values in TIME_PERIOD: ['1994-01' '1994-02' '1994-03' '1994-04' '1994-05' '1994-06' '1994-07'\n",
      " '1994-08' '1994-09' '1994-10' '1994-11' '1994-12' '1995-01' '1995-02'\n",
      " '1995-03' '1995-04' '1995-05' '1995-06' '1995-07' '1995-08' '1995-09'\n",
      " '1995-10' '1995-11' '1995-12' '1996-01' '1996-02' '1996-03' '1996-04'\n",
      " '1996-05' '1996-06' '1996-07' '1996-08' '1996-09' '1996-10' '1996-11'\n",
      " '1996-12' '1997-01' '1997-02' '1997-03' '1997-04' '1997-05' '1997-06'\n",
      " '1997-07' '1997-08' '1997-09' '1997-10' '1997-11' '1997-12' '1998-01'\n",
      " '1998-02' '1998-03' '1998-04' '1998-05' '1998-06' '1998-07' '1998-08'\n",
      " '1998-09' '1998-10' '1998-11' '1998-12' '1999-01' '1999-02' '1999-03'\n",
      " '1999-04' '1999-05' '1999-06' '1999-07' '1999-08' '1999-09' '1999-10'\n",
      " '1999-11' '1999-12' '2000-01' '2000-02' '2000-03' '2000-04' '2000-05'\n",
      " '2000-06' '2000-07' '2000-08' '2000-09' '2000-10' '2000-11' '2000-12'\n",
      " '2001-01' '2001-02' '2001-03' '2001-04' '2001-05' '2001-06' '2001-07'\n",
      " '2001-08' '2001-09' '2001-10' '2001-11' '2001-12' '2002-01' '2002-02'\n",
      " '2002-03' '2002-04' '2002-05' '2002-06' '2002-07' '2002-08' '2002-09'\n",
      " '2002-10' '2002-11' '2002-12' '2003-01' '2003-02' '2003-03' '2003-04'\n",
      " '2003-05' '2003-06' '2003-07' '2003-08' '2003-09' '2003-10' '2003-11'\n",
      " '2003-12' '2004-01' '2004-02' '2004-03' '2004-04' '2004-05' '2004-06'\n",
      " '2004-07' '2004-08' '2004-09' '2004-10' '2004-11' '2004-12' '2005-01'\n",
      " '2005-02' '2005-03' '2005-04' '2005-05' '2005-06' '2005-07' '2005-08'\n",
      " '2005-09' '2005-10' '2005-11' '2005-12' '2006-01' '2006-02' '2006-03'\n",
      " '2006-04' '2006-05' '2006-06' '2006-07' '2006-08' '2006-09' '2006-10'\n",
      " '2006-11' '2006-12' '2007-01' '2007-02' '2007-03' '2007-04' '2007-05'\n",
      " '2007-06' '2007-07' '2007-08' '2007-09' '2007-10' '2007-11' '2007-12'\n",
      " '2008-01' '2008-02' '2008-03' '2008-04' '2008-05' '2008-06' '2008-07'\n",
      " '2008-08' '2008-09' '2008-10' '2008-11' '2008-12' '2009-01' '2009-02'\n",
      " '2009-03' '2009-04' '2009-05' '2009-06' '2009-07' '2009-08' '2009-09'\n",
      " '2009-10' '2009-11' '2009-12' '2010-01' '2010-02' '2010-03' '2010-04'\n",
      " '2010-05' '2010-06' '2010-07' '2010-08' '2010-09' '2010-10' '2010-11'\n",
      " '2010-12' '2011-01' '2011-02' '2011-03' '2011-04' '2011-05' '2011-06'\n",
      " '2011-07' '2011-08' '2011-09' '2011-10' '2011-11' '2011-12' '2012-01'\n",
      " '2012-02' '2012-03' '2012-04' '2012-05' '2012-06' '2012-07' '2012-08'\n",
      " '2012-09' '2012-10' '2012-11' '2012-12' '2013-01' '2013-02' '2013-03'\n",
      " '2013-04' '2013-05' '2013-06' '2013-07' '2013-08' '2013-09' '2013-10'\n",
      " '2013-11' '2013-12' '2014-01' '2014-02' '2014-03' '2014-04' '2014-05'\n",
      " '2014-06' '2014-07' '2014-08' '2014-09' '2014-10' '2014-11' '2014-12'\n",
      " '2015-01' '2015-02' '2015-03' '2015-04' '2015-05' '2015-06' '2015-07'\n",
      " '2015-08' '2015-09' '2015-10' '2015-11' '2015-12' '2016-01' '2016-02'\n",
      " '2016-03' '2016-04' '2016-05' '2016-06' '2016-07' '2016-08' '2016-09'\n",
      " '2016-10' '2016-11' '2016-12' '2017-01' '2017-02' '2017-03' '2017-04'\n",
      " '2017-05' '2017-06' '2017-07' '2017-08' '2017-09' '2017-10' '2017-11'\n",
      " '2017-12' '2018-01' '2018-02' '2018-03' '2018-04' '2018-05' '2018-06'\n",
      " '2018-07' '2018-08' '2018-09' '2018-10' '2018-11' '2018-12' '2019-01'\n",
      " '2019-02' '2019-03' '2019-04' '2019-05' '2019-06' '2019-07' '2019-08'\n",
      " '2019-09' '2019-10' '2019-11' '2019-12' '2020-01' '2020-02' '2020-03'\n",
      " '2020-04' '2020-05' '2020-06' '2020-07' '2020-08' '2020-09' '2020-10'\n",
      " '2020-11' '2020-12' '2021-01' '2021-02' '2021-03' '2021-04' '2021-05'\n",
      " '2021-06' '2021-07' '2021-08' '2021-09' '2021-10' '2021-11' '2021-12'\n",
      " '2022-01' '2022-02' '2022-03' '2022-04' '2022-05' '2022-06' '2022-07'\n",
      " '2022-08' '2022-09' '2022-10' '2022-11' '2022-12' '2023-01' '2023-02'\n",
      " '2023-03' '2023-04' '2023-05' '2023-06' '2023-07' '2023-08' '2023-09'\n",
      " '2023-10' '2023-11' '2023-12' '2024-01' '2024-02' '2024-03' '2024-04'\n",
      " '2024-05' '2024-06' '2024-07' '2024-08' '2024-09' '2024-10' '2024-11'\n",
      " '2024-12' '2025-01' '1986-04' '1986-05' '1986-06' '1986-07' '1986-08'\n",
      " '1986-09' '1986-10' '1986-11' '1986-12' '1987-01' '1987-02' '1987-03'\n",
      " '1987-04' '1987-05' '1987-06' '1987-07' '1987-08' '1987-09' '1987-10'\n",
      " '1987-11' '1987-12' '1988-01' '1988-02' '1988-03' '1988-04' '1988-05'\n",
      " '1988-06' '1988-07' '1988-08' '1988-09' '1988-10' '1988-11' '1988-12'\n",
      " '1989-01' '1989-02' '1989-03' '1989-04' '1989-05' '1989-06' '1989-07'\n",
      " '1989-08' '1989-09' '1989-10' '1989-11' '1989-12' '1990-01' '1990-02'\n",
      " '1990-03' '1990-04' '1990-05' '1990-06' '1990-07' '1990-08' '1990-09'\n",
      " '1990-10' '1990-11' '1990-12' '1991-01' '1991-02' '1991-03' '1991-04'\n",
      " '1991-05' '1991-06' '1991-07' '1991-08' '1991-09' '1991-10' '1991-11'\n",
      " '1991-12' '1992-01' '1992-02' '1992-03' '1992-04' '1992-05' '1992-06'\n",
      " '1992-07' '1992-08' '1992-09' '1992-10' '1992-11' '1992-12' '1993-01'\n",
      " '1993-02' '1993-03' '1993-04' '1993-05' '1993-06' '1993-07' '1993-08'\n",
      " '1993-09' '1993-10' '1993-11' '1993-12' '1983-01' '1983-02' '1983-03'\n",
      " '1983-04' '1983-05' '1983-06' '1983-07' '1983-08' '1983-09' '1983-10'\n",
      " '1983-11' '1983-12' '1984-01' '1984-02' '1984-03' '1984-04' '1984-05'\n",
      " '1984-06' '1984-07' '1984-08' '1984-09' '1984-10' '1984-11' '1984-12'\n",
      " '1985-01' '1985-02' '1985-03' '1985-04' '1985-05' '1985-06' '1985-07'\n",
      " '1985-08' '1985-09' '1985-10' '1985-11' '1985-12' '1986-01' '1986-02'\n",
      " '1986-03' '2025-02']\n",
      "Uniques values in OBS_VALUE: [5.200e+00 4.700e+00 4.400e+00 ... 7.180e+03 6.930e+03 6.898e+03]\n"
     ]
    }
   ],
   "source": [
    "for col in df.columns:\n",
    "    print(f\"Uniques values in {col}: {df[col].unique()}\")"
   ],
   "metadata": {
    "collapsed": false,
    "ExecuteTime": {
     "end_time": "2025-03-30T01:38:14.661099200Z",
     "start_time": "2025-03-30T01:38:14.600339700Z"
    }
   },
   "id": "3fc87e4bd87cd18c"
  },
  {
   "cell_type": "code",
   "execution_count": 21,
   "outputs": [],
   "source": [
    "df = df.drop(columns=[\"freq\", \"s_adj\", \"age\", \"sex\"])"
   ],
   "metadata": {
    "collapsed": false,
    "ExecuteTime": {
     "end_time": "2025-03-30T01:38:15.271746400Z",
     "start_time": "2025-03-30T01:38:15.266387200Z"
    }
   },
   "id": "f5933a5cbd7cb069"
  },
  {
   "cell_type": "code",
   "execution_count": 24,
   "outputs": [],
   "source": [
    "df = df[(df[\"unit\"] == \"Percentage of population in the labour force\") & (df[\"geo\"] != \"United States\")]\n"
   ],
   "metadata": {
    "collapsed": false,
    "ExecuteTime": {
     "end_time": "2025-03-30T01:39:17.975009200Z",
     "start_time": "2025-03-30T01:39:17.924794300Z"
    }
   },
   "id": "72bca1321d422f48"
  },
  {
   "cell_type": "code",
   "execution_count": 25,
   "outputs": [],
   "source": [
    "df = df.drop(columns=[\"unit\"])"
   ],
   "metadata": {
    "collapsed": false,
    "ExecuteTime": {
     "end_time": "2025-03-30T01:39:19.474731900Z",
     "start_time": "2025-03-30T01:39:19.449384900Z"
    }
   },
   "id": "901204dc7ae9e129"
  },
  {
   "cell_type": "code",
   "execution_count": 26,
   "outputs": [],
   "source": [
    "df = df.rename(columns={\"OBS_VALUE\": \"Percentage of population in the labour force\"})"
   ],
   "metadata": {
    "collapsed": false,
    "ExecuteTime": {
     "end_time": "2025-03-30T01:39:20.073096200Z",
     "start_time": "2025-03-30T01:39:20.058668Z"
    }
   },
   "id": "1e12e1b6a2f6c3f3"
  },
  {
   "cell_type": "code",
   "execution_count": 27,
   "outputs": [],
   "source": [
    "df[\"TIME_PERIOD\"] = pd.to_datetime(df[\"TIME_PERIOD\"], format=\"%Y-%m\")"
   ],
   "metadata": {
    "collapsed": false,
    "ExecuteTime": {
     "end_time": "2025-03-30T01:39:20.687020800Z",
     "start_time": "2025-03-30T01:39:20.663228300Z"
    }
   },
   "id": "4c47b741cdd5e0f1"
  },
  {
   "cell_type": "code",
   "execution_count": 30,
   "outputs": [
    {
     "data": {
      "text/plain": "       geo TIME_PERIOD  Percentage of population in the labour force\n0  Austria  1994-01-01                                           5.2\n1  Austria  1994-02-01                                           5.2\n2  Austria  1994-03-01                                           4.7\n3  Austria  1994-04-01                                           4.4\n4  Austria  1994-05-01                                           4.2",
      "text/html": "<div>\n<style scoped>\n    .dataframe tbody tr th:only-of-type {\n        vertical-align: middle;\n    }\n\n    .dataframe tbody tr th {\n        vertical-align: top;\n    }\n\n    .dataframe thead th {\n        text-align: right;\n    }\n</style>\n<table border=\"1\" class=\"dataframe\">\n  <thead>\n    <tr style=\"text-align: right;\">\n      <th></th>\n      <th>geo</th>\n      <th>TIME_PERIOD</th>\n      <th>Percentage of population in the labour force</th>\n    </tr>\n  </thead>\n  <tbody>\n    <tr>\n      <th>0</th>\n      <td>Austria</td>\n      <td>1994-01-01</td>\n      <td>5.2</td>\n    </tr>\n    <tr>\n      <th>1</th>\n      <td>Austria</td>\n      <td>1994-02-01</td>\n      <td>5.2</td>\n    </tr>\n    <tr>\n      <th>2</th>\n      <td>Austria</td>\n      <td>1994-03-01</td>\n      <td>4.7</td>\n    </tr>\n    <tr>\n      <th>3</th>\n      <td>Austria</td>\n      <td>1994-04-01</td>\n      <td>4.4</td>\n    </tr>\n    <tr>\n      <th>4</th>\n      <td>Austria</td>\n      <td>1994-05-01</td>\n      <td>4.2</td>\n    </tr>\n  </tbody>\n</table>\n</div>"
     },
     "execution_count": 30,
     "metadata": {},
     "output_type": "execute_result"
    }
   ],
   "source": [
    "df.head()"
   ],
   "metadata": {
    "collapsed": false,
    "ExecuteTime": {
     "end_time": "2025-03-30T01:39:29.771484700Z",
     "start_time": "2025-03-30T01:39:29.734519700Z"
    }
   },
   "id": "d5eacc798034cabc"
  },
  {
   "cell_type": "code",
   "execution_count": 31,
   "outputs": [],
   "source": [
    "df.to_csv(\"../../processed_data/unemployment_by_month.csv\", index=False)"
   ],
   "metadata": {
    "collapsed": false,
    "ExecuteTime": {
     "end_time": "2025-03-30T01:39:53.015509900Z",
     "start_time": "2025-03-30T01:39:52.755373300Z"
    }
   },
   "id": "9b8020fa420d9841"
  },
  {
   "cell_type": "code",
   "execution_count": null,
   "outputs": [],
   "source": [],
   "metadata": {
    "collapsed": false
   },
   "id": "1f465959c6c96aaf"
  }
 ],
 "metadata": {
  "kernelspec": {
   "display_name": "Python 3",
   "language": "python",
   "name": "python3"
  },
  "language_info": {
   "codemirror_mode": {
    "name": "ipython",
    "version": 2
   },
   "file_extension": ".py",
   "mimetype": "text/x-python",
   "name": "python",
   "nbconvert_exporter": "python",
   "pygments_lexer": "ipython2",
   "version": "2.7.6"
  }
 },
 "nbformat": 4,
 "nbformat_minor": 5
}
