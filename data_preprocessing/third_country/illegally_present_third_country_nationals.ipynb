{
 "cells": [
  {
   "cell_type": "code",
   "execution_count": 26,
   "metadata": {},
   "outputs": [],
   "source": [
    "import pandas as pd"
   ]
  },
  {
   "cell_type": "markdown",
   "metadata": {},
   "source": [
    "**Third country nationals found to be illegally present - annual data (rounded)**\n",
    "\n",
    "---\n",
    "Units of measure are absolute numbers of persons."
   ]
  },
  {
   "cell_type": "code",
   "execution_count": 27,
   "metadata": {},
   "outputs": [
    {
     "name": "stderr",
     "output_type": "stream",
     "text": [
      "C:\\Users\\izabe\\AppData\\Local\\Temp\\ipykernel_17844\\1875699432.py:1: DtypeWarning: Columns (12) have mixed types. Specify dtype option on import or set low_memory=False.\n",
      "  df = pd.read_csv('../../data/illegally_present_third_country_nationals.csv')\n"
     ]
    }
   ],
   "source": [
    "df = pd.read_csv('../../data/illegally_present_third_country_nationals.csv')"
   ]
  },
  {
   "cell_type": "code",
   "execution_count": 28,
   "metadata": {},
   "outputs": [
    {
     "data": {
      "text/html": [
       "<div>\n",
       "<style scoped>\n",
       "    .dataframe tbody tr th:only-of-type {\n",
       "        vertical-align: middle;\n",
       "    }\n",
       "\n",
       "    .dataframe tbody tr th {\n",
       "        vertical-align: top;\n",
       "    }\n",
       "\n",
       "    .dataframe thead th {\n",
       "        text-align: right;\n",
       "    }\n",
       "</style>\n",
       "<table border=\"1\" class=\"dataframe\">\n",
       "  <thead>\n",
       "    <tr style=\"text-align: right;\">\n",
       "      <th></th>\n",
       "      <th>DATAFLOW</th>\n",
       "      <th>LAST UPDATE</th>\n",
       "      <th>freq</th>\n",
       "      <th>reason</th>\n",
       "      <th>apprehen</th>\n",
       "      <th>citizen</th>\n",
       "      <th>sex</th>\n",
       "      <th>age</th>\n",
       "      <th>unit</th>\n",
       "      <th>geo</th>\n",
       "      <th>TIME_PERIOD</th>\n",
       "      <th>OBS_VALUE</th>\n",
       "      <th>OBS_FLAG</th>\n",
       "      <th>CONF_STATUS</th>\n",
       "    </tr>\n",
       "  </thead>\n",
       "  <tbody>\n",
       "    <tr>\n",
       "      <th>0</th>\n",
       "      <td>ESTAT:MIGR_EIPRE(1.0)</td>\n",
       "      <td>04/11/24 23:00:00</td>\n",
       "      <td>Annual</td>\n",
       "      <td>Illegal entry</td>\n",
       "      <td>Between border crossing points - at land</td>\n",
       "      <td>Andorra</td>\n",
       "      <td>Females</td>\n",
       "      <td>Total</td>\n",
       "      <td>Person</td>\n",
       "      <td>Austria</td>\n",
       "      <td>2021</td>\n",
       "      <td>0.0</td>\n",
       "      <td>NaN</td>\n",
       "      <td>NaN</td>\n",
       "    </tr>\n",
       "    <tr>\n",
       "      <th>1</th>\n",
       "      <td>ESTAT:MIGR_EIPRE(1.0)</td>\n",
       "      <td>04/11/24 23:00:00</td>\n",
       "      <td>Annual</td>\n",
       "      <td>Illegal entry</td>\n",
       "      <td>Between border crossing points - at land</td>\n",
       "      <td>Andorra</td>\n",
       "      <td>Females</td>\n",
       "      <td>Total</td>\n",
       "      <td>Person</td>\n",
       "      <td>Austria</td>\n",
       "      <td>2022</td>\n",
       "      <td>0.0</td>\n",
       "      <td>NaN</td>\n",
       "      <td>NaN</td>\n",
       "    </tr>\n",
       "    <tr>\n",
       "      <th>2</th>\n",
       "      <td>ESTAT:MIGR_EIPRE(1.0)</td>\n",
       "      <td>04/11/24 23:00:00</td>\n",
       "      <td>Annual</td>\n",
       "      <td>Illegal entry</td>\n",
       "      <td>Between border crossing points - at land</td>\n",
       "      <td>Andorra</td>\n",
       "      <td>Females</td>\n",
       "      <td>Total</td>\n",
       "      <td>Person</td>\n",
       "      <td>Belgium</td>\n",
       "      <td>2021</td>\n",
       "      <td>0.0</td>\n",
       "      <td>NaN</td>\n",
       "      <td>NaN</td>\n",
       "    </tr>\n",
       "    <tr>\n",
       "      <th>3</th>\n",
       "      <td>ESTAT:MIGR_EIPRE(1.0)</td>\n",
       "      <td>04/11/24 23:00:00</td>\n",
       "      <td>Annual</td>\n",
       "      <td>Illegal entry</td>\n",
       "      <td>Between border crossing points - at land</td>\n",
       "      <td>Andorra</td>\n",
       "      <td>Females</td>\n",
       "      <td>Total</td>\n",
       "      <td>Person</td>\n",
       "      <td>Belgium</td>\n",
       "      <td>2022</td>\n",
       "      <td>0.0</td>\n",
       "      <td>NaN</td>\n",
       "      <td>NaN</td>\n",
       "    </tr>\n",
       "    <tr>\n",
       "      <th>4</th>\n",
       "      <td>ESTAT:MIGR_EIPRE(1.0)</td>\n",
       "      <td>04/11/24 23:00:00</td>\n",
       "      <td>Annual</td>\n",
       "      <td>Illegal entry</td>\n",
       "      <td>Between border crossing points - at land</td>\n",
       "      <td>Andorra</td>\n",
       "      <td>Females</td>\n",
       "      <td>Total</td>\n",
       "      <td>Person</td>\n",
       "      <td>Belgium</td>\n",
       "      <td>2023</td>\n",
       "      <td>0.0</td>\n",
       "      <td>NaN</td>\n",
       "      <td>NaN</td>\n",
       "    </tr>\n",
       "  </tbody>\n",
       "</table>\n",
       "</div>"
      ],
      "text/plain": [
       "                DATAFLOW        LAST UPDATE    freq         reason  \\\n",
       "0  ESTAT:MIGR_EIPRE(1.0)  04/11/24 23:00:00  Annual  Illegal entry   \n",
       "1  ESTAT:MIGR_EIPRE(1.0)  04/11/24 23:00:00  Annual  Illegal entry   \n",
       "2  ESTAT:MIGR_EIPRE(1.0)  04/11/24 23:00:00  Annual  Illegal entry   \n",
       "3  ESTAT:MIGR_EIPRE(1.0)  04/11/24 23:00:00  Annual  Illegal entry   \n",
       "4  ESTAT:MIGR_EIPRE(1.0)  04/11/24 23:00:00  Annual  Illegal entry   \n",
       "\n",
       "                                   apprehen  citizen      sex    age    unit  \\\n",
       "0  Between border crossing points - at land  Andorra  Females  Total  Person   \n",
       "1  Between border crossing points - at land  Andorra  Females  Total  Person   \n",
       "2  Between border crossing points - at land  Andorra  Females  Total  Person   \n",
       "3  Between border crossing points - at land  Andorra  Females  Total  Person   \n",
       "4  Between border crossing points - at land  Andorra  Females  Total  Person   \n",
       "\n",
       "       geo  TIME_PERIOD  OBS_VALUE OBS_FLAG  CONF_STATUS  \n",
       "0  Austria         2021        0.0      NaN          NaN  \n",
       "1  Austria         2022        0.0      NaN          NaN  \n",
       "2  Belgium         2021        0.0      NaN          NaN  \n",
       "3  Belgium         2022        0.0      NaN          NaN  \n",
       "4  Belgium         2023        0.0      NaN          NaN  "
      ]
     },
     "execution_count": 28,
     "metadata": {},
     "output_type": "execute_result"
    }
   ],
   "source": [
    "df.head()"
   ]
  },
  {
   "cell_type": "code",
   "execution_count": 29,
   "metadata": {},
   "outputs": [
    {
     "name": "stdout",
     "output_type": "stream",
     "text": [
      "<class 'pandas.core.frame.DataFrame'>\n",
      "RangeIndex: 12943111 entries, 0 to 12943110\n",
      "Data columns (total 14 columns):\n",
      " #   Column       Dtype  \n",
      "---  ------       -----  \n",
      " 0   DATAFLOW     object \n",
      " 1   LAST UPDATE  object \n",
      " 2   freq         object \n",
      " 3   reason       object \n",
      " 4   apprehen     object \n",
      " 5   citizen      object \n",
      " 6   sex          object \n",
      " 7   age          object \n",
      " 8   unit         object \n",
      " 9   geo          object \n",
      " 10  TIME_PERIOD  int64  \n",
      " 11  OBS_VALUE    float64\n",
      " 12  OBS_FLAG     object \n",
      " 13  CONF_STATUS  float64\n",
      "dtypes: float64(2), int64(1), object(11)\n",
      "memory usage: 1.4+ GB\n"
     ]
    }
   ],
   "source": [
    "df.info()"
   ]
  },
  {
   "cell_type": "code",
   "execution_count": 30,
   "metadata": {},
   "outputs": [
    {
     "data": {
      "text/plain": [
       "np.int64(0)"
      ]
     },
     "execution_count": 30,
     "metadata": {},
     "output_type": "execute_result"
    }
   ],
   "source": [
    "df.duplicated().sum()"
   ]
  },
  {
   "cell_type": "code",
   "execution_count": 31,
   "metadata": {},
   "outputs": [
    {
     "data": {
      "text/plain": [
       "DATAFLOW              0\n",
       "LAST UPDATE           0\n",
       "freq                  0\n",
       "reason                0\n",
       "apprehen              0\n",
       "citizen               0\n",
       "sex                   0\n",
       "age                   0\n",
       "unit                  0\n",
       "geo                   0\n",
       "TIME_PERIOD           0\n",
       "OBS_VALUE         55649\n",
       "OBS_FLAG       12847425\n",
       "CONF_STATUS    12943111\n",
       "dtype: int64"
      ]
     },
     "execution_count": 31,
     "metadata": {},
     "output_type": "execute_result"
    }
   ],
   "source": [
    "df.isnull().sum()"
   ]
  },
  {
   "cell_type": "code",
   "execution_count": null,
   "metadata": {},
   "outputs": [],
   "source": [
    "df = df.drop(columns=[\"DATAFLOW\", \"LAST UPDATE\", \"freq\", \"apprehen\", \"unit\", \"OBS_FLAG\", \"CONF_STATUS\"])"
   ]
  },
  {
   "cell_type": "code",
   "execution_count": 52,
   "metadata": {},
   "outputs": [],
   "source": [
    "df = df[df['OBS_VALUE'] != 0]\n",
    "df = df[df['geo'] != 'European Union - 27 countries (from 2020)']\n",
    "df = df[df['geo'] != 'European Union - 28 countries (2013-2020)']"
   ]
  },
  {
   "cell_type": "code",
   "execution_count": null,
   "metadata": {},
   "outputs": [
    {
     "name": "stdout",
     "output_type": "stream",
     "text": [
      "reason: ['Illegal entry' 'Overstay' 'Other reason' 'Total']\n",
      "citizen: ['United Arab Emirates' 'Afghanistan' 'Albania' 'Armenia' 'Angola' 'Asia'\n",
      " 'Azerbaijan' 'Bosnia and Herzegovina' 'Bangladesh' 'Burkina Faso'\n",
      " 'Burundi' 'Benin' 'Bolivia' 'Belarus' 'Democratic Republic of the Congo'\n",
      " 'Central African Republic' 'Congo' 'Côte d’Ivoire' 'Cameroon' 'China'\n",
      " 'Cuba' 'Djibouti' 'Dominican Republic' 'Algeria' 'Ecuador' 'Egypt'\n",
      " 'Western Sahara' 'Eritrea' 'Ethiopia' 'Georgia' 'Ghana' 'Gambia, The'\n",
      " 'Guinea' 'Guinea-Bissau' 'Croatia' 'Haiti' 'Indonesia' 'Israel' 'India'\n",
      " 'Iraq']\n",
      "... and 141 more\n",
      "sex: ['Males' 'Total' 'Females' 'Unknown']\n",
      "age: ['Total' 'Unknown' 'From 14 to 17 years' 'From 18 to 34 years'\n",
      " '35 years or over' 'Less than 14 years' 'Less than 18 years']\n",
      "geo: ['Hungary' 'Bulgaria' 'Cyprus' 'Greece' 'Croatia' 'Latvia' 'Poland'\n",
      " 'Slovenia' 'Slovakia' 'Romania' 'Montenegro' 'Estonia' 'Finland'\n",
      " 'Austria' 'Belgium' 'Switzerland' 'Czechia' 'Germany' 'Denmark' 'Spain'\n",
      " 'Ireland' 'Iceland' 'Italy' 'Liechtenstein' 'Lithuania' 'Luxembourg'\n",
      " 'Malta' 'Netherlands' 'Norway' 'Portugal' 'Sweden' 'France'\n",
      " 'United Kingdom']\n",
      "TIME_PERIOD: [2022 2023 2021 2020 2019 2010 2015 2016 2017 2011 2012 2013 2014 2009\n",
      " 2018 2008]\n",
      "OBS_VALUE: [   5.   10.  145.   15.   30.   50.  210.  260.  245.   35.  200.  380.\n",
      "  110.  750.  725.   25.  190.  370.   20.   65.   55.   90.   70.   95.\n",
      "   80.   45.  285.  250.   40.  105.  100.  115.  295.  310.  130.  365.\n",
      "  405. 2305.  830.  490.]\n",
      "... and 4149 more\n"
     ]
    }
   ],
   "source": [
    "for col in df:\n",
    "    unique_vals = df[col].unique()\n",
    "    print(f\"{col}: {unique_vals[:40]}\")\n",
    "    if len(unique_vals) > 40:\n",
    "        print(f\"... and {len(unique_vals) - 40} others\")"
   ]
  },
  {
   "cell_type": "code",
   "execution_count": 59,
   "metadata": {},
   "outputs": [
    {
     "name": "stdout",
     "output_type": "stream",
     "text": [
      "\n",
      "Counts for reason:\n",
      "reason\n",
      "Total            363987\n",
      "Illegal entry     84759\n",
      "Other reason      62131\n",
      "Overstay          57252\n",
      "Name: count, dtype: int64\n",
      "\n",
      "Counts for citizen:\n",
      "citizen\n",
      "Croatia                           47220\n",
      "Total                             22146\n",
      "Asia                              12755\n",
      "Türkiye                           11525\n",
      "Syria                             11420\n",
      "                                  ...  \n",
      "Samoa                                 4\n",
      "Federated States of Micronesia        4\n",
      "Andorra                               2\n",
      "Marshall Islands                      2\n",
      "Nauru                                 2\n",
      "Name: count, Length: 181, dtype: int64\n",
      "\n",
      "Counts for sex:\n",
      "sex\n",
      "Total      223186\n",
      "Males      200188\n",
      "Females    128642\n",
      "Unknown     16113\n",
      "Name: count, dtype: int64\n",
      "\n",
      "Counts for age:\n",
      "age\n",
      "Total                  171527\n",
      "From 18 to 34 years    138445\n",
      "35 years or over       120310\n",
      "Less than 18 years      48921\n",
      "From 14 to 17 years     38138\n",
      "Less than 14 years      34924\n",
      "Unknown                 15864\n",
      "Name: count, dtype: int64\n"
     ]
    }
   ],
   "source": [
    "columns_to_count = ['reason', 'citizen', 'sex', 'age']\n",
    "\n",
    "for col in columns_to_count:\n",
    "    print(f\"\\nCounts for {col}:\")\n",
    "    print(df[col].value_counts())"
   ]
  },
  {
   "cell_type": "code",
   "execution_count": null,
   "metadata": {},
   "outputs": [
    {
     "name": "stdout",
     "output_type": "stream",
     "text": [
      "Count of NaN Observations by Citizen and Geo:\n",
      "Citizen: Africa, Geo: France -> Count: 24\n",
      "Citizen: Africa, Geo: Sweden -> Count: 48\n",
      "Citizen: America, Geo: France -> Count: 24\n",
      "Citizen: America, Geo: Sweden -> Count: 48\n",
      "Citizen: Asia, Geo: France -> Count: 24\n",
      "Citizen: Asia, Geo: Netherlands -> Count: 1\n",
      "Citizen: Asia, Geo: Sweden -> Count: 48\n",
      "Citizen: Croatia, Geo: Austria -> Count: 852\n",
      "Citizen: Croatia, Geo: Belgium -> Count: 1344\n",
      "Citizen: Croatia, Geo: Bulgaria -> Count: 1344\n",
      "Citizen: Croatia, Geo: Croatia -> Count: 1344\n",
      "Citizen: Croatia, Geo: Cyprus -> Count: 1344\n",
      "Citizen: Croatia, Geo: Czechia -> Count: 1344\n",
      "Citizen: Croatia, Geo: Denmark -> Count: 852\n",
      "Citizen: Croatia, Geo: Estonia -> Count: 1344\n",
      "Citizen: Croatia, Geo: Finland -> Count: 1344\n",
      "Citizen: Croatia, Geo: France -> Count: 540\n",
      "Citizen: Croatia, Geo: Germany -> Count: 1340\n",
      "Citizen: Croatia, Geo: Greece -> Count: 1342\n",
      "Citizen: Croatia, Geo: Hungary -> Count: 1344\n",
      "Citizen: Croatia, Geo: Iceland -> Count: 672\n",
      "Citizen: Croatia, Geo: Ireland -> Count: 3360\n",
      "Citizen: Croatia, Geo: Italy -> Count: 2016\n",
      "Citizen: Croatia, Geo: Latvia -> Count: 1344\n",
      "Citizen: Croatia, Geo: Liechtenstein -> Count: 1344\n",
      "Citizen: Croatia, Geo: Lithuania -> Count: 2016\n",
      "Citizen: Croatia, Geo: Luxembourg -> Count: 1344\n",
      "Citizen: Croatia, Geo: Malta -> Count: 2016\n",
      "Citizen: Croatia, Geo: Montenegro -> Count: 1344\n",
      "Citizen: Croatia, Geo: Netherlands -> Count: 2016\n",
      "Citizen: Croatia, Geo: Norway -> Count: 1524\n",
      "Citizen: Croatia, Geo: Poland -> Count: 1344\n",
      "Citizen: Croatia, Geo: Portugal -> Count: 852\n",
      "Citizen: Croatia, Geo: Romania -> Count: 1344\n",
      "Citizen: Croatia, Geo: Slovakia -> Count: 1344\n",
      "Citizen: Croatia, Geo: Slovenia -> Count: 1344\n",
      "Citizen: Croatia, Geo: Spain -> Count: 1344\n",
      "Citizen: Croatia, Geo: Sweden -> Count: 1344\n",
      "Citizen: Croatia, Geo: Switzerland -> Count: 2688\n",
      "Citizen: Europe, Geo: France -> Count: 24\n",
      "Citizen: Europe, Geo: Sweden -> Count: 48\n",
      "Citizen: Iceland, Geo: France -> Count: 24\n",
      "Citizen: Iceland, Geo: Netherlands -> Count: 1\n",
      "Citizen: Iceland, Geo: Sweden -> Count: 48\n",
      "Citizen: Liechtenstein, Geo: France -> Count: 24\n",
      "Citizen: Liechtenstein, Geo: Netherlands -> Count: 1\n",
      "Citizen: Liechtenstein, Geo: Sweden -> Count: 48\n",
      "Citizen: Norway, Geo: France -> Count: 24\n",
      "Citizen: Norway, Geo: Netherlands -> Count: 1\n",
      "Citizen: Norway, Geo: Sweden -> Count: 48\n",
      "Citizen: Oceania, Geo: France -> Count: 24\n",
      "Citizen: Oceania, Geo: Sweden -> Count: 48\n",
      "Citizen: Other Central and Eastern European countries, Geo: France -> Count: 24\n",
      "Citizen: Other Central and Eastern European countries, Geo: Sweden -> Count: 48\n",
      "Citizen: Switzerland, Geo: France -> Count: 24\n",
      "Citizen: Switzerland, Geo: Netherlands -> Count: 1\n",
      "Citizen: Switzerland, Geo: Sweden -> Count: 48\n",
      "Citizen: United Kingdom, Geo: Ireland -> Count: 1344\n",
      "Citizen: United Kingdom, Geo: Switzerland -> Count: 672\n"
     ]
    }
   ],
   "source": [
    "nan_df = df[df.isna().any(axis=1)]\n",
    "nan_df\n",
    "\n",
    "grouped = nan_df.groupby(['citizen', 'geo']).size().reset_index(name='count')\n",
    "\n",
    "table = grouped.pivot(index='citizen', columns='geo', values='count').fillna(0)\n",
    "\n",
    "print(\"Count of NaN Observations by Citizen and Geo:\")\n",
    "table\n",
    "# Iterate through the pivot table and print only non-zero counts\n",
    "for citizen, row in table.iterrows():\n",
    "    for geo, count in row.items():\n",
    "        if count != 0:\n",
    "            print(f\"Citizen: {citizen}, Geo: {geo} -> Count: {int(count)}\")\n"
   ]
  },
  {
   "cell_type": "code",
   "execution_count": 54,
   "metadata": {},
   "outputs": [],
   "source": [
    "df.to_csv(\"../../processed_data/illegally_present_third_country_nationals.csv\", index=False)"
   ]
  }
 ],
 "metadata": {
  "kernelspec": {
   "display_name": ".venv",
   "language": "python",
   "name": "python3"
  },
  "language_info": {
   "codemirror_mode": {
    "name": "ipython",
    "version": 3
   },
   "file_extension": ".py",
   "mimetype": "text/x-python",
   "name": "python",
   "nbconvert_exporter": "python",
   "pygments_lexer": "ipython3",
   "version": "3.13.0"
  }
 },
 "nbformat": 4,
 "nbformat_minor": 2
}
