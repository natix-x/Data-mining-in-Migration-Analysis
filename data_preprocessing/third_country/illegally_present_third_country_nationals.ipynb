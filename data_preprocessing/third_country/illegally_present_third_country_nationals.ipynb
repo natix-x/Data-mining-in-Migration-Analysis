{
 "cells": [
  {
   "cell_type": "code",
   "execution_count": 37,
   "metadata": {},
   "outputs": [],
   "source": [
    "import pandas as pd"
   ]
  },
  {
   "cell_type": "markdown",
   "metadata": {},
   "source": [
    "**Third country nationals found to be illegally present - annual data (rounded)**\n",
    "\n",
    "---\n",
    "Units of measure are absolute numbers of persons."
   ]
  },
  {
   "cell_type": "code",
   "execution_count": 38,
   "metadata": {},
   "outputs": [],
   "source": [
    "df = pd.read_csv('../../data/illegally_present_third_country_nationals.csv')"
   ]
  },
  {
   "cell_type": "code",
   "execution_count": 39,
   "metadata": {},
   "outputs": [
    {
     "data": {
      "text/html": [
       "<div>\n",
       "<style scoped>\n",
       "    .dataframe tbody tr th:only-of-type {\n",
       "        vertical-align: middle;\n",
       "    }\n",
       "\n",
       "    .dataframe tbody tr th {\n",
       "        vertical-align: top;\n",
       "    }\n",
       "\n",
       "    .dataframe thead th {\n",
       "        text-align: right;\n",
       "    }\n",
       "</style>\n",
       "<table border=\"1\" class=\"dataframe\">\n",
       "  <thead>\n",
       "    <tr style=\"text-align: right;\">\n",
       "      <th></th>\n",
       "      <th>DATAFLOW</th>\n",
       "      <th>LAST UPDATE</th>\n",
       "      <th>freq</th>\n",
       "      <th>reason</th>\n",
       "      <th>apprehen</th>\n",
       "      <th>citizen</th>\n",
       "      <th>sex</th>\n",
       "      <th>age</th>\n",
       "      <th>unit</th>\n",
       "      <th>geo</th>\n",
       "      <th>TIME_PERIOD</th>\n",
       "      <th>OBS_VALUE</th>\n",
       "      <th>OBS_FLAG</th>\n",
       "      <th>CONF_STATUS</th>\n",
       "    </tr>\n",
       "  </thead>\n",
       "  <tbody>\n",
       "    <tr>\n",
       "      <th>0</th>\n",
       "      <td>ESTAT:MIGR_EIPRE(1.0)</td>\n",
       "      <td>04/11/24 23:00:00</td>\n",
       "      <td>Annual</td>\n",
       "      <td>Illegal entry</td>\n",
       "      <td>Total</td>\n",
       "      <td>Andorra</td>\n",
       "      <td>Total</td>\n",
       "      <td>Total</td>\n",
       "      <td>Person</td>\n",
       "      <td>Austria</td>\n",
       "      <td>2021</td>\n",
       "      <td>0.0</td>\n",
       "      <td>NaN</td>\n",
       "      <td>NaN</td>\n",
       "    </tr>\n",
       "    <tr>\n",
       "      <th>1</th>\n",
       "      <td>ESTAT:MIGR_EIPRE(1.0)</td>\n",
       "      <td>04/11/24 23:00:00</td>\n",
       "      <td>Annual</td>\n",
       "      <td>Illegal entry</td>\n",
       "      <td>Total</td>\n",
       "      <td>Andorra</td>\n",
       "      <td>Total</td>\n",
       "      <td>Total</td>\n",
       "      <td>Person</td>\n",
       "      <td>Austria</td>\n",
       "      <td>2022</td>\n",
       "      <td>0.0</td>\n",
       "      <td>NaN</td>\n",
       "      <td>NaN</td>\n",
       "    </tr>\n",
       "    <tr>\n",
       "      <th>2</th>\n",
       "      <td>ESTAT:MIGR_EIPRE(1.0)</td>\n",
       "      <td>04/11/24 23:00:00</td>\n",
       "      <td>Annual</td>\n",
       "      <td>Illegal entry</td>\n",
       "      <td>Total</td>\n",
       "      <td>Andorra</td>\n",
       "      <td>Total</td>\n",
       "      <td>Total</td>\n",
       "      <td>Person</td>\n",
       "      <td>Belgium</td>\n",
       "      <td>2021</td>\n",
       "      <td>0.0</td>\n",
       "      <td>NaN</td>\n",
       "      <td>NaN</td>\n",
       "    </tr>\n",
       "    <tr>\n",
       "      <th>3</th>\n",
       "      <td>ESTAT:MIGR_EIPRE(1.0)</td>\n",
       "      <td>04/11/24 23:00:00</td>\n",
       "      <td>Annual</td>\n",
       "      <td>Illegal entry</td>\n",
       "      <td>Total</td>\n",
       "      <td>Andorra</td>\n",
       "      <td>Total</td>\n",
       "      <td>Total</td>\n",
       "      <td>Person</td>\n",
       "      <td>Belgium</td>\n",
       "      <td>2022</td>\n",
       "      <td>0.0</td>\n",
       "      <td>NaN</td>\n",
       "      <td>NaN</td>\n",
       "    </tr>\n",
       "    <tr>\n",
       "      <th>4</th>\n",
       "      <td>ESTAT:MIGR_EIPRE(1.0)</td>\n",
       "      <td>04/11/24 23:00:00</td>\n",
       "      <td>Annual</td>\n",
       "      <td>Illegal entry</td>\n",
       "      <td>Total</td>\n",
       "      <td>Andorra</td>\n",
       "      <td>Total</td>\n",
       "      <td>Total</td>\n",
       "      <td>Person</td>\n",
       "      <td>Belgium</td>\n",
       "      <td>2023</td>\n",
       "      <td>0.0</td>\n",
       "      <td>NaN</td>\n",
       "      <td>NaN</td>\n",
       "    </tr>\n",
       "  </tbody>\n",
       "</table>\n",
       "</div>"
      ],
      "text/plain": [
       "                DATAFLOW        LAST UPDATE    freq         reason apprehen  \\\n",
       "0  ESTAT:MIGR_EIPRE(1.0)  04/11/24 23:00:00  Annual  Illegal entry    Total   \n",
       "1  ESTAT:MIGR_EIPRE(1.0)  04/11/24 23:00:00  Annual  Illegal entry    Total   \n",
       "2  ESTAT:MIGR_EIPRE(1.0)  04/11/24 23:00:00  Annual  Illegal entry    Total   \n",
       "3  ESTAT:MIGR_EIPRE(1.0)  04/11/24 23:00:00  Annual  Illegal entry    Total   \n",
       "4  ESTAT:MIGR_EIPRE(1.0)  04/11/24 23:00:00  Annual  Illegal entry    Total   \n",
       "\n",
       "   citizen    sex    age    unit      geo  TIME_PERIOD  OBS_VALUE OBS_FLAG  \\\n",
       "0  Andorra  Total  Total  Person  Austria         2021        0.0      NaN   \n",
       "1  Andorra  Total  Total  Person  Austria         2022        0.0      NaN   \n",
       "2  Andorra  Total  Total  Person  Belgium         2021        0.0      NaN   \n",
       "3  Andorra  Total  Total  Person  Belgium         2022        0.0      NaN   \n",
       "4  Andorra  Total  Total  Person  Belgium         2023        0.0      NaN   \n",
       "\n",
       "   CONF_STATUS  \n",
       "0          NaN  \n",
       "1          NaN  \n",
       "2          NaN  \n",
       "3          NaN  \n",
       "4          NaN  "
      ]
     },
     "execution_count": 39,
     "metadata": {},
     "output_type": "execute_result"
    }
   ],
   "source": [
    "df.head()"
   ]
  },
  {
   "cell_type": "code",
   "execution_count": 40,
   "metadata": {},
   "outputs": [
    {
     "name": "stdout",
     "output_type": "stream",
     "text": [
      "<class 'pandas.core.frame.DataFrame'>\n",
      "RangeIndex: 49510 entries, 0 to 49509\n",
      "Data columns (total 14 columns):\n",
      " #   Column       Non-Null Count  Dtype  \n",
      "---  ------       --------------  -----  \n",
      " 0   DATAFLOW     49510 non-null  object \n",
      " 1   LAST UPDATE  49510 non-null  object \n",
      " 2   freq         49510 non-null  object \n",
      " 3   reason       49510 non-null  object \n",
      " 4   apprehen     49510 non-null  object \n",
      " 5   citizen      49510 non-null  object \n",
      " 6   sex          49510 non-null  object \n",
      " 7   age          49510 non-null  object \n",
      " 8   unit         49510 non-null  object \n",
      " 9   geo          49510 non-null  object \n",
      " 10  TIME_PERIOD  49510 non-null  int64  \n",
      " 11  OBS_VALUE    49300 non-null  float64\n",
      " 12  OBS_FLAG     306 non-null    object \n",
      " 13  CONF_STATUS  0 non-null      float64\n",
      "dtypes: float64(2), int64(1), object(11)\n",
      "memory usage: 5.3+ MB\n"
     ]
    }
   ],
   "source": [
    "df.info()"
   ]
  },
  {
   "cell_type": "code",
   "execution_count": 41,
   "metadata": {},
   "outputs": [
    {
     "data": {
      "text/plain": [
       "np.int64(0)"
      ]
     },
     "execution_count": 41,
     "metadata": {},
     "output_type": "execute_result"
    }
   ],
   "source": [
    "df.duplicated().sum()"
   ]
  },
  {
   "cell_type": "code",
   "execution_count": 42,
   "metadata": {},
   "outputs": [
    {
     "data": {
      "text/plain": [
       "DATAFLOW           0\n",
       "LAST UPDATE        0\n",
       "freq               0\n",
       "reason             0\n",
       "apprehen           0\n",
       "citizen            0\n",
       "sex                0\n",
       "age                0\n",
       "unit               0\n",
       "geo                0\n",
       "TIME_PERIOD        0\n",
       "OBS_VALUE        210\n",
       "OBS_FLAG       49204\n",
       "CONF_STATUS    49510\n",
       "dtype: int64"
      ]
     },
     "execution_count": 42,
     "metadata": {},
     "output_type": "execute_result"
    }
   ],
   "source": [
    "df.isnull().sum()"
   ]
  },
  {
   "cell_type": "code",
   "execution_count": 43,
   "metadata": {},
   "outputs": [],
   "source": [
    "df = df.drop(columns=[\"DATAFLOW\", \"LAST UPDATE\", \"freq\", \"apprehen\", \"unit\", \"OBS_FLAG\", \"CONF_STATUS\"])"
   ]
  },
  {
   "cell_type": "code",
   "execution_count": 44,
   "metadata": {},
   "outputs": [],
   "source": [
    "df = df[df['OBS_VALUE'] != 0]\n",
    "df = df[df['geo'] != 'European Union - 27 countries (from 2020)']\n",
    "df = df[df['geo'] != 'European Union - 28 countries (2013-2020)']"
   ]
  },
  {
   "cell_type": "code",
   "execution_count": 45,
   "metadata": {},
   "outputs": [
    {
     "name": "stdout",
     "output_type": "stream",
     "text": [
      "reason: ['Illegal entry' 'Overstay' 'Other reason']\n",
      "citizen: ['United Arab Emirates' 'Afghanistan' 'Albania' 'Armenia' 'Angola'\n",
      " 'Argentina' 'Asia' 'Australia' 'Azerbaijan' 'Bosnia and Herzegovina'\n",
      " 'Bangladesh' 'Burkina Faso' 'Bahrain' 'Burundi' 'Benin' 'Bolivia'\n",
      " 'Brazil' 'Bahamas' 'Bhutan' 'Botswana' 'Belarus' 'Belize' 'Canada'\n",
      " 'Democratic Republic of the Congo' 'Central African Republic' 'Congo'\n",
      " 'Côte d’Ivoire' 'Chile' 'Cameroon' 'China' 'Colombia' 'Costa Rica' 'Cuba'\n",
      " 'Cabo Verde' 'Djibouti' 'Dominica' 'Dominican Republic' 'Algeria'\n",
      " 'Ecuador' 'Egypt']\n",
      "... and 118 others\n",
      "sex: ['Total']\n",
      "age: ['Total']\n",
      "geo: ['Switzerland' 'Germany' 'Hungary' 'Bulgaria' 'Cyprus' 'Czechia' 'Denmark'\n",
      " 'Estonia' 'Greece' 'Finland' 'France' 'Croatia' 'Italy' 'Liechtenstein'\n",
      " 'Latvia' 'Netherlands' 'Norway' 'Poland' 'Romania' 'Slovenia' 'Slovakia'\n",
      " 'Belgium' 'Luxembourg' 'Montenegro' 'Ireland' 'Malta' 'Austria' 'Spain'\n",
      " 'Iceland' 'Lithuania' 'Portugal' 'Sweden']\n",
      "TIME_PERIOD: [2022 2023 2021 2020 2019]\n",
      "OBS_VALUE: [5.0000e+00 1.5000e+01 3.0000e+01 1.0000e+01 2.0000e+01 4.7000e+02\n",
      " 3.3150e+03 5.9500e+03 1.8500e+02 2.6500e+02 3.9000e+02 4.9000e+02\n",
      " 7.0500e+02 5.3000e+02 2.4500e+02 5.0000e+01 9.4700e+03 1.5070e+04\n",
      " 2.7850e+03 4.5750e+03 9.5350e+03 3.0500e+02 3.1000e+02 9.5000e+01\n",
      " 1.3130e+04 2.1140e+04 1.4905e+04 2.5725e+04 4.7350e+03 2.3000e+03\n",
      " 7.7700e+03 3.5450e+03 2.5000e+01 6.6000e+02 1.4000e+02 2.3000e+02\n",
      " 3.4000e+02 2.2500e+02 3.4150e+03 6.0300e+03]\n",
      "... and 545 others\n"
     ]
    }
   ],
   "source": [
    "for col in df:\n",
    "    unique_vals = df[col].unique()\n",
    "    print(f\"{col}: {unique_vals[:40]}\")\n",
    "    if len(unique_vals) > 40:\n",
    "        print(f\"... and {len(unique_vals) - 40} others\")"
   ]
  },
  {
   "cell_type": "code",
   "execution_count": 46,
   "metadata": {},
   "outputs": [],
   "source": [
    "# remove all columns with only one unique value\n",
    "df = df.loc[:, df.nunique() > 1]"
   ]
  },
  {
   "cell_type": "code",
   "execution_count": null,
   "metadata": {},
   "outputs": [],
   "source": [
    "df = df.rename(columns={'OBS_VALUE': 'Illegal Third Country Nationals', 'TIME_PERIOD': 'year'})"
   ]
  },
  {
   "cell_type": "code",
   "execution_count": 47,
   "metadata": {},
   "outputs": [
    {
     "data": {
      "text/html": [
       "<div>\n",
       "<style scoped>\n",
       "    .dataframe tbody tr th:only-of-type {\n",
       "        vertical-align: middle;\n",
       "    }\n",
       "\n",
       "    .dataframe tbody tr th {\n",
       "        vertical-align: top;\n",
       "    }\n",
       "\n",
       "    .dataframe thead th {\n",
       "        text-align: right;\n",
       "    }\n",
       "</style>\n",
       "<table border=\"1\" class=\"dataframe\">\n",
       "  <thead>\n",
       "    <tr style=\"text-align: right;\">\n",
       "      <th></th>\n",
       "      <th>reason</th>\n",
       "      <th>citizen</th>\n",
       "      <th>geo</th>\n",
       "      <th>TIME_PERIOD</th>\n",
       "      <th>OBS_VALUE</th>\n",
       "    </tr>\n",
       "  </thead>\n",
       "  <tbody>\n",
       "    <tr>\n",
       "      <th>103</th>\n",
       "      <td>Illegal entry</td>\n",
       "      <td>United Arab Emirates</td>\n",
       "      <td>Switzerland</td>\n",
       "      <td>2022</td>\n",
       "      <td>5.0</td>\n",
       "    </tr>\n",
       "    <tr>\n",
       "      <th>104</th>\n",
       "      <td>Illegal entry</td>\n",
       "      <td>United Arab Emirates</td>\n",
       "      <td>Switzerland</td>\n",
       "      <td>2023</td>\n",
       "      <td>5.0</td>\n",
       "    </tr>\n",
       "    <tr>\n",
       "      <th>112</th>\n",
       "      <td>Illegal entry</td>\n",
       "      <td>United Arab Emirates</td>\n",
       "      <td>Germany</td>\n",
       "      <td>2022</td>\n",
       "      <td>15.0</td>\n",
       "    </tr>\n",
       "    <tr>\n",
       "      <th>113</th>\n",
       "      <td>Illegal entry</td>\n",
       "      <td>United Arab Emirates</td>\n",
       "      <td>Germany</td>\n",
       "      <td>2023</td>\n",
       "      <td>30.0</td>\n",
       "    </tr>\n",
       "    <tr>\n",
       "      <th>135</th>\n",
       "      <td>Illegal entry</td>\n",
       "      <td>United Arab Emirates</td>\n",
       "      <td>Hungary</td>\n",
       "      <td>2022</td>\n",
       "      <td>10.0</td>\n",
       "    </tr>\n",
       "    <tr>\n",
       "      <th>...</th>\n",
       "      <td>...</td>\n",
       "      <td>...</td>\n",
       "      <td>...</td>\n",
       "      <td>...</td>\n",
       "      <td>...</td>\n",
       "    </tr>\n",
       "    <tr>\n",
       "      <th>49452</th>\n",
       "      <td>Other reason</td>\n",
       "      <td>Zimbabwe</td>\n",
       "      <td>France</td>\n",
       "      <td>2023</td>\n",
       "      <td>5.0</td>\n",
       "    </tr>\n",
       "    <tr>\n",
       "      <th>49491</th>\n",
       "      <td>Other reason</td>\n",
       "      <td>Zimbabwe</td>\n",
       "      <td>Norway</td>\n",
       "      <td>2023</td>\n",
       "      <td>5.0</td>\n",
       "    </tr>\n",
       "    <tr>\n",
       "      <th>49492</th>\n",
       "      <td>Other reason</td>\n",
       "      <td>Zimbabwe</td>\n",
       "      <td>Poland</td>\n",
       "      <td>2021</td>\n",
       "      <td>15.0</td>\n",
       "    </tr>\n",
       "    <tr>\n",
       "      <th>49493</th>\n",
       "      <td>Other reason</td>\n",
       "      <td>Zimbabwe</td>\n",
       "      <td>Poland</td>\n",
       "      <td>2022</td>\n",
       "      <td>5.0</td>\n",
       "    </tr>\n",
       "    <tr>\n",
       "      <th>49494</th>\n",
       "      <td>Other reason</td>\n",
       "      <td>Zimbabwe</td>\n",
       "      <td>Poland</td>\n",
       "      <td>2023</td>\n",
       "      <td>55.0</td>\n",
       "    </tr>\n",
       "  </tbody>\n",
       "</table>\n",
       "<p>8531 rows × 5 columns</p>\n",
       "</div>"
      ],
      "text/plain": [
       "              reason               citizen          geo  TIME_PERIOD  \\\n",
       "103    Illegal entry  United Arab Emirates  Switzerland         2022   \n",
       "104    Illegal entry  United Arab Emirates  Switzerland         2023   \n",
       "112    Illegal entry  United Arab Emirates      Germany         2022   \n",
       "113    Illegal entry  United Arab Emirates      Germany         2023   \n",
       "135    Illegal entry  United Arab Emirates      Hungary         2022   \n",
       "...              ...                   ...          ...          ...   \n",
       "49452   Other reason              Zimbabwe       France         2023   \n",
       "49491   Other reason              Zimbabwe       Norway         2023   \n",
       "49492   Other reason              Zimbabwe       Poland         2021   \n",
       "49493   Other reason              Zimbabwe       Poland         2022   \n",
       "49494   Other reason              Zimbabwe       Poland         2023   \n",
       "\n",
       "       OBS_VALUE  \n",
       "103          5.0  \n",
       "104          5.0  \n",
       "112         15.0  \n",
       "113         30.0  \n",
       "135         10.0  \n",
       "...          ...  \n",
       "49452        5.0  \n",
       "49491        5.0  \n",
       "49492       15.0  \n",
       "49493        5.0  \n",
       "49494       55.0  \n",
       "\n",
       "[8531 rows x 5 columns]"
      ]
     },
     "execution_count": 47,
     "metadata": {},
     "output_type": "execute_result"
    }
   ],
   "source": [
    "df"
   ]
  },
  {
   "cell_type": "code",
   "execution_count": 48,
   "metadata": {},
   "outputs": [
    {
     "name": "stdout",
     "output_type": "stream",
     "text": [
      "Count of NaN Observations by Citizen and Geo:\n",
      "Citizen: Croatia, Geo: Austria -> Count: 3\n",
      "Citizen: Croatia, Geo: Belgium -> Count: 6\n",
      "Citizen: Croatia, Geo: Bulgaria -> Count: 6\n",
      "Citizen: Croatia, Geo: Croatia -> Count: 6\n",
      "Citizen: Croatia, Geo: Cyprus -> Count: 6\n",
      "Citizen: Croatia, Geo: Czechia -> Count: 6\n",
      "Citizen: Croatia, Geo: Denmark -> Count: 3\n",
      "Citizen: Croatia, Geo: Estonia -> Count: 6\n",
      "Citizen: Croatia, Geo: Finland -> Count: 6\n",
      "Citizen: Croatia, Geo: Germany -> Count: 6\n",
      "Citizen: Croatia, Geo: Greece -> Count: 6\n",
      "Citizen: Croatia, Geo: Hungary -> Count: 6\n",
      "Citizen: Croatia, Geo: Iceland -> Count: 3\n",
      "Citizen: Croatia, Geo: Ireland -> Count: 15\n",
      "Citizen: Croatia, Geo: Italy -> Count: 9\n",
      "Citizen: Croatia, Geo: Latvia -> Count: 6\n",
      "Citizen: Croatia, Geo: Liechtenstein -> Count: 6\n",
      "Citizen: Croatia, Geo: Lithuania -> Count: 9\n",
      "Citizen: Croatia, Geo: Luxembourg -> Count: 6\n",
      "Citizen: Croatia, Geo: Malta -> Count: 9\n",
      "Citizen: Croatia, Geo: Montenegro -> Count: 6\n",
      "Citizen: Croatia, Geo: Netherlands -> Count: 9\n",
      "Citizen: Croatia, Geo: Norway -> Count: 6\n",
      "Citizen: Croatia, Geo: Poland -> Count: 6\n",
      "Citizen: Croatia, Geo: Portugal -> Count: 3\n",
      "Citizen: Croatia, Geo: Romania -> Count: 6\n",
      "Citizen: Croatia, Geo: Slovakia -> Count: 6\n",
      "Citizen: Croatia, Geo: Slovenia -> Count: 6\n",
      "Citizen: Croatia, Geo: Spain -> Count: 6\n",
      "Citizen: Croatia, Geo: Sweden -> Count: 6\n",
      "Citizen: Croatia, Geo: Switzerland -> Count: 12\n",
      "Citizen: United Kingdom, Geo: Ireland -> Count: 6\n",
      "Citizen: United Kingdom, Geo: Switzerland -> Count: 3\n"
     ]
    }
   ],
   "source": [
    "nan_df = df[df.isna().any(axis=1)]\n",
    "nan_df\n",
    "\n",
    "grouped = nan_df.groupby(['citizen', 'geo']).size().reset_index(name='count')\n",
    "\n",
    "table = grouped.pivot(index='citizen', columns='geo', values='count').fillna(0)\n",
    "\n",
    "print(\"Count of NaN Observations by Citizen and Geo:\")\n",
    "table\n",
    "# Iterate through the pivot table and print only non-zero counts\n",
    "for citizen, row in table.iterrows():\n",
    "    for geo, count in row.items():\n",
    "        if count != 0:\n",
    "            print(f\"Citizen: {citizen}, Geo: {geo} -> Count: {int(count)}\")\n"
   ]
  },
  {
   "cell_type": "code",
   "execution_count": 49,
   "metadata": {},
   "outputs": [],
   "source": [
    "df.to_csv(\"../../processed_data/illegally_present_third_country_nationals.csv\", index=False)"
   ]
  }
 ],
 "metadata": {
  "kernelspec": {
   "display_name": "venv",
   "language": "python",
   "name": "python3"
  },
  "language_info": {
   "codemirror_mode": {
    "name": "ipython",
    "version": 3
   },
   "file_extension": ".py",
   "mimetype": "text/x-python",
   "name": "python",
   "nbconvert_exporter": "python",
   "pygments_lexer": "ipython3",
   "version": "3.12.9"
  }
 },
 "nbformat": 4,
 "nbformat_minor": 2
}
