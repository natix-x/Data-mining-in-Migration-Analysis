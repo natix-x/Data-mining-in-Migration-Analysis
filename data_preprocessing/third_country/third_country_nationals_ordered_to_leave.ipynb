{
 "cells": [
  {
   "cell_type": "code",
   "execution_count": 40,
   "metadata": {},
   "outputs": [],
   "source": [
    "import pandas as pd"
   ]
  },
  {
   "cell_type": "markdown",
   "metadata": {},
   "source": [
    "**Third country nationals found to be illegally present - annual data (rounded)**\n",
    "\n",
    "---\n",
    "Units of measure are absolute numbers of persons."
   ]
  },
  {
   "cell_type": "code",
   "execution_count": 41,
   "metadata": {},
   "outputs": [],
   "source": [
    "df = pd.read_csv('../../data/third_country_nationals_ordered_to_leave.csv')"
   ]
  },
  {
   "cell_type": "code",
   "execution_count": 42,
   "metadata": {},
   "outputs": [
    {
     "data": {
      "text/html": [
       "<div>\n",
       "<style scoped>\n",
       "    .dataframe tbody tr th:only-of-type {\n",
       "        vertical-align: middle;\n",
       "    }\n",
       "\n",
       "    .dataframe tbody tr th {\n",
       "        vertical-align: top;\n",
       "    }\n",
       "\n",
       "    .dataframe thead th {\n",
       "        text-align: right;\n",
       "    }\n",
       "</style>\n",
       "<table border=\"1\" class=\"dataframe\">\n",
       "  <thead>\n",
       "    <tr style=\"text-align: right;\">\n",
       "      <th></th>\n",
       "      <th>DATAFLOW</th>\n",
       "      <th>LAST UPDATE</th>\n",
       "      <th>freq</th>\n",
       "      <th>citizen</th>\n",
       "      <th>c_dest</th>\n",
       "      <th>age</th>\n",
       "      <th>sex</th>\n",
       "      <th>unit</th>\n",
       "      <th>geo</th>\n",
       "      <th>TIME_PERIOD</th>\n",
       "      <th>OBS_VALUE</th>\n",
       "      <th>OBS_FLAG</th>\n",
       "      <th>CONF_STATUS</th>\n",
       "    </tr>\n",
       "  </thead>\n",
       "  <tbody>\n",
       "    <tr>\n",
       "      <th>0</th>\n",
       "      <td>ESTAT:MIGR_EIRTN(1.0)</td>\n",
       "      <td>20/09/24 23:00:00</td>\n",
       "      <td>Annual</td>\n",
       "      <td>Andorra</td>\n",
       "      <td>Third country</td>\n",
       "      <td>Total</td>\n",
       "      <td>Total</td>\n",
       "      <td>Person</td>\n",
       "      <td>Austria</td>\n",
       "      <td>2016</td>\n",
       "      <td>0.0</td>\n",
       "      <td>NaN</td>\n",
       "      <td>NaN</td>\n",
       "    </tr>\n",
       "    <tr>\n",
       "      <th>1</th>\n",
       "      <td>ESTAT:MIGR_EIRTN(1.0)</td>\n",
       "      <td>20/09/24 23:00:00</td>\n",
       "      <td>Annual</td>\n",
       "      <td>Andorra</td>\n",
       "      <td>Third country</td>\n",
       "      <td>Total</td>\n",
       "      <td>Total</td>\n",
       "      <td>Person</td>\n",
       "      <td>Austria</td>\n",
       "      <td>2017</td>\n",
       "      <td>0.0</td>\n",
       "      <td>NaN</td>\n",
       "      <td>NaN</td>\n",
       "    </tr>\n",
       "    <tr>\n",
       "      <th>2</th>\n",
       "      <td>ESTAT:MIGR_EIRTN(1.0)</td>\n",
       "      <td>20/09/24 23:00:00</td>\n",
       "      <td>Annual</td>\n",
       "      <td>Andorra</td>\n",
       "      <td>Third country</td>\n",
       "      <td>Total</td>\n",
       "      <td>Total</td>\n",
       "      <td>Person</td>\n",
       "      <td>Austria</td>\n",
       "      <td>2018</td>\n",
       "      <td>0.0</td>\n",
       "      <td>NaN</td>\n",
       "      <td>NaN</td>\n",
       "    </tr>\n",
       "    <tr>\n",
       "      <th>3</th>\n",
       "      <td>ESTAT:MIGR_EIRTN(1.0)</td>\n",
       "      <td>20/09/24 23:00:00</td>\n",
       "      <td>Annual</td>\n",
       "      <td>Andorra</td>\n",
       "      <td>Third country</td>\n",
       "      <td>Total</td>\n",
       "      <td>Total</td>\n",
       "      <td>Person</td>\n",
       "      <td>Austria</td>\n",
       "      <td>2019</td>\n",
       "      <td>0.0</td>\n",
       "      <td>NaN</td>\n",
       "      <td>NaN</td>\n",
       "    </tr>\n",
       "    <tr>\n",
       "      <th>4</th>\n",
       "      <td>ESTAT:MIGR_EIRTN(1.0)</td>\n",
       "      <td>20/09/24 23:00:00</td>\n",
       "      <td>Annual</td>\n",
       "      <td>Andorra</td>\n",
       "      <td>Third country</td>\n",
       "      <td>Total</td>\n",
       "      <td>Total</td>\n",
       "      <td>Person</td>\n",
       "      <td>Austria</td>\n",
       "      <td>2020</td>\n",
       "      <td>0.0</td>\n",
       "      <td>NaN</td>\n",
       "      <td>NaN</td>\n",
       "    </tr>\n",
       "  </tbody>\n",
       "</table>\n",
       "</div>"
      ],
      "text/plain": [
       "                DATAFLOW        LAST UPDATE    freq  citizen         c_dest  \\\n",
       "0  ESTAT:MIGR_EIRTN(1.0)  20/09/24 23:00:00  Annual  Andorra  Third country   \n",
       "1  ESTAT:MIGR_EIRTN(1.0)  20/09/24 23:00:00  Annual  Andorra  Third country   \n",
       "2  ESTAT:MIGR_EIRTN(1.0)  20/09/24 23:00:00  Annual  Andorra  Third country   \n",
       "3  ESTAT:MIGR_EIRTN(1.0)  20/09/24 23:00:00  Annual  Andorra  Third country   \n",
       "4  ESTAT:MIGR_EIRTN(1.0)  20/09/24 23:00:00  Annual  Andorra  Third country   \n",
       "\n",
       "     age    sex    unit      geo  TIME_PERIOD  OBS_VALUE OBS_FLAG  CONF_STATUS  \n",
       "0  Total  Total  Person  Austria         2016        0.0      NaN          NaN  \n",
       "1  Total  Total  Person  Austria         2017        0.0      NaN          NaN  \n",
       "2  Total  Total  Person  Austria         2018        0.0      NaN          NaN  \n",
       "3  Total  Total  Person  Austria         2019        0.0      NaN          NaN  \n",
       "4  Total  Total  Person  Austria         2020        0.0      NaN          NaN  "
      ]
     },
     "execution_count": 42,
     "metadata": {},
     "output_type": "execute_result"
    }
   ],
   "source": [
    "df.head()"
   ]
  },
  {
   "cell_type": "code",
   "execution_count": 43,
   "metadata": {},
   "outputs": [
    {
     "name": "stdout",
     "output_type": "stream",
     "text": [
      "<class 'pandas.core.frame.DataFrame'>\n",
      "RangeIndex: 49005 entries, 0 to 49004\n",
      "Data columns (total 13 columns):\n",
      " #   Column       Non-Null Count  Dtype  \n",
      "---  ------       --------------  -----  \n",
      " 0   DATAFLOW     49005 non-null  object \n",
      " 1   LAST UPDATE  49005 non-null  object \n",
      " 2   freq         49005 non-null  object \n",
      " 3   citizen      49005 non-null  object \n",
      " 4   c_dest       49005 non-null  object \n",
      " 5   age          49005 non-null  object \n",
      " 6   sex          49005 non-null  object \n",
      " 7   unit         49005 non-null  object \n",
      " 8   geo          49005 non-null  object \n",
      " 9   TIME_PERIOD  49005 non-null  int64  \n",
      " 10  OBS_VALUE    48785 non-null  float64\n",
      " 11  OBS_FLAG     485 non-null    object \n",
      " 12  CONF_STATUS  0 non-null      float64\n",
      "dtypes: float64(2), int64(1), object(10)\n",
      "memory usage: 4.9+ MB\n"
     ]
    }
   ],
   "source": [
    "df.info()"
   ]
  },
  {
   "cell_type": "code",
   "execution_count": 44,
   "metadata": {},
   "outputs": [
    {
     "data": {
      "text/plain": [
       "np.int64(0)"
      ]
     },
     "execution_count": 44,
     "metadata": {},
     "output_type": "execute_result"
    }
   ],
   "source": [
    "df.duplicated().sum()"
   ]
  },
  {
   "cell_type": "code",
   "execution_count": 45,
   "metadata": {},
   "outputs": [
    {
     "data": {
      "text/plain": [
       "DATAFLOW           0\n",
       "LAST UPDATE        0\n",
       "freq               0\n",
       "citizen            0\n",
       "c_dest             0\n",
       "age                0\n",
       "sex                0\n",
       "unit               0\n",
       "geo                0\n",
       "TIME_PERIOD        0\n",
       "OBS_VALUE        220\n",
       "OBS_FLAG       48520\n",
       "CONF_STATUS    49005\n",
       "dtype: int64"
      ]
     },
     "execution_count": 45,
     "metadata": {},
     "output_type": "execute_result"
    }
   ],
   "source": [
    "df.isnull().sum()"
   ]
  },
  {
   "cell_type": "code",
   "execution_count": 46,
   "metadata": {},
   "outputs": [],
   "source": [
    "df = df.drop(columns=[\"DATAFLOW\", \"LAST UPDATE\", \"freq\", \"OBS_FLAG\", \"CONF_STATUS\"])"
   ]
  },
  {
   "cell_type": "code",
   "execution_count": 47,
   "metadata": {},
   "outputs": [],
   "source": [
    "df = df[df['OBS_VALUE'] != 0]\n",
    "df = df[df['geo'] != 'European Union - 27 countries (from 2020)']\n",
    "df = df[df['geo'] != 'European Union - 28 countries (2013-2020)']"
   ]
  },
  {
   "cell_type": "code",
   "execution_count": 48,
   "metadata": {},
   "outputs": [
    {
     "name": "stdout",
     "output_type": "stream",
     "text": [
      "citizen: ['United Arab Emirates' 'Afghanistan' 'Antigua and Barbuda' 'Albania'\n",
      " 'Armenia' 'Angola' 'Argentina' 'Asia' 'Australia' 'Azerbaijan'\n",
      " 'Bosnia and Herzegovina' 'Barbados' 'Bangladesh' 'Burkina Faso' 'Bahrain'\n",
      " 'Burundi' 'Benin' 'Brunei Darussalam' 'Bolivia' 'Brazil' 'Bahamas'\n",
      " 'Bhutan' 'Botswana' 'Belarus' 'Belize' 'Canada'\n",
      " 'Democratic Republic of the Congo' 'Central African Republic' 'Congo'\n",
      " 'Côte d’Ivoire' 'Chile' 'Cameroon' 'China' 'Colombia' 'Costa Rica' 'Cuba'\n",
      " 'Cabo Verde' 'Djibouti' 'Dominica' 'Dominican Republic']\n",
      "... and 122 others\n",
      "c_dest: ['Third country']\n",
      "age: ['Total']\n",
      "sex: ['Total']\n",
      "unit: ['Person']\n",
      "geo: ['Austria' 'Belgium' 'Spain' 'Netherlands' 'Romania' 'Sweden'\n",
      " 'United Kingdom' 'Bulgaria' 'Switzerland' 'Cyprus' 'Germany' 'Denmark'\n",
      " 'Estonia' 'Greece' 'Finland' 'France' 'Croatia' 'Hungary' 'Italy'\n",
      " 'Lithuania' 'Luxembourg' 'Norway' 'Poland' 'Portugal' 'Slovenia'\n",
      " 'Slovakia' 'Czechia' 'Ireland' 'Liechtenstein' 'Latvia' 'Montenegro'\n",
      " 'Malta' 'Iceland']\n",
      "TIME_PERIOD: [2018 2019 2020 2021 2022 2023 2016 2015 2014 2017]\n",
      "OBS_VALUE: [  10.   20.    5.  215.  105.   95.   80.   55.   60.  600.  335.  365.\n",
      "  400.  125.  110.   15.   35.   75.  210.   45.   65.   40.  360.   25.\n",
      "  320. 3390. 1245.  685.  340.   85.   30.   70.  610. 1480.  315.  170.\n",
      "  230.  225.  130.  505.]\n",
      "... and 352 others\n"
     ]
    }
   ],
   "source": [
    "for col in df:\n",
    "    unique_vals = df[col].unique()\n",
    "    print(f\"{col}: {unique_vals[:40]}\")\n",
    "    if len(unique_vals) > 40:\n",
    "        print(f\"... and {len(unique_vals) - 40} others\")"
   ]
  },
  {
   "cell_type": "code",
   "execution_count": 49,
   "metadata": {},
   "outputs": [],
   "source": [
    "# remove all columns with only one unique value\n",
    "df = df.loc[:, df.nunique() > 1]"
   ]
  },
  {
   "cell_type": "code",
   "execution_count": 50,
   "metadata": {},
   "outputs": [
    {
     "name": "stdout",
     "output_type": "stream",
     "text": [
      "Count of NaN Observations by Citizen and Geo:\n",
      "Citizen: Asia, Geo: Netherlands -> Count: 1\n",
      "Citizen: Croatia, Geo: Austria -> Count: 3\n",
      "Citizen: Croatia, Geo: Belgium -> Count: 3\n",
      "Citizen: Croatia, Geo: Bulgaria -> Count: 3\n",
      "Citizen: Croatia, Geo: Croatia -> Count: 3\n",
      "Citizen: Croatia, Geo: Cyprus -> Count: 3\n",
      "Citizen: Croatia, Geo: Czechia -> Count: 2\n",
      "Citizen: Croatia, Geo: Denmark -> Count: 2\n",
      "Citizen: Croatia, Geo: Estonia -> Count: 3\n",
      "Citizen: Croatia, Geo: France -> Count: 1\n",
      "Citizen: Croatia, Geo: Germany -> Count: 1\n",
      "Citizen: Croatia, Geo: Greece -> Count: 3\n",
      "Citizen: Croatia, Geo: Hungary -> Count: 1\n",
      "Citizen: Croatia, Geo: Ireland -> Count: 3\n",
      "Citizen: Croatia, Geo: Italy -> Count: 1\n",
      "Citizen: Croatia, Geo: Latvia -> Count: 3\n",
      "Citizen: Croatia, Geo: Liechtenstein -> Count: 1\n",
      "Citizen: Croatia, Geo: Luxembourg -> Count: 3\n",
      "Citizen: Croatia, Geo: Malta -> Count: 3\n",
      "Citizen: Croatia, Geo: Montenegro -> Count: 1\n",
      "Citizen: Croatia, Geo: Netherlands -> Count: 3\n",
      "Citizen: Croatia, Geo: Poland -> Count: 3\n",
      "Citizen: Croatia, Geo: Slovakia -> Count: 3\n",
      "Citizen: Croatia, Geo: Slovenia -> Count: 3\n",
      "Citizen: Croatia, Geo: Spain -> Count: 2\n",
      "Citizen: Croatia, Geo: Switzerland -> Count: 3\n",
      "Citizen: United Kingdom, Geo: Austria -> Count: 5\n",
      "Citizen: United Kingdom, Geo: Belgium -> Count: 5\n",
      "Citizen: United Kingdom, Geo: Bulgaria -> Count: 5\n",
      "Citizen: United Kingdom, Geo: Croatia -> Count: 5\n",
      "Citizen: United Kingdom, Geo: Cyprus -> Count: 5\n",
      "Citizen: United Kingdom, Geo: Czechia -> Count: 5\n",
      "Citizen: United Kingdom, Geo: Denmark -> Count: 5\n",
      "Citizen: United Kingdom, Geo: Estonia -> Count: 5\n",
      "Citizen: United Kingdom, Geo: Finland -> Count: 5\n",
      "Citizen: United Kingdom, Geo: France -> Count: 5\n",
      "Citizen: United Kingdom, Geo: Germany -> Count: 5\n",
      "Citizen: United Kingdom, Geo: Greece -> Count: 5\n",
      "Citizen: United Kingdom, Geo: Hungary -> Count: 5\n",
      "Citizen: United Kingdom, Geo: Iceland -> Count: 5\n",
      "Citizen: United Kingdom, Geo: Ireland -> Count: 5\n",
      "Citizen: United Kingdom, Geo: Italy -> Count: 5\n",
      "Citizen: United Kingdom, Geo: Latvia -> Count: 5\n",
      "Citizen: United Kingdom, Geo: Liechtenstein -> Count: 5\n",
      "Citizen: United Kingdom, Geo: Lithuania -> Count: 5\n",
      "Citizen: United Kingdom, Geo: Luxembourg -> Count: 5\n",
      "Citizen: United Kingdom, Geo: Malta -> Count: 5\n",
      "Citizen: United Kingdom, Geo: Netherlands -> Count: 4\n",
      "Citizen: United Kingdom, Geo: Norway -> Count: 5\n",
      "Citizen: United Kingdom, Geo: Poland -> Count: 5\n",
      "Citizen: United Kingdom, Geo: Portugal -> Count: 5\n",
      "Citizen: United Kingdom, Geo: Romania -> Count: 5\n",
      "Citizen: United Kingdom, Geo: Slovakia -> Count: 5\n",
      "Citizen: United Kingdom, Geo: Slovenia -> Count: 5\n",
      "Citizen: United Kingdom, Geo: Spain -> Count: 5\n",
      "Citizen: United Kingdom, Geo: Sweden -> Count: 5\n",
      "Citizen: United Kingdom, Geo: Switzerland -> Count: 5\n",
      "Citizen: United Kingdom, Geo: United Kingdom -> Count: 5\n"
     ]
    }
   ],
   "source": [
    "nan_df = df[df.isna().any(axis=1)]\n",
    "nan_df\n",
    "\n",
    "grouped = nan_df.groupby(['citizen', 'geo']).size().reset_index(name='count')\n",
    "\n",
    "table = grouped.pivot(index='citizen', columns='geo', values='count').fillna(0)\n",
    "\n",
    "print(\"Count of NaN Observations by Citizen and Geo:\")\n",
    "table\n",
    "# Iterate through the pivot table and print only non-zero counts\n",
    "for citizen, row in table.iterrows():\n",
    "    for geo, count in row.items():\n",
    "        if count != 0:\n",
    "            print(f\"Citizen: {citizen}, Geo: {geo} -> Count: {int(count)}\")\n"
   ]
  },
  {
   "cell_type": "code",
   "execution_count": 51,
   "metadata": {},
   "outputs": [
    {
     "data": {
      "text/html": [
       "<div>\n",
       "<style scoped>\n",
       "    .dataframe tbody tr th:only-of-type {\n",
       "        vertical-align: middle;\n",
       "    }\n",
       "\n",
       "    .dataframe tbody tr th {\n",
       "        vertical-align: top;\n",
       "    }\n",
       "\n",
       "    .dataframe thead th {\n",
       "        text-align: right;\n",
       "    }\n",
       "</style>\n",
       "<table border=\"1\" class=\"dataframe\">\n",
       "  <thead>\n",
       "    <tr style=\"text-align: right;\">\n",
       "      <th></th>\n",
       "      <th>citizen</th>\n",
       "      <th>geo</th>\n",
       "      <th>TIME_PERIOD</th>\n",
       "      <th>OBS_VALUE</th>\n",
       "    </tr>\n",
       "  </thead>\n",
       "  <tbody>\n",
       "    <tr>\n",
       "      <th>280</th>\n",
       "      <td>United Arab Emirates</td>\n",
       "      <td>Austria</td>\n",
       "      <td>2018</td>\n",
       "      <td>10.0</td>\n",
       "    </tr>\n",
       "    <tr>\n",
       "      <th>281</th>\n",
       "      <td>United Arab Emirates</td>\n",
       "      <td>Austria</td>\n",
       "      <td>2019</td>\n",
       "      <td>20.0</td>\n",
       "    </tr>\n",
       "    <tr>\n",
       "      <th>282</th>\n",
       "      <td>United Arab Emirates</td>\n",
       "      <td>Austria</td>\n",
       "      <td>2020</td>\n",
       "      <td>5.0</td>\n",
       "    </tr>\n",
       "    <tr>\n",
       "      <th>283</th>\n",
       "      <td>United Arab Emirates</td>\n",
       "      <td>Austria</td>\n",
       "      <td>2021</td>\n",
       "      <td>5.0</td>\n",
       "    </tr>\n",
       "    <tr>\n",
       "      <th>284</th>\n",
       "      <td>United Arab Emirates</td>\n",
       "      <td>Austria</td>\n",
       "      <td>2022</td>\n",
       "      <td>20.0</td>\n",
       "    </tr>\n",
       "    <tr>\n",
       "      <th>...</th>\n",
       "      <td>...</td>\n",
       "      <td>...</td>\n",
       "      <td>...</td>\n",
       "      <td>...</td>\n",
       "    </tr>\n",
       "    <tr>\n",
       "      <th>49000</th>\n",
       "      <td>Zimbabwe</td>\n",
       "      <td>United Kingdom</td>\n",
       "      <td>2015</td>\n",
       "      <td>210.0</td>\n",
       "    </tr>\n",
       "    <tr>\n",
       "      <th>49001</th>\n",
       "      <td>Zimbabwe</td>\n",
       "      <td>United Kingdom</td>\n",
       "      <td>2016</td>\n",
       "      <td>175.0</td>\n",
       "    </tr>\n",
       "    <tr>\n",
       "      <th>49002</th>\n",
       "      <td>Zimbabwe</td>\n",
       "      <td>United Kingdom</td>\n",
       "      <td>2017</td>\n",
       "      <td>115.0</td>\n",
       "    </tr>\n",
       "    <tr>\n",
       "      <th>49003</th>\n",
       "      <td>Zimbabwe</td>\n",
       "      <td>United Kingdom</td>\n",
       "      <td>2018</td>\n",
       "      <td>120.0</td>\n",
       "    </tr>\n",
       "    <tr>\n",
       "      <th>49004</th>\n",
       "      <td>Zimbabwe</td>\n",
       "      <td>United Kingdom</td>\n",
       "      <td>2019</td>\n",
       "      <td>110.0</td>\n",
       "    </tr>\n",
       "  </tbody>\n",
       "</table>\n",
       "<p>12892 rows × 4 columns</p>\n",
       "</div>"
      ],
      "text/plain": [
       "                    citizen             geo  TIME_PERIOD  OBS_VALUE\n",
       "280    United Arab Emirates         Austria         2018       10.0\n",
       "281    United Arab Emirates         Austria         2019       20.0\n",
       "282    United Arab Emirates         Austria         2020        5.0\n",
       "283    United Arab Emirates         Austria         2021        5.0\n",
       "284    United Arab Emirates         Austria         2022       20.0\n",
       "...                     ...             ...          ...        ...\n",
       "49000              Zimbabwe  United Kingdom         2015      210.0\n",
       "49001              Zimbabwe  United Kingdom         2016      175.0\n",
       "49002              Zimbabwe  United Kingdom         2017      115.0\n",
       "49003              Zimbabwe  United Kingdom         2018      120.0\n",
       "49004              Zimbabwe  United Kingdom         2019      110.0\n",
       "\n",
       "[12892 rows x 4 columns]"
      ]
     },
     "execution_count": 51,
     "metadata": {},
     "output_type": "execute_result"
    }
   ],
   "source": [
    "df"
   ]
  },
  {
   "cell_type": "code",
   "execution_count": 52,
   "metadata": {},
   "outputs": [],
   "source": [
    "df.to_csv(\"../../processed_data/illegally_present_third_country_nationals.csv\", index=False)"
   ]
  }
 ],
 "metadata": {
  "kernelspec": {
   "display_name": "venv",
   "language": "python",
   "name": "python3"
  },
  "language_info": {
   "codemirror_mode": {
    "name": "ipython",
    "version": 3
   },
   "file_extension": ".py",
   "mimetype": "text/x-python",
   "name": "python",
   "nbconvert_exporter": "python",
   "pygments_lexer": "ipython3",
   "version": "3.12.9"
  }
 },
 "nbformat": 4,
 "nbformat_minor": 2
}
