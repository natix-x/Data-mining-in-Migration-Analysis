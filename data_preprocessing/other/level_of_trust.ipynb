{
 "cells": [
  {
   "cell_type": "code",
   "execution_count": 125,
   "id": "initial_id",
   "metadata": {
    "ExecuteTime": {
     "end_time": "2025-03-26T21:34:11.560643700Z",
     "start_time": "2025-03-26T21:34:11.546196900Z"
    },
    "collapsed": true
   },
   "outputs": [],
   "source": [
    "import pandas as pd"
   ]
  },
  {
   "cell_type": "markdown",
   "id": "4eef2139c0484eec",
   "metadata": {
    "collapsed": false
   },
   "source": [
    "**Level of trust**\n",
    "\n",
    "---\n",
    "\n",
    "Average of level of trust by sex, age, educational attainment and domain\n",
    "https://ec.europa.eu/eurostat/databrowser/view/ilc_pw03b$dv_2763/default/table?lang=en&category=qol.qol_gov.qol_gov_ins"
   ]
  },
  {
   "cell_type": "code",
   "execution_count": 126,
   "id": "e62d7877612d9f57",
   "metadata": {
    "ExecuteTime": {
     "end_time": "2025-03-26T21:34:11.827874700Z",
     "start_time": "2025-03-26T21:34:11.732324900Z"
    },
    "collapsed": false
   },
   "outputs": [],
   "source": [
    "df = pd.read_csv('../../data/level_of_trust.csv')"
   ]
  },
  {
   "cell_type": "code",
   "execution_count": 127,
   "id": "3aac93c3c90129e0",
   "metadata": {
    "ExecuteTime": {
     "end_time": "2025-03-26T21:34:11.993588200Z",
     "start_time": "2025-03-26T21:34:11.942019700Z"
    },
    "collapsed": false
   },
   "outputs": [
    {
     "data": {
      "text/html": [
       "<div>\n",
       "<style scoped>\n",
       "    .dataframe tbody tr th:only-of-type {\n",
       "        vertical-align: middle;\n",
       "    }\n",
       "\n",
       "    .dataframe tbody tr th {\n",
       "        vertical-align: top;\n",
       "    }\n",
       "\n",
       "    .dataframe thead th {\n",
       "        text-align: right;\n",
       "    }\n",
       "</style>\n",
       "<table border=\"1\" class=\"dataframe\">\n",
       "  <thead>\n",
       "    <tr style=\"text-align: right;\">\n",
       "      <th></th>\n",
       "      <th>DATAFLOW</th>\n",
       "      <th>LAST UPDATE</th>\n",
       "      <th>freq</th>\n",
       "      <th>domain</th>\n",
       "      <th>statinfo</th>\n",
       "      <th>isced11</th>\n",
       "      <th>sex</th>\n",
       "      <th>age</th>\n",
       "      <th>unit</th>\n",
       "      <th>geo</th>\n",
       "      <th>TIME_PERIOD</th>\n",
       "      <th>OBS_VALUE</th>\n",
       "      <th>OBS_FLAG</th>\n",
       "      <th>CONF_STATUS</th>\n",
       "    </tr>\n",
       "  </thead>\n",
       "  <tbody>\n",
       "    <tr>\n",
       "      <th>0</th>\n",
       "      <td>ESTAT:ILC_PW03B$DV_2763(1.0)</td>\n",
       "      <td>22/08/24 23:00:00</td>\n",
       "      <td>Annual</td>\n",
       "      <td>Legal system</td>\n",
       "      <td>Average</td>\n",
       "      <td>Less than primary, primary and lower secondary...</td>\n",
       "      <td>Total</td>\n",
       "      <td>16 years or over</td>\n",
       "      <td>Rating (0-10)</td>\n",
       "      <td>Austria</td>\n",
       "      <td>2013</td>\n",
       "      <td>5.7</td>\n",
       "      <td>NaN</td>\n",
       "      <td>NaN</td>\n",
       "    </tr>\n",
       "    <tr>\n",
       "      <th>1</th>\n",
       "      <td>ESTAT:ILC_PW03B$DV_2763(1.0)</td>\n",
       "      <td>22/08/24 23:00:00</td>\n",
       "      <td>Annual</td>\n",
       "      <td>Legal system</td>\n",
       "      <td>Average</td>\n",
       "      <td>Less than primary, primary and lower secondary...</td>\n",
       "      <td>Total</td>\n",
       "      <td>16 years or over</td>\n",
       "      <td>Rating (0-10)</td>\n",
       "      <td>Belgium</td>\n",
       "      <td>2013</td>\n",
       "      <td>4.7</td>\n",
       "      <td>NaN</td>\n",
       "      <td>NaN</td>\n",
       "    </tr>\n",
       "    <tr>\n",
       "      <th>2</th>\n",
       "      <td>ESTAT:ILC_PW03B$DV_2763(1.0)</td>\n",
       "      <td>22/08/24 23:00:00</td>\n",
       "      <td>Annual</td>\n",
       "      <td>Legal system</td>\n",
       "      <td>Average</td>\n",
       "      <td>Less than primary, primary and lower secondary...</td>\n",
       "      <td>Total</td>\n",
       "      <td>16 years or over</td>\n",
       "      <td>Rating (0-10)</td>\n",
       "      <td>Bulgaria</td>\n",
       "      <td>2013</td>\n",
       "      <td>2.8</td>\n",
       "      <td>NaN</td>\n",
       "      <td>NaN</td>\n",
       "    </tr>\n",
       "    <tr>\n",
       "      <th>3</th>\n",
       "      <td>ESTAT:ILC_PW03B$DV_2763(1.0)</td>\n",
       "      <td>22/08/24 23:00:00</td>\n",
       "      <td>Annual</td>\n",
       "      <td>Legal system</td>\n",
       "      <td>Average</td>\n",
       "      <td>Less than primary, primary and lower secondary...</td>\n",
       "      <td>Total</td>\n",
       "      <td>16 years or over</td>\n",
       "      <td>Rating (0-10)</td>\n",
       "      <td>Switzerland</td>\n",
       "      <td>2013</td>\n",
       "      <td>6.8</td>\n",
       "      <td>NaN</td>\n",
       "      <td>NaN</td>\n",
       "    </tr>\n",
       "    <tr>\n",
       "      <th>4</th>\n",
       "      <td>ESTAT:ILC_PW03B$DV_2763(1.0)</td>\n",
       "      <td>22/08/24 23:00:00</td>\n",
       "      <td>Annual</td>\n",
       "      <td>Legal system</td>\n",
       "      <td>Average</td>\n",
       "      <td>Less than primary, primary and lower secondary...</td>\n",
       "      <td>Total</td>\n",
       "      <td>16 years or over</td>\n",
       "      <td>Rating (0-10)</td>\n",
       "      <td>Cyprus</td>\n",
       "      <td>2013</td>\n",
       "      <td>3.5</td>\n",
       "      <td>NaN</td>\n",
       "      <td>NaN</td>\n",
       "    </tr>\n",
       "  </tbody>\n",
       "</table>\n",
       "</div>"
      ],
      "text/plain": [
       "                       DATAFLOW        LAST UPDATE    freq        domain  \\\n",
       "0  ESTAT:ILC_PW03B$DV_2763(1.0)  22/08/24 23:00:00  Annual  Legal system   \n",
       "1  ESTAT:ILC_PW03B$DV_2763(1.0)  22/08/24 23:00:00  Annual  Legal system   \n",
       "2  ESTAT:ILC_PW03B$DV_2763(1.0)  22/08/24 23:00:00  Annual  Legal system   \n",
       "3  ESTAT:ILC_PW03B$DV_2763(1.0)  22/08/24 23:00:00  Annual  Legal system   \n",
       "4  ESTAT:ILC_PW03B$DV_2763(1.0)  22/08/24 23:00:00  Annual  Legal system   \n",
       "\n",
       "  statinfo                                            isced11    sex  \\\n",
       "0  Average  Less than primary, primary and lower secondary...  Total   \n",
       "1  Average  Less than primary, primary and lower secondary...  Total   \n",
       "2  Average  Less than primary, primary and lower secondary...  Total   \n",
       "3  Average  Less than primary, primary and lower secondary...  Total   \n",
       "4  Average  Less than primary, primary and lower secondary...  Total   \n",
       "\n",
       "                age           unit          geo  TIME_PERIOD  OBS_VALUE  \\\n",
       "0  16 years or over  Rating (0-10)      Austria         2013        5.7   \n",
       "1  16 years or over  Rating (0-10)      Belgium         2013        4.7   \n",
       "2  16 years or over  Rating (0-10)     Bulgaria         2013        2.8   \n",
       "3  16 years or over  Rating (0-10)  Switzerland         2013        6.8   \n",
       "4  16 years or over  Rating (0-10)       Cyprus         2013        3.5   \n",
       "\n",
       "   OBS_FLAG  CONF_STATUS  \n",
       "0       NaN          NaN  \n",
       "1       NaN          NaN  \n",
       "2       NaN          NaN  \n",
       "3       NaN          NaN  \n",
       "4       NaN          NaN  "
      ]
     },
     "execution_count": 127,
     "metadata": {},
     "output_type": "execute_result"
    }
   ],
   "source": [
    "df.head()"
   ]
  },
  {
   "cell_type": "code",
   "execution_count": 128,
   "id": "577dea46a717bc74",
   "metadata": {
    "ExecuteTime": {
     "end_time": "2025-03-26T21:34:12.301617800Z",
     "start_time": "2025-03-26T21:34:12.231615300Z"
    },
    "collapsed": false
   },
   "outputs": [
    {
     "name": "stdout",
     "output_type": "stream",
     "text": [
      "<class 'pandas.core.frame.DataFrame'>\n",
      "RangeIndex: 428 entries, 0 to 427\n",
      "Data columns (total 14 columns):\n",
      " #   Column       Non-Null Count  Dtype  \n",
      "---  ------       --------------  -----  \n",
      " 0   DATAFLOW     428 non-null    object \n",
      " 1   LAST UPDATE  428 non-null    object \n",
      " 2   freq         428 non-null    object \n",
      " 3   domain       428 non-null    object \n",
      " 4   statinfo     428 non-null    object \n",
      " 5   isced11      428 non-null    object \n",
      " 6   sex          428 non-null    object \n",
      " 7   age          428 non-null    object \n",
      " 8   unit         428 non-null    object \n",
      " 9   geo          428 non-null    object \n",
      " 10  TIME_PERIOD  428 non-null    int64  \n",
      " 11  OBS_VALUE    428 non-null    float64\n",
      " 12  OBS_FLAG     0 non-null      float64\n",
      " 13  CONF_STATUS  0 non-null      float64\n",
      "dtypes: float64(3), int64(1), object(10)\n",
      "memory usage: 46.9+ KB\n"
     ]
    }
   ],
   "source": [
    "df.info()"
   ]
  },
  {
   "cell_type": "code",
   "execution_count": 129,
   "id": "6d6594ee412294fa",
   "metadata": {
    "ExecuteTime": {
     "end_time": "2025-03-26T21:34:12.452889100Z",
     "start_time": "2025-03-26T21:34:12.357186800Z"
    },
    "collapsed": false
   },
   "outputs": [],
   "source": [
    "columns_to_drop = [\"DATAFLOW\", \"LAST UPDATE\", \"OBS_FLAG\", \"CONF_STATUS\"]\n",
    "df = df.drop(columns=[col for col in columns_to_drop if col in df.columns])"
   ]
  },
  {
   "cell_type": "code",
   "execution_count": 130,
   "id": "84fc6ff5e3a465ba",
   "metadata": {
    "ExecuteTime": {
     "end_time": "2025-03-26T21:34:12.570084100Z",
     "start_time": "2025-03-26T21:34:12.511849500Z"
    },
    "collapsed": false
   },
   "outputs": [],
   "source": [
    "df = df.dropna()"
   ]
  },
  {
   "cell_type": "code",
   "execution_count": 131,
   "id": "80845879c13c05b0",
   "metadata": {
    "ExecuteTime": {
     "end_time": "2025-03-26T21:34:13.001118900Z",
     "start_time": "2025-03-26T21:34:12.980452400Z"
    },
    "collapsed": false
   },
   "outputs": [
    {
     "name": "stdout",
     "output_type": "stream",
     "text": [
      "Uniques values in freq: ['Annual']\n",
      "Uniques values in domain: ['Legal system' 'Police' 'Political system']\n",
      "Uniques values in statinfo: ['Average']\n",
      "Uniques values in isced11: ['Less than primary, primary and lower secondary education (levels 0-2)'\n",
      " 'Upper secondary and post-secondary non-tertiary education (levels 3 and 4)'\n",
      " \"Short-cycle tertiary education and Bachelor's or equivalent level (levels 5 and 6)\"\n",
      " 'All ISCED 2011 levels']\n",
      "Uniques values in sex: ['Total']\n",
      "Uniques values in age: ['16 years or over']\n",
      "Uniques values in unit: ['Rating (0-10)']\n",
      "Uniques values in geo: ['Austria' 'Belgium' 'Bulgaria' 'Switzerland' 'Cyprus' 'Czechia' 'Germany'\n",
      " 'Denmark' 'Estonia' 'Greece' 'Spain'\n",
      " 'European Union - 27 countries (from 2020)' 'Finland' 'France' 'Croatia'\n",
      " 'Hungary' 'Ireland' 'Iceland' 'Italy' 'Lithuania' 'Luxembourg' 'Latvia'\n",
      " 'Montenegro' 'North Macedonia' 'Malta' 'Netherlands' 'Norway' 'Poland'\n",
      " 'Portugal' 'Romania' 'Serbia' 'Sweden' 'Slovenia' 'Slovakia' 'Türkiye'\n",
      " 'United Kingdom']\n",
      "Uniques values in TIME_PERIOD: [2013]\n",
      "Uniques values in OBS_VALUE: [5.7 4.7 2.8 6.8 3.5 3.6 4.9 7.  4.2 4.  6.9 4.1 3.1 4.8 5.2 3.4 4.4 4.5\n",
      " 5.6 6.6 2.4 5.5 5.9 2.9 3.7 5.1 7.5 5.  3.2 4.6 6.1 5.8 6.5 2.6 7.3 7.9\n",
      " 7.6 3.8 6.2 4.3 3.3 3.  6.  5.3 7.2 6.7 2.7 5.4 7.1 7.7 8.  6.3 6.4 7.4\n",
      " 8.1 7.8 8.4 8.2 1.9 1.8 1.5 1.6 2.5 2.  2.2 1.7 2.1 3.9 2.3]\n"
     ]
    }
   ],
   "source": [
    "for col in df.columns:\n",
    "    print(f\"Uniques values in {col}: {df[col].unique()}\")"
   ]
  },
  {
   "cell_type": "code",
   "execution_count": 132,
   "id": "466caedc9ba5e5e4",
   "metadata": {
    "ExecuteTime": {
     "end_time": "2025-03-26T21:34:13.442789200Z",
     "start_time": "2025-03-26T21:34:13.424931300Z"
    },
    "collapsed": false
   },
   "outputs": [],
   "source": [
    "df = df[df[\"geo\"] != 'European Union - 27 countries (from 2020)']\n",
    "\n",
    "columns_to_drop = [\"freq\", \"indic_de\", \"statinfo\", \"age\", \"unit\", 'isced11']\n",
    "df = df.drop(columns=[col for col in columns_to_drop if col in df.columns])"
   ]
  },
  {
   "cell_type": "code",
   "execution_count": 133,
   "id": "f5cd5fe0f9dff462",
   "metadata": {
    "ExecuteTime": {
     "end_time": "2025-03-26T21:34:13.584270Z",
     "start_time": "2025-03-26T21:34:13.575390500Z"
    },
    "collapsed": false
   },
   "outputs": [],
   "source": [
    "df[\"OBS_VALUE\"] = df[\"OBS_VALUE\"] * 10\n",
    "df = df.rename(columns={\"OBS_VALUE\": \"Level of trust in %\", \"TIME_PERIOD\": \"Time period\"})"
   ]
  },
  {
   "cell_type": "code",
   "execution_count": 134,
   "id": "a2bdb21270c90dea",
   "metadata": {
    "ExecuteTime": {
     "end_time": "2025-03-26T21:34:14.841410500Z",
     "start_time": "2025-03-26T21:34:14.791310900Z"
    },
    "collapsed": false
   },
   "outputs": [],
   "source": [
    "df.to_csv(\"../../processed_data/level_of_trust.csv\", index=False)"
   ]
  }
 ],
 "metadata": {
  "kernelspec": {
   "display_name": "venv",
   "language": "python",
   "name": "python3"
  },
  "language_info": {
   "codemirror_mode": {
    "name": "ipython",
    "version": 3
   },
   "file_extension": ".py",
   "mimetype": "text/x-python",
   "name": "python",
   "nbconvert_exporter": "python",
   "pygments_lexer": "ipython3",
   "version": "3.13.0"
  }
 },
 "nbformat": 4,
 "nbformat_minor": 5
}
