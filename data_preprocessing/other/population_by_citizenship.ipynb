{
 "cells": [
  {
   "cell_type": "code",
   "execution_count": 1,
   "id": "initial_id",
   "metadata": {
    "collapsed": true,
    "ExecuteTime": {
     "end_time": "2025-03-31T11:50:39.450696200Z",
     "start_time": "2025-03-31T11:50:37.943409800Z"
    }
   },
   "outputs": [],
   "source": [
    "import pandas as pd"
   ]
  },
  {
   "cell_type": "markdown",
   "source": [
    "**Population on 1 January by age group, sex and citizenship**\n",
    "\n",
    "---"
   ],
   "metadata": {
    "collapsed": false
   },
   "id": "1e8b4b89dcc54218"
  },
  {
   "cell_type": "code",
   "execution_count": 2,
   "outputs": [],
   "source": [
    "df = pd.read_csv('../../data/population_by_citizenship_migr_pop1ctz.csv')"
   ],
   "metadata": {
    "collapsed": false,
    "ExecuteTime": {
     "end_time": "2025-03-31T11:50:39.890868Z",
     "start_time": "2025-03-31T11:50:39.456740900Z"
    }
   },
   "id": "b8d36265edcd8bd9"
  },
  {
   "cell_type": "code",
   "execution_count": 3,
   "outputs": [
    {
     "data": {
      "text/plain": "                  DATAFLOW        LAST UPDATE    freq  citizen    age    unit  \\\n0  ESTAT:MIGR_POP1CTZ(1.0)  13/03/25 23:00:00  Annual  Andorra  Total  Number   \n1  ESTAT:MIGR_POP1CTZ(1.0)  13/03/25 23:00:00  Annual  Andorra  Total  Number   \n2  ESTAT:MIGR_POP1CTZ(1.0)  13/03/25 23:00:00  Annual  Andorra  Total  Number   \n3  ESTAT:MIGR_POP1CTZ(1.0)  13/03/25 23:00:00  Annual  Andorra  Total  Number   \n4  ESTAT:MIGR_POP1CTZ(1.0)  13/03/25 23:00:00  Annual  Andorra  Total  Number   \n\n       sex      geo  TIME_PERIOD  OBS_VALUE OBS_FLAG  CONF_STATUS  \n0  Females  Austria         2015          2      NaN          NaN  \n1  Females  Austria         2016          1      NaN          NaN  \n2  Females  Austria         2017          1      NaN          NaN  \n3  Females  Austria         2018          2      NaN          NaN  \n4  Females  Austria         2019          2      NaN          NaN  ",
      "text/html": "<div>\n<style scoped>\n    .dataframe tbody tr th:only-of-type {\n        vertical-align: middle;\n    }\n\n    .dataframe tbody tr th {\n        vertical-align: top;\n    }\n\n    .dataframe thead th {\n        text-align: right;\n    }\n</style>\n<table border=\"1\" class=\"dataframe\">\n  <thead>\n    <tr style=\"text-align: right;\">\n      <th></th>\n      <th>DATAFLOW</th>\n      <th>LAST UPDATE</th>\n      <th>freq</th>\n      <th>citizen</th>\n      <th>age</th>\n      <th>unit</th>\n      <th>sex</th>\n      <th>geo</th>\n      <th>TIME_PERIOD</th>\n      <th>OBS_VALUE</th>\n      <th>OBS_FLAG</th>\n      <th>CONF_STATUS</th>\n    </tr>\n  </thead>\n  <tbody>\n    <tr>\n      <th>0</th>\n      <td>ESTAT:MIGR_POP1CTZ(1.0)</td>\n      <td>13/03/25 23:00:00</td>\n      <td>Annual</td>\n      <td>Andorra</td>\n      <td>Total</td>\n      <td>Number</td>\n      <td>Females</td>\n      <td>Austria</td>\n      <td>2015</td>\n      <td>2</td>\n      <td>NaN</td>\n      <td>NaN</td>\n    </tr>\n    <tr>\n      <th>1</th>\n      <td>ESTAT:MIGR_POP1CTZ(1.0)</td>\n      <td>13/03/25 23:00:00</td>\n      <td>Annual</td>\n      <td>Andorra</td>\n      <td>Total</td>\n      <td>Number</td>\n      <td>Females</td>\n      <td>Austria</td>\n      <td>2016</td>\n      <td>1</td>\n      <td>NaN</td>\n      <td>NaN</td>\n    </tr>\n    <tr>\n      <th>2</th>\n      <td>ESTAT:MIGR_POP1CTZ(1.0)</td>\n      <td>13/03/25 23:00:00</td>\n      <td>Annual</td>\n      <td>Andorra</td>\n      <td>Total</td>\n      <td>Number</td>\n      <td>Females</td>\n      <td>Austria</td>\n      <td>2017</td>\n      <td>1</td>\n      <td>NaN</td>\n      <td>NaN</td>\n    </tr>\n    <tr>\n      <th>3</th>\n      <td>ESTAT:MIGR_POP1CTZ(1.0)</td>\n      <td>13/03/25 23:00:00</td>\n      <td>Annual</td>\n      <td>Andorra</td>\n      <td>Total</td>\n      <td>Number</td>\n      <td>Females</td>\n      <td>Austria</td>\n      <td>2018</td>\n      <td>2</td>\n      <td>NaN</td>\n      <td>NaN</td>\n    </tr>\n    <tr>\n      <th>4</th>\n      <td>ESTAT:MIGR_POP1CTZ(1.0)</td>\n      <td>13/03/25 23:00:00</td>\n      <td>Annual</td>\n      <td>Andorra</td>\n      <td>Total</td>\n      <td>Number</td>\n      <td>Females</td>\n      <td>Austria</td>\n      <td>2019</td>\n      <td>2</td>\n      <td>NaN</td>\n      <td>NaN</td>\n    </tr>\n  </tbody>\n</table>\n</div>"
     },
     "execution_count": 3,
     "metadata": {},
     "output_type": "execute_result"
    }
   ],
   "source": [
    "df.head()"
   ],
   "metadata": {
    "collapsed": false,
    "ExecuteTime": {
     "end_time": "2025-03-31T11:50:39.924195500Z",
     "start_time": "2025-03-31T11:50:39.865904200Z"
    }
   },
   "id": "5ecc83f7691a9598"
  },
  {
   "cell_type": "code",
   "execution_count": 4,
   "outputs": [
    {
     "name": "stdout",
     "output_type": "stream",
     "text": [
      "<class 'pandas.core.frame.DataFrame'>\n",
      "RangeIndex: 170568 entries, 0 to 170567\n",
      "Data columns (total 12 columns):\n",
      " #   Column       Non-Null Count   Dtype  \n",
      "---  ------       --------------   -----  \n",
      " 0   DATAFLOW     170568 non-null  object \n",
      " 1   LAST UPDATE  170568 non-null  object \n",
      " 2   freq         170568 non-null  object \n",
      " 3   citizen      170568 non-null  object \n",
      " 4   age          170568 non-null  object \n",
      " 5   unit         170568 non-null  object \n",
      " 6   sex          170568 non-null  object \n",
      " 7   geo          170568 non-null  object \n",
      " 8   TIME_PERIOD  170568 non-null  int64  \n",
      " 9   OBS_VALUE    170568 non-null  int64  \n",
      " 10  OBS_FLAG     7304 non-null    object \n",
      " 11  CONF_STATUS  0 non-null       float64\n",
      "dtypes: float64(1), int64(2), object(9)\n",
      "memory usage: 15.6+ MB\n"
     ]
    }
   ],
   "source": [
    "df.info()"
   ],
   "metadata": {
    "collapsed": false,
    "ExecuteTime": {
     "end_time": "2025-03-31T11:50:40.060080300Z",
     "start_time": "2025-03-31T11:50:39.912988700Z"
    }
   },
   "id": "841a14ebbbdcf5c5"
  },
  {
   "cell_type": "code",
   "execution_count": 5,
   "outputs": [],
   "source": [
    "df = df.drop(columns=[\"DATAFLOW\", \"LAST UPDATE\", \"OBS_FLAG\", \"CONF_STATUS\"])"
   ],
   "metadata": {
    "collapsed": false,
    "ExecuteTime": {
     "end_time": "2025-03-31T11:50:40.077539200Z",
     "start_time": "2025-03-31T11:50:40.033922900Z"
    }
   },
   "id": "c2a55ba379944e28"
  },
  {
   "cell_type": "code",
   "execution_count": 6,
   "outputs": [
    {
     "name": "stdout",
     "output_type": "stream",
     "text": [
      "Uniques values in freq: ['Annual']\n",
      "Uniques values in citizen: ['Andorra' 'United Arab Emirates' 'Afghanistan' 'Africa' 'Central Africa'\n",
      " 'Eastern Africa' 'Northern Africa' 'Southern Africa' 'Western Africa'\n",
      " 'Antigua and Barbuda' 'Anguilla' 'Albania' 'Armenia' 'America'\n",
      " 'Central America' 'Northern America' 'South America'\n",
      " 'Netherlands Antilles' 'Angola' 'Argentina' 'Asia' 'Central Asia'\n",
      " 'Eastern Asia' 'Southern Asia' 'South-Eastern Asia' 'Western Asia'\n",
      " 'Austria' 'Australia' 'Australia and New Zealand' 'Aruba' 'Azerbaijan'\n",
      " 'Bosnia and Herzegovina' 'Barbados' 'Bangladesh' 'Belgium' 'Burkina Faso'\n",
      " 'Bulgaria' 'Bahrain' 'Burundi' 'Benin' 'Saint Barthélemy' 'Bermuda'\n",
      " 'Brunei Darussalam' 'Bolivia' 'Bonaire, Saint Eustatius and Saba'\n",
      " 'Brazil' 'Bahamas' 'Bhutan' 'Botswana' 'Belarus' 'Belize' 'Canada'\n",
      " 'Candidate countries from 2022 (8 countries) except reporting country'\n",
      " 'Candidate countries from 2023 (9 countries) except reporting country'\n",
      " 'Democratic Republic of the Congo' 'Central African Republic' 'Congo'\n",
      " 'Switzerland' 'Côte d’Ivoire' 'Chile' 'Cameroon' 'China' 'Colombia'\n",
      " 'Costa Rica' 'Caribbean' 'Cuba' 'Cabo Verde' 'Curaçao' 'Cyprus' 'Czechia'\n",
      " 'Czechoslovakia' 'Germany' 'Djibouti' 'Denmark' 'Dominica'\n",
      " 'Dominican Republic' 'Algeria' 'Ecuador' 'Estonia'\n",
      " 'European Free Trade Association'\n",
      " 'European Free Trade Association except reporting country' 'Egypt'\n",
      " 'Western Sahara' 'Greece' 'Eritrea' 'Spain' 'Ethiopia'\n",
      " 'EU27 countries (from 2020) except reporting country'\n",
      " 'European Union - 28 countries (2013-2020)'\n",
      " 'EU28 countries (2013-2020) except reporting country' 'Europe'\n",
      " 'Soviet Union' 'Yugoslavia' 'Finland' 'Fiji' 'Falkland Islands'\n",
      " 'Federated States of Micronesia' 'Faroes' 'Foreign country and stateless'\n",
      " 'France' 'Gabon' 'Grenada' 'Georgia' 'Guernsey' 'Ghana' 'Gibraltar'\n",
      " 'Greenland' 'Gambia, The' 'Guinea' 'Equatorial Guinea' 'Guatemala'\n",
      " 'Guinea-Bissau' 'Guyana' 'Honduras' 'Croatia' 'Haiti' 'Hungary'\n",
      " 'Indonesia' 'Ireland' 'Israel' 'Isle of Man' 'India' 'Iraq' 'Iran'\n",
      " 'Iceland' 'Italy' 'Jersey' 'Jamaica' 'Jordan' 'Japan' 'Kenya'\n",
      " 'Kyrgyzstan' 'Cambodia' 'Kiribati' 'Comoros' 'Saint Kitts and Nevis'\n",
      " 'North Korea' 'South Korea' 'Kuwait' 'Cayman Islands' 'Kazakhstan' 'Laos'\n",
      " 'Lebanon' 'Saint Lucia' 'Liechtenstein' 'Sri Lanka' 'Liberia' 'Lesotho'\n",
      " 'Lithuania' 'Luxembourg' 'Latvia' 'Libya' 'Morocco' 'Monaco' 'Moldova'\n",
      " 'Montenegro' 'Melanesia' 'Madagascar' 'Marshall Islands' 'Micronesia'\n",
      " 'North Macedonia' 'Mali' 'Myanmar/Burma' 'Mongolia' 'Mauritania'\n",
      " 'Montserrat' 'Malta' 'Mauritius' 'Maldives' 'Malawi' 'Mexico' 'Malaysia'\n",
      " 'Mozambique' 'Namibia' 'Reporting country' 'New Caledonia' 'Niger'\n",
      " 'Non-EU27 countries (from 2020) nor reporting country'\n",
      " 'Non-EU28 countries (2013-2020) nor reporting country' 'Nigeria'\n",
      " 'Nicaragua' 'Netherlands' 'Norway' 'Nepal' 'Nauru' 'New Zealand'\n",
      " 'Oceania' 'Oman' 'Others' 'Panama' 'Peru' 'French Polynesia'\n",
      " 'Papua New Guinea' 'Philippines' 'Pakistan' 'Poland'\n",
      " 'Saint Pierre and Miquelon' 'Pitcairn Islands' 'Polynesia' 'Palestine*'\n",
      " 'Portugal' 'Palau' 'Paraguay' 'Qatar' 'Recognised non-citizens' 'Romania'\n",
      " 'Serbia' 'Serbia and Montenegro' 'Russia' 'Rwanda' 'Saudi Arabia'\n",
      " 'Solomon Islands' 'Seychelles' 'Sudan' 'Sweden' 'Singapore'\n",
      " 'Saint Helena, Ascension and Tristan da Cunha' 'Slovenia' 'Slovakia'\n",
      " 'Sierra Leone' 'San Marino' 'Senegal' 'Somalia' 'Suriname' 'South Sudan'\n",
      " 'São Tomé and Príncipe' 'Stateless' 'El Salvador' 'Sint Maarten' 'Syria'\n",
      " 'Eswatini' 'Turks and Caicos Islands' 'Chad' 'Togo' 'Thailand'\n",
      " 'Tajikistan' 'Timor-Leste' 'Turkmenistan' 'Tunisia' 'Tonga' 'Total'\n",
      " 'Türkiye' 'Trinidad and Tobago' 'Tuvalu' 'Taiwan' 'Tanzania' 'Ukraine'\n",
      " 'Uganda' 'United Kingdom' 'Unknown' 'United States' 'Uruguay'\n",
      " 'Uzbekistan' 'Holy See' 'Saint Vincent and the Grenadines' 'Venezuela'\n",
      " 'British Virgin Islands' 'Viet Nam' 'Vanuatu' 'Wallis and Futuna' 'Samoa'\n",
      " 'Kosovo*' 'Yemen' 'South Africa' 'Zambia' 'Zimbabwe']\n",
      "Uniques values in age: ['Total']\n",
      "Uniques values in unit: ['Number']\n",
      "Uniques values in sex: ['Females' 'Males' 'Total']\n",
      "Uniques values in geo: ['Austria' 'Belgium' 'Bulgaria' 'Switzerland' 'Czechia' 'Germany'\n",
      " 'Denmark' 'Estonia' 'Finland' 'Hungary' 'Ireland' 'Iceland' 'Italy'\n",
      " 'Liechtenstein' 'Lithuania' 'Luxembourg' 'Latvia' 'Netherlands' 'Norway'\n",
      " 'Portugal' 'Romania' 'Sweden' 'Slovenia' 'Slovakia' 'Türkiye' 'France'\n",
      " 'Spain' 'United Kingdom' 'Greece' 'Croatia' 'Poland' 'Cyprus'\n",
      " 'European Union - 27 countries (from 2020)' 'Malta' 'Albania' 'Armenia'\n",
      " 'Georgia' 'Moldova' 'Montenegro' 'North Macedonia' 'Serbia' 'Ukraine']\n",
      "Uniques values in TIME_PERIOD: [2015 2016 2017 2018 2019 2020 2021 2022 2023 2024]\n",
      "Uniques values in OBS_VALUE: [    2     1     3 ... 14968 70712 87540]\n"
     ]
    }
   ],
   "source": [
    "for col in df.columns:\n",
    "    print(f\"Uniques values in {col}: {df[col].unique()}\")"
   ],
   "metadata": {
    "collapsed": false,
    "ExecuteTime": {
     "end_time": "2025-03-31T11:50:40.220874700Z",
     "start_time": "2025-03-31T11:50:40.060080300Z"
    }
   },
   "id": "80484e5f233f5bf9"
  },
  {
   "cell_type": "code",
   "execution_count": 6,
   "outputs": [],
   "source": [],
   "metadata": {
    "collapsed": false,
    "ExecuteTime": {
     "end_time": "2025-03-31T11:50:40.259781300Z",
     "start_time": "2025-03-31T11:50:40.224904400Z"
    }
   },
   "id": "11e5456f32293724"
  },
  {
   "cell_type": "code",
   "execution_count": 7,
   "outputs": [],
   "source": [
    "df = df.drop(columns=[\"freq\", \"age\"])\n",
    "df = df[df[\"sex\"] == \"Total\"]\n",
    "df = df.drop(columns=[\"sex\", \"unit\"])"
   ],
   "metadata": {
    "collapsed": false,
    "ExecuteTime": {
     "end_time": "2025-03-31T11:50:40.302958900Z",
     "start_time": "2025-03-31T11:50:40.241344100Z"
    }
   },
   "id": "f077e3e2e34ab534"
  },
  {
   "cell_type": "code",
   "execution_count": 8,
   "outputs": [
    {
     "data": {
      "text/plain": "array(['Andorra', 'United Arab Emirates', 'Afghanistan', 'Africa',\n       'Central Africa', 'Eastern Africa', 'Northern Africa',\n       'Southern Africa', 'Western Africa', 'Antigua and Barbuda',\n       'Anguilla', 'Albania', 'Armenia', 'America', 'Central America',\n       'Northern America', 'South America', 'Netherlands Antilles',\n       'Angola', 'Argentina', 'Asia', 'Central Asia', 'Eastern Asia',\n       'Southern Asia', 'South-Eastern Asia', 'Western Asia', 'Austria',\n       'Australia', 'Australia and New Zealand', 'Aruba', 'Azerbaijan',\n       'Bosnia and Herzegovina', 'Barbados', 'Bangladesh', 'Belgium',\n       'Burkina Faso', 'Bulgaria', 'Bahrain', 'Burundi', 'Benin',\n       'Saint Barthélemy', 'Bermuda', 'Brunei Darussalam', 'Bolivia',\n       'Bonaire, Saint Eustatius and Saba', 'Brazil', 'Bahamas', 'Bhutan',\n       'Botswana', 'Belarus', 'Belize', 'Canada',\n       'Candidate countries from 2022 (8 countries) except reporting country',\n       'Candidate countries from 2023 (9 countries) except reporting country',\n       'Democratic Republic of the Congo', 'Central African Republic',\n       'Congo', 'Switzerland', 'Côte d’Ivoire', 'Chile', 'Cameroon',\n       'China', 'Colombia', 'Costa Rica', 'Caribbean', 'Cuba',\n       'Cabo Verde', 'Curaçao', 'Cyprus', 'Czechia', 'Czechoslovakia',\n       'Germany', 'Djibouti', 'Denmark', 'Dominica', 'Dominican Republic',\n       'Algeria', 'Ecuador', 'Estonia', 'European Free Trade Association',\n       'European Free Trade Association except reporting country',\n       'Egypt', 'Western Sahara', 'Greece', 'Eritrea', 'Spain',\n       'Ethiopia', 'EU27 countries (from 2020) except reporting country',\n       'European Union - 28 countries (2013-2020)',\n       'EU28 countries (2013-2020) except reporting country', 'Europe',\n       'Soviet Union', 'Yugoslavia', 'Finland', 'Fiji',\n       'Falkland Islands', 'Federated States of Micronesia', 'Faroes',\n       'Foreign country and stateless', 'France', 'Gabon', 'Grenada',\n       'Georgia', 'Guernsey', 'Ghana', 'Gibraltar', 'Greenland',\n       'Gambia, The', 'Guinea', 'Equatorial Guinea', 'Guatemala',\n       'Guinea-Bissau', 'Guyana', 'Honduras', 'Croatia', 'Haiti',\n       'Hungary', 'Indonesia', 'Ireland', 'Israel', 'Isle of Man',\n       'India', 'Iraq', 'Iran', 'Iceland', 'Italy', 'Jersey', 'Jamaica',\n       'Jordan', 'Japan', 'Kenya', 'Kyrgyzstan', 'Cambodia', 'Kiribati',\n       'Comoros', 'Saint Kitts and Nevis', 'North Korea', 'South Korea',\n       'Kuwait', 'Cayman Islands', 'Kazakhstan', 'Laos', 'Lebanon',\n       'Saint Lucia', 'Liechtenstein', 'Sri Lanka', 'Liberia', 'Lesotho',\n       'Lithuania', 'Luxembourg', 'Latvia', 'Libya', 'Morocco', 'Monaco',\n       'Moldova', 'Montenegro', 'Melanesia', 'Madagascar',\n       'Marshall Islands', 'Micronesia', 'North Macedonia', 'Mali',\n       'Myanmar/Burma', 'Mongolia', 'Mauritania', 'Montserrat', 'Malta',\n       'Mauritius', 'Maldives', 'Malawi', 'Mexico', 'Malaysia',\n       'Mozambique', 'Namibia', 'Reporting country', 'New Caledonia',\n       'Niger', 'Non-EU27 countries (from 2020) nor reporting country',\n       'Non-EU28 countries (2013-2020) nor reporting country', 'Nigeria',\n       'Nicaragua', 'Netherlands', 'Norway', 'Nepal', 'Nauru',\n       'New Zealand', 'Oceania', 'Oman', 'Others', 'Panama', 'Peru',\n       'French Polynesia', 'Papua New Guinea', 'Philippines', 'Pakistan',\n       'Poland', 'Saint Pierre and Miquelon', 'Pitcairn Islands',\n       'Polynesia', 'Palestine*', 'Portugal', 'Palau', 'Paraguay',\n       'Qatar', 'Recognised non-citizens', 'Romania', 'Serbia',\n       'Serbia and Montenegro', 'Russia', 'Rwanda', 'Saudi Arabia',\n       'Solomon Islands', 'Seychelles', 'Sudan', 'Sweden', 'Singapore',\n       'Saint Helena, Ascension and Tristan da Cunha', 'Slovenia',\n       'Slovakia', 'Sierra Leone', 'San Marino', 'Senegal', 'Somalia',\n       'Suriname', 'South Sudan', 'São Tomé and Príncipe', 'Stateless',\n       'El Salvador', 'Sint Maarten', 'Syria', 'Eswatini',\n       'Turks and Caicos Islands', 'Chad', 'Togo', 'Thailand',\n       'Tajikistan', 'Timor-Leste', 'Turkmenistan', 'Tunisia', 'Tonga',\n       'Total', 'Türkiye', 'Trinidad and Tobago', 'Tuvalu', 'Taiwan',\n       'Tanzania', 'Ukraine', 'Uganda', 'United Kingdom', 'Unknown',\n       'United States', 'Uruguay', 'Uzbekistan', 'Holy See',\n       'Saint Vincent and the Grenadines', 'Venezuela',\n       'British Virgin Islands', 'Viet Nam', 'Vanuatu',\n       'Wallis and Futuna', 'Samoa', 'Kosovo*', 'Yemen', 'South Africa',\n       'Zambia', 'Zimbabwe'], dtype=object)"
     },
     "execution_count": 8,
     "metadata": {},
     "output_type": "execute_result"
    }
   ],
   "source": [
    "# Citizen column contains not only single countries\n",
    "df[\"citizen\"].unique()"
   ],
   "metadata": {
    "collapsed": false,
    "ExecuteTime": {
     "end_time": "2025-03-31T11:50:40.331666Z",
     "start_time": "2025-03-31T11:50:40.298936600Z"
    }
   },
   "id": "ce3d08b3c335d3b9"
  },
  {
   "cell_type": "code",
   "execution_count": 9,
   "outputs": [],
   "source": [
    "df.to_csv(\"../../processed_data/population_by_citizenship.csv\", index=False)"
   ],
   "metadata": {
    "collapsed": false,
    "ExecuteTime": {
     "end_time": "2025-03-31T11:50:40.456249600Z",
     "start_time": "2025-03-31T11:50:40.325534400Z"
    }
   },
   "id": "c9987f3f45292a21"
  },
  {
   "cell_type": "code",
   "execution_count": null,
   "outputs": [],
   "source": [],
   "metadata": {
    "collapsed": false
   },
   "id": "e10b24ba2542ae97"
  }
 ],
 "metadata": {
  "kernelspec": {
   "display_name": "Python 3",
   "language": "python",
   "name": "python3"
  },
  "language_info": {
   "codemirror_mode": {
    "name": "ipython",
    "version": 2
   },
   "file_extension": ".py",
   "mimetype": "text/x-python",
   "name": "python",
   "nbconvert_exporter": "python",
   "pygments_lexer": "ipython2",
   "version": "2.7.6"
  }
 },
 "nbformat": 4,
 "nbformat_minor": 5
}
