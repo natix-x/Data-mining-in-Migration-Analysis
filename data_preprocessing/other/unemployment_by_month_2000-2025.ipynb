{
 "cells": [
  {
   "cell_type": "code",
   "execution_count": null,
   "id": "initial_id",
   "metadata": {
    "collapsed": true
   },
   "outputs": [],
   "source": [
    "import pandas as pd"
   ]
  },
  {
   "cell_type": "code",
   "execution_count": 2,
   "outputs": [],
   "source": [
    "df = pd.read_csv('../../data/unemployment_by_month_2000-2025.csv')"
   ],
   "metadata": {
    "collapsed": false,
    "ExecuteTime": {
     "end_time": "2025-03-26T21:24:59.669029800Z",
     "start_time": "2025-03-26T21:24:59.607685200Z"
    }
   },
   "id": "e7c1599ab94745a1"
  },
  {
   "cell_type": "code",
   "execution_count": 3,
   "outputs": [
    {
     "data": {
      "text/plain": "  Reference area                                      Source     Sex  \\\n0        Armenia  HIES - Households Living Conditions Survey   Total   \n1        Armenia  HIES - Households Living Conditions Survey    Male   \n2        Armenia  HIES - Households Living Conditions Survey  Female   \n3      Australia                   LFS - Labour Force Survey   Total   \n4      Australia                   LFS - Labour Force Survey   Total   \n\n                    Age  2000M01  2000M02  2000M03  2000M04  2000M05  2000M06  \\\n0    Youth, adults: 15+      NaN      NaN      NaN      NaN      NaN      NaN   \n1    Youth, adults: 15+      NaN      NaN      NaN      NaN      NaN      NaN   \n2    Youth, adults: 15+      NaN      NaN      NaN      NaN      NaN      NaN   \n3    Youth, adults: 15+  14947.9  14969.8  14991.7  15005.6  15019.4  15033.3   \n4  Youth, adults: 15-64  12602.7  12620.1  12637.5  12648.0  12658.6  12669.1   \n\n   ...  2024M05  2024M06  2024M07  2024M08  2024M09  2024M10  2024M11  \\\n0  ...      NaN      NaN      NaN      NaN      NaN      NaN      NaN   \n1  ...      NaN      NaN      NaN      NaN      NaN      NaN      NaN   \n2  ...      NaN      NaN      NaN      NaN      NaN      NaN      NaN   \n3  ...  22319.2  22348.7  22398.8  22448.9  22499.0  22541.4  22583.9   \n4  ...  17631.2  17649.5  17689.8  17730.0  17770.2  17800.2  17830.2   \n\n   2024M12  2025M01  2025M02  \n0      NaN      NaN      NaN  \n1      NaN      NaN      NaN  \n2      NaN      NaN      NaN  \n3      NaN      NaN      NaN  \n4      NaN      NaN      NaN  \n\n[5 rows x 306 columns]",
      "text/html": "<div>\n<style scoped>\n    .dataframe tbody tr th:only-of-type {\n        vertical-align: middle;\n    }\n\n    .dataframe tbody tr th {\n        vertical-align: top;\n    }\n\n    .dataframe thead th {\n        text-align: right;\n    }\n</style>\n<table border=\"1\" class=\"dataframe\">\n  <thead>\n    <tr style=\"text-align: right;\">\n      <th></th>\n      <th>Reference area</th>\n      <th>Source</th>\n      <th>Sex</th>\n      <th>Age</th>\n      <th>2000M01</th>\n      <th>2000M02</th>\n      <th>2000M03</th>\n      <th>2000M04</th>\n      <th>2000M05</th>\n      <th>2000M06</th>\n      <th>...</th>\n      <th>2024M05</th>\n      <th>2024M06</th>\n      <th>2024M07</th>\n      <th>2024M08</th>\n      <th>2024M09</th>\n      <th>2024M10</th>\n      <th>2024M11</th>\n      <th>2024M12</th>\n      <th>2025M01</th>\n      <th>2025M02</th>\n    </tr>\n  </thead>\n  <tbody>\n    <tr>\n      <th>0</th>\n      <td>Armenia</td>\n      <td>HIES - Households Living Conditions Survey</td>\n      <td>Total</td>\n      <td>Youth, adults: 15+</td>\n      <td>NaN</td>\n      <td>NaN</td>\n      <td>NaN</td>\n      <td>NaN</td>\n      <td>NaN</td>\n      <td>NaN</td>\n      <td>...</td>\n      <td>NaN</td>\n      <td>NaN</td>\n      <td>NaN</td>\n      <td>NaN</td>\n      <td>NaN</td>\n      <td>NaN</td>\n      <td>NaN</td>\n      <td>NaN</td>\n      <td>NaN</td>\n      <td>NaN</td>\n    </tr>\n    <tr>\n      <th>1</th>\n      <td>Armenia</td>\n      <td>HIES - Households Living Conditions Survey</td>\n      <td>Male</td>\n      <td>Youth, adults: 15+</td>\n      <td>NaN</td>\n      <td>NaN</td>\n      <td>NaN</td>\n      <td>NaN</td>\n      <td>NaN</td>\n      <td>NaN</td>\n      <td>...</td>\n      <td>NaN</td>\n      <td>NaN</td>\n      <td>NaN</td>\n      <td>NaN</td>\n      <td>NaN</td>\n      <td>NaN</td>\n      <td>NaN</td>\n      <td>NaN</td>\n      <td>NaN</td>\n      <td>NaN</td>\n    </tr>\n    <tr>\n      <th>2</th>\n      <td>Armenia</td>\n      <td>HIES - Households Living Conditions Survey</td>\n      <td>Female</td>\n      <td>Youth, adults: 15+</td>\n      <td>NaN</td>\n      <td>NaN</td>\n      <td>NaN</td>\n      <td>NaN</td>\n      <td>NaN</td>\n      <td>NaN</td>\n      <td>...</td>\n      <td>NaN</td>\n      <td>NaN</td>\n      <td>NaN</td>\n      <td>NaN</td>\n      <td>NaN</td>\n      <td>NaN</td>\n      <td>NaN</td>\n      <td>NaN</td>\n      <td>NaN</td>\n      <td>NaN</td>\n    </tr>\n    <tr>\n      <th>3</th>\n      <td>Australia</td>\n      <td>LFS - Labour Force Survey</td>\n      <td>Total</td>\n      <td>Youth, adults: 15+</td>\n      <td>14947.9</td>\n      <td>14969.8</td>\n      <td>14991.7</td>\n      <td>15005.6</td>\n      <td>15019.4</td>\n      <td>15033.3</td>\n      <td>...</td>\n      <td>22319.2</td>\n      <td>22348.7</td>\n      <td>22398.8</td>\n      <td>22448.9</td>\n      <td>22499.0</td>\n      <td>22541.4</td>\n      <td>22583.9</td>\n      <td>NaN</td>\n      <td>NaN</td>\n      <td>NaN</td>\n    </tr>\n    <tr>\n      <th>4</th>\n      <td>Australia</td>\n      <td>LFS - Labour Force Survey</td>\n      <td>Total</td>\n      <td>Youth, adults: 15-64</td>\n      <td>12602.7</td>\n      <td>12620.1</td>\n      <td>12637.5</td>\n      <td>12648.0</td>\n      <td>12658.6</td>\n      <td>12669.1</td>\n      <td>...</td>\n      <td>17631.2</td>\n      <td>17649.5</td>\n      <td>17689.8</td>\n      <td>17730.0</td>\n      <td>17770.2</td>\n      <td>17800.2</td>\n      <td>17830.2</td>\n      <td>NaN</td>\n      <td>NaN</td>\n      <td>NaN</td>\n    </tr>\n  </tbody>\n</table>\n<p>5 rows × 306 columns</p>\n</div>"
     },
     "execution_count": 3,
     "metadata": {},
     "output_type": "execute_result"
    }
   ],
   "source": [
    "df.head()"
   ],
   "metadata": {
    "collapsed": false,
    "ExecuteTime": {
     "end_time": "2025-03-26T21:25:18.944277Z",
     "start_time": "2025-03-26T21:25:18.905285500Z"
    }
   },
   "id": "bcf3cfb238dada99"
  },
  {
   "cell_type": "code",
   "execution_count": 4,
   "outputs": [
    {
     "name": "stdout",
     "output_type": "stream",
     "text": [
      "<class 'pandas.core.frame.DataFrame'>\n",
      "RangeIndex: 1152 entries, 0 to 1151\n",
      "Columns: 306 entries, Reference area to 2025M02\n",
      "dtypes: float64(302), object(4)\n",
      "memory usage: 2.7+ MB\n"
     ]
    }
   ],
   "source": [
    "df.info()"
   ],
   "metadata": {
    "collapsed": false,
    "ExecuteTime": {
     "end_time": "2025-03-26T21:25:38.704884600Z",
     "start_time": "2025-03-26T21:25:38.633256500Z"
    }
   },
   "id": "a6e3bdaf9440e83e"
  },
  {
   "cell_type": "code",
   "execution_count": 5,
   "outputs": [
    {
     "data": {
      "text/plain": "np.int64(0)"
     },
     "execution_count": 5,
     "metadata": {},
     "output_type": "execute_result"
    }
   ],
   "source": [
    "df.duplicated().sum()"
   ],
   "metadata": {
    "collapsed": false,
    "ExecuteTime": {
     "end_time": "2025-03-26T21:25:51.137374500Z",
     "start_time": "2025-03-26T21:25:50.929868Z"
    }
   },
   "id": "653f036221f37c74"
  },
  {
   "cell_type": "code",
   "execution_count": 6,
   "outputs": [
    {
     "data": {
      "text/plain": "Reference area       0\nSource               0\nSex                  0\nAge                  0\n2000M01            858\n                  ... \n2024M10            768\n2024M11            768\n2024M12            864\n2025M01           1008\n2025M02           1104\nLength: 306, dtype: int64"
     },
     "execution_count": 6,
     "metadata": {},
     "output_type": "execute_result"
    }
   ],
   "source": [
    "df.isnull().sum()"
   ],
   "metadata": {
    "collapsed": false,
    "ExecuteTime": {
     "end_time": "2025-03-26T21:25:55.978372Z",
     "start_time": "2025-03-26T21:25:55.926428700Z"
    }
   },
   "id": "4c8929b3ee177abd"
  },
  {
   "cell_type": "code",
   "execution_count": null,
   "outputs": [],
   "source": [
    "for col in df.columns:\n",
    "    print(f\"Uniques values in {col}: {df[col].unique()}\")"
   ],
   "metadata": {
    "collapsed": false
   },
   "id": "6e9b1362e6a49a3e"
  }
 ],
 "metadata": {
  "kernelspec": {
   "display_name": "Python 3",
   "language": "python",
   "name": "python3"
  },
  "language_info": {
   "codemirror_mode": {
    "name": "ipython",
    "version": 2
   },
   "file_extension": ".py",
   "mimetype": "text/x-python",
   "name": "python",
   "nbconvert_exporter": "python",
   "pygments_lexer": "ipython2",
   "version": "2.7.6"
  }
 },
 "nbformat": 4,
 "nbformat_minor": 5
}
