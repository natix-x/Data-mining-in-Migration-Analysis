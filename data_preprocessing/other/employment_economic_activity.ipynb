{
 "cells": [
  {
   "cell_type": "code",
   "execution_count": 27,
   "id": "b2678ac2",
   "metadata": {},
   "outputs": [],
   "source": [
    "import pandas as pd"
   ]
  },
  {
   "cell_type": "markdown",
   "id": "8bcc0572",
   "metadata": {},
   "source": [
    "**Employment by age and economic acitivity**\n",
    "\n",
    "---\n",
    "\n",
    "The following format is defined:\n",
    "\n",
    "* geo — analyzed country\n",
    "* In thousand persons — number of workers in the given sector (in thousands)\n",
    "* Sex — gender\n",
    "* Sector — area of employment\n",
    "* workers_per_population — percentage of the total population working in the given sector\n"
   ]
  },
  {
   "cell_type": "code",
   "execution_count": 28,
   "id": "d122a7c6",
   "metadata": {},
   "outputs": [],
   "source": [
    "df = pd.read_csv('../../data/employment_by_sex_and_economic_activity.csv')\n"
   ]
  },
  {
   "cell_type": "code",
   "execution_count": 29,
   "id": "14b8105e",
   "metadata": {},
   "outputs": [
    {
     "data": {
      "text/plain": [
       "Index(['STRUCTURE', 'STRUCTURE_ID', 'STRUCTURE_NAME', 'freq', 'Time frequency',\n",
       "       'unit', 'Unit of measure', 'sex', 'Sex', 'age', 'Age class', 'nace_r2',\n",
       "       'Statistical classification of economic activities in the European Community (NACE Rev. 2)',\n",
       "       'geo', 'Geopolitical entity (reporting)', 'TIME_PERIOD', 'Time',\n",
       "       'OBS_VALUE', 'Observation value', 'OBS_FLAG',\n",
       "       'Observation status (Flag) V2 structure', 'CONF_STATUS',\n",
       "       'Confidentiality status (flag)'],\n",
       "      dtype='object')"
      ]
     },
     "execution_count": 29,
     "metadata": {},
     "output_type": "execute_result"
    }
   ],
   "source": [
    "df.columns"
   ]
  },
  {
   "cell_type": "code",
   "execution_count": 30,
   "id": "ae4daac8",
   "metadata": {},
   "outputs": [],
   "source": [
    "df = df[[\"Geopolitical entity (reporting)\", \"OBS_VALUE\", \"TIME_PERIOD\", \"Sex\", \"Statistical classification of economic activities in the European Community (NACE Rev. 2)\"]]\n"
   ]
  },
  {
   "cell_type": "code",
   "execution_count": 31,
   "id": "3657bfb1",
   "metadata": {},
   "outputs": [
    {
     "data": {
      "text/html": [
       "<div>\n",
       "<style scoped>\n",
       "    .dataframe tbody tr th:only-of-type {\n",
       "        vertical-align: middle;\n",
       "    }\n",
       "\n",
       "    .dataframe tbody tr th {\n",
       "        vertical-align: top;\n",
       "    }\n",
       "\n",
       "    .dataframe thead th {\n",
       "        text-align: right;\n",
       "    }\n",
       "</style>\n",
       "<table border=\"1\" class=\"dataframe\">\n",
       "  <thead>\n",
       "    <tr style=\"text-align: right;\">\n",
       "      <th></th>\n",
       "      <th>Geopolitical entity (reporting)</th>\n",
       "      <th>OBS_VALUE</th>\n",
       "      <th>TIME_PERIOD</th>\n",
       "      <th>Sex</th>\n",
       "      <th>Statistical classification of economic activities in the European Community (NACE Rev. 2)</th>\n",
       "    </tr>\n",
       "  </thead>\n",
       "  <tbody>\n",
       "    <tr>\n",
       "      <th>0</th>\n",
       "      <td>Austria</td>\n",
       "      <td>85.3</td>\n",
       "      <td>2008</td>\n",
       "      <td>Females</td>\n",
       "      <td>Agriculture, forestry and fishing</td>\n",
       "    </tr>\n",
       "    <tr>\n",
       "      <th>1</th>\n",
       "      <td>Austria</td>\n",
       "      <td>85.1</td>\n",
       "      <td>2009</td>\n",
       "      <td>Females</td>\n",
       "      <td>Agriculture, forestry and fishing</td>\n",
       "    </tr>\n",
       "    <tr>\n",
       "      <th>2</th>\n",
       "      <td>Austria</td>\n",
       "      <td>85.0</td>\n",
       "      <td>2010</td>\n",
       "      <td>Females</td>\n",
       "      <td>Agriculture, forestry and fishing</td>\n",
       "    </tr>\n",
       "    <tr>\n",
       "      <th>3</th>\n",
       "      <td>Austria</td>\n",
       "      <td>79.6</td>\n",
       "      <td>2011</td>\n",
       "      <td>Females</td>\n",
       "      <td>Agriculture, forestry and fishing</td>\n",
       "    </tr>\n",
       "    <tr>\n",
       "      <th>4</th>\n",
       "      <td>Austria</td>\n",
       "      <td>72.5</td>\n",
       "      <td>2012</td>\n",
       "      <td>Females</td>\n",
       "      <td>Agriculture, forestry and fishing</td>\n",
       "    </tr>\n",
       "  </tbody>\n",
       "</table>\n",
       "</div>"
      ],
      "text/plain": [
       "  Geopolitical entity (reporting)  OBS_VALUE  TIME_PERIOD      Sex  \\\n",
       "0                         Austria       85.3         2008  Females   \n",
       "1                         Austria       85.1         2009  Females   \n",
       "2                         Austria       85.0         2010  Females   \n",
       "3                         Austria       79.6         2011  Females   \n",
       "4                         Austria       72.5         2012  Females   \n",
       "\n",
       "  Statistical classification of economic activities in the European Community (NACE Rev. 2)  \n",
       "0                  Agriculture, forestry and fishing                                         \n",
       "1                  Agriculture, forestry and fishing                                         \n",
       "2                  Agriculture, forestry and fishing                                         \n",
       "3                  Agriculture, forestry and fishing                                         \n",
       "4                  Agriculture, forestry and fishing                                         "
      ]
     },
     "execution_count": 31,
     "metadata": {},
     "output_type": "execute_result"
    }
   ],
   "source": [
    "df.head()"
   ]
  },
  {
   "cell_type": "code",
   "execution_count": 32,
   "id": "0b72987b",
   "metadata": {},
   "outputs": [
    {
     "name": "stdout",
     "output_type": "stream",
     "text": [
      "<class 'pandas.core.frame.DataFrame'>\n",
      "RangeIndex: 36029 entries, 0 to 36028\n",
      "Data columns (total 5 columns):\n",
      " #   Column                                                                                     Non-Null Count  Dtype  \n",
      "---  ------                                                                                     --------------  -----  \n",
      " 0   Geopolitical entity (reporting)                                                            36029 non-null  object \n",
      " 1   OBS_VALUE                                                                                  33746 non-null  float64\n",
      " 2   TIME_PERIOD                                                                                36029 non-null  int64  \n",
      " 3   Sex                                                                                        36029 non-null  object \n",
      " 4   Statistical classification of economic activities in the European Community (NACE Rev. 2)  36029 non-null  object \n",
      "dtypes: float64(1), int64(1), object(3)\n",
      "memory usage: 1.4+ MB\n"
     ]
    }
   ],
   "source": [
    "df.info()"
   ]
  },
  {
   "cell_type": "code",
   "execution_count": 33,
   "id": "0465dc4b",
   "metadata": {},
   "outputs": [],
   "source": [
    "df.rename(columns={'Geopolitical entity (reporting)': 'geo', 'OBS_VALUE': 'In thousand persons', 'TIME_PERIOD': 'year', 'Statistical classification of economic activities in the European Community (NACE Rev. 2)': 'Sector'}, inplace=True)"
   ]
  },
  {
   "cell_type": "code",
   "execution_count": 34,
   "id": "1ce28090",
   "metadata": {},
   "outputs": [
    {
     "data": {
      "text/plain": [
       "geo\n",
       "Italy                     1071\n",
       "Spain                     1067\n",
       "France                    1061\n",
       "Switzerland               1052\n",
       "Czechia                   1051\n",
       "Germany                   1049\n",
       "Belgium                   1043\n",
       "Austria                   1027\n",
       "Greece                    1026\n",
       "Romania                   1015\n",
       "Netherlands               1007\n",
       "Cyprus                    1007\n",
       "Türkiye                   1007\n",
       "Poland                    1006\n",
       "Bulgaria                   998\n",
       "Finland                    994\n",
       "Croatia                    994\n",
       "Denmark                    985\n",
       "Portugal                   978\n",
       "Norway                     977\n",
       "Hungary                    970\n",
       "Sweden                     967\n",
       "Slovakia                   965\n",
       "Ireland                    958\n",
       "Latvia                     955\n",
       "Slovenia                   954\n",
       "Lithuania                  938\n",
       "Estonia                    935\n",
       "Luxembourg                 934\n",
       "Serbia                     897\n",
       "Malta                      893\n",
       "Iceland                    865\n",
       "United Kingdom             756\n",
       "North Macedonia            589\n",
       "Montenegro                 515\n",
       "Bosnia and Herzegovina     240\n",
       "dtype: int64"
      ]
     },
     "execution_count": 34,
     "metadata": {},
     "output_type": "execute_result"
    }
   ],
   "source": [
    "df[~df['In thousand persons'].isna()]\\\n",
    "    .groupby('geo')\\\n",
    "    .size()\\\n",
    "    .sort_values(ascending=False)\n"
   ]
  },
  {
   "cell_type": "code",
   "execution_count": 35,
   "id": "c5adb719",
   "metadata": {},
   "outputs": [
    {
     "name": "stderr",
     "output_type": "stream",
     "text": [
      "C:\\Users\\natal\\AppData\\Local\\Temp\\ipykernel_19132\\2836693617.py:11: DeprecationWarning: DataFrameGroupBy.apply operated on the grouping columns. This behavior is deprecated, and in a future version of pandas the grouping columns will be excluded from the operation. Either pass `include_groups=False` to exclude the groupings or explicitly select the grouping columns after groupby to silence this warning.\n",
      "  df = df.groupby(['geo', 'Sex'], group_keys=False).apply(fill_neighbors_only)\n"
     ]
    }
   ],
   "source": [
    "def fill_neighbors_only(group):\n",
    "    vals = group['In thousand persons'].copy()\n",
    "    for i in range(1, len(vals)-1):\n",
    "        if pd.isna(vals.iloc[i]) and pd.notna(vals.iloc[i-1]) and pd.notna(vals.iloc[i+1]):\n",
    "            vals.iloc[i] = (vals.iloc[i-1] + vals.iloc[i+1]) / 2\n",
    "    group['In thousand persons'] = vals\n",
    "    return group\n",
    "\n",
    "df = df.sort_values(['geo', 'Sex', 'year'])\n",
    "\n",
    "df = df.groupby(['geo', 'Sex'], group_keys=False).apply(fill_neighbors_only)\n"
   ]
  },
  {
   "cell_type": "code",
   "execution_count": 36,
   "id": "9e37c613",
   "metadata": {},
   "outputs": [
    {
     "name": "stdout",
     "output_type": "stream",
     "text": [
      "<class 'pandas.core.frame.DataFrame'>\n",
      "Index: 36029 entries, 0 to 36028\n",
      "Data columns (total 5 columns):\n",
      " #   Column               Non-Null Count  Dtype  \n",
      "---  ------               --------------  -----  \n",
      " 0   geo                  36029 non-null  object \n",
      " 1   In thousand persons  35012 non-null  float64\n",
      " 2   year                 36029 non-null  int64  \n",
      " 3   Sex                  36029 non-null  object \n",
      " 4   Sector               36029 non-null  object \n",
      "dtypes: float64(1), int64(1), object(3)\n",
      "memory usage: 1.6+ MB\n"
     ]
    }
   ],
   "source": [
    "df.info()\n"
   ]
  },
  {
   "cell_type": "code",
   "execution_count": 37,
   "id": "28eae6b7",
   "metadata": {},
   "outputs": [
    {
     "data": {
      "text/plain": [
       "Sex\n",
       "Females    425\n",
       "Males      405\n",
       "Total      187\n",
       "dtype: int64"
      ]
     },
     "execution_count": 37,
     "metadata": {},
     "output_type": "execute_result"
    }
   ],
   "source": [
    "df[df['In thousand persons'].isna()]\\\n",
    "    .groupby('Sex')\\\n",
    "    .size()\\\n",
    "    .sort_values(ascending=False)\n"
   ]
  },
  {
   "cell_type": "markdown",
   "id": "573d1086",
   "metadata": {},
   "source": [
    "usunięcie nulli tam gdzie Sex nie Total"
   ]
  },
  {
   "cell_type": "code",
   "execution_count": 38,
   "id": "2544313e",
   "metadata": {},
   "outputs": [],
   "source": [
    "df = df[~((df['Sex'] != 'Total') & df.isna().any(axis=1))]"
   ]
  },
  {
   "cell_type": "code",
   "execution_count": 39,
   "id": "dd8905f9",
   "metadata": {},
   "outputs": [
    {
     "data": {
      "text/plain": [
       "year\n",
       "2024    29\n",
       "2023    18\n",
       "2022    18\n",
       "2021    16\n",
       "2020    14\n",
       "2019    14\n",
       "2015    10\n",
       "2008     8\n",
       "2009     8\n",
       "2011     8\n",
       "2012     8\n",
       "2017     8\n",
       "2016     8\n",
       "2018     8\n",
       "2010     6\n",
       "2013     4\n",
       "2014     2\n",
       "dtype: int64"
      ]
     },
     "execution_count": 39,
     "metadata": {},
     "output_type": "execute_result"
    }
   ],
   "source": [
    "df[df['In thousand persons'].isna()]\\\n",
    "    .groupby('year')\\\n",
    "    .size()\\\n",
    "    .sort_values(ascending=False)\n"
   ]
  },
  {
   "cell_type": "code",
   "execution_count": 40,
   "id": "b8c721f9",
   "metadata": {},
   "outputs": [],
   "source": [
    "df.dropna(inplace=True)"
   ]
  },
  {
   "cell_type": "code",
   "execution_count": 41,
   "id": "e1585dbc",
   "metadata": {},
   "outputs": [
    {
     "name": "stdout",
     "output_type": "stream",
     "text": [
      "<class 'pandas.core.frame.DataFrame'>\n",
      "Index: 35012 entries, 0 to 36028\n",
      "Data columns (total 5 columns):\n",
      " #   Column               Non-Null Count  Dtype  \n",
      "---  ------               --------------  -----  \n",
      " 0   geo                  35012 non-null  object \n",
      " 1   In thousand persons  35012 non-null  float64\n",
      " 2   year                 35012 non-null  int64  \n",
      " 3   Sex                  35012 non-null  object \n",
      " 4   Sector               35012 non-null  object \n",
      "dtypes: float64(1), int64(1), object(3)\n",
      "memory usage: 1.6+ MB\n"
     ]
    }
   ],
   "source": [
    "df.info()"
   ]
  },
  {
   "cell_type": "code",
   "execution_count": 42,
   "id": "669dad2a",
   "metadata": {},
   "outputs": [],
   "source": [
    "pop_cit = pd.read_csv('../../processed_data/country_population.csv')"
   ]
  },
  {
   "cell_type": "code",
   "execution_count": 43,
   "id": "020dd00b",
   "metadata": {},
   "outputs": [
    {
     "data": {
      "text/html": [
       "<div>\n",
       "<style scoped>\n",
       "    .dataframe tbody tr th:only-of-type {\n",
       "        vertical-align: middle;\n",
       "    }\n",
       "\n",
       "    .dataframe tbody tr th {\n",
       "        vertical-align: top;\n",
       "    }\n",
       "\n",
       "    .dataframe thead th {\n",
       "        text-align: right;\n",
       "    }\n",
       "</style>\n",
       "<table border=\"1\" class=\"dataframe\">\n",
       "  <thead>\n",
       "    <tr style=\"text-align: right;\">\n",
       "      <th></th>\n",
       "      <th>geo</th>\n",
       "      <th>In thousand persons</th>\n",
       "      <th>year</th>\n",
       "      <th>Sex</th>\n",
       "      <th>Sector</th>\n",
       "      <th>Population number</th>\n",
       "    </tr>\n",
       "  </thead>\n",
       "  <tbody>\n",
       "    <tr>\n",
       "      <th>0</th>\n",
       "      <td>Austria</td>\n",
       "      <td>85.30</td>\n",
       "      <td>2008</td>\n",
       "      <td>Females</td>\n",
       "      <td>Agriculture, forestry and fishing</td>\n",
       "      <td>8307989.0</td>\n",
       "    </tr>\n",
       "    <tr>\n",
       "      <th>1</th>\n",
       "      <td>Austria</td>\n",
       "      <td>122.55</td>\n",
       "      <td>2008</td>\n",
       "      <td>Females</td>\n",
       "      <td>Mining and quarrying</td>\n",
       "      <td>8307989.0</td>\n",
       "    </tr>\n",
       "    <tr>\n",
       "      <th>2</th>\n",
       "      <td>Austria</td>\n",
       "      <td>159.80</td>\n",
       "      <td>2008</td>\n",
       "      <td>Females</td>\n",
       "      <td>Manufacturing</td>\n",
       "      <td>8307989.0</td>\n",
       "    </tr>\n",
       "    <tr>\n",
       "      <th>3</th>\n",
       "      <td>Austria</td>\n",
       "      <td>4.30</td>\n",
       "      <td>2008</td>\n",
       "      <td>Females</td>\n",
       "      <td>Electricity, gas, steam and air conditioning s...</td>\n",
       "      <td>8307989.0</td>\n",
       "    </tr>\n",
       "    <tr>\n",
       "      <th>4</th>\n",
       "      <td>Austria</td>\n",
       "      <td>4.10</td>\n",
       "      <td>2008</td>\n",
       "      <td>Females</td>\n",
       "      <td>Water supply; sewerage, waste management and r...</td>\n",
       "      <td>8307989.0</td>\n",
       "    </tr>\n",
       "  </tbody>\n",
       "</table>\n",
       "</div>"
      ],
      "text/plain": [
       "       geo  In thousand persons  year      Sex  \\\n",
       "0  Austria                85.30  2008  Females   \n",
       "1  Austria               122.55  2008  Females   \n",
       "2  Austria               159.80  2008  Females   \n",
       "3  Austria                 4.30  2008  Females   \n",
       "4  Austria                 4.10  2008  Females   \n",
       "\n",
       "                                              Sector  Population number  \n",
       "0                  Agriculture, forestry and fishing          8307989.0  \n",
       "1                               Mining and quarrying          8307989.0  \n",
       "2                                      Manufacturing          8307989.0  \n",
       "3  Electricity, gas, steam and air conditioning s...          8307989.0  \n",
       "4  Water supply; sewerage, waste management and r...          8307989.0  "
      ]
     },
     "execution_count": 43,
     "metadata": {},
     "output_type": "execute_result"
    }
   ],
   "source": [
    "merged = pd.merge(df, pop_cit, on=['geo', 'year'], how='left')\n",
    "merged.head()"
   ]
  },
  {
   "cell_type": "code",
   "execution_count": 44,
   "id": "00643d5b",
   "metadata": {},
   "outputs": [],
   "source": [
    "merged['workers_per_population'] = merged['In thousand persons'] * 1000 / merged['Population number'] * 100"
   ]
  },
  {
   "cell_type": "code",
   "execution_count": 45,
   "id": "1edc7882",
   "metadata": {},
   "outputs": [
    {
     "data": {
      "text/html": [
       "<div>\n",
       "<style scoped>\n",
       "    .dataframe tbody tr th:only-of-type {\n",
       "        vertical-align: middle;\n",
       "    }\n",
       "\n",
       "    .dataframe tbody tr th {\n",
       "        vertical-align: top;\n",
       "    }\n",
       "\n",
       "    .dataframe thead th {\n",
       "        text-align: right;\n",
       "    }\n",
       "</style>\n",
       "<table border=\"1\" class=\"dataframe\">\n",
       "  <thead>\n",
       "    <tr style=\"text-align: right;\">\n",
       "      <th></th>\n",
       "      <th>geo</th>\n",
       "      <th>In thousand persons</th>\n",
       "      <th>year</th>\n",
       "      <th>Sex</th>\n",
       "      <th>Sector</th>\n",
       "      <th>Population number</th>\n",
       "      <th>workers_per_population</th>\n",
       "    </tr>\n",
       "  </thead>\n",
       "  <tbody>\n",
       "    <tr>\n",
       "      <th>0</th>\n",
       "      <td>Austria</td>\n",
       "      <td>85.30</td>\n",
       "      <td>2008</td>\n",
       "      <td>Females</td>\n",
       "      <td>Agriculture, forestry and fishing</td>\n",
       "      <td>8307989.0</td>\n",
       "      <td>1.026723</td>\n",
       "    </tr>\n",
       "    <tr>\n",
       "      <th>1</th>\n",
       "      <td>Austria</td>\n",
       "      <td>122.55</td>\n",
       "      <td>2008</td>\n",
       "      <td>Females</td>\n",
       "      <td>Mining and quarrying</td>\n",
       "      <td>8307989.0</td>\n",
       "      <td>1.475086</td>\n",
       "    </tr>\n",
       "    <tr>\n",
       "      <th>2</th>\n",
       "      <td>Austria</td>\n",
       "      <td>159.80</td>\n",
       "      <td>2008</td>\n",
       "      <td>Females</td>\n",
       "      <td>Manufacturing</td>\n",
       "      <td>8307989.0</td>\n",
       "      <td>1.923450</td>\n",
       "    </tr>\n",
       "    <tr>\n",
       "      <th>3</th>\n",
       "      <td>Austria</td>\n",
       "      <td>4.30</td>\n",
       "      <td>2008</td>\n",
       "      <td>Females</td>\n",
       "      <td>Electricity, gas, steam and air conditioning s...</td>\n",
       "      <td>8307989.0</td>\n",
       "      <td>0.051757</td>\n",
       "    </tr>\n",
       "    <tr>\n",
       "      <th>4</th>\n",
       "      <td>Austria</td>\n",
       "      <td>4.10</td>\n",
       "      <td>2008</td>\n",
       "      <td>Females</td>\n",
       "      <td>Water supply; sewerage, waste management and r...</td>\n",
       "      <td>8307989.0</td>\n",
       "      <td>0.049350</td>\n",
       "    </tr>\n",
       "  </tbody>\n",
       "</table>\n",
       "</div>"
      ],
      "text/plain": [
       "       geo  In thousand persons  year      Sex  \\\n",
       "0  Austria                85.30  2008  Females   \n",
       "1  Austria               122.55  2008  Females   \n",
       "2  Austria               159.80  2008  Females   \n",
       "3  Austria                 4.30  2008  Females   \n",
       "4  Austria                 4.10  2008  Females   \n",
       "\n",
       "                                              Sector  Population number  \\\n",
       "0                  Agriculture, forestry and fishing          8307989.0   \n",
       "1                               Mining and quarrying          8307989.0   \n",
       "2                                      Manufacturing          8307989.0   \n",
       "3  Electricity, gas, steam and air conditioning s...          8307989.0   \n",
       "4  Water supply; sewerage, waste management and r...          8307989.0   \n",
       "\n",
       "   workers_per_population  \n",
       "0                1.026723  \n",
       "1                1.475086  \n",
       "2                1.923450  \n",
       "3                0.051757  \n",
       "4                0.049350  "
      ]
     },
     "execution_count": 45,
     "metadata": {},
     "output_type": "execute_result"
    }
   ],
   "source": [
    "merged.head()"
   ]
  },
  {
   "cell_type": "code",
   "execution_count": 46,
   "id": "db83b53f",
   "metadata": {},
   "outputs": [],
   "source": [
    "merged.drop(columns=['Population number'], inplace=True)"
   ]
  },
  {
   "cell_type": "code",
   "execution_count": 47,
   "id": "1b76a6e8",
   "metadata": {},
   "outputs": [],
   "source": [
    "merged.to_csv(\"../../processed_data/employmnet_economic_activity.csv\", index=False)"
   ]
  },
  {
   "cell_type": "code",
   "execution_count": null,
   "id": "197dae79",
   "metadata": {},
   "outputs": [],
   "source": []
  }
 ],
 "metadata": {
  "kernelspec": {
   "display_name": ".venv",
   "language": "python",
   "name": "python3"
  },
  "language_info": {
   "codemirror_mode": {
    "name": "ipython",
    "version": 3
   },
   "file_extension": ".py",
   "mimetype": "text/x-python",
   "name": "python",
   "nbconvert_exporter": "python",
   "pygments_lexer": "ipython3",
   "version": "3.12.6"
  }
 },
 "nbformat": 4,
 "nbformat_minor": 5
}
