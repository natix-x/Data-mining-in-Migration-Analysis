{
 "cells": [
  {
   "cell_type": "code",
   "execution_count": 18,
   "id": "initial_id",
   "metadata": {
    "ExecuteTime": {
     "end_time": "2025-03-26T21:34:11.560643700Z",
     "start_time": "2025-03-26T21:34:11.546196900Z"
    },
    "collapsed": true
   },
   "outputs": [],
   "source": [
    "import pandas as pd"
   ]
  },
  {
   "cell_type": "markdown",
   "id": "4eef2139c0484eec",
   "metadata": {
    "collapsed": false
   },
   "source": [
    "**HICP - all items - annual average indices**\n",
    "\n",
    "---\n",
    "Harmonised Indices of Consumer Prices (HICPs) are designed for international comparisons of consumer price inflation. HICP is used by e.g. the European Central Bank for monitoring of inflation in the Economic and Monetary Union and for the assessment of inflation convergence as required under Article 121 of the Treaty of Amsterdam.\n",
    "https://ec.europa.eu/eurostat/databrowser/view/tec00027/default/table?lang=en"
   ]
  },
  {
   "cell_type": "code",
   "execution_count": 19,
   "id": "e62d7877612d9f57",
   "metadata": {
    "ExecuteTime": {
     "end_time": "2025-03-26T21:34:11.827874700Z",
     "start_time": "2025-03-26T21:34:11.732324900Z"
    },
    "collapsed": false
   },
   "outputs": [],
   "source": [
    "df = pd.read_csv('../../data/HICP_annual_indices_for_all_goods.csv')"
   ]
  },
  {
   "cell_type": "code",
   "execution_count": 20,
   "id": "3aac93c3c90129e0",
   "metadata": {
    "ExecuteTime": {
     "end_time": "2025-03-26T21:34:11.993588200Z",
     "start_time": "2025-03-26T21:34:11.942019700Z"
    },
    "collapsed": false
   },
   "outputs": [
    {
     "data": {
      "text/html": [
       "<div>\n",
       "<style scoped>\n",
       "    .dataframe tbody tr th:only-of-type {\n",
       "        vertical-align: middle;\n",
       "    }\n",
       "\n",
       "    .dataframe tbody tr th {\n",
       "        vertical-align: top;\n",
       "    }\n",
       "\n",
       "    .dataframe thead th {\n",
       "        text-align: right;\n",
       "    }\n",
       "</style>\n",
       "<table border=\"1\" class=\"dataframe\">\n",
       "  <thead>\n",
       "    <tr style=\"text-align: right;\">\n",
       "      <th></th>\n",
       "      <th>DATAFLOW</th>\n",
       "      <th>LAST UPDATE</th>\n",
       "      <th>freq</th>\n",
       "      <th>unit</th>\n",
       "      <th>coicop</th>\n",
       "      <th>geo</th>\n",
       "      <th>TIME_PERIOD</th>\n",
       "      <th>OBS_VALUE</th>\n",
       "      <th>OBS_FLAG</th>\n",
       "      <th>CONF_STATUS</th>\n",
       "    </tr>\n",
       "  </thead>\n",
       "  <tbody>\n",
       "    <tr>\n",
       "      <th>0</th>\n",
       "      <td>ESTAT:TEC00027(1.0)</td>\n",
       "      <td>19/03/25 11:00:00</td>\n",
       "      <td>Annual</td>\n",
       "      <td>Annual average index</td>\n",
       "      <td>All-items HICP</td>\n",
       "      <td>Albania</td>\n",
       "      <td>2016</td>\n",
       "      <td>101.51</td>\n",
       "      <td>d</td>\n",
       "      <td>NaN</td>\n",
       "    </tr>\n",
       "    <tr>\n",
       "      <th>1</th>\n",
       "      <td>ESTAT:TEC00027(1.0)</td>\n",
       "      <td>19/03/25 11:00:00</td>\n",
       "      <td>Annual</td>\n",
       "      <td>Annual average index</td>\n",
       "      <td>All-items HICP</td>\n",
       "      <td>Albania</td>\n",
       "      <td>2017</td>\n",
       "      <td>104.76</td>\n",
       "      <td>d</td>\n",
       "      <td>NaN</td>\n",
       "    </tr>\n",
       "    <tr>\n",
       "      <th>2</th>\n",
       "      <td>ESTAT:TEC00027(1.0)</td>\n",
       "      <td>19/03/25 11:00:00</td>\n",
       "      <td>Annual</td>\n",
       "      <td>Annual average index</td>\n",
       "      <td>All-items HICP</td>\n",
       "      <td>Albania</td>\n",
       "      <td>2018</td>\n",
       "      <td>106.59</td>\n",
       "      <td>d</td>\n",
       "      <td>NaN</td>\n",
       "    </tr>\n",
       "    <tr>\n",
       "      <th>3</th>\n",
       "      <td>ESTAT:TEC00027(1.0)</td>\n",
       "      <td>19/03/25 11:00:00</td>\n",
       "      <td>Annual</td>\n",
       "      <td>Annual average index</td>\n",
       "      <td>All-items HICP</td>\n",
       "      <td>Albania</td>\n",
       "      <td>2019</td>\n",
       "      <td>108.39</td>\n",
       "      <td>d</td>\n",
       "      <td>NaN</td>\n",
       "    </tr>\n",
       "    <tr>\n",
       "      <th>4</th>\n",
       "      <td>ESTAT:TEC00027(1.0)</td>\n",
       "      <td>19/03/25 11:00:00</td>\n",
       "      <td>Annual</td>\n",
       "      <td>Annual average index</td>\n",
       "      <td>All-items HICP</td>\n",
       "      <td>Albania</td>\n",
       "      <td>2020</td>\n",
       "      <td>110.74</td>\n",
       "      <td>d</td>\n",
       "      <td>NaN</td>\n",
       "    </tr>\n",
       "  </tbody>\n",
       "</table>\n",
       "</div>"
      ],
      "text/plain": [
       "              DATAFLOW        LAST UPDATE    freq                  unit  \\\n",
       "0  ESTAT:TEC00027(1.0)  19/03/25 11:00:00  Annual  Annual average index   \n",
       "1  ESTAT:TEC00027(1.0)  19/03/25 11:00:00  Annual  Annual average index   \n",
       "2  ESTAT:TEC00027(1.0)  19/03/25 11:00:00  Annual  Annual average index   \n",
       "3  ESTAT:TEC00027(1.0)  19/03/25 11:00:00  Annual  Annual average index   \n",
       "4  ESTAT:TEC00027(1.0)  19/03/25 11:00:00  Annual  Annual average index   \n",
       "\n",
       "           coicop      geo  TIME_PERIOD  OBS_VALUE OBS_FLAG  CONF_STATUS  \n",
       "0  All-items HICP  Albania         2016     101.51        d          NaN  \n",
       "1  All-items HICP  Albania         2017     104.76        d          NaN  \n",
       "2  All-items HICP  Albania         2018     106.59        d          NaN  \n",
       "3  All-items HICP  Albania         2019     108.39        d          NaN  \n",
       "4  All-items HICP  Albania         2020     110.74        d          NaN  "
      ]
     },
     "execution_count": 20,
     "metadata": {},
     "output_type": "execute_result"
    }
   ],
   "source": [
    "df.head()"
   ]
  },
  {
   "cell_type": "code",
   "execution_count": 21,
   "id": "577dea46a717bc74",
   "metadata": {
    "ExecuteTime": {
     "end_time": "2025-03-26T21:34:12.301617800Z",
     "start_time": "2025-03-26T21:34:12.231615300Z"
    },
    "collapsed": false
   },
   "outputs": [
    {
     "name": "stdout",
     "output_type": "stream",
     "text": [
      "<class 'pandas.core.frame.DataFrame'>\n",
      "RangeIndex: 479 entries, 0 to 478\n",
      "Data columns (total 10 columns):\n",
      " #   Column       Non-Null Count  Dtype  \n",
      "---  ------       --------------  -----  \n",
      " 0   DATAFLOW     479 non-null    object \n",
      " 1   LAST UPDATE  479 non-null    object \n",
      " 2   freq         479 non-null    object \n",
      " 3   unit         479 non-null    object \n",
      " 4   coicop       479 non-null    object \n",
      " 5   geo          479 non-null    object \n",
      " 6   TIME_PERIOD  479 non-null    int64  \n",
      " 7   OBS_VALUE    479 non-null    float64\n",
      " 8   OBS_FLAG     76 non-null     object \n",
      " 9   CONF_STATUS  0 non-null      float64\n",
      "dtypes: float64(2), int64(1), object(7)\n",
      "memory usage: 37.6+ KB\n"
     ]
    }
   ],
   "source": [
    "df.info()"
   ]
  },
  {
   "cell_type": "code",
   "execution_count": 22,
   "id": "6d6594ee412294fa",
   "metadata": {
    "ExecuteTime": {
     "end_time": "2025-03-26T21:34:12.452889100Z",
     "start_time": "2025-03-26T21:34:12.357186800Z"
    },
    "collapsed": false
   },
   "outputs": [],
   "source": [
    "columns_to_drop = [\"OBS_FLAG\", \"DATAFLOW\", \"CONF_STATUS\", \"freq\", \"incgrp\", \"unit\", \"LAST UPDATE\", \"coicop\"]\n",
    "df = df.drop(columns=[col for col in columns_to_drop if col in df.columns])"
   ]
  },
  {
   "cell_type": "code",
   "execution_count": 23,
   "id": "84fc6ff5e3a465ba",
   "metadata": {
    "ExecuteTime": {
     "end_time": "2025-03-26T21:34:12.570084100Z",
     "start_time": "2025-03-26T21:34:12.511849500Z"
    },
    "collapsed": false
   },
   "outputs": [],
   "source": [
    "df = df.dropna()"
   ]
  },
  {
   "cell_type": "code",
   "execution_count": 24,
   "id": "80845879c13c05b0",
   "metadata": {
    "ExecuteTime": {
     "end_time": "2025-03-26T21:34:13.001118900Z",
     "start_time": "2025-03-26T21:34:12.980452400Z"
    },
    "collapsed": false
   },
   "outputs": [
    {
     "name": "stdout",
     "output_type": "stream",
     "text": [
      "Uniques values in geo: ['Albania' 'Austria' 'Belgium' 'Bulgaria' 'Switzerland' 'Cyprus' 'Czechia'\n",
      " 'Germany' 'Denmark' 'Euro area - 19 countries  (2015-2022)'\n",
      " 'Euro area – 20 countries (from 2023)' 'Estonia' 'Greece' 'Spain'\n",
      " 'European Union - 27 countries (from 2020)' 'Finland' 'France' 'Croatia'\n",
      " 'Hungary' 'Ireland' 'Iceland' 'Italy' 'Lithuania' 'Luxembourg' 'Latvia'\n",
      " 'Montenegro' 'North Macedonia' 'Malta' 'Netherlands' 'Norway' 'Poland'\n",
      " 'Portugal' 'Romania' 'Serbia' 'Sweden' 'Slovenia' 'Slovakia' 'Türkiye'\n",
      " 'United Kingdom' 'United States' 'Kosovo*']\n",
      "Uniques values in TIME_PERIOD: [2016 2017 2018 2019 2020 2021 2022 2023 2024 2013 2014 2015]\n",
      "Uniques values in OBS_VALUE: [101.51 104.76 106.59 108.39 110.74 113.26 120.69 127.13 130.38  97.77\n",
      "  99.2  100.   100.97 103.22 105.41 106.98 108.47 111.46 121.07 130.4\n",
      " 134.21  98.9   99.38 101.77 104.03 106.44 107.77 108.23 111.71 123.26\n",
      " 126.07 131.52 102.72 101.08  98.68  99.85 102.48 104.99 106.27 109.3\n",
      " 123.52 134.15 137.63 100.83 100.84  99.47 100.11 101.03 101.41 100.56\n",
      " 101.04 103.74 106.1  107.25 101.84 101.57  98.78  99.45 100.23 100.78\n",
      "  99.67 101.92 110.17 114.5  117.09  99.3   99.8  100.7  103.1  105.1\n",
      " 107.8  111.4  115.1  132.1  147.9  151.9   98.6  100.4  102.1  104.\n",
      " 105.5  105.8  109.2  118.7  125.9  129.    99.4  101.1  101.8  102.5\n",
      " 102.9  104.9  113.8  117.6  119.1   99.81 101.78 103.56 104.8  105.06\n",
      " 107.78 116.82 123.14 126.03  99.39 103.55 104.79 105.05 116.83 123.17\n",
      " 126.08  99.46  99.93 100.8  104.48 108.05 110.5  109.8  114.72 137.03\n",
      " 149.52 155.1  102.54 101.11 100.02 101.15 101.94 102.46 101.17 101.75\n",
      " 111.21 115.84 119.31 100.63  99.66 101.69 103.46 104.26 103.91 107.04\n",
      " 115.95 119.89 123.33  99.49  99.89 100.18 101.74 103.57 105.04 105.76\n",
      " 108.82 118.82 126.38 129.67  98.96 100.16 100.39 101.23 102.42 103.58\n",
      " 103.98 106.12 113.74 118.67 119.83  99.31  99.91 100.31 101.47 103.6\n",
      " 104.95 107.68 114.04 120.5  123.29 100.04 100.26  99.37 100.67 102.23\n",
      " 103.04 103.06 105.82 117.11 126.94 132.04  99.92  99.94 100.45 102.84\n",
      " 105.84 109.46 113.15 119.04 137.22 160.59 166.56  99.7  100.1  101.7\n",
      " 101.2  112.   117.8  119.4   98.76  99.74 100.79  99.13  99.86 101.85\n",
      " 106.84 112.96 121.96 127.47  99.9  101.3  103.2  103.   105.   114.2\n",
      " 120.9  122.3  100.44 100.68 104.42 107.07 109.47 110.63 115.75 137.57\n",
      " 150.79  99.25 102.15 104.21 105.93 109.61 118.55 122.02 124.77  99.11\n",
      "  99.79 105.63 108.53 108.62 112.14 131.47 143.38 145.32 102.68 105.39\n",
      " 105.94 108.03 120.92 131.5  136.24  99.87 100.24 102.35 104.66 105.42\n",
      " 106.73 110.36 125.83 137.15 142.96  98.08  98.84 100.9  102.18 103.95\n",
      " 105.54 106.37 107.12 113.69 120.01 122.94 101.4  103.02 105.78 106.96\n",
      " 109.98 122.78 127.81 131.92  96.2   98.   103.9  109.   111.5  112.8\n",
      " 117.2  124.5  131.6  135.4  100.6  102.6  108.6  114.3  129.4  143.5\n",
      " 148.7   99.65  99.5  100.64 102.2  103.4  103.71 104.55 113.03 118.98\n",
      " 122.15  99.04 100.41  98.93 104.08 108.15 110.67 115.21 129.06 141.64\n",
      " 149.91  96.3   98.5  104.7  106.8  108.8  110.7  115.2  128.7  144.2\n",
      " 151.1   99.1  101.14 105.12 106.93 107.63 110.49 119.39 126.44 128.98\n",
      " 100.77 103.36 105.11 104.82 106.97 116.94 125.38 127.87 100.35  99.52\n",
      " 106.33 111.53 125.05 138.79 143.17  85.22  92.81 107.66 119.63 139.17\n",
      " 160.3  179.98 215.24 370.82 570.94 905.21 105.9  100.76 100.57 102.34\n",
      " 105.99 112.5  122.27 125.94 128.5  100.27 105.59 109.35 122.01 128.04\n",
      " 130.12]\n"
     ]
    }
   ],
   "source": [
    "for col in df.columns:\n",
    "    print(f\"Uniques values in {col}: {df[col].unique()}\")"
   ]
  },
  {
   "cell_type": "code",
   "execution_count": 25,
   "id": "466caedc9ba5e5e4",
   "metadata": {
    "ExecuteTime": {
     "end_time": "2025-03-26T21:34:13.442789200Z",
     "start_time": "2025-03-26T21:34:13.424931300Z"
    },
    "collapsed": false
   },
   "outputs": [],
   "source": [
    "df = df[~df[\"geo\"].isin(['European Union - 27 countries (from 2020)',\n",
    "                         'Euro area (EA11-1999, EA12-2001, EA13-2007, EA15-2008, EA16-2009, EA17-2011, EA18-2014, EA19-2015, EA20-2023)',\n",
    "                         'Euro area - 17 countries (2011-2013)',\n",
    "                         'European Union (EU6-1958, EU9-1973, EU10-1981, EU12-1986, EU15-1995, EU25-2004, EU27-2007, EU28-2013, EU27-2020)',\n",
    "                         'European Union - 15 countries (1995-2004)',\n",
    "                         'European Union - 27 countries (2007-2013)',\n",
    "                         'European Union - 27 countries (from 2020)',\n",
    "                         'European Union - 28 countries (2013-2020)'\n",
    "                         'Euro area - 19 countries  (2015-2022)',\n",
    "                         'Euro area – 20 countries (from 2023)',\n",
    "                         'Euro area - 18 countries (2014)',\n",
    "                         'Euro area - 19 countries  (2015-2022)',\n",
    "                         'European Union - 28 countries (2013-2020)'\n",
    "                         ])]\n",
    "\n",
    "columns_to_drop = [\"freq\", \"indic_de\", \"statinfo\", \"age\", \"unit\", 'isced11']\n",
    "df = df.drop(columns=[col for col in columns_to_drop if col in df.columns])"
   ]
  },
  {
   "cell_type": "code",
   "execution_count": 26,
   "id": "ccd59256",
   "metadata": {},
   "outputs": [
    {
     "name": "stdout",
     "output_type": "stream",
     "text": [
      "Uniques values in geo: ['Albania' 'Austria' 'Belgium' 'Bulgaria' 'Switzerland' 'Cyprus' 'Czechia'\n",
      " 'Germany' 'Denmark' 'Estonia' 'Greece' 'Spain' 'Finland' 'France'\n",
      " 'Croatia' 'Hungary' 'Ireland' 'Iceland' 'Italy' 'Lithuania' 'Luxembourg'\n",
      " 'Latvia' 'Montenegro' 'North Macedonia' 'Malta' 'Netherlands' 'Norway'\n",
      " 'Poland' 'Portugal' 'Romania' 'Serbia' 'Sweden' 'Slovenia' 'Slovakia'\n",
      " 'Türkiye' 'United Kingdom' 'United States' 'Kosovo*']\n",
      "Uniques values in TIME_PERIOD: [2016 2017 2018 2019 2020 2021 2022 2023 2024 2013 2014 2015]\n",
      "Uniques values in OBS_VALUE: [101.51 104.76 106.59 108.39 110.74 113.26 120.69 127.13 130.38  97.77\n",
      "  99.2  100.   100.97 103.22 105.41 106.98 108.47 111.46 121.07 130.4\n",
      " 134.21  98.9   99.38 101.77 104.03 106.44 107.77 108.23 111.71 123.26\n",
      " 126.07 131.52 102.72 101.08  98.68  99.85 102.48 104.99 106.27 109.3\n",
      " 123.52 134.15 137.63 100.83 100.84  99.47 100.11 101.03 101.41 100.56\n",
      " 101.04 103.74 106.1  107.25 101.84 101.57  98.78  99.45 100.23 100.78\n",
      "  99.67 101.92 110.17 114.5  117.09  99.3   99.8  100.7  103.1  105.1\n",
      " 107.8  111.4  115.1  132.1  147.9  151.9   98.6  100.4  102.1  104.\n",
      " 105.5  105.8  109.2  118.7  125.9  129.    99.4  101.1  101.8  102.5\n",
      " 102.9  104.9  113.8  117.6  119.1   99.46  99.93 100.8  104.48 108.05\n",
      " 110.5  109.8  114.72 137.03 149.52 155.1  102.54 101.11 100.02 101.15\n",
      " 101.94 102.46 101.17 101.75 111.21 115.84 119.31 100.63  99.66 101.69\n",
      " 103.46 104.26 103.91 107.04 115.95 119.89 123.33  98.96 100.16 100.39\n",
      " 101.23 102.42 103.58 103.98 106.12 113.74 118.67 119.83  99.31  99.91\n",
      " 100.31 101.47 103.6  104.95 107.68 114.04 120.5  123.29 100.04 100.26\n",
      "  99.37 100.67 102.23 103.04 103.06 105.82 117.11 126.94 132.04  99.92\n",
      "  99.94 100.45 102.84 105.84 109.46 113.15 119.04 137.22 160.59 166.56\n",
      "  99.7  100.1  101.7  101.2  112.   117.8  119.4   98.76  99.74 100.79\n",
      "  99.13  99.86 101.85 106.84 112.96 121.96 127.47  99.9  101.3  103.2\n",
      " 103.   105.   114.2  120.9  122.3  100.44 100.68 104.42 107.07 109.47\n",
      " 110.63 115.75 137.57 150.79  99.25 102.15 104.21 105.93 109.61 118.55\n",
      " 122.02 124.77  99.11  99.79 105.63 108.53 108.62 112.14 131.47 143.38\n",
      " 145.32 102.68 105.39 105.94 108.03 120.92 131.5  136.24  99.87 100.24\n",
      " 102.35 104.66 105.42 106.73 110.36 125.83 137.15 142.96  98.08  98.84\n",
      " 100.9  102.18 103.95 105.54 106.37 107.12 113.69 120.01 122.94 101.4\n",
      " 103.02 105.78 106.96 109.98 122.78 127.81 131.92  96.2   98.   103.9\n",
      " 109.   111.5  112.8  117.2  124.5  131.6  135.4  100.6  102.6  104.8\n",
      " 108.6  114.3  129.4  143.5  148.7   99.65  99.5  100.64 102.2  103.4\n",
      " 103.71 104.55 113.03 118.98 122.15  99.04 100.41  98.93 104.08 108.15\n",
      " 110.67 115.21 129.06 141.64 149.91  96.3   98.5  104.7  106.8  108.8\n",
      " 110.7  115.2  128.7  144.2  151.1   99.1  101.14 105.12 106.93 107.63\n",
      " 110.49 119.39 126.44 128.98 100.77 103.36 105.11 104.82 106.97 116.94\n",
      " 125.38 127.87 100.35  99.52 106.33 111.53 125.05 138.79 143.17  85.22\n",
      "  92.81 107.66 119.63 139.17 160.3  179.98 215.24 370.82 570.94 905.21\n",
      " 105.9  100.76 100.57 102.34 105.99 112.5  122.27 125.94 128.5  100.27\n",
      " 105.59 109.35 122.01 128.04 130.12]\n"
     ]
    }
   ],
   "source": [
    "for col in df.columns:\n",
    "    print(f\"Uniques values in {col}: {df[col].unique()}\")"
   ]
  },
  {
   "cell_type": "code",
   "execution_count": 27,
   "id": "f5cd5fe0f9dff462",
   "metadata": {
    "ExecuteTime": {
     "end_time": "2025-03-26T21:34:13.584270Z",
     "start_time": "2025-03-26T21:34:13.575390500Z"
    },
    "collapsed": false
   },
   "outputs": [],
   "source": [
    "df = df.rename(columns={\"OBS_VALUE\": \"HICP value\", \"TIME_PERIOD\": \"Time period\"})"
   ]
  },
  {
   "cell_type": "code",
   "execution_count": 28,
   "id": "a2bdb21270c90dea",
   "metadata": {
    "ExecuteTime": {
     "end_time": "2025-03-26T21:34:14.841410500Z",
     "start_time": "2025-03-26T21:34:14.791310900Z"
    },
    "collapsed": false
   },
   "outputs": [],
   "source": [
    "df.to_csv(\"../../processed_data/HICP_annual_indices_for_all_goods.csv\", index=False)"
   ]
  }
 ],
 "metadata": {
  "kernelspec": {
   "display_name": "venv",
   "language": "python",
   "name": "python3"
  },
  "language_info": {
   "codemirror_mode": {
    "name": "ipython",
    "version": 3
   },
   "file_extension": ".py",
   "mimetype": "text/x-python",
   "name": "python",
   "nbconvert_exporter": "python",
   "pygments_lexer": "ipython3",
   "version": "3.13.0"
  }
 },
 "nbformat": 4,
 "nbformat_minor": 5
}
