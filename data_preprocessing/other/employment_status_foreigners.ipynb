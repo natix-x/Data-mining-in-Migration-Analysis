{
 "cells": [
  {
   "cell_type": "code",
   "execution_count": 15,
   "id": "2de2d4cb",
   "metadata": {},
   "outputs": [],
   "source": [
    "import pandas as pd"
   ]
  },
  {
   "cell_type": "markdown",
   "id": "3bb35d89",
   "metadata": {},
   "source": [
    "Population by sex, age, citizenship and labour status (1 000) \\\n",
    "In thousand persons!"
   ]
  },
  {
   "cell_type": "code",
   "execution_count": 16,
   "id": "b404509a",
   "metadata": {},
   "outputs": [],
   "source": [
    "df = pd.read_csv('../../data/population_by_sex_age_labour_status_foreigners.csv')"
   ]
  },
  {
   "cell_type": "code",
   "execution_count": 17,
   "id": "172d97da",
   "metadata": {},
   "outputs": [
    {
     "data": {
      "text/html": [
       "<div>\n",
       "<style scoped>\n",
       "    .dataframe tbody tr th:only-of-type {\n",
       "        vertical-align: middle;\n",
       "    }\n",
       "\n",
       "    .dataframe tbody tr th {\n",
       "        vertical-align: top;\n",
       "    }\n",
       "\n",
       "    .dataframe thead th {\n",
       "        text-align: right;\n",
       "    }\n",
       "</style>\n",
       "<table border=\"1\" class=\"dataframe\">\n",
       "  <thead>\n",
       "    <tr style=\"text-align: right;\">\n",
       "      <th></th>\n",
       "      <th>STRUCTURE</th>\n",
       "      <th>STRUCTURE_ID</th>\n",
       "      <th>STRUCTURE_NAME</th>\n",
       "      <th>freq</th>\n",
       "      <th>Time frequency</th>\n",
       "      <th>unit</th>\n",
       "      <th>Unit of measure</th>\n",
       "      <th>sex</th>\n",
       "      <th>Sex</th>\n",
       "      <th>citizen</th>\n",
       "      <th>...</th>\n",
       "      <th>geo</th>\n",
       "      <th>Geopolitical entity (reporting)</th>\n",
       "      <th>TIME_PERIOD</th>\n",
       "      <th>Time</th>\n",
       "      <th>OBS_VALUE</th>\n",
       "      <th>Observation value</th>\n",
       "      <th>OBS_FLAG</th>\n",
       "      <th>Observation status (Flag) V2 structure</th>\n",
       "      <th>CONF_STATUS</th>\n",
       "      <th>Confidentiality status (flag)</th>\n",
       "    </tr>\n",
       "  </thead>\n",
       "  <tbody>\n",
       "    <tr>\n",
       "      <th>0</th>\n",
       "      <td>dataflow</td>\n",
       "      <td>ESTAT:LFSA_PGANWS(1.0)</td>\n",
       "      <td>Population by sex, age, citizenship and labour...</td>\n",
       "      <td>A</td>\n",
       "      <td>Annual</td>\n",
       "      <td>THS_PER</td>\n",
       "      <td>Thousand persons</td>\n",
       "      <td>F</td>\n",
       "      <td>Females</td>\n",
       "      <td>FOR</td>\n",
       "      <td>...</td>\n",
       "      <td>AT</td>\n",
       "      <td>Austria</td>\n",
       "      <td>2014</td>\n",
       "      <td>NaN</td>\n",
       "      <td>244.8</td>\n",
       "      <td>NaN</td>\n",
       "      <td>NaN</td>\n",
       "      <td>NaN</td>\n",
       "      <td>NaN</td>\n",
       "      <td>NaN</td>\n",
       "    </tr>\n",
       "    <tr>\n",
       "      <th>1</th>\n",
       "      <td>dataflow</td>\n",
       "      <td>ESTAT:LFSA_PGANWS(1.0)</td>\n",
       "      <td>Population by sex, age, citizenship and labour...</td>\n",
       "      <td>A</td>\n",
       "      <td>Annual</td>\n",
       "      <td>THS_PER</td>\n",
       "      <td>Thousand persons</td>\n",
       "      <td>F</td>\n",
       "      <td>Females</td>\n",
       "      <td>FOR</td>\n",
       "      <td>...</td>\n",
       "      <td>AT</td>\n",
       "      <td>Austria</td>\n",
       "      <td>2015</td>\n",
       "      <td>NaN</td>\n",
       "      <td>253.2</td>\n",
       "      <td>NaN</td>\n",
       "      <td>NaN</td>\n",
       "      <td>NaN</td>\n",
       "      <td>NaN</td>\n",
       "      <td>NaN</td>\n",
       "    </tr>\n",
       "    <tr>\n",
       "      <th>2</th>\n",
       "      <td>dataflow</td>\n",
       "      <td>ESTAT:LFSA_PGANWS(1.0)</td>\n",
       "      <td>Population by sex, age, citizenship and labour...</td>\n",
       "      <td>A</td>\n",
       "      <td>Annual</td>\n",
       "      <td>THS_PER</td>\n",
       "      <td>Thousand persons</td>\n",
       "      <td>F</td>\n",
       "      <td>Females</td>\n",
       "      <td>FOR</td>\n",
       "      <td>...</td>\n",
       "      <td>AT</td>\n",
       "      <td>Austria</td>\n",
       "      <td>2016</td>\n",
       "      <td>NaN</td>\n",
       "      <td>282.5</td>\n",
       "      <td>NaN</td>\n",
       "      <td>NaN</td>\n",
       "      <td>NaN</td>\n",
       "      <td>NaN</td>\n",
       "      <td>NaN</td>\n",
       "    </tr>\n",
       "    <tr>\n",
       "      <th>3</th>\n",
       "      <td>dataflow</td>\n",
       "      <td>ESTAT:LFSA_PGANWS(1.0)</td>\n",
       "      <td>Population by sex, age, citizenship and labour...</td>\n",
       "      <td>A</td>\n",
       "      <td>Annual</td>\n",
       "      <td>THS_PER</td>\n",
       "      <td>Thousand persons</td>\n",
       "      <td>F</td>\n",
       "      <td>Females</td>\n",
       "      <td>FOR</td>\n",
       "      <td>...</td>\n",
       "      <td>AT</td>\n",
       "      <td>Austria</td>\n",
       "      <td>2017</td>\n",
       "      <td>NaN</td>\n",
       "      <td>293.7</td>\n",
       "      <td>NaN</td>\n",
       "      <td>NaN</td>\n",
       "      <td>NaN</td>\n",
       "      <td>NaN</td>\n",
       "      <td>NaN</td>\n",
       "    </tr>\n",
       "    <tr>\n",
       "      <th>4</th>\n",
       "      <td>dataflow</td>\n",
       "      <td>ESTAT:LFSA_PGANWS(1.0)</td>\n",
       "      <td>Population by sex, age, citizenship and labour...</td>\n",
       "      <td>A</td>\n",
       "      <td>Annual</td>\n",
       "      <td>THS_PER</td>\n",
       "      <td>Thousand persons</td>\n",
       "      <td>F</td>\n",
       "      <td>Females</td>\n",
       "      <td>FOR</td>\n",
       "      <td>...</td>\n",
       "      <td>AT</td>\n",
       "      <td>Austria</td>\n",
       "      <td>2018</td>\n",
       "      <td>NaN</td>\n",
       "      <td>311.2</td>\n",
       "      <td>NaN</td>\n",
       "      <td>NaN</td>\n",
       "      <td>NaN</td>\n",
       "      <td>NaN</td>\n",
       "      <td>NaN</td>\n",
       "    </tr>\n",
       "  </tbody>\n",
       "</table>\n",
       "<p>5 rows × 25 columns</p>\n",
       "</div>"
      ],
      "text/plain": [
       "  STRUCTURE            STRUCTURE_ID  \\\n",
       "0  dataflow  ESTAT:LFSA_PGANWS(1.0)   \n",
       "1  dataflow  ESTAT:LFSA_PGANWS(1.0)   \n",
       "2  dataflow  ESTAT:LFSA_PGANWS(1.0)   \n",
       "3  dataflow  ESTAT:LFSA_PGANWS(1.0)   \n",
       "4  dataflow  ESTAT:LFSA_PGANWS(1.0)   \n",
       "\n",
       "                                      STRUCTURE_NAME freq Time frequency  \\\n",
       "0  Population by sex, age, citizenship and labour...    A         Annual   \n",
       "1  Population by sex, age, citizenship and labour...    A         Annual   \n",
       "2  Population by sex, age, citizenship and labour...    A         Annual   \n",
       "3  Population by sex, age, citizenship and labour...    A         Annual   \n",
       "4  Population by sex, age, citizenship and labour...    A         Annual   \n",
       "\n",
       "      unit   Unit of measure sex      Sex citizen  ... geo  \\\n",
       "0  THS_PER  Thousand persons   F  Females     FOR  ...  AT   \n",
       "1  THS_PER  Thousand persons   F  Females     FOR  ...  AT   \n",
       "2  THS_PER  Thousand persons   F  Females     FOR  ...  AT   \n",
       "3  THS_PER  Thousand persons   F  Females     FOR  ...  AT   \n",
       "4  THS_PER  Thousand persons   F  Females     FOR  ...  AT   \n",
       "\n",
       "  Geopolitical entity (reporting) TIME_PERIOD Time OBS_VALUE  \\\n",
       "0                         Austria        2014  NaN     244.8   \n",
       "1                         Austria        2015  NaN     253.2   \n",
       "2                         Austria        2016  NaN     282.5   \n",
       "3                         Austria        2017  NaN     293.7   \n",
       "4                         Austria        2018  NaN     311.2   \n",
       "\n",
       "  Observation value OBS_FLAG  Observation status (Flag) V2 structure  \\\n",
       "0               NaN      NaN                                     NaN   \n",
       "1               NaN      NaN                                     NaN   \n",
       "2               NaN      NaN                                     NaN   \n",
       "3               NaN      NaN                                     NaN   \n",
       "4               NaN      NaN                                     NaN   \n",
       "\n",
       "   CONF_STATUS  Confidentiality status (flag)  \n",
       "0          NaN                            NaN  \n",
       "1          NaN                            NaN  \n",
       "2          NaN                            NaN  \n",
       "3          NaN                            NaN  \n",
       "4          NaN                            NaN  \n",
       "\n",
       "[5 rows x 25 columns]"
      ]
     },
     "execution_count": 17,
     "metadata": {},
     "output_type": "execute_result"
    }
   ],
   "source": [
    "df.head()"
   ]
  },
  {
   "cell_type": "code",
   "execution_count": 18,
   "id": "aeac08ce",
   "metadata": {},
   "outputs": [
    {
     "data": {
      "text/plain": [
       "Index(['STRUCTURE', 'STRUCTURE_ID', 'STRUCTURE_NAME', 'freq', 'Time frequency',\n",
       "       'unit', 'Unit of measure', 'sex', 'Sex', 'citizen',\n",
       "       'Country of citizenship', 'age', 'Age class', 'wstatus',\n",
       "       'Labour force and employment status', 'geo',\n",
       "       'Geopolitical entity (reporting)', 'TIME_PERIOD', 'Time', 'OBS_VALUE',\n",
       "       'Observation value', 'OBS_FLAG',\n",
       "       'Observation status (Flag) V2 structure', 'CONF_STATUS',\n",
       "       'Confidentiality status (flag)'],\n",
       "      dtype='object')"
      ]
     },
     "execution_count": 18,
     "metadata": {},
     "output_type": "execute_result"
    }
   ],
   "source": [
    "df.columns"
   ]
  },
  {
   "cell_type": "code",
   "execution_count": 19,
   "id": "6193698f",
   "metadata": {},
   "outputs": [],
   "source": [
    "df = df[['Sex', 'Labour force and employment status', 'Geopolitical entity (reporting)', 'TIME_PERIOD', 'OBS_VALUE']]"
   ]
  },
  {
   "cell_type": "code",
   "execution_count": 20,
   "id": "52a4fa32",
   "metadata": {},
   "outputs": [
    {
     "data": {
      "text/html": [
       "<div>\n",
       "<style scoped>\n",
       "    .dataframe tbody tr th:only-of-type {\n",
       "        vertical-align: middle;\n",
       "    }\n",
       "\n",
       "    .dataframe tbody tr th {\n",
       "        vertical-align: top;\n",
       "    }\n",
       "\n",
       "    .dataframe thead th {\n",
       "        text-align: right;\n",
       "    }\n",
       "</style>\n",
       "<table border=\"1\" class=\"dataframe\">\n",
       "  <thead>\n",
       "    <tr style=\"text-align: right;\">\n",
       "      <th></th>\n",
       "      <th>Sex</th>\n",
       "      <th>Labour force and employment status</th>\n",
       "      <th>Geopolitical entity (reporting)</th>\n",
       "      <th>TIME_PERIOD</th>\n",
       "      <th>OBS_VALUE</th>\n",
       "    </tr>\n",
       "  </thead>\n",
       "  <tbody>\n",
       "    <tr>\n",
       "      <th>0</th>\n",
       "      <td>Females</td>\n",
       "      <td>Employed persons</td>\n",
       "      <td>Austria</td>\n",
       "      <td>2014</td>\n",
       "      <td>244.8</td>\n",
       "    </tr>\n",
       "    <tr>\n",
       "      <th>1</th>\n",
       "      <td>Females</td>\n",
       "      <td>Employed persons</td>\n",
       "      <td>Austria</td>\n",
       "      <td>2015</td>\n",
       "      <td>253.2</td>\n",
       "    </tr>\n",
       "    <tr>\n",
       "      <th>2</th>\n",
       "      <td>Females</td>\n",
       "      <td>Employed persons</td>\n",
       "      <td>Austria</td>\n",
       "      <td>2016</td>\n",
       "      <td>282.5</td>\n",
       "    </tr>\n",
       "    <tr>\n",
       "      <th>3</th>\n",
       "      <td>Females</td>\n",
       "      <td>Employed persons</td>\n",
       "      <td>Austria</td>\n",
       "      <td>2017</td>\n",
       "      <td>293.7</td>\n",
       "    </tr>\n",
       "    <tr>\n",
       "      <th>4</th>\n",
       "      <td>Females</td>\n",
       "      <td>Employed persons</td>\n",
       "      <td>Austria</td>\n",
       "      <td>2018</td>\n",
       "      <td>311.2</td>\n",
       "    </tr>\n",
       "  </tbody>\n",
       "</table>\n",
       "</div>"
      ],
      "text/plain": [
       "       Sex Labour force and employment status Geopolitical entity (reporting)  \\\n",
       "0  Females                   Employed persons                         Austria   \n",
       "1  Females                   Employed persons                         Austria   \n",
       "2  Females                   Employed persons                         Austria   \n",
       "3  Females                   Employed persons                         Austria   \n",
       "4  Females                   Employed persons                         Austria   \n",
       "\n",
       "   TIME_PERIOD  OBS_VALUE  \n",
       "0         2014      244.8  \n",
       "1         2015      253.2  \n",
       "2         2016      282.5  \n",
       "3         2017      293.7  \n",
       "4         2018      311.2  "
      ]
     },
     "execution_count": 20,
     "metadata": {},
     "output_type": "execute_result"
    }
   ],
   "source": [
    "df.head()"
   ]
  },
  {
   "cell_type": "code",
   "execution_count": 21,
   "id": "b134db64",
   "metadata": {},
   "outputs": [
    {
     "name": "stdout",
     "output_type": "stream",
     "text": [
      "<class 'pandas.core.frame.DataFrame'>\n",
      "RangeIndex: 3258 entries, 0 to 3257\n",
      "Data columns (total 5 columns):\n",
      " #   Column                              Non-Null Count  Dtype  \n",
      "---  ------                              --------------  -----  \n",
      " 0   Sex                                 3258 non-null   object \n",
      " 1   Labour force and employment status  3258 non-null   object \n",
      " 2   Geopolitical entity (reporting)     3258 non-null   object \n",
      " 3   TIME_PERIOD                         3258 non-null   int64  \n",
      " 4   OBS_VALUE                           2798 non-null   float64\n",
      "dtypes: float64(1), int64(1), object(3)\n",
      "memory usage: 127.4+ KB\n"
     ]
    }
   ],
   "source": [
    "df.info()"
   ]
  },
  {
   "cell_type": "code",
   "execution_count": 22,
   "id": "c264d383",
   "metadata": {},
   "outputs": [
    {
     "data": {
      "text/plain": [
       "array([2014, 2015, 2016, 2017, 2018, 2019, 2020, 2021, 2022, 2023, 2024])"
      ]
     },
     "execution_count": 22,
     "metadata": {},
     "output_type": "execute_result"
    }
   ],
   "source": [
    "df['TIME_PERIOD'].unique()"
   ]
  },
  {
   "cell_type": "code",
   "execution_count": 23,
   "id": "4a35a695",
   "metadata": {},
   "outputs": [
    {
     "name": "stdout",
     "output_type": "stream",
     "text": [
      "<class 'pandas.core.frame.DataFrame'>\n",
      "Index: 1093 entries, 2165 to 3257\n",
      "Data columns (total 5 columns):\n",
      " #   Column                              Non-Null Count  Dtype  \n",
      "---  ------                              --------------  -----  \n",
      " 0   Sex                                 1093 non-null   object \n",
      " 1   Labour force and employment status  1093 non-null   object \n",
      " 2   Geopolitical entity (reporting)     1093 non-null   object \n",
      " 3   TIME_PERIOD                         1093 non-null   int64  \n",
      " 4   OBS_VALUE                           984 non-null    float64\n",
      "dtypes: float64(1), int64(1), object(3)\n",
      "memory usage: 51.2+ KB\n"
     ]
    }
   ],
   "source": [
    "df[df['Sex']=='Total'].info() # dla Total nie ma już tak dużo brakujących wartości"
   ]
  },
  {
   "cell_type": "code",
   "execution_count": 24,
   "id": "9f60c218",
   "metadata": {},
   "outputs": [],
   "source": [
    "df = df.dropna()"
   ]
  },
  {
   "cell_type": "code",
   "execution_count": 25,
   "id": "65f0f285",
   "metadata": {},
   "outputs": [],
   "source": [
    "df = df.rename(columns={\n",
    "    'Labour force and employment status': 'Employment status',\n",
    "    'Geopolitical entity (reporting)': 'geo', \n",
    "    'TIME_PERIOD': 'year',\n",
    "    'OBS_VALUE': 'In thousands'\n",
    "})"
   ]
  },
  {
   "cell_type": "code",
   "execution_count": 26,
   "id": "803a67ec",
   "metadata": {},
   "outputs": [],
   "source": [
    "df.to_csv(\"../../processed_data/employment_status_foreigners.csv\", index=False)"
   ]
  },
  {
   "cell_type": "code",
   "execution_count": null,
   "id": "b596992f",
   "metadata": {},
   "outputs": [],
   "source": []
  }
 ],
 "metadata": {
  "kernelspec": {
   "display_name": ".venv",
   "language": "python",
   "name": "python3"
  },
  "language_info": {
   "codemirror_mode": {
    "name": "ipython",
    "version": 3
   },
   "file_extension": ".py",
   "mimetype": "text/x-python",
   "name": "python",
   "nbconvert_exporter": "python",
   "pygments_lexer": "ipython3",
   "version": "3.12.6"
  }
 },
 "nbformat": 4,
 "nbformat_minor": 5
}
