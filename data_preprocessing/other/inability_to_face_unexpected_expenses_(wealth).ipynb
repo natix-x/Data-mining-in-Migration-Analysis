{
 "cells": [
  {
   "cell_type": "code",
   "execution_count": 89,
   "id": "initial_id",
   "metadata": {
    "ExecuteTime": {
     "end_time": "2025-03-26T21:34:11.560643700Z",
     "start_time": "2025-03-26T21:34:11.546196900Z"
    },
    "collapsed": true
   },
   "outputs": [],
   "source": [
    "import pandas as pd"
   ]
  },
  {
   "cell_type": "markdown",
   "id": "4eef2139c0484eec",
   "metadata": {
    "collapsed": false
   },
   "source": [
    "**Inability to face unexpected financial expenses**\n",
    "\n",
    "---\n",
    "\n",
    "Percent of people unable to face unpredicted financial expenses\n",
    "https://ec.europa.eu/eurostat/databrowser/view/ILC_MDES04__custom_70943/bookmark/table?lang=en&bookmarkId=8e195f40-5d4b-40db-9a11-49a57cef26f5"
   ]
  },
  {
   "cell_type": "code",
   "execution_count": 90,
   "id": "e62d7877612d9f57",
   "metadata": {
    "ExecuteTime": {
     "end_time": "2025-03-26T21:34:11.827874700Z",
     "start_time": "2025-03-26T21:34:11.732324900Z"
    },
    "collapsed": false
   },
   "outputs": [],
   "source": [
    "df = pd.read_csv('../../data/inability_to_face_unexpected_expenses_(wealth).csv')"
   ]
  },
  {
   "cell_type": "code",
   "execution_count": 91,
   "id": "3aac93c3c90129e0",
   "metadata": {
    "ExecuteTime": {
     "end_time": "2025-03-26T21:34:11.993588200Z",
     "start_time": "2025-03-26T21:34:11.942019700Z"
    },
    "collapsed": false
   },
   "outputs": [
    {
     "data": {
      "text/html": [
       "<div>\n",
       "<style scoped>\n",
       "    .dataframe tbody tr th:only-of-type {\n",
       "        vertical-align: middle;\n",
       "    }\n",
       "\n",
       "    .dataframe tbody tr th {\n",
       "        vertical-align: top;\n",
       "    }\n",
       "\n",
       "    .dataframe thead th {\n",
       "        text-align: right;\n",
       "    }\n",
       "</style>\n",
       "<table border=\"1\" class=\"dataframe\">\n",
       "  <thead>\n",
       "    <tr style=\"text-align: right;\">\n",
       "      <th></th>\n",
       "      <th>DATAFLOW</th>\n",
       "      <th>LAST UPDATE</th>\n",
       "      <th>freq</th>\n",
       "      <th>hhtyp</th>\n",
       "      <th>incgrp</th>\n",
       "      <th>unit</th>\n",
       "      <th>geo</th>\n",
       "      <th>TIME_PERIOD</th>\n",
       "      <th>OBS_VALUE</th>\n",
       "      <th>OBS_FLAG</th>\n",
       "      <th>CONF_STATUS</th>\n",
       "    </tr>\n",
       "  </thead>\n",
       "  <tbody>\n",
       "    <tr>\n",
       "      <th>0</th>\n",
       "      <td>ESTAT:ILC_MDES04$DEFAULTVIEW(1.0)</td>\n",
       "      <td>21/03/25 23:00:00</td>\n",
       "      <td>Annual</td>\n",
       "      <td>Single person</td>\n",
       "      <td>Total</td>\n",
       "      <td>Percentage</td>\n",
       "      <td>Albania</td>\n",
       "      <td>2017</td>\n",
       "      <td>71.5</td>\n",
       "      <td>NaN</td>\n",
       "      <td>NaN</td>\n",
       "    </tr>\n",
       "    <tr>\n",
       "      <th>1</th>\n",
       "      <td>ESTAT:ILC_MDES04$DEFAULTVIEW(1.0)</td>\n",
       "      <td>21/03/25 23:00:00</td>\n",
       "      <td>Annual</td>\n",
       "      <td>Single person</td>\n",
       "      <td>Total</td>\n",
       "      <td>Percentage</td>\n",
       "      <td>Albania</td>\n",
       "      <td>2018</td>\n",
       "      <td>66.5</td>\n",
       "      <td>NaN</td>\n",
       "      <td>NaN</td>\n",
       "    </tr>\n",
       "    <tr>\n",
       "      <th>2</th>\n",
       "      <td>ESTAT:ILC_MDES04$DEFAULTVIEW(1.0)</td>\n",
       "      <td>21/03/25 23:00:00</td>\n",
       "      <td>Annual</td>\n",
       "      <td>Single person</td>\n",
       "      <td>Total</td>\n",
       "      <td>Percentage</td>\n",
       "      <td>Albania</td>\n",
       "      <td>2019</td>\n",
       "      <td>65.1</td>\n",
       "      <td>NaN</td>\n",
       "      <td>NaN</td>\n",
       "    </tr>\n",
       "    <tr>\n",
       "      <th>3</th>\n",
       "      <td>ESTAT:ILC_MDES04$DEFAULTVIEW(1.0)</td>\n",
       "      <td>21/03/25 23:00:00</td>\n",
       "      <td>Annual</td>\n",
       "      <td>Single person</td>\n",
       "      <td>Total</td>\n",
       "      <td>Percentage</td>\n",
       "      <td>Albania</td>\n",
       "      <td>2020</td>\n",
       "      <td>58.6</td>\n",
       "      <td>NaN</td>\n",
       "      <td>NaN</td>\n",
       "    </tr>\n",
       "    <tr>\n",
       "      <th>4</th>\n",
       "      <td>ESTAT:ILC_MDES04$DEFAULTVIEW(1.0)</td>\n",
       "      <td>21/03/25 23:00:00</td>\n",
       "      <td>Annual</td>\n",
       "      <td>Single person</td>\n",
       "      <td>Total</td>\n",
       "      <td>Percentage</td>\n",
       "      <td>Albania</td>\n",
       "      <td>2021</td>\n",
       "      <td>58.3</td>\n",
       "      <td>NaN</td>\n",
       "      <td>NaN</td>\n",
       "    </tr>\n",
       "  </tbody>\n",
       "</table>\n",
       "</div>"
      ],
      "text/plain": [
       "                            DATAFLOW        LAST UPDATE    freq  \\\n",
       "0  ESTAT:ILC_MDES04$DEFAULTVIEW(1.0)  21/03/25 23:00:00  Annual   \n",
       "1  ESTAT:ILC_MDES04$DEFAULTVIEW(1.0)  21/03/25 23:00:00  Annual   \n",
       "2  ESTAT:ILC_MDES04$DEFAULTVIEW(1.0)  21/03/25 23:00:00  Annual   \n",
       "3  ESTAT:ILC_MDES04$DEFAULTVIEW(1.0)  21/03/25 23:00:00  Annual   \n",
       "4  ESTAT:ILC_MDES04$DEFAULTVIEW(1.0)  21/03/25 23:00:00  Annual   \n",
       "\n",
       "           hhtyp incgrp        unit      geo  TIME_PERIOD  OBS_VALUE OBS_FLAG  \\\n",
       "0  Single person  Total  Percentage  Albania         2017       71.5      NaN   \n",
       "1  Single person  Total  Percentage  Albania         2018       66.5      NaN   \n",
       "2  Single person  Total  Percentage  Albania         2019       65.1      NaN   \n",
       "3  Single person  Total  Percentage  Albania         2020       58.6      NaN   \n",
       "4  Single person  Total  Percentage  Albania         2021       58.3      NaN   \n",
       "\n",
       "   CONF_STATUS  \n",
       "0          NaN  \n",
       "1          NaN  \n",
       "2          NaN  \n",
       "3          NaN  \n",
       "4          NaN  "
      ]
     },
     "execution_count": 91,
     "metadata": {},
     "output_type": "execute_result"
    }
   ],
   "source": [
    "df.head()"
   ]
  },
  {
   "cell_type": "code",
   "execution_count": 92,
   "id": "577dea46a717bc74",
   "metadata": {
    "ExecuteTime": {
     "end_time": "2025-03-26T21:34:12.301617800Z",
     "start_time": "2025-03-26T21:34:12.231615300Z"
    },
    "collapsed": false
   },
   "outputs": [
    {
     "name": "stdout",
     "output_type": "stream",
     "text": [
      "<class 'pandas.core.frame.DataFrame'>\n",
      "RangeIndex: 1910 entries, 0 to 1909\n",
      "Data columns (total 11 columns):\n",
      " #   Column       Non-Null Count  Dtype  \n",
      "---  ------       --------------  -----  \n",
      " 0   DATAFLOW     1910 non-null   object \n",
      " 1   LAST UPDATE  1910 non-null   object \n",
      " 2   freq         1910 non-null   object \n",
      " 3   hhtyp        1910 non-null   object \n",
      " 4   incgrp       1910 non-null   object \n",
      " 5   unit         1910 non-null   object \n",
      " 6   geo          1910 non-null   object \n",
      " 7   TIME_PERIOD  1910 non-null   int64  \n",
      " 8   OBS_VALUE    1910 non-null   float64\n",
      " 9   OBS_FLAG     155 non-null    object \n",
      " 10  CONF_STATUS  0 non-null      float64\n",
      "dtypes: float64(2), int64(1), object(8)\n",
      "memory usage: 164.3+ KB\n"
     ]
    }
   ],
   "source": [
    "df.info()"
   ]
  },
  {
   "cell_type": "markdown",
   "id": "d967fbfb",
   "metadata": {},
   "source": [
    "OBS_FLAG = 155 meaning 155 out of 1910 values were either estimated or a break in the time series has occured"
   ]
  },
  {
   "cell_type": "code",
   "execution_count": 93,
   "id": "6d6594ee412294fa",
   "metadata": {
    "ExecuteTime": {
     "end_time": "2025-03-26T21:34:12.452889100Z",
     "start_time": "2025-03-26T21:34:12.357186800Z"
    },
    "collapsed": false
   },
   "outputs": [],
   "source": [
    "columns_to_drop = [\"OBS_FLAG\", \"DATAFLOW\", \"CONF_STATUS\", \"freq\", \"incgrp\", \"unit\", \"LAST UPDATE\"]\n",
    "df = df.drop(columns=[col for col in columns_to_drop if col in df.columns])"
   ]
  },
  {
   "cell_type": "code",
   "execution_count": 94,
   "id": "84fc6ff5e3a465ba",
   "metadata": {
    "ExecuteTime": {
     "end_time": "2025-03-26T21:34:12.570084100Z",
     "start_time": "2025-03-26T21:34:12.511849500Z"
    },
    "collapsed": false
   },
   "outputs": [],
   "source": [
    "df = df.dropna()"
   ]
  },
  {
   "cell_type": "code",
   "execution_count": 95,
   "id": "80845879c13c05b0",
   "metadata": {
    "ExecuteTime": {
     "end_time": "2025-03-26T21:34:13.001118900Z",
     "start_time": "2025-03-26T21:34:12.980452400Z"
    },
    "collapsed": false
   },
   "outputs": [
    {
     "name": "stdout",
     "output_type": "stream",
     "text": [
      "Uniques values in hhtyp: ['Single person' 'Single person with dependent children'\n",
      " 'One adult 65 years or over' 'One adult younger than 65 years' 'Total']\n",
      "Uniques values in geo: ['Albania' 'Austria' 'Belgium' 'Bulgaria' 'Switzerland' 'Cyprus' 'Czechia'\n",
      " 'Germany' 'Denmark'\n",
      " 'Euro area (EA11-1999, EA12-2001, EA13-2007, EA15-2008, EA16-2009, EA17-2011, EA18-2014, EA19-2015, EA20-2023)'\n",
      " 'Euro area - 17 countries (2011-2013)' 'Euro area - 18 countries (2014)'\n",
      " 'Euro area - 19 countries  (2015-2022)'\n",
      " 'Euro area – 20 countries (from 2023)' 'Estonia' 'Greece' 'Spain'\n",
      " 'European Union (EU6-1958, EU9-1973, EU10-1981, EU12-1986, EU15-1995, EU25-2004, EU27-2007, EU28-2013, EU27-2020)'\n",
      " 'European Union - 15 countries (1995-2004)'\n",
      " 'European Union - 27 countries (2007-2013)'\n",
      " 'European Union - 27 countries (from 2020)'\n",
      " 'European Union - 28 countries (2013-2020)' 'Finland' 'France' 'Croatia'\n",
      " 'Hungary' 'Ireland' 'Iceland' 'Italy' 'Lithuania' 'Luxembourg' 'Latvia'\n",
      " 'Montenegro' 'North Macedonia' 'Malta' 'Netherlands' 'Norway' 'Poland'\n",
      " 'Portugal' 'Romania' 'Serbia' 'Sweden' 'Slovenia' 'Slovakia' 'Türkiye'\n",
      " 'United Kingdom' 'Kosovo*']\n",
      "Uniques values in TIME_PERIOD: [2017 2018 2019 2020 2021 2015 2016 2022 2023 2024]\n",
      "Uniques values in OBS_VALUE: [71.5 66.5 65.1 58.6 58.3 30.  31.  30.1 28.5 26.1 23.8 23.1 26.8 30.2\n",
      " 33.5 33.6 33.8 33.2 31.8 31.2 32.2 29.6 28.2 80.9 80.  78.4 74.8 72.9\n",
      " 71.3 64.2 61.3 64.8 60.4 23.7 22.8 22.5 23.2 22.9 22.3 22.1 21.1 20.6\n",
      " 63.4 61.6 52.8 47.8 46.8 41.4 40.2 43.2 42.4 49.5 45.5 42.7 36.  30.5\n",
      " 28.  28.6 29.3 26.4 43.8 42.6 40.7 39.7 37.9 44.6 40.1 40.9 42.1 39.9\n",
      " 32.9 30.8 33.1 32.8 30.3 31.6 29.1 41.9 40.6 39.5 39.8 37.3 40.5 41.6\n",
      " 40.3 39.3 37.7 39.6 42.3 38.1 40.  37.6 38.4 37.8 46.9 44.1 50.4 46.1\n",
      " 44.2 41.8 42.  60.3 60.  59.  59.1 55.3 56.2 63.2 56.  43.  40.4 42.5\n",
      " 38.8 41.2 39.4 44.4 43.5 41.3 38.7 43.4 41.1 38.5 44.7 43.9 41.  39.1\n",
      " 38.9 38.6 35.5 35.4 32.7 32.4 36.9 37.2 35.9 34.4 35.  34.7 34.6 31.7\n",
      " 71.6 72.5 73.4 73.3 71.4 70.1 66.9 66.3 72.3 53.3 36.8 35.3 32.  46.6\n",
      " 42.8 48.9 47.3 38.3 47.7 44.  48.8 45.9 67.6 67.5 70.9 65.7 61.9 60.8\n",
      " 51.  51.9 50.9 26.3 25.4 23.5 21.9 24.  19.6 19.7 22.2 73.9 73.8 73.5\n",
      " 69.  60.1 59.6 59.4 57.7 79.6 75.1 79.2 78.2 68.4 66.4 77.7 75.8 74.1\n",
      " 74.  25.7 24.1 20.2 17.9 18.4 22.6 20.8 37.  37.1 34.2 31.4 31.3 27.7\n",
      " 26.9 25.2 29.9 29.5 56.4 55.5 53.7 46.4 44.3 48.6 47.5 46.2 45.  59.9\n",
      " 62.6 60.5 57.5 66.7 62.7 60.2 55.  56.9 59.2 25.3 26.5 27.1 27.8 57.\n",
      " 53.8 50.8 48.7 38.  50.2 47.  47.4 45.3 32.3 35.1 33.9 40.8 32.6 63.1\n",
      " 64.7 64.4 51.8 55.7 54.3 53.5 43.6 53.4 58.8 54.1 50.3 54.8 49.8 48.3\n",
      " 72.4 77.1 77.3 50.  61.1 63.3 52.4 51.2 49.6 36.5 81.8 74.5 76.1 67.4\n",
      " 72.7 64.6 67.7 61.2 52.  50.5 45.6 46.5 62.3 59.3 65.2 65.3 63.6 60.9\n",
      " 51.5 56.1 49.3 43.1 60.6 56.8 56.3 57.2 55.1 57.4 56.7 57.1 60.7 55.2\n",
      " 58.7 56.5 45.1 52.5 52.7 66.2 59.8 67.8 72.  61.4 64.3 62.2 57.9 65.5\n",
      " 56.6 54.4 62.8 51.3 49.2 64.5 59.7 63.  85.2 79.4 74.7 75.6 58.9 87.5\n",
      " 84.4 64.1 58.  54.2 87.6 84.7 83.7 76.3 76.6 76.8 70.6 68.3 68.2 64.9\n",
      " 62.  55.4 48.  52.3 66.1 67.  52.1 48.2 48.5 47.2 45.2 33.7 34.1 77.\n",
      " 75.7 75.  67.9 57.3 83.8 82.6 80.3 75.2 84.5 83.9 62.4 76.7 67.2 57.6\n",
      " 69.5 69.7 57.8 48.4 54.5 55.8 43.3 44.9 44.8 53.1 67.3 65.4 53.9 66.8\n",
      " 54.  43.7 45.4 46.7 41.7 63.8 54.7 37.4 42.2 62.5 55.9 63.7 50.7 49.7\n",
      " 82.2 80.5 77.6 71.9 71.1 65.9 24.8 25.  19.2 20.4 24.6 24.3 23.6 23.\n",
      " 21.4 23.4 19.1 88.1 88.4 86.6 85.9 82.5 70.7 69.6 16.6 14.1 16.9 17.2\n",
      " 16.5 14.6 16.3 15.6 15.  47.1 46.3 34.9 28.9 32.5 19.4 20.1 18.6 17.8\n",
      " 18.  18.2 36.3 36.2 36.7 33.4 34.  51.1 53.6 53.2 35.7 37.5 36.6 30.7\n",
      " 27.6 24.2 24.9 27.2 28.3 25.9 75.5 75.3 75.9 72.2 70.3 34.8 28.4 39.2\n",
      " 34.5 74.3 79.1 73.1 17.4 12.7 13.2  8.8 10.9  4.8  8.1 12.4 14.3 82.1\n",
      " 79.7 76.2 74.4 68.1 66.  66.6 82.9 81.1 83.4 73.  73.2 80.4 77.5 77.9\n",
      " 16.7 26.  21.7 21.  12.6 13.3 13.7 17.  14.  62.1 59.5 52.6 49.  46.\n",
      " 70.2 68.6 74.6 58.4 21.3 18.9 15.2 58.1 44.5 49.4 50.1 35.2 33.  24.5\n",
      " 35.8 70.8 54.6 49.9 27.3 48.1 28.7 26.7 39.  42.9 51.6 36.4 50.6 63.9\n",
      " 69.8 65.  31.5 52.9 34.3 29.2 61.8 76.4 62.9 68.  30.4 25.8 15.1 21.8\n",
      " 19.9 54.9 45.8 30.6 29.8 53.  18.5 17.6 19.  25.5 23.3 22.7 21.5 32.1\n",
      " 20.7 20.3 18.8 28.1 18.1 17.5 31.9 25.1 19.5 30.9 29.4 51.7 33.3 24.7\n",
      " 22.4 28.8 72.8 71.2 58.5 13.9 15.7 15.4 15.9 16.8 22.  51.4 47.9 19.8\n",
      " 20.5 21.2 27.  29.7 31.1]\n"
     ]
    }
   ],
   "source": [
    "for col in df.columns:\n",
    "    print(f\"Uniques values in {col}: {df[col].unique()}\")"
   ]
  },
  {
   "cell_type": "code",
   "execution_count": 96,
   "id": "466caedc9ba5e5e4",
   "metadata": {
    "ExecuteTime": {
     "end_time": "2025-03-26T21:34:13.442789200Z",
     "start_time": "2025-03-26T21:34:13.424931300Z"
    },
    "collapsed": false
   },
   "outputs": [],
   "source": [
    "df = df[~df[\"geo\"].isin(['European Union - 27 countries (from 2020)',\n",
    "                         'Euro area (EA11-1999, EA12-2001, EA13-2007, EA15-2008, EA16-2009, EA17-2011, EA18-2014, EA19-2015, EA20-2023)',\n",
    "                         'Euro area - 17 countries (2011-2013)',\n",
    "                         'European Union (EU6-1958, EU9-1973, EU10-1981, EU12-1986, EU15-1995, EU25-2004, EU27-2007, EU28-2013, EU27-2020)',\n",
    "                         'European Union - 15 countries (1995-2004)',\n",
    "                         'European Union - 27 countries (2007-2013)',\n",
    "                         'European Union - 27 countries (from 2020)',\n",
    "                         'European Union - 28 countries (2013-2020)'\n",
    "                         'Euro area - 19 countries  (2015-2022)',\n",
    "                         'Euro area – 20 countries (from 2023)',\n",
    "                         'Euro area - 18 countries (2014)',\n",
    "                         'Euro area - 19 countries  (2015-2022)',\n",
    "                         'European Union - 28 countries (2013-2020)'\n",
    "                         ])]\n",
    "\n",
    "columns_to_drop = [\"freq\", \"indic_de\", \"statinfo\", \"age\", \"unit\", 'isced11']\n",
    "df = df.drop(columns=[col for col in columns_to_drop if col in df.columns])"
   ]
  },
  {
   "cell_type": "code",
   "execution_count": 97,
   "id": "ccd59256",
   "metadata": {},
   "outputs": [
    {
     "name": "stdout",
     "output_type": "stream",
     "text": [
      "Uniques values in hhtyp: ['Single person' 'Single person with dependent children'\n",
      " 'One adult 65 years or over' 'One adult younger than 65 years' 'Total']\n",
      "Uniques values in geo: ['Albania' 'Austria' 'Belgium' 'Bulgaria' 'Switzerland' 'Cyprus' 'Czechia'\n",
      " 'Germany' 'Denmark' 'Estonia' 'Greece' 'Spain' 'Finland' 'France'\n",
      " 'Croatia' 'Hungary' 'Ireland' 'Iceland' 'Italy' 'Lithuania' 'Luxembourg'\n",
      " 'Latvia' 'Montenegro' 'North Macedonia' 'Malta' 'Netherlands' 'Norway'\n",
      " 'Poland' 'Portugal' 'Romania' 'Serbia' 'Sweden' 'Slovenia' 'Slovakia'\n",
      " 'Türkiye' 'United Kingdom' 'Kosovo*']\n",
      "Uniques values in TIME_PERIOD: [2017 2018 2019 2020 2021 2015 2016 2022 2023 2024]\n",
      "Uniques values in OBS_VALUE: [71.5 66.5 65.1 58.6 58.3 30.  31.  30.1 28.5 26.1 23.8 23.1 26.8 30.2\n",
      " 33.5 33.6 33.8 33.2 31.8 31.2 32.2 29.6 28.2 80.9 80.  78.4 74.8 72.9\n",
      " 71.3 64.2 61.3 64.8 60.4 23.7 22.8 22.5 23.2 22.9 22.3 22.1 21.1 20.6\n",
      " 63.4 61.6 52.8 47.8 46.8 41.4 40.2 43.2 42.4 49.5 45.5 42.7 36.  30.5\n",
      " 28.  28.6 29.3 26.4 43.8 42.6 40.7 39.7 37.9 44.6 40.1 40.9 42.1 39.9\n",
      " 32.9 30.8 33.1 32.8 30.3 31.6 29.1 46.9 44.1 50.4 46.1 44.2 41.8 42.\n",
      " 41.9 42.3 60.3 60.  59.  59.1 55.3 56.2 63.2 56.  43.  40.4 42.5 39.8\n",
      " 38.8 41.2 39.4 38.4 41.6 38.6 35.5 35.4 32.7 32.4 36.9 37.2 35.9 34.4\n",
      " 35.  34.7 34.6 31.7 71.6 72.5 73.4 73.3 71.4 70.1 66.9 66.3 72.3 53.3\n",
      " 36.8 35.3 32.  46.6 42.8 40.5 48.9 47.3 39.5 38.3 47.7 43.5 44.  48.8\n",
      " 45.9 39.3 39.1 67.6 67.5 70.9 65.7 61.9 60.8 51.  51.9 50.9 26.3 25.4\n",
      " 23.5 21.9 24.  19.6 19.7 22.2 73.9 73.8 73.5 69.  60.1 59.6 59.4 57.7\n",
      " 79.6 75.1 79.2 78.2 68.4 66.4 77.7 75.8 74.1 74.  25.7 24.1 20.2 17.9\n",
      " 18.4 22.6 20.8 38.7 37.  37.1 34.2 31.4 31.3 27.7 26.9 25.2 29.9 29.5\n",
      " 56.4 55.5 53.7 46.4 44.3 43.9 48.6 47.5 46.2 45.  44.7 38.9 59.9 62.6\n",
      " 60.5 57.5 66.7 62.7 60.2 55.  56.9 59.2 25.3 26.5 27.1 27.8 57.  53.8\n",
      " 50.8 48.7 38.  50.2 47.  47.4 41.1 45.3 32.3 35.1 33.9 40.8 32.6 63.1\n",
      " 64.7 64.4 51.8 55.7 54.3 53.5 43.6 53.4 58.8 54.1 50.3 54.8 49.8 48.3\n",
      " 72.4 77.1 77.3 50.  61.1 63.3 52.4 51.2 49.6 36.5 81.8 74.5 76.1 67.4\n",
      " 72.7 64.6 67.7 61.2 52.  50.5 45.6 46.5 62.3 59.3 65.2 65.3 63.6 60.9\n",
      " 51.5 56.1 40.  49.3 43.1 55.2 58.7 56.5 45.1 52.5 52.7 66.2 59.8 67.8\n",
      " 72.  61.4 64.3 62.2 57.9 62.8 65.5 51.3 49.2 64.5 59.7 63.  56.7 85.2\n",
      " 79.4 74.7 75.6 58.9 87.5 84.4 54.4 64.1 58.  54.2 87.6 84.7 83.7 76.3\n",
      " 76.6 76.8 70.6 68.3 68.2 64.9 62.  55.4 48.  52.3 38.5 66.1 67.  57.2\n",
      " 52.1 48.2 48.5 47.2 45.2 33.7 34.1 43.4 77.  75.7 75.  67.9 57.3 83.8\n",
      " 82.6 80.3 75.2 84.5 83.9 62.4 76.7 67.2 57.6 69.5 69.7 57.8 48.4 40.3\n",
      " 54.5 55.8 37.7 43.3 44.9 44.8 53.1 67.3 57.1 65.4 57.4 53.9 40.6 44.4\n",
      " 66.8 54.  43.7 45.4 46.7 41.7 63.8 54.7 37.4 42.2 62.5 55.9 63.7 50.7\n",
      " 49.7 82.2 80.5 77.6 71.9 71.1 65.9 24.8 25.  19.2 20.4 24.6 24.3 23.6\n",
      " 23.  21.4 23.4 19.1 88.1 88.4 86.6 85.9 82.5 70.7 69.6 16.6 14.1 16.9\n",
      " 17.2 16.5 14.6 16.3 15.6 15.  47.1 46.3 34.9 28.9 32.5 19.4 20.1 18.6\n",
      " 17.8 18.  18.2 51.1 53.6 53.2 35.7 30.7 27.6 24.2 24.9 27.2 28.3 25.9\n",
      " 75.5 75.3 75.9 72.2 70.3 34.8 28.4 39.2 34.5 74.3 79.1 73.1 17.4 12.7\n",
      " 13.2  8.8 10.9  4.8  8.1 12.4 14.3 82.1 79.7 76.2 74.4 68.1 66.  66.6\n",
      " 82.9 81.1 83.4 73.  73.2 80.4 77.5 77.9 16.7 26.  21.7 21.  12.6 13.3\n",
      " 13.7 17.  14.  62.1 59.5 52.6 49.  46.  70.2 68.6 74.6 58.4 21.3 18.9\n",
      " 15.2 58.1 55.1 44.5 49.4 50.1 35.2 37.5 33.  24.5 37.8 35.8 70.8 54.6\n",
      " 49.9 27.3 48.1 33.4 28.7 26.7 42.9 39.6 51.6 36.4 50.6 39.  38.1 63.9\n",
      " 69.8 65.  60.7 41.3 31.5 52.9 41.  34.3 60.6 29.2 61.8 76.4 62.9 68.\n",
      " 30.4 25.8 15.1 21.8 19.9 36.6 54.9 45.8 30.6 29.8 53.  18.5 17.6 19.\n",
      " 25.5 23.3 22.7 21.5 32.1 20.7 20.3 18.8 56.6 37.6 28.1 18.1 17.5 31.9\n",
      " 25.1 19.5 36.7 36.3 29.4 51.7 33.3 37.3 30.9 24.7 22.4 28.8 72.8 71.2\n",
      " 58.5 56.8 13.9 15.7 15.4 15.9 16.8 22.  51.4 47.9 19.8 20.5 21.2 27.\n",
      " 29.7 31.1]\n"
     ]
    }
   ],
   "source": [
    "for col in df.columns:\n",
    "    print(f\"Uniques values in {col}: {df[col].unique()}\")"
   ]
  },
  {
   "cell_type": "code",
   "execution_count": 98,
   "id": "f5cd5fe0f9dff462",
   "metadata": {
    "ExecuteTime": {
     "end_time": "2025-03-26T21:34:13.584270Z",
     "start_time": "2025-03-26T21:34:13.575390500Z"
    },
    "collapsed": false
   },
   "outputs": [],
   "source": [
    "df = df.rename(columns={\"OBS_VALUE\": \"Percent of people affected\", \"TIME_PERIOD\": \"Time period\"})"
   ]
  },
  {
   "cell_type": "code",
   "execution_count": 99,
   "id": "a2bdb21270c90dea",
   "metadata": {
    "ExecuteTime": {
     "end_time": "2025-03-26T21:34:14.841410500Z",
     "start_time": "2025-03-26T21:34:14.791310900Z"
    },
    "collapsed": false
   },
   "outputs": [],
   "source": [
    "df.to_csv(\"../../processed_data/inability_to_face_unexpected_expenses_(wealth).csv\", index=False)"
   ]
  }
 ],
 "metadata": {
  "kernelspec": {
   "display_name": "venv",
   "language": "python",
   "name": "python3"
  },
  "language_info": {
   "codemirror_mode": {
    "name": "ipython",
    "version": 3
   },
   "file_extension": ".py",
   "mimetype": "text/x-python",
   "name": "python",
   "nbconvert_exporter": "python",
   "pygments_lexer": "ipython3",
   "version": "3.13.0"
  }
 },
 "nbformat": 4,
 "nbformat_minor": 5
}
