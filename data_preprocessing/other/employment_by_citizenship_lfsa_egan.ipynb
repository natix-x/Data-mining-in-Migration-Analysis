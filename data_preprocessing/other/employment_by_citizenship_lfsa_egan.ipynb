{
 "cells": [
  {
   "cell_type": "code",
   "execution_count": 25,
   "id": "initial_id",
   "metadata": {
    "ExecuteTime": {
     "end_time": "2025-03-26T21:34:11.560643700Z",
     "start_time": "2025-03-26T21:34:11.546196900Z"
    },
    "collapsed": true
   },
   "outputs": [],
   "source": [
    "import pandas as pd"
   ]
  },
  {
   "cell_type": "markdown",
   "id": "4eef2139c0484eec",
   "metadata": {
    "collapsed": false
   },
   "source": [
    "**Employment by sex, age and citizenship (1 000)**\n",
    "\n",
    "---\n",
    "Employment by citizenship per thousand people\n",
    "https://ec.europa.eu/eurostat/databrowser/view/lfsa_egan/default/table?lang=en"
   ]
  },
  {
   "cell_type": "code",
   "execution_count": 26,
   "id": "e62d7877612d9f57",
   "metadata": {
    "ExecuteTime": {
     "end_time": "2025-03-26T21:34:11.827874700Z",
     "start_time": "2025-03-26T21:34:11.732324900Z"
    },
    "collapsed": false
   },
   "outputs": [],
   "source": [
    "df = pd.read_csv('../../data/employment_by_citizenship_lfsa_egan.csv')"
   ]
  },
  {
   "cell_type": "code",
   "execution_count": 27,
   "id": "3aac93c3c90129e0",
   "metadata": {
    "ExecuteTime": {
     "end_time": "2025-03-26T21:34:11.993588200Z",
     "start_time": "2025-03-26T21:34:11.942019700Z"
    },
    "collapsed": false
   },
   "outputs": [
    {
     "data": {
      "text/html": [
       "<div>\n",
       "<style scoped>\n",
       "    .dataframe tbody tr th:only-of-type {\n",
       "        vertical-align: middle;\n",
       "    }\n",
       "\n",
       "    .dataframe tbody tr th {\n",
       "        vertical-align: top;\n",
       "    }\n",
       "\n",
       "    .dataframe thead th {\n",
       "        text-align: right;\n",
       "    }\n",
       "</style>\n",
       "<table border=\"1\" class=\"dataframe\">\n",
       "  <thead>\n",
       "    <tr style=\"text-align: right;\">\n",
       "      <th></th>\n",
       "      <th>DATAFLOW</th>\n",
       "      <th>LAST UPDATE</th>\n",
       "      <th>freq</th>\n",
       "      <th>unit</th>\n",
       "      <th>sex</th>\n",
       "      <th>age</th>\n",
       "      <th>citizen</th>\n",
       "      <th>geo</th>\n",
       "      <th>TIME_PERIOD</th>\n",
       "      <th>OBS_VALUE</th>\n",
       "      <th>OBS_FLAG</th>\n",
       "      <th>CONF_STATUS</th>\n",
       "    </tr>\n",
       "  </thead>\n",
       "  <tbody>\n",
       "    <tr>\n",
       "      <th>0</th>\n",
       "      <td>ESTAT:LFSA_EGAN(1.0)</td>\n",
       "      <td>12/12/24 23:00:00</td>\n",
       "      <td>Annual</td>\n",
       "      <td>Thousand persons</td>\n",
       "      <td>Females</td>\n",
       "      <td>From 15 to 64 years</td>\n",
       "      <td>EU27 countries (from 2020) except reporting co...</td>\n",
       "      <td>Austria</td>\n",
       "      <td>2014</td>\n",
       "      <td>149.5</td>\n",
       "      <td>NaN</td>\n",
       "      <td>NaN</td>\n",
       "    </tr>\n",
       "    <tr>\n",
       "      <th>1</th>\n",
       "      <td>ESTAT:LFSA_EGAN(1.0)</td>\n",
       "      <td>12/12/24 23:00:00</td>\n",
       "      <td>Annual</td>\n",
       "      <td>Thousand persons</td>\n",
       "      <td>Females</td>\n",
       "      <td>From 15 to 64 years</td>\n",
       "      <td>EU27 countries (from 2020) except reporting co...</td>\n",
       "      <td>Austria</td>\n",
       "      <td>2015</td>\n",
       "      <td>154.5</td>\n",
       "      <td>NaN</td>\n",
       "      <td>NaN</td>\n",
       "    </tr>\n",
       "    <tr>\n",
       "      <th>2</th>\n",
       "      <td>ESTAT:LFSA_EGAN(1.0)</td>\n",
       "      <td>12/12/24 23:00:00</td>\n",
       "      <td>Annual</td>\n",
       "      <td>Thousand persons</td>\n",
       "      <td>Females</td>\n",
       "      <td>From 15 to 64 years</td>\n",
       "      <td>EU27 countries (from 2020) except reporting co...</td>\n",
       "      <td>Austria</td>\n",
       "      <td>2016</td>\n",
       "      <td>170.6</td>\n",
       "      <td>NaN</td>\n",
       "      <td>NaN</td>\n",
       "    </tr>\n",
       "    <tr>\n",
       "      <th>3</th>\n",
       "      <td>ESTAT:LFSA_EGAN(1.0)</td>\n",
       "      <td>12/12/24 23:00:00</td>\n",
       "      <td>Annual</td>\n",
       "      <td>Thousand persons</td>\n",
       "      <td>Females</td>\n",
       "      <td>From 15 to 64 years</td>\n",
       "      <td>EU27 countries (from 2020) except reporting co...</td>\n",
       "      <td>Austria</td>\n",
       "      <td>2017</td>\n",
       "      <td>179.3</td>\n",
       "      <td>NaN</td>\n",
       "      <td>NaN</td>\n",
       "    </tr>\n",
       "    <tr>\n",
       "      <th>4</th>\n",
       "      <td>ESTAT:LFSA_EGAN(1.0)</td>\n",
       "      <td>12/12/24 23:00:00</td>\n",
       "      <td>Annual</td>\n",
       "      <td>Thousand persons</td>\n",
       "      <td>Females</td>\n",
       "      <td>From 15 to 64 years</td>\n",
       "      <td>EU27 countries (from 2020) except reporting co...</td>\n",
       "      <td>Austria</td>\n",
       "      <td>2018</td>\n",
       "      <td>189.1</td>\n",
       "      <td>NaN</td>\n",
       "      <td>NaN</td>\n",
       "    </tr>\n",
       "  </tbody>\n",
       "</table>\n",
       "</div>"
      ],
      "text/plain": [
       "               DATAFLOW        LAST UPDATE    freq              unit      sex  \\\n",
       "0  ESTAT:LFSA_EGAN(1.0)  12/12/24 23:00:00  Annual  Thousand persons  Females   \n",
       "1  ESTAT:LFSA_EGAN(1.0)  12/12/24 23:00:00  Annual  Thousand persons  Females   \n",
       "2  ESTAT:LFSA_EGAN(1.0)  12/12/24 23:00:00  Annual  Thousand persons  Females   \n",
       "3  ESTAT:LFSA_EGAN(1.0)  12/12/24 23:00:00  Annual  Thousand persons  Females   \n",
       "4  ESTAT:LFSA_EGAN(1.0)  12/12/24 23:00:00  Annual  Thousand persons  Females   \n",
       "\n",
       "                   age                                            citizen  \\\n",
       "0  From 15 to 64 years  EU27 countries (from 2020) except reporting co...   \n",
       "1  From 15 to 64 years  EU27 countries (from 2020) except reporting co...   \n",
       "2  From 15 to 64 years  EU27 countries (from 2020) except reporting co...   \n",
       "3  From 15 to 64 years  EU27 countries (from 2020) except reporting co...   \n",
       "4  From 15 to 64 years  EU27 countries (from 2020) except reporting co...   \n",
       "\n",
       "       geo  TIME_PERIOD  OBS_VALUE OBS_FLAG  CONF_STATUS  \n",
       "0  Austria         2014      149.5      NaN          NaN  \n",
       "1  Austria         2015      154.5      NaN          NaN  \n",
       "2  Austria         2016      170.6      NaN          NaN  \n",
       "3  Austria         2017      179.3      NaN          NaN  \n",
       "4  Austria         2018      189.1      NaN          NaN  "
      ]
     },
     "execution_count": 27,
     "metadata": {},
     "output_type": "execute_result"
    }
   ],
   "source": [
    "df.head()"
   ]
  },
  {
   "cell_type": "code",
   "execution_count": 28,
   "id": "577dea46a717bc74",
   "metadata": {
    "ExecuteTime": {
     "end_time": "2025-03-26T21:34:12.301617800Z",
     "start_time": "2025-03-26T21:34:12.231615300Z"
    },
    "collapsed": false
   },
   "outputs": [
    {
     "name": "stdout",
     "output_type": "stream",
     "text": [
      "<class 'pandas.core.frame.DataFrame'>\n",
      "RangeIndex: 6116 entries, 0 to 6115\n",
      "Data columns (total 12 columns):\n",
      " #   Column       Non-Null Count  Dtype  \n",
      "---  ------       --------------  -----  \n",
      " 0   DATAFLOW     6116 non-null   object \n",
      " 1   LAST UPDATE  6116 non-null   object \n",
      " 2   freq         6116 non-null   object \n",
      " 3   unit         6116 non-null   object \n",
      " 4   sex          6116 non-null   object \n",
      " 5   age          6116 non-null   object \n",
      " 6   citizen      6116 non-null   object \n",
      " 7   geo          6116 non-null   object \n",
      " 8   TIME_PERIOD  6116 non-null   int64  \n",
      " 9   OBS_VALUE    5279 non-null   float64\n",
      " 10  OBS_FLAG     1992 non-null   object \n",
      " 11  CONF_STATUS  0 non-null      float64\n",
      "dtypes: float64(2), int64(1), object(9)\n",
      "memory usage: 573.5+ KB\n"
     ]
    }
   ],
   "source": [
    "df.info()"
   ]
  },
  {
   "cell_type": "code",
   "execution_count": 29,
   "id": "6d6594ee412294fa",
   "metadata": {
    "ExecuteTime": {
     "end_time": "2025-03-26T21:34:12.452889100Z",
     "start_time": "2025-03-26T21:34:12.357186800Z"
    },
    "collapsed": false
   },
   "outputs": [],
   "source": [
    "columns_to_drop = [\"OBS_FLAG\", \"DATAFLOW\", \"CONF_STATUS\", \"freq\", \"incgrp\", \"unit\", \"LAST UPDATE\"]\n",
    "df = df.drop(columns=[col for col in columns_to_drop if col in df.columns])"
   ]
  },
  {
   "cell_type": "code",
   "execution_count": 30,
   "id": "84fc6ff5e3a465ba",
   "metadata": {
    "ExecuteTime": {
     "end_time": "2025-03-26T21:34:12.570084100Z",
     "start_time": "2025-03-26T21:34:12.511849500Z"
    },
    "collapsed": false
   },
   "outputs": [],
   "source": [
    "df = df.dropna()"
   ]
  },
  {
   "cell_type": "code",
   "execution_count": 31,
   "id": "80845879c13c05b0",
   "metadata": {
    "ExecuteTime": {
     "end_time": "2025-03-26T21:34:13.001118900Z",
     "start_time": "2025-03-26T21:34:12.980452400Z"
    },
    "collapsed": false
   },
   "outputs": [
    {
     "name": "stdout",
     "output_type": "stream",
     "text": [
      "Uniques values in sex: ['Females' 'Males' 'Total']\n",
      "Uniques values in age: ['From 15 to 64 years']\n",
      "Uniques values in citizen: ['EU27 countries (from 2020) except reporting country' 'Foreign country'\n",
      " 'Reporting country'\n",
      " 'Non-EU27 countries (from 2020) nor reporting country' 'No response'\n",
      " 'Stateless' 'Total']\n",
      "Uniques values in geo: ['Austria' 'Belgium' 'Switzerland' 'Cyprus' 'Czechia' 'Germany' 'Denmark'\n",
      " 'Euro area – 20 countries (from 2023)' 'Estonia' 'Greece' 'Spain'\n",
      " 'European Union - 27 countries (from 2020)' 'Finland' 'France' 'Croatia'\n",
      " 'Hungary' 'Ireland' 'Iceland' 'Italy' 'Lithuania' 'Luxembourg' 'Malta'\n",
      " 'Netherlands' 'Norway' 'Poland' 'Portugal' 'Serbia' 'Sweden' 'Slovenia'\n",
      " 'Slovakia' 'United Kingdom' 'Bosnia and Herzegovina' 'Latvia'\n",
      " 'Montenegro' 'North Macedonia' 'Bulgaria' 'Romania' 'Türkiye']\n",
      "Uniques values in TIME_PERIOD: [2014 2015 2016 2017 2018 2019 2020 2021 2022 2023]\n",
      "Uniques values in OBS_VALUE: [  149.5   154.5   170.6 ... 30785.5 31112.  31382.2]\n"
     ]
    }
   ],
   "source": [
    "for col in df.columns:\n",
    "    print(f\"Uniques values in {col}: {df[col].unique()}\")"
   ]
  },
  {
   "cell_type": "code",
   "execution_count": 32,
   "id": "466caedc9ba5e5e4",
   "metadata": {
    "ExecuteTime": {
     "end_time": "2025-03-26T21:34:13.442789200Z",
     "start_time": "2025-03-26T21:34:13.424931300Z"
    },
    "collapsed": false
   },
   "outputs": [],
   "source": [
    "df = df[~df[\"geo\"].isin(['European Union - 27 countries (from 2020)',\n",
    "                         'Euro area (EA11-1999, EA12-2001, EA13-2007, EA15-2008, EA16-2009, EA17-2011, EA18-2014, EA19-2015, EA20-2023)',\n",
    "                         'Euro area - 17 countries (2011-2013)',\n",
    "                         'European Union (EU6-1958, EU9-1973, EU10-1981, EU12-1986, EU15-1995, EU25-2004, EU27-2007, EU28-2013, EU27-2020)',\n",
    "                         'European Union - 15 countries (1995-2004)',\n",
    "                         'European Union - 27 countries (2007-2013)',\n",
    "                         'European Union - 27 countries (from 2020)',\n",
    "                         'European Union - 28 countries (2013-2020)'\n",
    "                         'Euro area - 19 countries  (2015-2022)',\n",
    "                         'Euro area – 20 countries (from 2023)',\n",
    "                         'Euro area - 18 countries (2014)',\n",
    "                         'Euro area - 19 countries  (2015-2022)',\n",
    "                         'European Union - 28 countries (2013-2020)'\n",
    "                         ])]\n",
    "\n",
    "columns_to_drop = [\"freq\", \"indic_de\", \"statinfo\", \"age\", \"unit\", 'isced11']\n",
    "df = df.drop(columns=[col for col in columns_to_drop if col in df.columns])"
   ]
  },
  {
   "cell_type": "code",
   "execution_count": 33,
   "id": "ccd59256",
   "metadata": {},
   "outputs": [
    {
     "name": "stdout",
     "output_type": "stream",
     "text": [
      "Uniques values in sex: ['Females' 'Males' 'Total']\n",
      "Uniques values in citizen: ['EU27 countries (from 2020) except reporting country' 'Foreign country'\n",
      " 'Reporting country'\n",
      " 'Non-EU27 countries (from 2020) nor reporting country' 'No response'\n",
      " 'Stateless' 'Total']\n",
      "Uniques values in geo: ['Austria' 'Belgium' 'Switzerland' 'Cyprus' 'Czechia' 'Germany' 'Denmark'\n",
      " 'Estonia' 'Greece' 'Spain' 'Finland' 'France' 'Croatia' 'Hungary'\n",
      " 'Ireland' 'Iceland' 'Italy' 'Lithuania' 'Luxembourg' 'Malta'\n",
      " 'Netherlands' 'Norway' 'Poland' 'Portugal' 'Serbia' 'Sweden' 'Slovenia'\n",
      " 'Slovakia' 'United Kingdom' 'Bosnia and Herzegovina' 'Latvia'\n",
      " 'Montenegro' 'North Macedonia' 'Bulgaria' 'Romania' 'Türkiye']\n",
      "Uniques values in TIME_PERIOD: [2014 2015 2016 2017 2018 2019 2020 2021 2022 2023]\n",
      "Uniques values in OBS_VALUE: [  149.5   154.5   170.6 ... 30785.5 31112.  31382.2]\n"
     ]
    }
   ],
   "source": [
    "for col in df.columns:\n",
    "    print(f\"Uniques values in {col}: {df[col].unique()}\")"
   ]
  },
  {
   "cell_type": "code",
   "execution_count": null,
   "id": "f5cd5fe0f9dff462",
   "metadata": {
    "ExecuteTime": {
     "end_time": "2025-03-26T21:34:13.584270Z",
     "start_time": "2025-03-26T21:34:13.575390500Z"
    },
    "collapsed": false
   },
   "outputs": [],
   "source": [
    "df = df.rename(columns={\"OBS_VALUE\": \"Number per 1000 people\"})"
   ]
  },
  {
   "cell_type": "code",
   "execution_count": 35,
   "id": "a2bdb21270c90dea",
   "metadata": {
    "ExecuteTime": {
     "end_time": "2025-03-26T21:34:14.841410500Z",
     "start_time": "2025-03-26T21:34:14.791310900Z"
    },
    "collapsed": false
   },
   "outputs": [],
   "source": [
    "df.to_csv(\"../../processed_data/employment_by_citizenship_lfsa_egan.csv\", index=False)"
   ]
  }
 ],
 "metadata": {
  "kernelspec": {
   "display_name": "venv",
   "language": "python",
   "name": "python3"
  },
  "language_info": {
   "codemirror_mode": {
    "name": "ipython",
    "version": 3
   },
   "file_extension": ".py",
   "mimetype": "text/x-python",
   "name": "python",
   "nbconvert_exporter": "python",
   "pygments_lexer": "ipython3",
   "version": "3.13.0"
  }
 },
 "nbformat": 4,
 "nbformat_minor": 5
}
