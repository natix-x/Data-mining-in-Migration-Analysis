{
 "cells": [
  {
   "cell_type": "code",
   "execution_count": 1,
   "id": "initial_id",
   "metadata": {
    "ExecuteTime": {
     "end_time": "2025-03-26T21:34:11.560643700Z",
     "start_time": "2025-03-26T21:34:11.546196900Z"
    },
    "collapsed": true
   },
   "outputs": [],
   "source": [
    "import pandas as pd"
   ]
  },
  {
   "cell_type": "markdown",
   "id": "4eef2139c0484eec",
   "metadata": {
    "collapsed": false
   },
   "source": [
    "**Total fertility rate**\n",
    "\n",
    "---\n",
    "\n",
    "Mean number of children that a woman could have during her childbearing age"
   ]
  },
  {
   "cell_type": "code",
   "execution_count": 2,
   "id": "e62d7877612d9f57",
   "metadata": {
    "ExecuteTime": {
     "end_time": "2025-03-26T21:34:11.827874700Z",
     "start_time": "2025-03-26T21:34:11.732324900Z"
    },
    "collapsed": false
   },
   "outputs": [],
   "source": [
    "df = pd.read_csv('../../data/total_fertility_rate_tps00199.csv')"
   ]
  },
  {
   "cell_type": "code",
   "execution_count": 3,
   "id": "3aac93c3c90129e0",
   "metadata": {
    "ExecuteTime": {
     "end_time": "2025-03-26T21:34:11.993588200Z",
     "start_time": "2025-03-26T21:34:11.942019700Z"
    },
    "collapsed": false
   },
   "outputs": [
    {
     "data": {
      "text/html": [
       "<div>\n",
       "<style scoped>\n",
       "    .dataframe tbody tr th:only-of-type {\n",
       "        vertical-align: middle;\n",
       "    }\n",
       "\n",
       "    .dataframe tbody tr th {\n",
       "        vertical-align: top;\n",
       "    }\n",
       "\n",
       "    .dataframe thead th {\n",
       "        text-align: right;\n",
       "    }\n",
       "</style>\n",
       "<table border=\"1\" class=\"dataframe\">\n",
       "  <thead>\n",
       "    <tr style=\"text-align: right;\">\n",
       "      <th></th>\n",
       "      <th>DATAFLOW</th>\n",
       "      <th>LAST UPDATE</th>\n",
       "      <th>freq</th>\n",
       "      <th>indic_de</th>\n",
       "      <th>geo</th>\n",
       "      <th>TIME_PERIOD</th>\n",
       "      <th>OBS_VALUE</th>\n",
       "      <th>OBS_FLAG</th>\n",
       "      <th>CONF_STATUS</th>\n",
       "    </tr>\n",
       "  </thead>\n",
       "  <tbody>\n",
       "    <tr>\n",
       "      <th>0</th>\n",
       "      <td>ESTAT:TPS00199(1.0)</td>\n",
       "      <td>21/03/25 11:00:00</td>\n",
       "      <td>Annual</td>\n",
       "      <td>Total fertility rate</td>\n",
       "      <td>Albania</td>\n",
       "      <td>2012</td>\n",
       "      <td>1.71</td>\n",
       "      <td>NaN</td>\n",
       "      <td>NaN</td>\n",
       "    </tr>\n",
       "    <tr>\n",
       "      <th>1</th>\n",
       "      <td>ESTAT:TPS00199(1.0)</td>\n",
       "      <td>21/03/25 11:00:00</td>\n",
       "      <td>Annual</td>\n",
       "      <td>Total fertility rate</td>\n",
       "      <td>Albania</td>\n",
       "      <td>2013</td>\n",
       "      <td>1.73</td>\n",
       "      <td>NaN</td>\n",
       "      <td>NaN</td>\n",
       "    </tr>\n",
       "    <tr>\n",
       "      <th>2</th>\n",
       "      <td>ESTAT:TPS00199(1.0)</td>\n",
       "      <td>21/03/25 11:00:00</td>\n",
       "      <td>Annual</td>\n",
       "      <td>Total fertility rate</td>\n",
       "      <td>Albania</td>\n",
       "      <td>2014</td>\n",
       "      <td>1.73</td>\n",
       "      <td>NaN</td>\n",
       "      <td>NaN</td>\n",
       "    </tr>\n",
       "    <tr>\n",
       "      <th>3</th>\n",
       "      <td>ESTAT:TPS00199(1.0)</td>\n",
       "      <td>21/03/25 11:00:00</td>\n",
       "      <td>Annual</td>\n",
       "      <td>Total fertility rate</td>\n",
       "      <td>Albania</td>\n",
       "      <td>2015</td>\n",
       "      <td>1.59</td>\n",
       "      <td>NaN</td>\n",
       "      <td>NaN</td>\n",
       "    </tr>\n",
       "    <tr>\n",
       "      <th>4</th>\n",
       "      <td>ESTAT:TPS00199(1.0)</td>\n",
       "      <td>21/03/25 11:00:00</td>\n",
       "      <td>Annual</td>\n",
       "      <td>Total fertility rate</td>\n",
       "      <td>Albania</td>\n",
       "      <td>2016</td>\n",
       "      <td>1.54</td>\n",
       "      <td>NaN</td>\n",
       "      <td>NaN</td>\n",
       "    </tr>\n",
       "  </tbody>\n",
       "</table>\n",
       "</div>"
      ],
      "text/plain": [
       "              DATAFLOW        LAST UPDATE    freq              indic_de  \\\n",
       "0  ESTAT:TPS00199(1.0)  21/03/25 11:00:00  Annual  Total fertility rate   \n",
       "1  ESTAT:TPS00199(1.0)  21/03/25 11:00:00  Annual  Total fertility rate   \n",
       "2  ESTAT:TPS00199(1.0)  21/03/25 11:00:00  Annual  Total fertility rate   \n",
       "3  ESTAT:TPS00199(1.0)  21/03/25 11:00:00  Annual  Total fertility rate   \n",
       "4  ESTAT:TPS00199(1.0)  21/03/25 11:00:00  Annual  Total fertility rate   \n",
       "\n",
       "       geo  TIME_PERIOD  OBS_VALUE OBS_FLAG  CONF_STATUS  \n",
       "0  Albania         2012       1.71      NaN          NaN  \n",
       "1  Albania         2013       1.73      NaN          NaN  \n",
       "2  Albania         2014       1.73      NaN          NaN  \n",
       "3  Albania         2015       1.59      NaN          NaN  \n",
       "4  Albania         2016       1.54      NaN          NaN  "
      ]
     },
     "execution_count": 3,
     "metadata": {},
     "output_type": "execute_result"
    }
   ],
   "source": [
    "df.head()"
   ]
  },
  {
   "cell_type": "code",
   "execution_count": 4,
   "id": "577dea46a717bc74",
   "metadata": {
    "ExecuteTime": {
     "end_time": "2025-03-26T21:34:12.301617800Z",
     "start_time": "2025-03-26T21:34:12.231615300Z"
    },
    "collapsed": false
   },
   "outputs": [
    {
     "name": "stdout",
     "output_type": "stream",
     "text": [
      "<class 'pandas.core.frame.DataFrame'>\n",
      "RangeIndex: 515 entries, 0 to 514\n",
      "Data columns (total 9 columns):\n",
      " #   Column       Non-Null Count  Dtype  \n",
      "---  ------       --------------  -----  \n",
      " 0   DATAFLOW     515 non-null    object \n",
      " 1   LAST UPDATE  515 non-null    object \n",
      " 2   freq         515 non-null    object \n",
      " 3   indic_de     515 non-null    object \n",
      " 4   geo          515 non-null    object \n",
      " 5   TIME_PERIOD  515 non-null    int64  \n",
      " 6   OBS_VALUE    514 non-null    float64\n",
      " 7   OBS_FLAG     64 non-null     object \n",
      " 8   CONF_STATUS  0 non-null      float64\n",
      "dtypes: float64(2), int64(1), object(6)\n",
      "memory usage: 36.3+ KB\n"
     ]
    }
   ],
   "source": [
    "df.info()"
   ]
  },
  {
   "cell_type": "code",
   "execution_count": 5,
   "id": "6d6594ee412294fa",
   "metadata": {
    "ExecuteTime": {
     "end_time": "2025-03-26T21:34:12.452889100Z",
     "start_time": "2025-03-26T21:34:12.357186800Z"
    },
    "collapsed": false
   },
   "outputs": [],
   "source": [
    "df = df.drop(columns=[\"DATAFLOW\", \"LAST UPDATE\", \"OBS_FLAG\", \"CONF_STATUS\"])"
   ]
  },
  {
   "cell_type": "code",
   "execution_count": 6,
   "id": "84fc6ff5e3a465ba",
   "metadata": {
    "ExecuteTime": {
     "end_time": "2025-03-26T21:34:12.570084100Z",
     "start_time": "2025-03-26T21:34:12.511849500Z"
    },
    "collapsed": false
   },
   "outputs": [],
   "source": [
    "df = df.dropna()"
   ]
  },
  {
   "cell_type": "code",
   "execution_count": 7,
   "id": "80845879c13c05b0",
   "metadata": {
    "ExecuteTime": {
     "end_time": "2025-03-26T21:34:13.001118900Z",
     "start_time": "2025-03-26T21:34:12.980452400Z"
    },
    "collapsed": false
   },
   "outputs": [
    {
     "name": "stdout",
     "output_type": "stream",
     "text": [
      "Uniques values in freq: ['Annual']\n",
      "Uniques values in indic_de: ['Total fertility rate']\n",
      "Uniques values in geo: ['Albania' 'Armenia' 'Austria' 'Azerbaijan' 'Belgium' 'Bulgaria' 'Belarus'\n",
      " 'Switzerland' 'Cyprus' 'Czechia' 'Germany' 'Denmark'\n",
      " 'Euro area - 19 countries  (2015-2022)'\n",
      " 'Euro area – 20 countries (from 2023)' 'Estonia' 'Greece' 'Spain'\n",
      " 'European Union - 27 countries (from 2020)' 'Finland' 'France'\n",
      " 'Metropolitan France' 'Georgia' 'Croatia' 'Hungary' 'Ireland' 'Iceland'\n",
      " 'Italy' 'Liechtenstein' 'Lithuania' 'Luxembourg' 'Latvia' 'Moldova'\n",
      " 'Montenegro' 'North Macedonia' 'Malta' 'Netherlands' 'Norway' 'Poland'\n",
      " 'Portugal' 'Romania' 'Serbia' 'Sweden' 'Slovenia' 'Slovakia' 'San Marino'\n",
      " 'Türkiye' 'Ukraine' 'United Kingdom' 'Kosovo*']\n",
      "Uniques values in TIME_PERIOD: [2012 2013 2014 2015 2016 2017 2018 2020 2021 2022 2019 2023]\n",
      "Uniques values in OBS_VALUE: [1.71 1.73 1.59 1.54 1.48 1.37 1.34 1.31 1.21 1.62 1.56 1.57 1.6  1.44\n",
      " 1.46 1.49 1.53 1.52 1.47 1.41 1.32 2.   1.98 1.97 1.94 1.9  1.75 1.81\n",
      " 1.8  1.76 1.74 1.7  1.68 1.65 1.55 1.5  1.64 1.67 1.79 1.77 1.78 1.72\n",
      " 1.45 1.39 1.33 1.3  1.36 1.4  1.63 1.69 1.83 1.42 1.58 1.51 1.38 1.66\n",
      " 1.61 1.29 1.35 1.43 1.26 1.27 1.23 1.18 1.16 1.12 2.01 1.99 1.96 1.92\n",
      " 1.89 1.87 1.86 2.21 2.23 2.14 2.09 2.02 1.93 1.85 2.04 1.82 1.24 1.25\n",
      " 1.28 1.14 1.13 1.08 1.06 1.2  1.91 1.88 2.08 2.17 2.11 2.07]\n"
     ]
    }
   ],
   "source": [
    "for col in df.columns:\n",
    "    print(f\"Uniques values in {col}: {df[col].unique()}\")"
   ]
  },
  {
   "cell_type": "code",
   "execution_count": 8,
   "id": "466caedc9ba5e5e4",
   "metadata": {
    "ExecuteTime": {
     "end_time": "2025-03-26T21:34:13.442789200Z",
     "start_time": "2025-03-26T21:34:13.424931300Z"
    },
    "collapsed": false
   },
   "outputs": [],
   "source": [
    "df = df[df[\"geo\"] != \"Euro area - 19 countries  (2015-2022)\"]\n",
    "df = df[df[\"geo\"] != 'Euro area – 20 countries (from 2023)']\n",
    "df = df[df[\"geo\"] != 'European Union - 27 countries (from 2020)']\n",
    "df = df.drop(columns=[\"freq\", \"indic_de\"])"
   ]
  },
  {
   "cell_type": "code",
   "execution_count": 9,
   "id": "f5cd5fe0f9dff462",
   "metadata": {
    "ExecuteTime": {
     "end_time": "2025-03-26T21:34:13.584270Z",
     "start_time": "2025-03-26T21:34:13.575390500Z"
    },
    "collapsed": false
   },
   "outputs": [],
   "source": [
    "df = df.rename(columns={\"OBS_VALUE\": \"Total fertility rate\"})"
   ]
  },
  {
   "cell_type": "code",
   "execution_count": 10,
   "id": "a2bdb21270c90dea",
   "metadata": {
    "ExecuteTime": {
     "end_time": "2025-03-26T21:34:14.841410500Z",
     "start_time": "2025-03-26T21:34:14.791310900Z"
    },
    "collapsed": false
   },
   "outputs": [],
   "source": [
    "df.to_csv(\"../../processed_data/total_fertility_rate.csv\", index=False)"
   ]
  },
  {
   "cell_type": "code",
   "execution_count": null,
   "id": "552da884520f7a3a",
   "metadata": {
    "collapsed": false
   },
   "outputs": [],
   "source": []
  }
 ],
 "metadata": {
  "kernelspec": {
   "display_name": "venv",
   "language": "python",
   "name": "python3"
  },
  "language_info": {
   "codemirror_mode": {
    "name": "ipython",
    "version": 3
   },
   "file_extension": ".py",
   "mimetype": "text/x-python",
   "name": "python",
   "nbconvert_exporter": "python",
   "pygments_lexer": "ipython3",
   "version": "3.13.0"
  }
 },
 "nbformat": 4,
 "nbformat_minor": 5
}
