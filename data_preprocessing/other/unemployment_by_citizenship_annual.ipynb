{
 "cells": [
  {
   "cell_type": "code",
   "execution_count": 15,
   "id": "a5a5b16b",
   "metadata": {},
   "outputs": [],
   "source": [
    "import pandas as pd"
   ]
  },
  {
   "cell_type": "markdown",
   "id": "c0e09420",
   "metadata": {},
   "source": [
    "**Unemployment by sex, age and citizenship (1 000)**\n",
    "\n",
    "---\n",
    "Unemployment by citizenship per thousand people\n",
    "\n",
    "Annual data"
   ]
  },
  {
   "cell_type": "code",
   "execution_count": 16,
   "id": "fbf5c9ac",
   "metadata": {},
   "outputs": [],
   "source": [
    "df = df = pd.read_csv('../../data/unemployment_by_citizenship.csv')"
   ]
  },
  {
   "cell_type": "code",
   "execution_count": 17,
   "id": "d1c84d69",
   "metadata": {},
   "outputs": [
    {
     "data": {
      "text/html": [
       "<div>\n",
       "<style scoped>\n",
       "    .dataframe tbody tr th:only-of-type {\n",
       "        vertical-align: middle;\n",
       "    }\n",
       "\n",
       "    .dataframe tbody tr th {\n",
       "        vertical-align: top;\n",
       "    }\n",
       "\n",
       "    .dataframe thead th {\n",
       "        text-align: right;\n",
       "    }\n",
       "</style>\n",
       "<table border=\"1\" class=\"dataframe\">\n",
       "  <thead>\n",
       "    <tr style=\"text-align: right;\">\n",
       "      <th></th>\n",
       "      <th>DATAFLOW</th>\n",
       "      <th>LAST UPDATE</th>\n",
       "      <th>freq</th>\n",
       "      <th>unit</th>\n",
       "      <th>sex</th>\n",
       "      <th>age</th>\n",
       "      <th>citizen</th>\n",
       "      <th>geo</th>\n",
       "      <th>TIME_PERIOD</th>\n",
       "      <th>OBS_VALUE</th>\n",
       "      <th>OBS_FLAG</th>\n",
       "      <th>CONF_STATUS</th>\n",
       "    </tr>\n",
       "  </thead>\n",
       "  <tbody>\n",
       "    <tr>\n",
       "      <th>0</th>\n",
       "      <td>ESTAT:LFSA_UGAN(1.0)</td>\n",
       "      <td>13/03/25 23:00:00</td>\n",
       "      <td>Annual</td>\n",
       "      <td>Thousand persons</td>\n",
       "      <td>Females</td>\n",
       "      <td>From 15 to 74 years</td>\n",
       "      <td>EU27 countries (from 2020) except reporting co...</td>\n",
       "      <td>Austria</td>\n",
       "      <td>2014</td>\n",
       "      <td>13.0</td>\n",
       "      <td>NaN</td>\n",
       "      <td>NaN</td>\n",
       "    </tr>\n",
       "    <tr>\n",
       "      <th>1</th>\n",
       "      <td>ESTAT:LFSA_UGAN(1.0)</td>\n",
       "      <td>13/03/25 23:00:00</td>\n",
       "      <td>Annual</td>\n",
       "      <td>Thousand persons</td>\n",
       "      <td>Females</td>\n",
       "      <td>From 15 to 74 years</td>\n",
       "      <td>EU27 countries (from 2020) except reporting co...</td>\n",
       "      <td>Austria</td>\n",
       "      <td>2015</td>\n",
       "      <td>14.0</td>\n",
       "      <td>NaN</td>\n",
       "      <td>NaN</td>\n",
       "    </tr>\n",
       "    <tr>\n",
       "      <th>2</th>\n",
       "      <td>ESTAT:LFSA_UGAN(1.0)</td>\n",
       "      <td>13/03/25 23:00:00</td>\n",
       "      <td>Annual</td>\n",
       "      <td>Thousand persons</td>\n",
       "      <td>Females</td>\n",
       "      <td>From 15 to 74 years</td>\n",
       "      <td>EU27 countries (from 2020) except reporting co...</td>\n",
       "      <td>Austria</td>\n",
       "      <td>2016</td>\n",
       "      <td>16.1</td>\n",
       "      <td>NaN</td>\n",
       "      <td>NaN</td>\n",
       "    </tr>\n",
       "    <tr>\n",
       "      <th>3</th>\n",
       "      <td>ESTAT:LFSA_UGAN(1.0)</td>\n",
       "      <td>13/03/25 23:00:00</td>\n",
       "      <td>Annual</td>\n",
       "      <td>Thousand persons</td>\n",
       "      <td>Females</td>\n",
       "      <td>From 15 to 74 years</td>\n",
       "      <td>EU27 countries (from 2020) except reporting co...</td>\n",
       "      <td>Austria</td>\n",
       "      <td>2017</td>\n",
       "      <td>14.4</td>\n",
       "      <td>NaN</td>\n",
       "      <td>NaN</td>\n",
       "    </tr>\n",
       "    <tr>\n",
       "      <th>4</th>\n",
       "      <td>ESTAT:LFSA_UGAN(1.0)</td>\n",
       "      <td>13/03/25 23:00:00</td>\n",
       "      <td>Annual</td>\n",
       "      <td>Thousand persons</td>\n",
       "      <td>Females</td>\n",
       "      <td>From 15 to 74 years</td>\n",
       "      <td>EU27 countries (from 2020) except reporting co...</td>\n",
       "      <td>Austria</td>\n",
       "      <td>2018</td>\n",
       "      <td>13.8</td>\n",
       "      <td>NaN</td>\n",
       "      <td>NaN</td>\n",
       "    </tr>\n",
       "  </tbody>\n",
       "</table>\n",
       "</div>"
      ],
      "text/plain": [
       "               DATAFLOW        LAST UPDATE    freq              unit      sex  \\\n",
       "0  ESTAT:LFSA_UGAN(1.0)  13/03/25 23:00:00  Annual  Thousand persons  Females   \n",
       "1  ESTAT:LFSA_UGAN(1.0)  13/03/25 23:00:00  Annual  Thousand persons  Females   \n",
       "2  ESTAT:LFSA_UGAN(1.0)  13/03/25 23:00:00  Annual  Thousand persons  Females   \n",
       "3  ESTAT:LFSA_UGAN(1.0)  13/03/25 23:00:00  Annual  Thousand persons  Females   \n",
       "4  ESTAT:LFSA_UGAN(1.0)  13/03/25 23:00:00  Annual  Thousand persons  Females   \n",
       "\n",
       "                   age                                            citizen  \\\n",
       "0  From 15 to 74 years  EU27 countries (from 2020) except reporting co...   \n",
       "1  From 15 to 74 years  EU27 countries (from 2020) except reporting co...   \n",
       "2  From 15 to 74 years  EU27 countries (from 2020) except reporting co...   \n",
       "3  From 15 to 74 years  EU27 countries (from 2020) except reporting co...   \n",
       "4  From 15 to 74 years  EU27 countries (from 2020) except reporting co...   \n",
       "\n",
       "       geo  TIME_PERIOD  OBS_VALUE OBS_FLAG  CONF_STATUS  \n",
       "0  Austria         2014       13.0      NaN          NaN  \n",
       "1  Austria         2015       14.0      NaN          NaN  \n",
       "2  Austria         2016       16.1      NaN          NaN  \n",
       "3  Austria         2017       14.4      NaN          NaN  \n",
       "4  Austria         2018       13.8      NaN          NaN  "
      ]
     },
     "execution_count": 17,
     "metadata": {},
     "output_type": "execute_result"
    }
   ],
   "source": [
    "df.head()"
   ]
  },
  {
   "cell_type": "code",
   "execution_count": 18,
   "id": "54f0eba8",
   "metadata": {},
   "outputs": [
    {
     "name": "stdout",
     "output_type": "stream",
     "text": [
      "<class 'pandas.core.frame.DataFrame'>\n",
      "RangeIndex: 5719 entries, 0 to 5718\n",
      "Data columns (total 12 columns):\n",
      " #   Column       Non-Null Count  Dtype  \n",
      "---  ------       --------------  -----  \n",
      " 0   DATAFLOW     5719 non-null   object \n",
      " 1   LAST UPDATE  5719 non-null   object \n",
      " 2   freq         5719 non-null   object \n",
      " 3   unit         5719 non-null   object \n",
      " 4   sex          5719 non-null   object \n",
      " 5   age          5719 non-null   object \n",
      " 6   citizen      5719 non-null   object \n",
      " 7   geo          5719 non-null   object \n",
      " 8   TIME_PERIOD  5719 non-null   int64  \n",
      " 9   OBS_VALUE    4419 non-null   float64\n",
      " 10  OBS_FLAG     2297 non-null   object \n",
      " 11  CONF_STATUS  0 non-null      float64\n",
      "dtypes: float64(2), int64(1), object(9)\n",
      "memory usage: 536.3+ KB\n"
     ]
    }
   ],
   "source": [
    "df.info()"
   ]
  },
  {
   "cell_type": "code",
   "execution_count": 19,
   "id": "9f84fb28",
   "metadata": {},
   "outputs": [],
   "source": [
    "columns_to_drop = [\"OBS_FLAG\", \"DATAFLOW\", \"CONF_STATUS\", \"freq\", \"incgrp\", \"unit\", \"LAST UPDATE\"]\n",
    "df = df.drop(columns=[col for col in columns_to_drop if col in df.columns])"
   ]
  },
  {
   "cell_type": "code",
   "execution_count": 20,
   "id": "bc1856d8",
   "metadata": {},
   "outputs": [],
   "source": [
    "df = df.dropna()"
   ]
  },
  {
   "cell_type": "code",
   "execution_count": 21,
   "id": "f7f92f2d",
   "metadata": {},
   "outputs": [
    {
     "name": "stdout",
     "output_type": "stream",
     "text": [
      "Uniques values in sex: ['Females' 'Males' 'Total']\n",
      "Uniques values in age: ['From 15 to 74 years']\n",
      "Uniques values in citizen: ['EU27 countries (from 2020) except reporting country' 'Foreign country'\n",
      " 'Reporting country'\n",
      " 'Non-EU27 countries (from 2020) nor reporting country' 'No response'\n",
      " 'Total' 'Stateless']\n",
      "Uniques values in geo: ['Austria' 'Belgium' 'Switzerland' 'Cyprus' 'Czechia' 'Germany' 'Denmark'\n",
      " 'Euro area – 20 countries (from 2023)' 'Greece' 'Spain'\n",
      " 'European Union - 27 countries (from 2020)' 'Finland' 'France' 'Ireland'\n",
      " 'Iceland' 'Italy' 'Luxembourg' 'Malta' 'Netherlands' 'Norway' 'Sweden'\n",
      " 'Slovenia' 'United Kingdom' 'Estonia' 'Latvia' 'Portugal' 'Serbia'\n",
      " 'Bosnia and Herzegovina' 'Bulgaria' 'Croatia' 'Hungary' 'Lithuania'\n",
      " 'Montenegro' 'North Macedonia' 'Poland' 'Romania' 'Slovakia' 'Türkiye']\n",
      "Uniques values in TIME_PERIOD: [2014 2015 2016 2017 2018 2019 2020 2021 2022 2023]\n",
      "Uniques values in OBS_VALUE: [  13.    14.    16.1 ... 1446.7 1346.7 1269.3]\n"
     ]
    }
   ],
   "source": [
    "for col in df.columns:\n",
    "    print(f\"Uniques values in {col}: {df[col].unique()}\")"
   ]
  },
  {
   "cell_type": "code",
   "execution_count": 22,
   "id": "6483591d",
   "metadata": {},
   "outputs": [],
   "source": [
    "df = df[~df[\"geo\"].isin(['European Union - 27 countries (from 2020)',\n",
    "                         'Euro area (EA11-1999, EA12-2001, EA13-2007, EA15-2008, EA16-2009, EA17-2011, EA18-2014, EA19-2015, EA20-2023)',\n",
    "                         'Euro area - 17 countries (2011-2013)',\n",
    "                         'European Union (EU6-1958, EU9-1973, EU10-1981, EU12-1986, EU15-1995, EU25-2004, EU27-2007, EU28-2013, EU27-2020)',\n",
    "                         'European Union - 15 countries (1995-2004)',\n",
    "                         'European Union - 27 countries (2007-2013)',\n",
    "                         'European Union - 27 countries (from 2020)',\n",
    "                         'European Union - 28 countries (2013-2020)'\n",
    "                         'Euro area - 19 countries  (2015-2022)',\n",
    "                         'Euro area – 20 countries (from 2023)',\n",
    "                         'Euro area - 18 countries (2014)',\n",
    "                         'Euro area - 19 countries  (2015-2022)',\n",
    "                         'European Union - 28 countries (2013-2020)'\n",
    "                         ])]\n",
    "\n",
    "columns_to_drop = [\"freq\", \"indic_de\", \"statinfo\", \"age\", \"unit\", 'isced11']\n",
    "df = df.drop(columns=[col for col in columns_to_drop if col in df.columns])"
   ]
  },
  {
   "cell_type": "code",
   "execution_count": 23,
   "id": "f6db6193",
   "metadata": {},
   "outputs": [
    {
     "name": "stdout",
     "output_type": "stream",
     "text": [
      "Uniques values in sex: ['Females' 'Males' 'Total']\n",
      "Uniques values in citizen: ['EU27 countries (from 2020) except reporting country' 'Foreign country'\n",
      " 'Reporting country'\n",
      " 'Non-EU27 countries (from 2020) nor reporting country' 'No response'\n",
      " 'Total' 'Stateless']\n",
      "Uniques values in geo: ['Austria' 'Belgium' 'Switzerland' 'Cyprus' 'Czechia' 'Germany' 'Denmark'\n",
      " 'Greece' 'Spain' 'Finland' 'France' 'Ireland' 'Iceland' 'Italy'\n",
      " 'Luxembourg' 'Malta' 'Netherlands' 'Norway' 'Sweden' 'Slovenia'\n",
      " 'United Kingdom' 'Estonia' 'Latvia' 'Portugal' 'Serbia'\n",
      " 'Bosnia and Herzegovina' 'Bulgaria' 'Croatia' 'Hungary' 'Lithuania'\n",
      " 'Montenegro' 'North Macedonia' 'Poland' 'Romania' 'Slovakia' 'Türkiye']\n",
      "Uniques values in TIME_PERIOD: [2014 2015 2016 2017 2018 2019 2020 2021 2022 2023]\n",
      "Uniques values in OBS_VALUE: [  13.    14.    16.1 ... 1446.7 1346.7 1269.3]\n"
     ]
    }
   ],
   "source": [
    "for col in df.columns:\n",
    "    print(f\"Uniques values in {col}: {df[col].unique()}\")"
   ]
  },
  {
   "cell_type": "code",
   "execution_count": 24,
   "id": "b0c2bca4",
   "metadata": {},
   "outputs": [],
   "source": [
    "df = df.rename(columns={\"OBS_VALUE\": \"Number per 1000 people\", \"TIME_PERIOD\": \"year\"})"
   ]
  },
  {
   "cell_type": "code",
   "execution_count": 26,
   "id": "9373fe65",
   "metadata": {},
   "outputs": [],
   "source": [
    "df.to_csv(\"../../processed_data/unemployment_by_citizenship_annual.csv\", index=False)"
   ]
  },
  {
   "cell_type": "markdown",
   "id": "fd3a4692",
   "metadata": {},
   "source": [
    "# Obliczenie annual unemployment rates"
   ]
  },
  {
   "cell_type": "code",
   "execution_count": 36,
   "id": "64671f36",
   "metadata": {},
   "outputs": [],
   "source": [
    "pop_by_lab = pd.read_csv('../../data/population_by_age_sex_citizenship_labour_force.csv')"
   ]
  },
  {
   "cell_type": "code",
   "execution_count": 37,
   "id": "1be79db8",
   "metadata": {},
   "outputs": [
    {
     "name": "stdout",
     "output_type": "stream",
     "text": [
      "<class 'pandas.core.frame.DataFrame'>\n",
      "RangeIndex: 113199 entries, 0 to 113198\n",
      "Data columns (total 25 columns):\n",
      " #   Column                                  Non-Null Count   Dtype  \n",
      "---  ------                                  --------------   -----  \n",
      " 0   STRUCTURE                               113199 non-null  object \n",
      " 1   STRUCTURE_ID                            113199 non-null  object \n",
      " 2   STRUCTURE_NAME                          113199 non-null  object \n",
      " 3   freq                                    113199 non-null  object \n",
      " 4   Time frequency                          113199 non-null  object \n",
      " 5   unit                                    113199 non-null  object \n",
      " 6   Unit of measure                         113199 non-null  object \n",
      " 7   sex                                     113199 non-null  object \n",
      " 8   Sex                                     113199 non-null  object \n",
      " 9   citizen                                 113199 non-null  object \n",
      " 10  Country of citizenship                  113199 non-null  object \n",
      " 11  age                                     113199 non-null  object \n",
      " 12  Age class                               113199 non-null  object \n",
      " 13  wstatus                                 113199 non-null  object \n",
      " 14  Labour force and employment status      113199 non-null  object \n",
      " 15  geo                                     113199 non-null  object \n",
      " 16  Geopolitical entity (reporting)         113199 non-null  object \n",
      " 17  TIME_PERIOD                             113199 non-null  object \n",
      " 18  Time                                    0 non-null       float64\n",
      " 19  OBS_VALUE                               107901 non-null  float64\n",
      " 20  Observation value                       0 non-null       float64\n",
      " 21  OBS_FLAG                                14204 non-null   object \n",
      " 22  Observation status (Flag) V2 structure  14204 non-null   object \n",
      " 23  CONF_STATUS                             0 non-null       float64\n",
      " 24  Confidentiality status (flag)           0 non-null       float64\n",
      "dtypes: float64(5), object(20)\n",
      "memory usage: 21.6+ MB\n"
     ]
    }
   ],
   "source": [
    "pop_by_lab.info()"
   ]
  },
  {
   "cell_type": "code",
   "execution_count": 29,
   "id": "d828bc97",
   "metadata": {},
   "outputs": [
    {
     "data": {
      "text/html": [
       "<div>\n",
       "<style scoped>\n",
       "    .dataframe tbody tr th:only-of-type {\n",
       "        vertical-align: middle;\n",
       "    }\n",
       "\n",
       "    .dataframe tbody tr th {\n",
       "        vertical-align: top;\n",
       "    }\n",
       "\n",
       "    .dataframe thead th {\n",
       "        text-align: right;\n",
       "    }\n",
       "</style>\n",
       "<table border=\"1\" class=\"dataframe\">\n",
       "  <thead>\n",
       "    <tr style=\"text-align: right;\">\n",
       "      <th></th>\n",
       "      <th>STRUCTURE</th>\n",
       "      <th>STRUCTURE_ID</th>\n",
       "      <th>STRUCTURE_NAME</th>\n",
       "      <th>freq</th>\n",
       "      <th>Time frequency</th>\n",
       "      <th>unit</th>\n",
       "      <th>Unit of measure</th>\n",
       "      <th>sex</th>\n",
       "      <th>Sex</th>\n",
       "      <th>citizen</th>\n",
       "      <th>...</th>\n",
       "      <th>geo</th>\n",
       "      <th>Geopolitical entity (reporting)</th>\n",
       "      <th>TIME_PERIOD</th>\n",
       "      <th>Time</th>\n",
       "      <th>OBS_VALUE</th>\n",
       "      <th>Observation value</th>\n",
       "      <th>OBS_FLAG</th>\n",
       "      <th>Observation status (Flag) V2 structure</th>\n",
       "      <th>CONF_STATUS</th>\n",
       "      <th>Confidentiality status (flag)</th>\n",
       "    </tr>\n",
       "  </thead>\n",
       "  <tbody>\n",
       "    <tr>\n",
       "      <th>0</th>\n",
       "      <td>dataflow</td>\n",
       "      <td>ESTAT:LFSQ_PGANWS(1.0)</td>\n",
       "      <td>Population by sex, age, citizenship and labour...</td>\n",
       "      <td>Q</td>\n",
       "      <td>Quarterly</td>\n",
       "      <td>THS_PER</td>\n",
       "      <td>Thousand persons</td>\n",
       "      <td>F</td>\n",
       "      <td>Females</td>\n",
       "      <td>FOR</td>\n",
       "      <td>...</td>\n",
       "      <td>AT</td>\n",
       "      <td>Austria</td>\n",
       "      <td>1998-Q1</td>\n",
       "      <td>NaN</td>\n",
       "      <td>155.0</td>\n",
       "      <td>NaN</td>\n",
       "      <td>NaN</td>\n",
       "      <td>NaN</td>\n",
       "      <td>NaN</td>\n",
       "      <td>NaN</td>\n",
       "    </tr>\n",
       "    <tr>\n",
       "      <th>1</th>\n",
       "      <td>dataflow</td>\n",
       "      <td>ESTAT:LFSQ_PGANWS(1.0)</td>\n",
       "      <td>Population by sex, age, citizenship and labour...</td>\n",
       "      <td>Q</td>\n",
       "      <td>Quarterly</td>\n",
       "      <td>THS_PER</td>\n",
       "      <td>Thousand persons</td>\n",
       "      <td>F</td>\n",
       "      <td>Females</td>\n",
       "      <td>FOR</td>\n",
       "      <td>...</td>\n",
       "      <td>AT</td>\n",
       "      <td>Austria</td>\n",
       "      <td>1999-Q1</td>\n",
       "      <td>NaN</td>\n",
       "      <td>144.9</td>\n",
       "      <td>NaN</td>\n",
       "      <td>NaN</td>\n",
       "      <td>NaN</td>\n",
       "      <td>NaN</td>\n",
       "      <td>NaN</td>\n",
       "    </tr>\n",
       "    <tr>\n",
       "      <th>2</th>\n",
       "      <td>dataflow</td>\n",
       "      <td>ESTAT:LFSQ_PGANWS(1.0)</td>\n",
       "      <td>Population by sex, age, citizenship and labour...</td>\n",
       "      <td>Q</td>\n",
       "      <td>Quarterly</td>\n",
       "      <td>THS_PER</td>\n",
       "      <td>Thousand persons</td>\n",
       "      <td>F</td>\n",
       "      <td>Females</td>\n",
       "      <td>FOR</td>\n",
       "      <td>...</td>\n",
       "      <td>AT</td>\n",
       "      <td>Austria</td>\n",
       "      <td>2000-Q1</td>\n",
       "      <td>NaN</td>\n",
       "      <td>159.6</td>\n",
       "      <td>NaN</td>\n",
       "      <td>NaN</td>\n",
       "      <td>NaN</td>\n",
       "      <td>NaN</td>\n",
       "      <td>NaN</td>\n",
       "    </tr>\n",
       "    <tr>\n",
       "      <th>3</th>\n",
       "      <td>dataflow</td>\n",
       "      <td>ESTAT:LFSQ_PGANWS(1.0)</td>\n",
       "      <td>Population by sex, age, citizenship and labour...</td>\n",
       "      <td>Q</td>\n",
       "      <td>Quarterly</td>\n",
       "      <td>THS_PER</td>\n",
       "      <td>Thousand persons</td>\n",
       "      <td>F</td>\n",
       "      <td>Females</td>\n",
       "      <td>FOR</td>\n",
       "      <td>...</td>\n",
       "      <td>AT</td>\n",
       "      <td>Austria</td>\n",
       "      <td>2000-Q2</td>\n",
       "      <td>NaN</td>\n",
       "      <td>140.7</td>\n",
       "      <td>NaN</td>\n",
       "      <td>NaN</td>\n",
       "      <td>NaN</td>\n",
       "      <td>NaN</td>\n",
       "      <td>NaN</td>\n",
       "    </tr>\n",
       "    <tr>\n",
       "      <th>4</th>\n",
       "      <td>dataflow</td>\n",
       "      <td>ESTAT:LFSQ_PGANWS(1.0)</td>\n",
       "      <td>Population by sex, age, citizenship and labour...</td>\n",
       "      <td>Q</td>\n",
       "      <td>Quarterly</td>\n",
       "      <td>THS_PER</td>\n",
       "      <td>Thousand persons</td>\n",
       "      <td>F</td>\n",
       "      <td>Females</td>\n",
       "      <td>FOR</td>\n",
       "      <td>...</td>\n",
       "      <td>AT</td>\n",
       "      <td>Austria</td>\n",
       "      <td>2001-Q1</td>\n",
       "      <td>NaN</td>\n",
       "      <td>152.9</td>\n",
       "      <td>NaN</td>\n",
       "      <td>NaN</td>\n",
       "      <td>NaN</td>\n",
       "      <td>NaN</td>\n",
       "      <td>NaN</td>\n",
       "    </tr>\n",
       "  </tbody>\n",
       "</table>\n",
       "<p>5 rows × 25 columns</p>\n",
       "</div>"
      ],
      "text/plain": [
       "  STRUCTURE            STRUCTURE_ID  \\\n",
       "0  dataflow  ESTAT:LFSQ_PGANWS(1.0)   \n",
       "1  dataflow  ESTAT:LFSQ_PGANWS(1.0)   \n",
       "2  dataflow  ESTAT:LFSQ_PGANWS(1.0)   \n",
       "3  dataflow  ESTAT:LFSQ_PGANWS(1.0)   \n",
       "4  dataflow  ESTAT:LFSQ_PGANWS(1.0)   \n",
       "\n",
       "                                      STRUCTURE_NAME freq Time frequency  \\\n",
       "0  Population by sex, age, citizenship and labour...    Q      Quarterly   \n",
       "1  Population by sex, age, citizenship and labour...    Q      Quarterly   \n",
       "2  Population by sex, age, citizenship and labour...    Q      Quarterly   \n",
       "3  Population by sex, age, citizenship and labour...    Q      Quarterly   \n",
       "4  Population by sex, age, citizenship and labour...    Q      Quarterly   \n",
       "\n",
       "      unit   Unit of measure sex      Sex citizen  ... geo  \\\n",
       "0  THS_PER  Thousand persons   F  Females     FOR  ...  AT   \n",
       "1  THS_PER  Thousand persons   F  Females     FOR  ...  AT   \n",
       "2  THS_PER  Thousand persons   F  Females     FOR  ...  AT   \n",
       "3  THS_PER  Thousand persons   F  Females     FOR  ...  AT   \n",
       "4  THS_PER  Thousand persons   F  Females     FOR  ...  AT   \n",
       "\n",
       "  Geopolitical entity (reporting) TIME_PERIOD Time OBS_VALUE  \\\n",
       "0                         Austria     1998-Q1  NaN     155.0   \n",
       "1                         Austria     1999-Q1  NaN     144.9   \n",
       "2                         Austria     2000-Q1  NaN     159.6   \n",
       "3                         Austria     2000-Q2  NaN     140.7   \n",
       "4                         Austria     2001-Q1  NaN     152.9   \n",
       "\n",
       "  Observation value OBS_FLAG Observation status (Flag) V2 structure  \\\n",
       "0               NaN      NaN                                    NaN   \n",
       "1               NaN      NaN                                    NaN   \n",
       "2               NaN      NaN                                    NaN   \n",
       "3               NaN      NaN                                    NaN   \n",
       "4               NaN      NaN                                    NaN   \n",
       "\n",
       "   CONF_STATUS  Confidentiality status (flag)  \n",
       "0          NaN                            NaN  \n",
       "1          NaN                            NaN  \n",
       "2          NaN                            NaN  \n",
       "3          NaN                            NaN  \n",
       "4          NaN                            NaN  \n",
       "\n",
       "[5 rows x 25 columns]"
      ]
     },
     "execution_count": 29,
     "metadata": {},
     "output_type": "execute_result"
    }
   ],
   "source": [
    "pop_by_lab.head()"
   ]
  },
  {
   "cell_type": "code",
   "execution_count": 38,
   "id": "12f76a36",
   "metadata": {},
   "outputs": [],
   "source": [
    "pop_by_lab = pop_by_lab[[\"Country of citizenship\", \"Geopolitical entity (reporting)\", \"OBS_VALUE\", \"TIME_PERIOD\", \"Sex\", \"wstatus\"]]\n"
   ]
  },
  {
   "cell_type": "code",
   "execution_count": 39,
   "id": "7ed714cb",
   "metadata": {},
   "outputs": [
    {
     "data": {
      "text/html": [
       "<div>\n",
       "<style scoped>\n",
       "    .dataframe tbody tr th:only-of-type {\n",
       "        vertical-align: middle;\n",
       "    }\n",
       "\n",
       "    .dataframe tbody tr th {\n",
       "        vertical-align: top;\n",
       "    }\n",
       "\n",
       "    .dataframe thead th {\n",
       "        text-align: right;\n",
       "    }\n",
       "</style>\n",
       "<table border=\"1\" class=\"dataframe\">\n",
       "  <thead>\n",
       "    <tr style=\"text-align: right;\">\n",
       "      <th></th>\n",
       "      <th>Country of citizenship</th>\n",
       "      <th>Geopolitical entity (reporting)</th>\n",
       "      <th>OBS_VALUE</th>\n",
       "      <th>TIME_PERIOD</th>\n",
       "      <th>Sex</th>\n",
       "      <th>wstatus</th>\n",
       "    </tr>\n",
       "  </thead>\n",
       "  <tbody>\n",
       "    <tr>\n",
       "      <th>0</th>\n",
       "      <td>Foreign country</td>\n",
       "      <td>Austria</td>\n",
       "      <td>155.0</td>\n",
       "      <td>1998-Q1</td>\n",
       "      <td>Females</td>\n",
       "      <td>ACT</td>\n",
       "    </tr>\n",
       "    <tr>\n",
       "      <th>1</th>\n",
       "      <td>Foreign country</td>\n",
       "      <td>Austria</td>\n",
       "      <td>144.9</td>\n",
       "      <td>1999-Q1</td>\n",
       "      <td>Females</td>\n",
       "      <td>ACT</td>\n",
       "    </tr>\n",
       "    <tr>\n",
       "      <th>2</th>\n",
       "      <td>Foreign country</td>\n",
       "      <td>Austria</td>\n",
       "      <td>159.6</td>\n",
       "      <td>2000-Q1</td>\n",
       "      <td>Females</td>\n",
       "      <td>ACT</td>\n",
       "    </tr>\n",
       "    <tr>\n",
       "      <th>3</th>\n",
       "      <td>Foreign country</td>\n",
       "      <td>Austria</td>\n",
       "      <td>140.7</td>\n",
       "      <td>2000-Q2</td>\n",
       "      <td>Females</td>\n",
       "      <td>ACT</td>\n",
       "    </tr>\n",
       "    <tr>\n",
       "      <th>4</th>\n",
       "      <td>Foreign country</td>\n",
       "      <td>Austria</td>\n",
       "      <td>152.9</td>\n",
       "      <td>2001-Q1</td>\n",
       "      <td>Females</td>\n",
       "      <td>ACT</td>\n",
       "    </tr>\n",
       "  </tbody>\n",
       "</table>\n",
       "</div>"
      ],
      "text/plain": [
       "  Country of citizenship Geopolitical entity (reporting)  OBS_VALUE  \\\n",
       "0        Foreign country                         Austria      155.0   \n",
       "1        Foreign country                         Austria      144.9   \n",
       "2        Foreign country                         Austria      159.6   \n",
       "3        Foreign country                         Austria      140.7   \n",
       "4        Foreign country                         Austria      152.9   \n",
       "\n",
       "  TIME_PERIOD      Sex wstatus  \n",
       "0     1998-Q1  Females     ACT  \n",
       "1     1999-Q1  Females     ACT  \n",
       "2     2000-Q1  Females     ACT  \n",
       "3     2000-Q2  Females     ACT  \n",
       "4     2001-Q1  Females     ACT  "
      ]
     },
     "execution_count": 39,
     "metadata": {},
     "output_type": "execute_result"
    }
   ],
   "source": [
    "pop_by_lab.head()"
   ]
  },
  {
   "cell_type": "code",
   "execution_count": 40,
   "id": "81f90789",
   "metadata": {},
   "outputs": [
    {
     "data": {
      "text/plain": [
       "Country of citizenship                0\n",
       "Geopolitical entity (reporting)       0\n",
       "OBS_VALUE                          5298\n",
       "TIME_PERIOD                           0\n",
       "Sex                                   0\n",
       "wstatus                               0\n",
       "dtype: int64"
      ]
     },
     "execution_count": 40,
     "metadata": {},
     "output_type": "execute_result"
    }
   ],
   "source": [
    "pop_by_lab.isna().sum()"
   ]
  },
  {
   "cell_type": "code",
   "execution_count": 44,
   "id": "7e4c313e",
   "metadata": {},
   "outputs": [],
   "source": [
    "pop_by_lab = pop_by_lab.rename(columns={\n",
    "    \"Geopolitical entity (reporting)\": \"geo\",\n",
    "    \"TIME_PERIOD\": \"quarter\",\n",
    "    \"OBS_VALUE\": \"Number per 1000 people\"\n",
    "})"
   ]
  },
  {
   "cell_type": "code",
   "execution_count": 45,
   "id": "2e3c30cf",
   "metadata": {},
   "outputs": [
    {
     "name": "stdout",
     "output_type": "stream",
     "text": [
      "<class 'pandas.core.frame.DataFrame'>\n",
      "RangeIndex: 113199 entries, 0 to 113198\n",
      "Data columns (total 6 columns):\n",
      " #   Column                  Non-Null Count   Dtype  \n",
      "---  ------                  --------------   -----  \n",
      " 0   Country of citizenship  113199 non-null  object \n",
      " 1   geo                     113199 non-null  object \n",
      " 2   Number per 1000 people  107901 non-null  float64\n",
      " 3   quarter                 113199 non-null  object \n",
      " 4   Sex                     113199 non-null  object \n",
      " 5   wstatus                 113199 non-null  object \n",
      "dtypes: float64(1), object(5)\n",
      "memory usage: 5.2+ MB\n"
     ]
    }
   ],
   "source": [
    "pop_by_lab.info()"
   ]
  },
  {
   "cell_type": "code",
   "execution_count": 46,
   "id": "707f07e7",
   "metadata": {},
   "outputs": [],
   "source": [
    "grouped = pop_by_lab.groupby(['geo', 'quarter', 'Country of citizenship', 'Sex', 'wstatus'])['Number per 1000 people'].sum().unstack()\n",
    "\n",
    "grouped['unemployment_rate'] = (grouped['UNE'] / grouped['ACT']) * 100\n",
    "grouped['employment_rate'] = (grouped['EMP'] / grouped['POP']) * 100\n",
    "\n",
    "grouped = grouped.reset_index()"
   ]
  },
  {
   "cell_type": "code",
   "execution_count": 51,
   "id": "8ea5ae6b",
   "metadata": {},
   "outputs": [
    {
     "name": "stdout",
     "output_type": "stream",
     "text": [
      "<class 'pandas.core.frame.DataFrame'>\n",
      "Index: 252 entries, 22008 to 22757\n",
      "Data columns (total 10 columns):\n",
      " #   Column                  Non-Null Count  Dtype  \n",
      "---  ------                  --------------  -----  \n",
      " 0   geo                     252 non-null    object \n",
      " 1   quarter                 252 non-null    object \n",
      " 2   Country of citizenship  252 non-null    object \n",
      " 3   Sex                     252 non-null    object \n",
      " 4   ACT                     252 non-null    float64\n",
      " 5   EMP                     252 non-null    float64\n",
      " 6   POP                     252 non-null    float64\n",
      " 7   UNE                     108 non-null    float64\n",
      " 8   unemployment_rate       60 non-null     float64\n",
      " 9   employment_rate         142 non-null    float64\n",
      "dtypes: float64(6), object(4)\n",
      "memory usage: 21.7+ KB\n"
     ]
    }
   ],
   "source": [
    "grouped[(grouped['geo']=='Romania') & (grouped['Country of citizenship'] == 'Foreign country')].info()"
   ]
  },
  {
   "cell_type": "code",
   "execution_count": 52,
   "id": "b459ce2f",
   "metadata": {},
   "outputs": [
    {
     "name": "stdout",
     "output_type": "stream",
     "text": [
      "<class 'pandas.core.frame.DataFrame'>\n",
      "Index: 252 entries, 20241 to 20990\n",
      "Data columns (total 10 columns):\n",
      " #   Column                  Non-Null Count  Dtype  \n",
      "---  ------                  --------------  -----  \n",
      " 0   geo                     252 non-null    object \n",
      " 1   quarter                 252 non-null    object \n",
      " 2   Country of citizenship  252 non-null    object \n",
      " 3   Sex                     252 non-null    object \n",
      " 4   ACT                     252 non-null    float64\n",
      " 5   EMP                     252 non-null    float64\n",
      " 6   POP                     252 non-null    float64\n",
      " 7   UNE                     240 non-null    float64\n",
      " 8   unemployment_rate       240 non-null    float64\n",
      " 9   employment_rate         252 non-null    float64\n",
      "dtypes: float64(6), object(4)\n",
      "memory usage: 21.7+ KB\n"
     ]
    }
   ],
   "source": [
    "grouped[(grouped['geo']=='Poland') & (grouped['Country of citizenship'] == 'Foreign country')].info()"
   ]
  },
  {
   "cell_type": "code",
   "execution_count": 53,
   "id": "4ffbdc7f",
   "metadata": {},
   "outputs": [
    {
     "name": "stdout",
     "output_type": "stream",
     "text": [
      "<class 'pandas.core.frame.DataFrame'>\n",
      "Index: 288 entries, 10749 to 11606\n",
      "Data columns (total 10 columns):\n",
      " #   Column                  Non-Null Count  Dtype  \n",
      "---  ------                  --------------  -----  \n",
      " 0   geo                     288 non-null    object \n",
      " 1   quarter                 288 non-null    object \n",
      " 2   Country of citizenship  288 non-null    object \n",
      " 3   Sex                     288 non-null    object \n",
      " 4   ACT                     288 non-null    float64\n",
      " 5   EMP                     288 non-null    float64\n",
      " 6   POP                     288 non-null    float64\n",
      " 7   UNE                     283 non-null    float64\n",
      " 8   unemployment_rate       283 non-null    float64\n",
      " 9   employment_rate         288 non-null    float64\n",
      "dtypes: float64(6), object(4)\n",
      "memory usage: 24.8+ KB\n"
     ]
    }
   ],
   "source": [
    "grouped[(grouped['geo']=='Hungary') & (grouped['Country of citizenship'] == 'Foreign country')].info()"
   ]
  },
  {
   "cell_type": "code",
   "execution_count": 54,
   "id": "5d5d327e",
   "metadata": {},
   "outputs": [
    {
     "name": "stdout",
     "output_type": "stream",
     "text": [
      "<class 'pandas.core.frame.DataFrame'>\n",
      "Index: 288 entries, 1971 to 2828\n",
      "Data columns (total 10 columns):\n",
      " #   Column                  Non-Null Count  Dtype  \n",
      "---  ------                  --------------  -----  \n",
      " 0   geo                     288 non-null    object \n",
      " 1   quarter                 288 non-null    object \n",
      " 2   Country of citizenship  288 non-null    object \n",
      " 3   Sex                     288 non-null    object \n",
      " 4   ACT                     288 non-null    float64\n",
      " 5   EMP                     288 non-null    float64\n",
      " 6   POP                     288 non-null    float64\n",
      " 7   UNE                     192 non-null    float64\n",
      " 8   unemployment_rate       34 non-null     float64\n",
      " 9   employment_rate         140 non-null    float64\n",
      "dtypes: float64(6), object(4)\n",
      "memory usage: 24.8+ KB\n"
     ]
    }
   ],
   "source": [
    "grouped[(grouped['geo']=='Bulgaria') & (grouped['Country of citizenship'] == 'Foreign country')].info()"
   ]
  },
  {
   "cell_type": "code",
   "execution_count": 56,
   "id": "0fcfd3b8",
   "metadata": {},
   "outputs": [],
   "source": [
    "for_saving = grouped[['geo', 'quarter', 'Country of citizenship', 'Sex', 'unemployment_rate', 'employment_rate']]\n",
    "\n",
    "for_saving.to_csv(\"../../processed_data/employment_and_unemployment_rates_quarter.csv\", index=False)"
   ]
  },
  {
   "cell_type": "code",
   "execution_count": null,
   "id": "5d4e0bae",
   "metadata": {},
   "outputs": [],
   "source": []
  }
 ],
 "metadata": {
  "kernelspec": {
   "display_name": "Python 3",
   "language": "python",
   "name": "python3"
  },
  "language_info": {
   "codemirror_mode": {
    "name": "ipython",
    "version": 3
   },
   "file_extension": ".py",
   "mimetype": "text/x-python",
   "name": "python",
   "nbconvert_exporter": "python",
   "pygments_lexer": "ipython3",
   "version": "3.11.4"
  }
 },
 "nbformat": 4,
 "nbformat_minor": 5
}
