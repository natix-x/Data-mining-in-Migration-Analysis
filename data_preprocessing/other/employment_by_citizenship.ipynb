{
 "cells": [
  {
   "cell_type": "code",
   "execution_count": 32,
   "id": "initial_id",
   "metadata": {
    "ExecuteTime": {
     "end_time": "2025-03-26T21:34:11.560643700Z",
     "start_time": "2025-03-26T21:34:11.546196900Z"
    },
    "collapsed": true
   },
   "outputs": [],
   "source": [
    "import pandas as pd"
   ]
  },
  {
   "cell_type": "markdown",
   "id": "4eef2139c0484eec",
   "metadata": {
    "collapsed": false
   },
   "source": [
    "**Employment (1 000)**\n",
    "\n",
    "---\n",
    "* Employment by citizenship in thousand persons\n",
    "https://ec.europa.eu/eurostat/databrowser/view/lfsa_egan/default/table?lang=en\n",
    "* Citizenship: Total\n",
    "* Sex: Total, Females, Males"
   ]
  },
  {
   "cell_type": "code",
   "execution_count": 34,
   "id": "e62d7877612d9f57",
   "metadata": {
    "ExecuteTime": {
     "end_time": "2025-03-26T21:34:11.827874700Z",
     "start_time": "2025-03-26T21:34:11.732324900Z"
    },
    "collapsed": false
   },
   "outputs": [],
   "source": [
    "df = pd.read_csv('../../data/employment_by_citizenship.csv')"
   ]
  },
  {
   "cell_type": "code",
   "execution_count": 35,
   "id": "3aac93c3c90129e0",
   "metadata": {
    "ExecuteTime": {
     "end_time": "2025-03-26T21:34:11.993588200Z",
     "start_time": "2025-03-26T21:34:11.942019700Z"
    },
    "collapsed": false
   },
   "outputs": [
    {
     "data": {
      "text/html": [
       "<div>\n",
       "<style scoped>\n",
       "    .dataframe tbody tr th:only-of-type {\n",
       "        vertical-align: middle;\n",
       "    }\n",
       "\n",
       "    .dataframe tbody tr th {\n",
       "        vertical-align: top;\n",
       "    }\n",
       "\n",
       "    .dataframe thead th {\n",
       "        text-align: right;\n",
       "    }\n",
       "</style>\n",
       "<table border=\"1\" class=\"dataframe\">\n",
       "  <thead>\n",
       "    <tr style=\"text-align: right;\">\n",
       "      <th></th>\n",
       "      <th>STRUCTURE</th>\n",
       "      <th>STRUCTURE_ID</th>\n",
       "      <th>STRUCTURE_NAME</th>\n",
       "      <th>freq</th>\n",
       "      <th>Time frequency</th>\n",
       "      <th>unit</th>\n",
       "      <th>Unit of measure</th>\n",
       "      <th>sex</th>\n",
       "      <th>Sex</th>\n",
       "      <th>age</th>\n",
       "      <th>...</th>\n",
       "      <th>geo</th>\n",
       "      <th>Geopolitical entity (reporting)</th>\n",
       "      <th>TIME_PERIOD</th>\n",
       "      <th>Time</th>\n",
       "      <th>OBS_VALUE</th>\n",
       "      <th>Observation value</th>\n",
       "      <th>OBS_FLAG</th>\n",
       "      <th>Observation status (Flag) V2 structure</th>\n",
       "      <th>CONF_STATUS</th>\n",
       "      <th>Confidentiality status (flag)</th>\n",
       "    </tr>\n",
       "  </thead>\n",
       "  <tbody>\n",
       "    <tr>\n",
       "      <th>0</th>\n",
       "      <td>dataflow</td>\n",
       "      <td>ESTAT:LFSA_EGAN(1.0)</td>\n",
       "      <td>Employment by sex, age and citizenship (1 000)</td>\n",
       "      <td>A</td>\n",
       "      <td>Annual</td>\n",
       "      <td>THS_PER</td>\n",
       "      <td>Thousand persons</td>\n",
       "      <td>F</td>\n",
       "      <td>Females</td>\n",
       "      <td>Y15-64</td>\n",
       "      <td>...</td>\n",
       "      <td>AT</td>\n",
       "      <td>Austria</td>\n",
       "      <td>1995</td>\n",
       "      <td>NaN</td>\n",
       "      <td>1570.0</td>\n",
       "      <td>NaN</td>\n",
       "      <td>NaN</td>\n",
       "      <td>NaN</td>\n",
       "      <td>NaN</td>\n",
       "      <td>NaN</td>\n",
       "    </tr>\n",
       "    <tr>\n",
       "      <th>1</th>\n",
       "      <td>dataflow</td>\n",
       "      <td>ESTAT:LFSA_EGAN(1.0)</td>\n",
       "      <td>Employment by sex, age and citizenship (1 000)</td>\n",
       "      <td>A</td>\n",
       "      <td>Annual</td>\n",
       "      <td>THS_PER</td>\n",
       "      <td>Thousand persons</td>\n",
       "      <td>F</td>\n",
       "      <td>Females</td>\n",
       "      <td>Y15-64</td>\n",
       "      <td>...</td>\n",
       "      <td>AT</td>\n",
       "      <td>Austria</td>\n",
       "      <td>1996</td>\n",
       "      <td>NaN</td>\n",
       "      <td>1555.1</td>\n",
       "      <td>NaN</td>\n",
       "      <td>NaN</td>\n",
       "      <td>NaN</td>\n",
       "      <td>NaN</td>\n",
       "      <td>NaN</td>\n",
       "    </tr>\n",
       "    <tr>\n",
       "      <th>2</th>\n",
       "      <td>dataflow</td>\n",
       "      <td>ESTAT:LFSA_EGAN(1.0)</td>\n",
       "      <td>Employment by sex, age and citizenship (1 000)</td>\n",
       "      <td>A</td>\n",
       "      <td>Annual</td>\n",
       "      <td>THS_PER</td>\n",
       "      <td>Thousand persons</td>\n",
       "      <td>F</td>\n",
       "      <td>Females</td>\n",
       "      <td>Y15-64</td>\n",
       "      <td>...</td>\n",
       "      <td>AT</td>\n",
       "      <td>Austria</td>\n",
       "      <td>1997</td>\n",
       "      <td>NaN</td>\n",
       "      <td>1557.1</td>\n",
       "      <td>NaN</td>\n",
       "      <td>NaN</td>\n",
       "      <td>NaN</td>\n",
       "      <td>NaN</td>\n",
       "      <td>NaN</td>\n",
       "    </tr>\n",
       "    <tr>\n",
       "      <th>3</th>\n",
       "      <td>dataflow</td>\n",
       "      <td>ESTAT:LFSA_EGAN(1.0)</td>\n",
       "      <td>Employment by sex, age and citizenship (1 000)</td>\n",
       "      <td>A</td>\n",
       "      <td>Annual</td>\n",
       "      <td>THS_PER</td>\n",
       "      <td>Thousand persons</td>\n",
       "      <td>F</td>\n",
       "      <td>Females</td>\n",
       "      <td>Y15-64</td>\n",
       "      <td>...</td>\n",
       "      <td>AT</td>\n",
       "      <td>Austria</td>\n",
       "      <td>1998</td>\n",
       "      <td>NaN</td>\n",
       "      <td>1574.3</td>\n",
       "      <td>NaN</td>\n",
       "      <td>NaN</td>\n",
       "      <td>NaN</td>\n",
       "      <td>NaN</td>\n",
       "      <td>NaN</td>\n",
       "    </tr>\n",
       "    <tr>\n",
       "      <th>4</th>\n",
       "      <td>dataflow</td>\n",
       "      <td>ESTAT:LFSA_EGAN(1.0)</td>\n",
       "      <td>Employment by sex, age and citizenship (1 000)</td>\n",
       "      <td>A</td>\n",
       "      <td>Annual</td>\n",
       "      <td>THS_PER</td>\n",
       "      <td>Thousand persons</td>\n",
       "      <td>F</td>\n",
       "      <td>Females</td>\n",
       "      <td>Y15-64</td>\n",
       "      <td>...</td>\n",
       "      <td>AT</td>\n",
       "      <td>Austria</td>\n",
       "      <td>1999</td>\n",
       "      <td>NaN</td>\n",
       "      <td>1600.4</td>\n",
       "      <td>NaN</td>\n",
       "      <td>NaN</td>\n",
       "      <td>NaN</td>\n",
       "      <td>NaN</td>\n",
       "      <td>NaN</td>\n",
       "    </tr>\n",
       "  </tbody>\n",
       "</table>\n",
       "<p>5 rows × 23 columns</p>\n",
       "</div>"
      ],
      "text/plain": [
       "  STRUCTURE          STRUCTURE_ID  \\\n",
       "0  dataflow  ESTAT:LFSA_EGAN(1.0)   \n",
       "1  dataflow  ESTAT:LFSA_EGAN(1.0)   \n",
       "2  dataflow  ESTAT:LFSA_EGAN(1.0)   \n",
       "3  dataflow  ESTAT:LFSA_EGAN(1.0)   \n",
       "4  dataflow  ESTAT:LFSA_EGAN(1.0)   \n",
       "\n",
       "                                   STRUCTURE_NAME freq Time frequency  \\\n",
       "0  Employment by sex, age and citizenship (1 000)    A         Annual   \n",
       "1  Employment by sex, age and citizenship (1 000)    A         Annual   \n",
       "2  Employment by sex, age and citizenship (1 000)    A         Annual   \n",
       "3  Employment by sex, age and citizenship (1 000)    A         Annual   \n",
       "4  Employment by sex, age and citizenship (1 000)    A         Annual   \n",
       "\n",
       "      unit   Unit of measure sex      Sex     age  ... geo  \\\n",
       "0  THS_PER  Thousand persons   F  Females  Y15-64  ...  AT   \n",
       "1  THS_PER  Thousand persons   F  Females  Y15-64  ...  AT   \n",
       "2  THS_PER  Thousand persons   F  Females  Y15-64  ...  AT   \n",
       "3  THS_PER  Thousand persons   F  Females  Y15-64  ...  AT   \n",
       "4  THS_PER  Thousand persons   F  Females  Y15-64  ...  AT   \n",
       "\n",
       "  Geopolitical entity (reporting) TIME_PERIOD Time OBS_VALUE  \\\n",
       "0                         Austria        1995  NaN    1570.0   \n",
       "1                         Austria        1996  NaN    1555.1   \n",
       "2                         Austria        1997  NaN    1557.1   \n",
       "3                         Austria        1998  NaN    1574.3   \n",
       "4                         Austria        1999  NaN    1600.4   \n",
       "\n",
       "   Observation value  OBS_FLAG  Observation status (Flag) V2 structure  \\\n",
       "0                NaN       NaN                                     NaN   \n",
       "1                NaN       NaN                                     NaN   \n",
       "2                NaN       NaN                                     NaN   \n",
       "3                NaN       NaN                                     NaN   \n",
       "4                NaN       NaN                                     NaN   \n",
       "\n",
       "   CONF_STATUS Confidentiality status (flag)  \n",
       "0          NaN                           NaN  \n",
       "1          NaN                           NaN  \n",
       "2          NaN                           NaN  \n",
       "3          NaN                           NaN  \n",
       "4          NaN                           NaN  \n",
       "\n",
       "[5 rows x 23 columns]"
      ]
     },
     "execution_count": 35,
     "metadata": {},
     "output_type": "execute_result"
    }
   ],
   "source": [
    "df.head()"
   ]
  },
  {
   "cell_type": "code",
   "execution_count": 36,
   "id": "577dea46a717bc74",
   "metadata": {
    "ExecuteTime": {
     "end_time": "2025-03-26T21:34:12.301617800Z",
     "start_time": "2025-03-26T21:34:12.231615300Z"
    },
    "collapsed": false
   },
   "outputs": [
    {
     "name": "stdout",
     "output_type": "stream",
     "text": [
      "<class 'pandas.core.frame.DataFrame'>\n",
      "RangeIndex: 2841 entries, 0 to 2840\n",
      "Data columns (total 23 columns):\n",
      " #   Column                                  Non-Null Count  Dtype  \n",
      "---  ------                                  --------------  -----  \n",
      " 0   STRUCTURE                               2841 non-null   object \n",
      " 1   STRUCTURE_ID                            2841 non-null   object \n",
      " 2   STRUCTURE_NAME                          2841 non-null   object \n",
      " 3   freq                                    2841 non-null   object \n",
      " 4   Time frequency                          2841 non-null   object \n",
      " 5   unit                                    2841 non-null   object \n",
      " 6   Unit of measure                         2841 non-null   object \n",
      " 7   sex                                     2841 non-null   object \n",
      " 8   Sex                                     2841 non-null   object \n",
      " 9   age                                     2841 non-null   object \n",
      " 10  Age class                               2841 non-null   object \n",
      " 11  citizen                                 2841 non-null   object \n",
      " 12  Country of citizenship                  2841 non-null   object \n",
      " 13  geo                                     2841 non-null   object \n",
      " 14  Geopolitical entity (reporting)         2841 non-null   object \n",
      " 15  TIME_PERIOD                             2841 non-null   int64  \n",
      " 16  Time                                    0 non-null      float64\n",
      " 17  OBS_VALUE                               2841 non-null   float64\n",
      " 18  Observation value                       0 non-null      float64\n",
      " 19  OBS_FLAG                                453 non-null    object \n",
      " 20  Observation status (Flag) V2 structure  453 non-null    object \n",
      " 21  CONF_STATUS                             0 non-null      float64\n",
      " 22  Confidentiality status (flag)           0 non-null      float64\n",
      "dtypes: float64(5), int64(1), object(17)\n",
      "memory usage: 510.6+ KB\n"
     ]
    }
   ],
   "source": [
    "df.info()"
   ]
  },
  {
   "cell_type": "code",
   "execution_count": 37,
   "id": "6d6594ee412294fa",
   "metadata": {
    "ExecuteTime": {
     "end_time": "2025-03-26T21:34:12.452889100Z",
     "start_time": "2025-03-26T21:34:12.357186800Z"
    },
    "collapsed": false
   },
   "outputs": [],
   "source": [
    "df = df[['Geopolitical entity (reporting)', 'OBS_VALUE', 'TIME_PERIOD', 'Sex']]"
   ]
  },
  {
   "cell_type": "code",
   "execution_count": 39,
   "id": "fcf1dfb4",
   "metadata": {},
   "outputs": [
    {
     "name": "stdout",
     "output_type": "stream",
     "text": [
      "<class 'pandas.core.frame.DataFrame'>\n",
      "RangeIndex: 2841 entries, 0 to 2840\n",
      "Data columns (total 4 columns):\n",
      " #   Column                           Non-Null Count  Dtype  \n",
      "---  ------                           --------------  -----  \n",
      " 0   Geopolitical entity (reporting)  2841 non-null   object \n",
      " 1   OBS_VALUE                        2841 non-null   float64\n",
      " 2   TIME_PERIOD                      2841 non-null   int64  \n",
      " 3   Sex                              2841 non-null   object \n",
      "dtypes: float64(1), int64(1), object(2)\n",
      "memory usage: 88.9+ KB\n"
     ]
    }
   ],
   "source": [
    "df.info()"
   ]
  },
  {
   "cell_type": "code",
   "execution_count": 40,
   "id": "0ecd70bc",
   "metadata": {},
   "outputs": [
    {
     "data": {
      "text/html": [
       "<div>\n",
       "<style scoped>\n",
       "    .dataframe tbody tr th:only-of-type {\n",
       "        vertical-align: middle;\n",
       "    }\n",
       "\n",
       "    .dataframe tbody tr th {\n",
       "        vertical-align: top;\n",
       "    }\n",
       "\n",
       "    .dataframe thead th {\n",
       "        text-align: right;\n",
       "    }\n",
       "</style>\n",
       "<table border=\"1\" class=\"dataframe\">\n",
       "  <thead>\n",
       "    <tr style=\"text-align: right;\">\n",
       "      <th></th>\n",
       "      <th>Geopolitical entity (reporting)</th>\n",
       "      <th>OBS_VALUE</th>\n",
       "      <th>TIME_PERIOD</th>\n",
       "      <th>Sex</th>\n",
       "    </tr>\n",
       "  </thead>\n",
       "  <tbody>\n",
       "    <tr>\n",
       "      <th>2836</th>\n",
       "      <td>United Kingdom</td>\n",
       "      <td>30019.6</td>\n",
       "      <td>2015</td>\n",
       "      <td>Total</td>\n",
       "    </tr>\n",
       "    <tr>\n",
       "      <th>2837</th>\n",
       "      <td>United Kingdom</td>\n",
       "      <td>30443.6</td>\n",
       "      <td>2016</td>\n",
       "      <td>Total</td>\n",
       "    </tr>\n",
       "    <tr>\n",
       "      <th>2838</th>\n",
       "      <td>United Kingdom</td>\n",
       "      <td>30785.5</td>\n",
       "      <td>2017</td>\n",
       "      <td>Total</td>\n",
       "    </tr>\n",
       "    <tr>\n",
       "      <th>2839</th>\n",
       "      <td>United Kingdom</td>\n",
       "      <td>31112.0</td>\n",
       "      <td>2018</td>\n",
       "      <td>Total</td>\n",
       "    </tr>\n",
       "    <tr>\n",
       "      <th>2840</th>\n",
       "      <td>United Kingdom</td>\n",
       "      <td>31382.2</td>\n",
       "      <td>2019</td>\n",
       "      <td>Total</td>\n",
       "    </tr>\n",
       "  </tbody>\n",
       "</table>\n",
       "</div>"
      ],
      "text/plain": [
       "     Geopolitical entity (reporting)  OBS_VALUE  TIME_PERIOD    Sex\n",
       "2836                  United Kingdom    30019.6         2015  Total\n",
       "2837                  United Kingdom    30443.6         2016  Total\n",
       "2838                  United Kingdom    30785.5         2017  Total\n",
       "2839                  United Kingdom    31112.0         2018  Total\n",
       "2840                  United Kingdom    31382.2         2019  Total"
      ]
     },
     "execution_count": 40,
     "metadata": {},
     "output_type": "execute_result"
    }
   ],
   "source": [
    "df.tail()"
   ]
  },
  {
   "cell_type": "code",
   "execution_count": 41,
   "id": "f5cd5fe0f9dff462",
   "metadata": {
    "ExecuteTime": {
     "end_time": "2025-03-26T21:34:13.584270Z",
     "start_time": "2025-03-26T21:34:13.575390500Z"
    },
    "collapsed": false
   },
   "outputs": [],
   "source": [
    "df = df.rename(columns={\"OBS_VALUE\": \"Number in 1000 persons\", \"Geopolitical entity (reporting)\": \"geo\", \"TIME_PERIOD\": \"year\"})"
   ]
  },
  {
   "cell_type": "code",
   "execution_count": 42,
   "id": "77f075ec",
   "metadata": {},
   "outputs": [
    {
     "data": {
      "text/html": [
       "<div>\n",
       "<style scoped>\n",
       "    .dataframe tbody tr th:only-of-type {\n",
       "        vertical-align: middle;\n",
       "    }\n",
       "\n",
       "    .dataframe tbody tr th {\n",
       "        vertical-align: top;\n",
       "    }\n",
       "\n",
       "    .dataframe thead th {\n",
       "        text-align: right;\n",
       "    }\n",
       "</style>\n",
       "<table border=\"1\" class=\"dataframe\">\n",
       "  <thead>\n",
       "    <tr style=\"text-align: right;\">\n",
       "      <th></th>\n",
       "      <th>geo</th>\n",
       "      <th>Number in 1000 persons</th>\n",
       "      <th>year</th>\n",
       "      <th>Sex</th>\n",
       "    </tr>\n",
       "  </thead>\n",
       "  <tbody>\n",
       "    <tr>\n",
       "      <th>0</th>\n",
       "      <td>Austria</td>\n",
       "      <td>1570.0</td>\n",
       "      <td>1995</td>\n",
       "      <td>Females</td>\n",
       "    </tr>\n",
       "    <tr>\n",
       "      <th>1</th>\n",
       "      <td>Austria</td>\n",
       "      <td>1555.1</td>\n",
       "      <td>1996</td>\n",
       "      <td>Females</td>\n",
       "    </tr>\n",
       "    <tr>\n",
       "      <th>2</th>\n",
       "      <td>Austria</td>\n",
       "      <td>1557.1</td>\n",
       "      <td>1997</td>\n",
       "      <td>Females</td>\n",
       "    </tr>\n",
       "    <tr>\n",
       "      <th>3</th>\n",
       "      <td>Austria</td>\n",
       "      <td>1574.3</td>\n",
       "      <td>1998</td>\n",
       "      <td>Females</td>\n",
       "    </tr>\n",
       "    <tr>\n",
       "      <th>4</th>\n",
       "      <td>Austria</td>\n",
       "      <td>1600.4</td>\n",
       "      <td>1999</td>\n",
       "      <td>Females</td>\n",
       "    </tr>\n",
       "  </tbody>\n",
       "</table>\n",
       "</div>"
      ],
      "text/plain": [
       "       geo  Number in 1000 persons  year      Sex\n",
       "0  Austria                  1570.0  1995  Females\n",
       "1  Austria                  1555.1  1996  Females\n",
       "2  Austria                  1557.1  1997  Females\n",
       "3  Austria                  1574.3  1998  Females\n",
       "4  Austria                  1600.4  1999  Females"
      ]
     },
     "execution_count": 42,
     "metadata": {},
     "output_type": "execute_result"
    }
   ],
   "source": [
    "df.head()"
   ]
  },
  {
   "cell_type": "code",
   "execution_count": 43,
   "id": "a2bdb21270c90dea",
   "metadata": {
    "ExecuteTime": {
     "end_time": "2025-03-26T21:34:14.841410500Z",
     "start_time": "2025-03-26T21:34:14.791310900Z"
    },
    "collapsed": false
   },
   "outputs": [],
   "source": [
    "df.to_csv(\"../../processed_data/employment_by_citizenship.csv\", index=False)"
   ]
  },
  {
   "cell_type": "code",
   "execution_count": null,
   "id": "316116f5",
   "metadata": {},
   "outputs": [],
   "source": []
  }
 ],
 "metadata": {
  "kernelspec": {
   "display_name": ".venv",
   "language": "python",
   "name": "python3"
  },
  "language_info": {
   "codemirror_mode": {
    "name": "ipython",
    "version": 3
   },
   "file_extension": ".py",
   "mimetype": "text/x-python",
   "name": "python",
   "nbconvert_exporter": "python",
   "pygments_lexer": "ipython3",
   "version": "3.12.6"
  }
 },
 "nbformat": 4,
 "nbformat_minor": 5
}
