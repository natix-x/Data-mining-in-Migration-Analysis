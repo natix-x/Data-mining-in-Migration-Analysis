{
 "cells": [
  {
   "cell_type": "code",
   "execution_count": 2,
   "id": "initial_id",
   "metadata": {
    "ExecuteTime": {
     "end_time": "2025-03-26T21:34:11.560643700Z",
     "start_time": "2025-03-26T21:34:11.546196900Z"
    },
    "collapsed": true
   },
   "outputs": [],
   "source": [
    "import pandas as pd"
   ]
  },
  {
   "cell_type": "markdown",
   "id": "4eef2139c0484eec",
   "metadata": {
    "collapsed": false
   },
   "source": [
    "**Mean and median income by group of citizenship (population aged 18 and over)**\n",
    "\n",
    "---\n",
    "Mean and median income in Euro by citizenship\n",
    "https://ec.europa.eu/eurostat/databrowser/view/ilc_di15/default/table?lang=en"
   ]
  },
  {
   "cell_type": "code",
   "execution_count": 3,
   "id": "e62d7877612d9f57",
   "metadata": {
    "ExecuteTime": {
     "end_time": "2025-03-26T21:34:11.827874700Z",
     "start_time": "2025-03-26T21:34:11.732324900Z"
    },
    "collapsed": false
   },
   "outputs": [
    {
     "ename": "FileNotFoundError",
     "evalue": "[Errno 2] No such file or directory: '../../data/mean_and_median_income_by_citizenship_ilc_di15.csv'",
     "output_type": "error",
     "traceback": [
      "\u001b[31m---------------------------------------------------------------------------\u001b[39m",
      "\u001b[31mFileNotFoundError\u001b[39m                         Traceback (most recent call last)",
      "\u001b[36mCell\u001b[39m\u001b[36m \u001b[39m\u001b[32mIn[3]\u001b[39m\u001b[32m, line 1\u001b[39m\n\u001b[32m----> \u001b[39m\u001b[32m1\u001b[39m df = \u001b[43mpd\u001b[49m\u001b[43m.\u001b[49m\u001b[43mread_csv\u001b[49m\u001b[43m(\u001b[49m\u001b[33;43m'\u001b[39;49m\u001b[33;43m../../data/mean_and_median_income_by_citizenship_ilc_di15.csv\u001b[39;49m\u001b[33;43m'\u001b[39;49m\u001b[43m)\u001b[49m\n",
      "\u001b[36mFile \u001b[39m\u001b[32mc:\\Users\\Mahys\\Data Science\\Data-mining-in-Migration-Analysis\\venv\\Lib\\site-packages\\pandas\\io\\parsers\\readers.py:1026\u001b[39m, in \u001b[36mread_csv\u001b[39m\u001b[34m(filepath_or_buffer, sep, delimiter, header, names, index_col, usecols, dtype, engine, converters, true_values, false_values, skipinitialspace, skiprows, skipfooter, nrows, na_values, keep_default_na, na_filter, verbose, skip_blank_lines, parse_dates, infer_datetime_format, keep_date_col, date_parser, date_format, dayfirst, cache_dates, iterator, chunksize, compression, thousands, decimal, lineterminator, quotechar, quoting, doublequote, escapechar, comment, encoding, encoding_errors, dialect, on_bad_lines, delim_whitespace, low_memory, memory_map, float_precision, storage_options, dtype_backend)\u001b[39m\n\u001b[32m   1013\u001b[39m kwds_defaults = _refine_defaults_read(\n\u001b[32m   1014\u001b[39m     dialect,\n\u001b[32m   1015\u001b[39m     delimiter,\n\u001b[32m   (...)\u001b[39m\u001b[32m   1022\u001b[39m     dtype_backend=dtype_backend,\n\u001b[32m   1023\u001b[39m )\n\u001b[32m   1024\u001b[39m kwds.update(kwds_defaults)\n\u001b[32m-> \u001b[39m\u001b[32m1026\u001b[39m \u001b[38;5;28;01mreturn\u001b[39;00m \u001b[43m_read\u001b[49m\u001b[43m(\u001b[49m\u001b[43mfilepath_or_buffer\u001b[49m\u001b[43m,\u001b[49m\u001b[43m \u001b[49m\u001b[43mkwds\u001b[49m\u001b[43m)\u001b[49m\n",
      "\u001b[36mFile \u001b[39m\u001b[32mc:\\Users\\Mahys\\Data Science\\Data-mining-in-Migration-Analysis\\venv\\Lib\\site-packages\\pandas\\io\\parsers\\readers.py:620\u001b[39m, in \u001b[36m_read\u001b[39m\u001b[34m(filepath_or_buffer, kwds)\u001b[39m\n\u001b[32m    617\u001b[39m _validate_names(kwds.get(\u001b[33m\"\u001b[39m\u001b[33mnames\u001b[39m\u001b[33m\"\u001b[39m, \u001b[38;5;28;01mNone\u001b[39;00m))\n\u001b[32m    619\u001b[39m \u001b[38;5;66;03m# Create the parser.\u001b[39;00m\n\u001b[32m--> \u001b[39m\u001b[32m620\u001b[39m parser = \u001b[43mTextFileReader\u001b[49m\u001b[43m(\u001b[49m\u001b[43mfilepath_or_buffer\u001b[49m\u001b[43m,\u001b[49m\u001b[43m \u001b[49m\u001b[43m*\u001b[49m\u001b[43m*\u001b[49m\u001b[43mkwds\u001b[49m\u001b[43m)\u001b[49m\n\u001b[32m    622\u001b[39m \u001b[38;5;28;01mif\u001b[39;00m chunksize \u001b[38;5;129;01mor\u001b[39;00m iterator:\n\u001b[32m    623\u001b[39m     \u001b[38;5;28;01mreturn\u001b[39;00m parser\n",
      "\u001b[36mFile \u001b[39m\u001b[32mc:\\Users\\Mahys\\Data Science\\Data-mining-in-Migration-Analysis\\venv\\Lib\\site-packages\\pandas\\io\\parsers\\readers.py:1620\u001b[39m, in \u001b[36mTextFileReader.__init__\u001b[39m\u001b[34m(self, f, engine, **kwds)\u001b[39m\n\u001b[32m   1617\u001b[39m     \u001b[38;5;28mself\u001b[39m.options[\u001b[33m\"\u001b[39m\u001b[33mhas_index_names\u001b[39m\u001b[33m\"\u001b[39m] = kwds[\u001b[33m\"\u001b[39m\u001b[33mhas_index_names\u001b[39m\u001b[33m\"\u001b[39m]\n\u001b[32m   1619\u001b[39m \u001b[38;5;28mself\u001b[39m.handles: IOHandles | \u001b[38;5;28;01mNone\u001b[39;00m = \u001b[38;5;28;01mNone\u001b[39;00m\n\u001b[32m-> \u001b[39m\u001b[32m1620\u001b[39m \u001b[38;5;28mself\u001b[39m._engine = \u001b[38;5;28;43mself\u001b[39;49m\u001b[43m.\u001b[49m\u001b[43m_make_engine\u001b[49m\u001b[43m(\u001b[49m\u001b[43mf\u001b[49m\u001b[43m,\u001b[49m\u001b[43m \u001b[49m\u001b[38;5;28;43mself\u001b[39;49m\u001b[43m.\u001b[49m\u001b[43mengine\u001b[49m\u001b[43m)\u001b[49m\n",
      "\u001b[36mFile \u001b[39m\u001b[32mc:\\Users\\Mahys\\Data Science\\Data-mining-in-Migration-Analysis\\venv\\Lib\\site-packages\\pandas\\io\\parsers\\readers.py:1880\u001b[39m, in \u001b[36mTextFileReader._make_engine\u001b[39m\u001b[34m(self, f, engine)\u001b[39m\n\u001b[32m   1878\u001b[39m     \u001b[38;5;28;01mif\u001b[39;00m \u001b[33m\"\u001b[39m\u001b[33mb\u001b[39m\u001b[33m\"\u001b[39m \u001b[38;5;129;01mnot\u001b[39;00m \u001b[38;5;129;01min\u001b[39;00m mode:\n\u001b[32m   1879\u001b[39m         mode += \u001b[33m\"\u001b[39m\u001b[33mb\u001b[39m\u001b[33m\"\u001b[39m\n\u001b[32m-> \u001b[39m\u001b[32m1880\u001b[39m \u001b[38;5;28mself\u001b[39m.handles = \u001b[43mget_handle\u001b[49m\u001b[43m(\u001b[49m\n\u001b[32m   1881\u001b[39m \u001b[43m    \u001b[49m\u001b[43mf\u001b[49m\u001b[43m,\u001b[49m\n\u001b[32m   1882\u001b[39m \u001b[43m    \u001b[49m\u001b[43mmode\u001b[49m\u001b[43m,\u001b[49m\n\u001b[32m   1883\u001b[39m \u001b[43m    \u001b[49m\u001b[43mencoding\u001b[49m\u001b[43m=\u001b[49m\u001b[38;5;28;43mself\u001b[39;49m\u001b[43m.\u001b[49m\u001b[43moptions\u001b[49m\u001b[43m.\u001b[49m\u001b[43mget\u001b[49m\u001b[43m(\u001b[49m\u001b[33;43m\"\u001b[39;49m\u001b[33;43mencoding\u001b[39;49m\u001b[33;43m\"\u001b[39;49m\u001b[43m,\u001b[49m\u001b[43m \u001b[49m\u001b[38;5;28;43;01mNone\u001b[39;49;00m\u001b[43m)\u001b[49m\u001b[43m,\u001b[49m\n\u001b[32m   1884\u001b[39m \u001b[43m    \u001b[49m\u001b[43mcompression\u001b[49m\u001b[43m=\u001b[49m\u001b[38;5;28;43mself\u001b[39;49m\u001b[43m.\u001b[49m\u001b[43moptions\u001b[49m\u001b[43m.\u001b[49m\u001b[43mget\u001b[49m\u001b[43m(\u001b[49m\u001b[33;43m\"\u001b[39;49m\u001b[33;43mcompression\u001b[39;49m\u001b[33;43m\"\u001b[39;49m\u001b[43m,\u001b[49m\u001b[43m \u001b[49m\u001b[38;5;28;43;01mNone\u001b[39;49;00m\u001b[43m)\u001b[49m\u001b[43m,\u001b[49m\n\u001b[32m   1885\u001b[39m \u001b[43m    \u001b[49m\u001b[43mmemory_map\u001b[49m\u001b[43m=\u001b[49m\u001b[38;5;28;43mself\u001b[39;49m\u001b[43m.\u001b[49m\u001b[43moptions\u001b[49m\u001b[43m.\u001b[49m\u001b[43mget\u001b[49m\u001b[43m(\u001b[49m\u001b[33;43m\"\u001b[39;49m\u001b[33;43mmemory_map\u001b[39;49m\u001b[33;43m\"\u001b[39;49m\u001b[43m,\u001b[49m\u001b[43m \u001b[49m\u001b[38;5;28;43;01mFalse\u001b[39;49;00m\u001b[43m)\u001b[49m\u001b[43m,\u001b[49m\n\u001b[32m   1886\u001b[39m \u001b[43m    \u001b[49m\u001b[43mis_text\u001b[49m\u001b[43m=\u001b[49m\u001b[43mis_text\u001b[49m\u001b[43m,\u001b[49m\n\u001b[32m   1887\u001b[39m \u001b[43m    \u001b[49m\u001b[43merrors\u001b[49m\u001b[43m=\u001b[49m\u001b[38;5;28;43mself\u001b[39;49m\u001b[43m.\u001b[49m\u001b[43moptions\u001b[49m\u001b[43m.\u001b[49m\u001b[43mget\u001b[49m\u001b[43m(\u001b[49m\u001b[33;43m\"\u001b[39;49m\u001b[33;43mencoding_errors\u001b[39;49m\u001b[33;43m\"\u001b[39;49m\u001b[43m,\u001b[49m\u001b[43m \u001b[49m\u001b[33;43m\"\u001b[39;49m\u001b[33;43mstrict\u001b[39;49m\u001b[33;43m\"\u001b[39;49m\u001b[43m)\u001b[49m\u001b[43m,\u001b[49m\n\u001b[32m   1888\u001b[39m \u001b[43m    \u001b[49m\u001b[43mstorage_options\u001b[49m\u001b[43m=\u001b[49m\u001b[38;5;28;43mself\u001b[39;49m\u001b[43m.\u001b[49m\u001b[43moptions\u001b[49m\u001b[43m.\u001b[49m\u001b[43mget\u001b[49m\u001b[43m(\u001b[49m\u001b[33;43m\"\u001b[39;49m\u001b[33;43mstorage_options\u001b[39;49m\u001b[33;43m\"\u001b[39;49m\u001b[43m,\u001b[49m\u001b[43m \u001b[49m\u001b[38;5;28;43;01mNone\u001b[39;49;00m\u001b[43m)\u001b[49m\u001b[43m,\u001b[49m\n\u001b[32m   1889\u001b[39m \u001b[43m\u001b[49m\u001b[43m)\u001b[49m\n\u001b[32m   1890\u001b[39m \u001b[38;5;28;01massert\u001b[39;00m \u001b[38;5;28mself\u001b[39m.handles \u001b[38;5;129;01mis\u001b[39;00m \u001b[38;5;129;01mnot\u001b[39;00m \u001b[38;5;28;01mNone\u001b[39;00m\n\u001b[32m   1891\u001b[39m f = \u001b[38;5;28mself\u001b[39m.handles.handle\n",
      "\u001b[36mFile \u001b[39m\u001b[32mc:\\Users\\Mahys\\Data Science\\Data-mining-in-Migration-Analysis\\venv\\Lib\\site-packages\\pandas\\io\\common.py:873\u001b[39m, in \u001b[36mget_handle\u001b[39m\u001b[34m(path_or_buf, mode, encoding, compression, memory_map, is_text, errors, storage_options)\u001b[39m\n\u001b[32m    868\u001b[39m \u001b[38;5;28;01melif\u001b[39;00m \u001b[38;5;28misinstance\u001b[39m(handle, \u001b[38;5;28mstr\u001b[39m):\n\u001b[32m    869\u001b[39m     \u001b[38;5;66;03m# Check whether the filename is to be opened in binary mode.\u001b[39;00m\n\u001b[32m    870\u001b[39m     \u001b[38;5;66;03m# Binary mode does not support 'encoding' and 'newline'.\u001b[39;00m\n\u001b[32m    871\u001b[39m     \u001b[38;5;28;01mif\u001b[39;00m ioargs.encoding \u001b[38;5;129;01mand\u001b[39;00m \u001b[33m\"\u001b[39m\u001b[33mb\u001b[39m\u001b[33m\"\u001b[39m \u001b[38;5;129;01mnot\u001b[39;00m \u001b[38;5;129;01min\u001b[39;00m ioargs.mode:\n\u001b[32m    872\u001b[39m         \u001b[38;5;66;03m# Encoding\u001b[39;00m\n\u001b[32m--> \u001b[39m\u001b[32m873\u001b[39m         handle = \u001b[38;5;28;43mopen\u001b[39;49m\u001b[43m(\u001b[49m\n\u001b[32m    874\u001b[39m \u001b[43m            \u001b[49m\u001b[43mhandle\u001b[49m\u001b[43m,\u001b[49m\n\u001b[32m    875\u001b[39m \u001b[43m            \u001b[49m\u001b[43mioargs\u001b[49m\u001b[43m.\u001b[49m\u001b[43mmode\u001b[49m\u001b[43m,\u001b[49m\n\u001b[32m    876\u001b[39m \u001b[43m            \u001b[49m\u001b[43mencoding\u001b[49m\u001b[43m=\u001b[49m\u001b[43mioargs\u001b[49m\u001b[43m.\u001b[49m\u001b[43mencoding\u001b[49m\u001b[43m,\u001b[49m\n\u001b[32m    877\u001b[39m \u001b[43m            \u001b[49m\u001b[43merrors\u001b[49m\u001b[43m=\u001b[49m\u001b[43merrors\u001b[49m\u001b[43m,\u001b[49m\n\u001b[32m    878\u001b[39m \u001b[43m            \u001b[49m\u001b[43mnewline\u001b[49m\u001b[43m=\u001b[49m\u001b[33;43m\"\u001b[39;49m\u001b[33;43m\"\u001b[39;49m\u001b[43m,\u001b[49m\n\u001b[32m    879\u001b[39m \u001b[43m        \u001b[49m\u001b[43m)\u001b[49m\n\u001b[32m    880\u001b[39m     \u001b[38;5;28;01melse\u001b[39;00m:\n\u001b[32m    881\u001b[39m         \u001b[38;5;66;03m# Binary mode\u001b[39;00m\n\u001b[32m    882\u001b[39m         handle = \u001b[38;5;28mopen\u001b[39m(handle, ioargs.mode)\n",
      "\u001b[31mFileNotFoundError\u001b[39m: [Errno 2] No such file or directory: '../../data/mean_and_median_income_by_citizenship_ilc_di15.csv'"
     ]
    }
   ],
   "source": [
    "df = pd.read_csv('../../data/mean_and_median_income_by_citizenship_ilc_di15.csv')"
   ]
  },
  {
   "cell_type": "code",
   "execution_count": null,
   "id": "3aac93c3c90129e0",
   "metadata": {
    "ExecuteTime": {
     "end_time": "2025-03-26T21:34:11.993588200Z",
     "start_time": "2025-03-26T21:34:11.942019700Z"
    },
    "collapsed": false
   },
   "outputs": [
    {
     "data": {
      "text/html": [
       "<div>\n",
       "<style scoped>\n",
       "    .dataframe tbody tr th:only-of-type {\n",
       "        vertical-align: middle;\n",
       "    }\n",
       "\n",
       "    .dataframe tbody tr th {\n",
       "        vertical-align: top;\n",
       "    }\n",
       "\n",
       "    .dataframe thead th {\n",
       "        text-align: right;\n",
       "    }\n",
       "</style>\n",
       "<table border=\"1\" class=\"dataframe\">\n",
       "  <thead>\n",
       "    <tr style=\"text-align: right;\">\n",
       "      <th></th>\n",
       "      <th>DATAFLOW</th>\n",
       "      <th>LAST UPDATE</th>\n",
       "      <th>freq</th>\n",
       "      <th>unit</th>\n",
       "      <th>indic_il</th>\n",
       "      <th>citizen</th>\n",
       "      <th>sex</th>\n",
       "      <th>age</th>\n",
       "      <th>geo</th>\n",
       "      <th>TIME_PERIOD</th>\n",
       "      <th>OBS_VALUE</th>\n",
       "      <th>OBS_FLAG</th>\n",
       "      <th>CONF_STATUS</th>\n",
       "    </tr>\n",
       "  </thead>\n",
       "  <tbody>\n",
       "    <tr>\n",
       "      <th>0</th>\n",
       "      <td>ESTAT:ILC_DI15$DEFAULTVIEW(1.0)</td>\n",
       "      <td>21/03/25 23:00:00</td>\n",
       "      <td>Annual</td>\n",
       "      <td>Euro</td>\n",
       "      <td>Median equivalised net income</td>\n",
       "      <td>EU27 countries (from 2020) except reporting co...</td>\n",
       "      <td>Total</td>\n",
       "      <td>18 years or over</td>\n",
       "      <td>Albania</td>\n",
       "      <td>2017</td>\n",
       "      <td>NaN</td>\n",
       "      <td>u</td>\n",
       "      <td>NaN</td>\n",
       "    </tr>\n",
       "    <tr>\n",
       "      <th>1</th>\n",
       "      <td>ESTAT:ILC_DI15$DEFAULTVIEW(1.0)</td>\n",
       "      <td>21/03/25 23:00:00</td>\n",
       "      <td>Annual</td>\n",
       "      <td>Euro</td>\n",
       "      <td>Median equivalised net income</td>\n",
       "      <td>EU27 countries (from 2020) except reporting co...</td>\n",
       "      <td>Total</td>\n",
       "      <td>18 years or over</td>\n",
       "      <td>Albania</td>\n",
       "      <td>2018</td>\n",
       "      <td>NaN</td>\n",
       "      <td>u</td>\n",
       "      <td>NaN</td>\n",
       "    </tr>\n",
       "    <tr>\n",
       "      <th>2</th>\n",
       "      <td>ESTAT:ILC_DI15$DEFAULTVIEW(1.0)</td>\n",
       "      <td>21/03/25 23:00:00</td>\n",
       "      <td>Annual</td>\n",
       "      <td>Euro</td>\n",
       "      <td>Median equivalised net income</td>\n",
       "      <td>EU27 countries (from 2020) except reporting co...</td>\n",
       "      <td>Total</td>\n",
       "      <td>18 years or over</td>\n",
       "      <td>Albania</td>\n",
       "      <td>2019</td>\n",
       "      <td>NaN</td>\n",
       "      <td>u</td>\n",
       "      <td>NaN</td>\n",
       "    </tr>\n",
       "    <tr>\n",
       "      <th>3</th>\n",
       "      <td>ESTAT:ILC_DI15$DEFAULTVIEW(1.0)</td>\n",
       "      <td>21/03/25 23:00:00</td>\n",
       "      <td>Annual</td>\n",
       "      <td>Euro</td>\n",
       "      <td>Median equivalised net income</td>\n",
       "      <td>EU27 countries (from 2020) except reporting co...</td>\n",
       "      <td>Total</td>\n",
       "      <td>18 years or over</td>\n",
       "      <td>Albania</td>\n",
       "      <td>2020</td>\n",
       "      <td>NaN</td>\n",
       "      <td>u</td>\n",
       "      <td>NaN</td>\n",
       "    </tr>\n",
       "    <tr>\n",
       "      <th>4</th>\n",
       "      <td>ESTAT:ILC_DI15$DEFAULTVIEW(1.0)</td>\n",
       "      <td>21/03/25 23:00:00</td>\n",
       "      <td>Annual</td>\n",
       "      <td>Euro</td>\n",
       "      <td>Median equivalised net income</td>\n",
       "      <td>EU27 countries (from 2020) except reporting co...</td>\n",
       "      <td>Total</td>\n",
       "      <td>18 years or over</td>\n",
       "      <td>Albania</td>\n",
       "      <td>2021</td>\n",
       "      <td>3454.0</td>\n",
       "      <td>u</td>\n",
       "      <td>NaN</td>\n",
       "    </tr>\n",
       "  </tbody>\n",
       "</table>\n",
       "</div>"
      ],
      "text/plain": [
       "                          DATAFLOW        LAST UPDATE    freq  unit  \\\n",
       "0  ESTAT:ILC_DI15$DEFAULTVIEW(1.0)  21/03/25 23:00:00  Annual  Euro   \n",
       "1  ESTAT:ILC_DI15$DEFAULTVIEW(1.0)  21/03/25 23:00:00  Annual  Euro   \n",
       "2  ESTAT:ILC_DI15$DEFAULTVIEW(1.0)  21/03/25 23:00:00  Annual  Euro   \n",
       "3  ESTAT:ILC_DI15$DEFAULTVIEW(1.0)  21/03/25 23:00:00  Annual  Euro   \n",
       "4  ESTAT:ILC_DI15$DEFAULTVIEW(1.0)  21/03/25 23:00:00  Annual  Euro   \n",
       "\n",
       "                        indic_il  \\\n",
       "0  Median equivalised net income   \n",
       "1  Median equivalised net income   \n",
       "2  Median equivalised net income   \n",
       "3  Median equivalised net income   \n",
       "4  Median equivalised net income   \n",
       "\n",
       "                                             citizen    sex               age  \\\n",
       "0  EU27 countries (from 2020) except reporting co...  Total  18 years or over   \n",
       "1  EU27 countries (from 2020) except reporting co...  Total  18 years or over   \n",
       "2  EU27 countries (from 2020) except reporting co...  Total  18 years or over   \n",
       "3  EU27 countries (from 2020) except reporting co...  Total  18 years or over   \n",
       "4  EU27 countries (from 2020) except reporting co...  Total  18 years or over   \n",
       "\n",
       "       geo  TIME_PERIOD  OBS_VALUE OBS_FLAG  CONF_STATUS  \n",
       "0  Albania         2017        NaN        u          NaN  \n",
       "1  Albania         2018        NaN        u          NaN  \n",
       "2  Albania         2019        NaN        u          NaN  \n",
       "3  Albania         2020        NaN        u          NaN  \n",
       "4  Albania         2021     3454.0        u          NaN  "
      ]
     },
     "execution_count": 32,
     "metadata": {},
     "output_type": "execute_result"
    }
   ],
   "source": [
    "df.head()"
   ]
  },
  {
   "cell_type": "code",
   "execution_count": null,
   "id": "577dea46a717bc74",
   "metadata": {
    "ExecuteTime": {
     "end_time": "2025-03-26T21:34:12.301617800Z",
     "start_time": "2025-03-26T21:34:12.231615300Z"
    },
    "collapsed": false
   },
   "outputs": [
    {
     "name": "stdout",
     "output_type": "stream",
     "text": [
      "<class 'pandas.core.frame.DataFrame'>\n",
      "RangeIndex: 2151 entries, 0 to 2150\n",
      "Data columns (total 13 columns):\n",
      " #   Column       Non-Null Count  Dtype  \n",
      "---  ------       --------------  -----  \n",
      " 0   DATAFLOW     2151 non-null   object \n",
      " 1   LAST UPDATE  2151 non-null   object \n",
      " 2   freq         2151 non-null   object \n",
      " 3   unit         2151 non-null   object \n",
      " 4   indic_il     2151 non-null   object \n",
      " 5   citizen      2151 non-null   object \n",
      " 6   sex          2151 non-null   object \n",
      " 7   age          2151 non-null   object \n",
      " 8   geo          2151 non-null   object \n",
      " 9   TIME_PERIOD  2151 non-null   int64  \n",
      " 10  OBS_VALUE    1987 non-null   float64\n",
      " 11  OBS_FLAG     633 non-null    object \n",
      " 12  CONF_STATUS  0 non-null      float64\n",
      "dtypes: float64(2), int64(1), object(10)\n",
      "memory usage: 218.6+ KB\n"
     ]
    }
   ],
   "source": [
    "df.info()"
   ]
  },
  {
   "cell_type": "markdown",
   "id": "d967fbfb",
   "metadata": {},
   "source": [
    "OBS_FLAG = 633 meaning 633 out of 2151 values were: estimated or a break in the time series has occured, there was a low reliability or they were provisional "
   ]
  },
  {
   "cell_type": "code",
   "execution_count": null,
   "id": "6d6594ee412294fa",
   "metadata": {
    "ExecuteTime": {
     "end_time": "2025-03-26T21:34:12.452889100Z",
     "start_time": "2025-03-26T21:34:12.357186800Z"
    },
    "collapsed": false
   },
   "outputs": [],
   "source": [
    "columns_to_drop = [\"OBS_FLAG\", \"DATAFLOW\", \"CONF_STATUS\", \"freq\", \"incgrp\", \"unit\", \"LAST UPDATE\"]\n",
    "df = df.drop(columns=[col for col in columns_to_drop if col in df.columns])"
   ]
  },
  {
   "cell_type": "code",
   "execution_count": null,
   "id": "84fc6ff5e3a465ba",
   "metadata": {
    "ExecuteTime": {
     "end_time": "2025-03-26T21:34:12.570084100Z",
     "start_time": "2025-03-26T21:34:12.511849500Z"
    },
    "collapsed": false
   },
   "outputs": [],
   "source": [
    "df = df.dropna()"
   ]
  },
  {
   "cell_type": "code",
   "execution_count": null,
   "id": "80845879c13c05b0",
   "metadata": {
    "ExecuteTime": {
     "end_time": "2025-03-26T21:34:13.001118900Z",
     "start_time": "2025-03-26T21:34:12.980452400Z"
    },
    "collapsed": false
   },
   "outputs": [
    {
     "name": "stdout",
     "output_type": "stream",
     "text": [
      "Uniques values in indic_il: ['Median equivalised net income']\n",
      "Uniques values in citizen: ['EU27 countries (from 2020) except reporting country'\n",
      " 'EU28 countries (2013-2020) except reporting country' 'Foreign country'\n",
      " 'Reporting country'\n",
      " 'Non-EU27 countries (from 2020) nor reporting country'\n",
      " 'Non-EU28 countries (2013-2020) nor reporting country']\n",
      "Uniques values in sex: ['Total']\n",
      "Uniques values in age: ['18 years or over']\n",
      "Uniques values in geo: ['Albania' 'Austria' 'Belgium' 'Bulgaria' 'Switzerland' 'Cyprus' 'Czechia'\n",
      " 'Germany' 'Denmark'\n",
      " 'Euro area (EA11-1999, EA12-2001, EA13-2007, EA15-2008, EA16-2009, EA17-2011, EA18-2014, EA19-2015, EA20-2023)'\n",
      " 'Euro area - 18 countries (2014)' 'Euro area - 19 countries  (2015-2022)'\n",
      " 'Euro area – 20 countries (from 2023)' 'Estonia' 'Greece' 'Spain'\n",
      " 'European Union (EU6-1958, EU9-1973, EU10-1981, EU12-1986, EU15-1995, EU25-2004, EU27-2007, EU28-2013, EU27-2020)'\n",
      " 'European Union - 27 countries (2007-2013)'\n",
      " 'European Union - 27 countries (from 2020)'\n",
      " 'European Union - 28 countries (2013-2020)' 'Finland' 'France' 'Croatia'\n",
      " 'Hungary' 'Ireland' 'Iceland' 'Italy' 'Luxembourg' 'Latvia' 'Montenegro'\n",
      " 'Malta' 'Netherlands' 'Norway' 'Poland' 'Portugal' 'Serbia' 'Sweden'\n",
      " 'Slovenia' 'Slovakia' 'Türkiye' 'United Kingdom' 'Kosovo*' 'Lithuania'\n",
      " 'North Macedonia' 'Romania']\n",
      "Uniques values in TIME_PERIOD: [2021 2015 2016 2017 2018 2019 2020 2022 2023 2024]\n",
      "Uniques values in OBS_VALUE: [ 3454. 17608. 18004. ... 17904.  8439. 10753.]\n"
     ]
    }
   ],
   "source": [
    "for col in df.columns:\n",
    "    print(f\"Uniques values in {col}: {df[col].unique()}\")"
   ]
  },
  {
   "cell_type": "code",
   "execution_count": null,
   "id": "466caedc9ba5e5e4",
   "metadata": {
    "ExecuteTime": {
     "end_time": "2025-03-26T21:34:13.442789200Z",
     "start_time": "2025-03-26T21:34:13.424931300Z"
    },
    "collapsed": false
   },
   "outputs": [],
   "source": [
    "df = df[~df[\"geo\"].isin(['European Union - 27 countries (from 2020)',\n",
    "                         'Euro area (EA11-1999, EA12-2001, EA13-2007, EA15-2008, EA16-2009, EA17-2011, EA18-2014, EA19-2015, EA20-2023)',\n",
    "                         'Euro area - 17 countries (2011-2013)',\n",
    "                         'European Union (EU6-1958, EU9-1973, EU10-1981, EU12-1986, EU15-1995, EU25-2004, EU27-2007, EU28-2013, EU27-2020)',\n",
    "                         'European Union - 15 countries (1995-2004)',\n",
    "                         'European Union - 27 countries (2007-2013)',\n",
    "                         'European Union - 27 countries (from 2020)',\n",
    "                         'European Union - 28 countries (2013-2020)'\n",
    "                         'Euro area - 19 countries  (2015-2022)',\n",
    "                         'Euro area – 20 countries (from 2023)',\n",
    "                         'Euro area - 18 countries (2014)',\n",
    "                         'Euro area - 19 countries  (2015-2022)',\n",
    "                         'European Union - 28 countries (2013-2020)'\n",
    "                         ])]\n",
    "\n",
    "columns_to_drop = [\"freq\", \"indic_de\", \"statinfo\", \"age\", \"unit\", 'isced11', \"sex\", \"indic_il\"]\n",
    "df = df.drop(columns=[col for col in columns_to_drop if col in df.columns])"
   ]
  },
  {
   "cell_type": "code",
   "execution_count": null,
   "id": "ccd59256",
   "metadata": {},
   "outputs": [
    {
     "name": "stdout",
     "output_type": "stream",
     "text": [
      "Uniques values in citizen: ['EU27 countries (from 2020) except reporting country'\n",
      " 'EU28 countries (2013-2020) except reporting country' 'Foreign country'\n",
      " 'Reporting country'\n",
      " 'Non-EU27 countries (from 2020) nor reporting country'\n",
      " 'Non-EU28 countries (2013-2020) nor reporting country']\n",
      "Uniques values in geo: ['Albania' 'Austria' 'Belgium' 'Bulgaria' 'Switzerland' 'Cyprus' 'Czechia'\n",
      " 'Germany' 'Denmark' 'Estonia' 'Greece' 'Spain' 'Finland' 'France'\n",
      " 'Croatia' 'Hungary' 'Ireland' 'Iceland' 'Italy' 'Luxembourg' 'Latvia'\n",
      " 'Montenegro' 'Malta' 'Netherlands' 'Norway' 'Poland' 'Portugal' 'Serbia'\n",
      " 'Sweden' 'Slovenia' 'Slovakia' 'Türkiye' 'United Kingdom' 'Kosovo*'\n",
      " 'Lithuania' 'North Macedonia' 'Romania']\n",
      "Uniques values in TIME_PERIOD: [2021 2015 2016 2017 2018 2019 2020 2022 2023 2024]\n",
      "Uniques values in OBS_VALUE: [ 3454. 17608. 18004. ... 17904.  8439. 10753.]\n"
     ]
    }
   ],
   "source": [
    "for col in df.columns:\n",
    "    print(f\"Uniques values in {col}: {df[col].unique()}\")"
   ]
  },
  {
   "cell_type": "code",
   "execution_count": null,
   "id": "8f56e9da",
   "metadata": {},
   "outputs": [],
   "source": [
    "df[\"OBS_VALUE\"] = df[\"OBS_VALUE\"].astype(int)"
   ]
  },
  {
   "cell_type": "code",
   "execution_count": null,
   "id": "f5cd5fe0f9dff462",
   "metadata": {
    "ExecuteTime": {
     "end_time": "2025-03-26T21:34:13.584270Z",
     "start_time": "2025-03-26T21:34:13.575390500Z"
    },
    "collapsed": false
   },
   "outputs": [],
   "source": [
    "df = df.rename(columns={\"OBS_VALUE\": \"Income\"})"
   ]
  },
  {
   "cell_type": "code",
   "execution_count": null,
   "id": "a2bdb21270c90dea",
   "metadata": {
    "ExecuteTime": {
     "end_time": "2025-03-26T21:34:14.841410500Z",
     "start_time": "2025-03-26T21:34:14.791310900Z"
    },
    "collapsed": false
   },
   "outputs": [],
   "source": [
    "df.to_csv(\"../../processed_data/mean_and_median_income_by_citizenship_ilc_di15.csv\", index=False)"
   ]
  }
 ],
 "metadata": {
  "kernelspec": {
   "display_name": "venv",
   "language": "python",
   "name": "python3"
  },
  "language_info": {
   "codemirror_mode": {
    "name": "ipython",
    "version": 3
   },
   "file_extension": ".py",
   "mimetype": "text/x-python",
   "name": "python",
   "nbconvert_exporter": "python",
   "pygments_lexer": "ipython3",
   "version": "3.13.0"
  }
 },
 "nbformat": 4,
 "nbformat_minor": 5
}
