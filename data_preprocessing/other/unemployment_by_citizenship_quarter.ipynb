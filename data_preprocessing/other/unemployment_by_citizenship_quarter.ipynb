{
 "cells": [
  {
   "cell_type": "code",
   "execution_count": 1,
   "id": "e1a06f10",
   "metadata": {},
   "outputs": [],
   "source": [
    "import pandas as pd"
   ]
  },
  {
   "cell_type": "markdown",
   "id": "e91b350c",
   "metadata": {},
   "source": [
    "**Unemployment by sex, age and citizenship (1 000)**\n",
    "\n",
    "---\n",
    "Unemployment by citizenship per thousand people\n",
    "\n",
    "Quarter data"
   ]
  },
  {
   "cell_type": "code",
   "execution_count": 2,
   "id": "3a8308f9",
   "metadata": {},
   "outputs": [],
   "source": [
    "df = df = pd.read_csv('../../data/unemployment_by_citizenship_quarter_data.csv')"
   ]
  },
  {
   "cell_type": "code",
   "execution_count": 3,
   "id": "711ad343",
   "metadata": {},
   "outputs": [
    {
     "data": {
      "text/html": [
       "<div>\n",
       "<style scoped>\n",
       "    .dataframe tbody tr th:only-of-type {\n",
       "        vertical-align: middle;\n",
       "    }\n",
       "\n",
       "    .dataframe tbody tr th {\n",
       "        vertical-align: top;\n",
       "    }\n",
       "\n",
       "    .dataframe thead th {\n",
       "        text-align: right;\n",
       "    }\n",
       "</style>\n",
       "<table border=\"1\" class=\"dataframe\">\n",
       "  <thead>\n",
       "    <tr style=\"text-align: right;\">\n",
       "      <th></th>\n",
       "      <th>STRUCTURE</th>\n",
       "      <th>STRUCTURE_ID</th>\n",
       "      <th>STRUCTURE_NAME</th>\n",
       "      <th>freq</th>\n",
       "      <th>Time frequency</th>\n",
       "      <th>unit</th>\n",
       "      <th>Unit of measure</th>\n",
       "      <th>sex</th>\n",
       "      <th>Sex</th>\n",
       "      <th>age</th>\n",
       "      <th>...</th>\n",
       "      <th>geo</th>\n",
       "      <th>Geopolitical entity (reporting)</th>\n",
       "      <th>TIME_PERIOD</th>\n",
       "      <th>Time</th>\n",
       "      <th>OBS_VALUE</th>\n",
       "      <th>Observation value</th>\n",
       "      <th>OBS_FLAG</th>\n",
       "      <th>Observation status (Flag) V2 structure</th>\n",
       "      <th>CONF_STATUS</th>\n",
       "      <th>Confidentiality status (flag)</th>\n",
       "    </tr>\n",
       "  </thead>\n",
       "  <tbody>\n",
       "    <tr>\n",
       "      <th>0</th>\n",
       "      <td>dataflow</td>\n",
       "      <td>ESTAT:LFSQ_UGAN(1.0)</td>\n",
       "      <td>Unemployment by sex, age and citizenship (1 000)</td>\n",
       "      <td>Q</td>\n",
       "      <td>Quarterly</td>\n",
       "      <td>THS_PER</td>\n",
       "      <td>Thousand persons</td>\n",
       "      <td>T</td>\n",
       "      <td>Total</td>\n",
       "      <td>Y15-64</td>\n",
       "      <td>...</td>\n",
       "      <td>AT</td>\n",
       "      <td>Austria</td>\n",
       "      <td>1998-Q1</td>\n",
       "      <td>NaN</td>\n",
       "      <td>36.2</td>\n",
       "      <td>NaN</td>\n",
       "      <td>NaN</td>\n",
       "      <td>NaN</td>\n",
       "      <td>NaN</td>\n",
       "      <td>NaN</td>\n",
       "    </tr>\n",
       "    <tr>\n",
       "      <th>1</th>\n",
       "      <td>dataflow</td>\n",
       "      <td>ESTAT:LFSQ_UGAN(1.0)</td>\n",
       "      <td>Unemployment by sex, age and citizenship (1 000)</td>\n",
       "      <td>Q</td>\n",
       "      <td>Quarterly</td>\n",
       "      <td>THS_PER</td>\n",
       "      <td>Thousand persons</td>\n",
       "      <td>T</td>\n",
       "      <td>Total</td>\n",
       "      <td>Y15-64</td>\n",
       "      <td>...</td>\n",
       "      <td>AT</td>\n",
       "      <td>Austria</td>\n",
       "      <td>1999-Q1</td>\n",
       "      <td>NaN</td>\n",
       "      <td>30.7</td>\n",
       "      <td>NaN</td>\n",
       "      <td>NaN</td>\n",
       "      <td>NaN</td>\n",
       "      <td>NaN</td>\n",
       "      <td>NaN</td>\n",
       "    </tr>\n",
       "    <tr>\n",
       "      <th>2</th>\n",
       "      <td>dataflow</td>\n",
       "      <td>ESTAT:LFSQ_UGAN(1.0)</td>\n",
       "      <td>Unemployment by sex, age and citizenship (1 000)</td>\n",
       "      <td>Q</td>\n",
       "      <td>Quarterly</td>\n",
       "      <td>THS_PER</td>\n",
       "      <td>Thousand persons</td>\n",
       "      <td>T</td>\n",
       "      <td>Total</td>\n",
       "      <td>Y15-64</td>\n",
       "      <td>...</td>\n",
       "      <td>AT</td>\n",
       "      <td>Austria</td>\n",
       "      <td>2000-Q1</td>\n",
       "      <td>NaN</td>\n",
       "      <td>30.8</td>\n",
       "      <td>NaN</td>\n",
       "      <td>NaN</td>\n",
       "      <td>NaN</td>\n",
       "      <td>NaN</td>\n",
       "      <td>NaN</td>\n",
       "    </tr>\n",
       "    <tr>\n",
       "      <th>3</th>\n",
       "      <td>dataflow</td>\n",
       "      <td>ESTAT:LFSQ_UGAN(1.0)</td>\n",
       "      <td>Unemployment by sex, age and citizenship (1 000)</td>\n",
       "      <td>Q</td>\n",
       "      <td>Quarterly</td>\n",
       "      <td>THS_PER</td>\n",
       "      <td>Thousand persons</td>\n",
       "      <td>T</td>\n",
       "      <td>Total</td>\n",
       "      <td>Y15-64</td>\n",
       "      <td>...</td>\n",
       "      <td>AT</td>\n",
       "      <td>Austria</td>\n",
       "      <td>2000-Q2</td>\n",
       "      <td>NaN</td>\n",
       "      <td>18.5</td>\n",
       "      <td>NaN</td>\n",
       "      <td>NaN</td>\n",
       "      <td>NaN</td>\n",
       "      <td>NaN</td>\n",
       "      <td>NaN</td>\n",
       "    </tr>\n",
       "    <tr>\n",
       "      <th>4</th>\n",
       "      <td>dataflow</td>\n",
       "      <td>ESTAT:LFSQ_UGAN(1.0)</td>\n",
       "      <td>Unemployment by sex, age and citizenship (1 000)</td>\n",
       "      <td>Q</td>\n",
       "      <td>Quarterly</td>\n",
       "      <td>THS_PER</td>\n",
       "      <td>Thousand persons</td>\n",
       "      <td>T</td>\n",
       "      <td>Total</td>\n",
       "      <td>Y15-64</td>\n",
       "      <td>...</td>\n",
       "      <td>AT</td>\n",
       "      <td>Austria</td>\n",
       "      <td>2001-Q1</td>\n",
       "      <td>NaN</td>\n",
       "      <td>29.8</td>\n",
       "      <td>NaN</td>\n",
       "      <td>NaN</td>\n",
       "      <td>NaN</td>\n",
       "      <td>NaN</td>\n",
       "      <td>NaN</td>\n",
       "    </tr>\n",
       "  </tbody>\n",
       "</table>\n",
       "<p>5 rows × 23 columns</p>\n",
       "</div>"
      ],
      "text/plain": [
       "  STRUCTURE          STRUCTURE_ID  \\\n",
       "0  dataflow  ESTAT:LFSQ_UGAN(1.0)   \n",
       "1  dataflow  ESTAT:LFSQ_UGAN(1.0)   \n",
       "2  dataflow  ESTAT:LFSQ_UGAN(1.0)   \n",
       "3  dataflow  ESTAT:LFSQ_UGAN(1.0)   \n",
       "4  dataflow  ESTAT:LFSQ_UGAN(1.0)   \n",
       "\n",
       "                                     STRUCTURE_NAME freq Time frequency  \\\n",
       "0  Unemployment by sex, age and citizenship (1 000)    Q      Quarterly   \n",
       "1  Unemployment by sex, age and citizenship (1 000)    Q      Quarterly   \n",
       "2  Unemployment by sex, age and citizenship (1 000)    Q      Quarterly   \n",
       "3  Unemployment by sex, age and citizenship (1 000)    Q      Quarterly   \n",
       "4  Unemployment by sex, age and citizenship (1 000)    Q      Quarterly   \n",
       "\n",
       "      unit   Unit of measure sex    Sex     age  ... geo  \\\n",
       "0  THS_PER  Thousand persons   T  Total  Y15-64  ...  AT   \n",
       "1  THS_PER  Thousand persons   T  Total  Y15-64  ...  AT   \n",
       "2  THS_PER  Thousand persons   T  Total  Y15-64  ...  AT   \n",
       "3  THS_PER  Thousand persons   T  Total  Y15-64  ...  AT   \n",
       "4  THS_PER  Thousand persons   T  Total  Y15-64  ...  AT   \n",
       "\n",
       "  Geopolitical entity (reporting) TIME_PERIOD Time OBS_VALUE  \\\n",
       "0                         Austria     1998-Q1  NaN      36.2   \n",
       "1                         Austria     1999-Q1  NaN      30.7   \n",
       "2                         Austria     2000-Q1  NaN      30.8   \n",
       "3                         Austria     2000-Q2  NaN      18.5   \n",
       "4                         Austria     2001-Q1  NaN      29.8   \n",
       "\n",
       "  Observation value  OBS_FLAG  Observation status (Flag) V2 structure  \\\n",
       "0               NaN       NaN                                     NaN   \n",
       "1               NaN       NaN                                     NaN   \n",
       "2               NaN       NaN                                     NaN   \n",
       "3               NaN       NaN                                     NaN   \n",
       "4               NaN       NaN                                     NaN   \n",
       "\n",
       "   CONF_STATUS Confidentiality status (flag)  \n",
       "0          NaN                           NaN  \n",
       "1          NaN                           NaN  \n",
       "2          NaN                           NaN  \n",
       "3          NaN                           NaN  \n",
       "4          NaN                           NaN  \n",
       "\n",
       "[5 rows x 23 columns]"
      ]
     },
     "execution_count": 3,
     "metadata": {},
     "output_type": "execute_result"
    }
   ],
   "source": [
    "df.head()"
   ]
  },
  {
   "cell_type": "code",
   "execution_count": 4,
   "id": "3388a2bc",
   "metadata": {},
   "outputs": [],
   "source": [
    "columns_to_drop = [\"OBS_FLAG\", \"DATAFLOW\", \"CONF_STATUS\", \"freq\", \"incgrp\", \"unit\", \"LAST UPDATE\"]\n",
    "df = df.drop(columns=[col for col in columns_to_drop if col in df.columns])"
   ]
  },
  {
   "cell_type": "code",
   "execution_count": 5,
   "id": "2ceabaca",
   "metadata": {},
   "outputs": [
    {
     "name": "stdout",
     "output_type": "stream",
     "text": [
      "<class 'pandas.core.frame.DataFrame'>\n",
      "RangeIndex: 9328 entries, 0 to 9327\n",
      "Data columns (total 19 columns):\n",
      " #   Column                                  Non-Null Count  Dtype  \n",
      "---  ------                                  --------------  -----  \n",
      " 0   STRUCTURE                               9328 non-null   object \n",
      " 1   STRUCTURE_ID                            9328 non-null   object \n",
      " 2   STRUCTURE_NAME                          9328 non-null   object \n",
      " 3   Time frequency                          9328 non-null   object \n",
      " 4   Unit of measure                         9328 non-null   object \n",
      " 5   sex                                     9328 non-null   object \n",
      " 6   Sex                                     9328 non-null   object \n",
      " 7   age                                     9328 non-null   object \n",
      " 8   Age class                               9328 non-null   object \n",
      " 9   citizen                                 9328 non-null   object \n",
      " 10  Country of citizenship                  9328 non-null   object \n",
      " 11  geo                                     9328 non-null   object \n",
      " 12  Geopolitical entity (reporting)         9328 non-null   object \n",
      " 13  TIME_PERIOD                             9328 non-null   object \n",
      " 14  Time                                    0 non-null      float64\n",
      " 15  OBS_VALUE                               8568 non-null   float64\n",
      " 16  Observation value                       0 non-null      float64\n",
      " 17  Observation status (Flag) V2 structure  1486 non-null   object \n",
      " 18  Confidentiality status (flag)           0 non-null      float64\n",
      "dtypes: float64(4), object(15)\n",
      "memory usage: 1.4+ MB\n"
     ]
    }
   ],
   "source": [
    "df.info()"
   ]
  },
  {
   "cell_type": "code",
   "execution_count": 6,
   "id": "46cf4505",
   "metadata": {},
   "outputs": [],
   "source": [
    "df = df[[\"Country of citizenship\", \"Geopolitical entity (reporting)\", \"OBS_VALUE\", \"TIME_PERIOD\", \"Sex\"]]\n",
    "df = df.rename(columns={\n",
    "    \"Geopolitical entity (reporting)\": \"geo\",\n",
    "    \"TIME_PERIOD\": \"quarter\",\n",
    "    \"OBS_VALUE\": \"Number per 1000 people\"\n",
    "})"
   ]
  },
  {
   "cell_type": "code",
   "execution_count": 7,
   "id": "9cd39773",
   "metadata": {},
   "outputs": [
    {
     "data": {
      "text/html": [
       "<div>\n",
       "<style scoped>\n",
       "    .dataframe tbody tr th:only-of-type {\n",
       "        vertical-align: middle;\n",
       "    }\n",
       "\n",
       "    .dataframe tbody tr th {\n",
       "        vertical-align: top;\n",
       "    }\n",
       "\n",
       "    .dataframe thead th {\n",
       "        text-align: right;\n",
       "    }\n",
       "</style>\n",
       "<table border=\"1\" class=\"dataframe\">\n",
       "  <thead>\n",
       "    <tr style=\"text-align: right;\">\n",
       "      <th></th>\n",
       "      <th>Country of citizenship</th>\n",
       "      <th>geo</th>\n",
       "      <th>Number per 1000 people</th>\n",
       "      <th>quarter</th>\n",
       "      <th>Sex</th>\n",
       "    </tr>\n",
       "  </thead>\n",
       "  <tbody>\n",
       "    <tr>\n",
       "      <th>0</th>\n",
       "      <td>Foreign country</td>\n",
       "      <td>Austria</td>\n",
       "      <td>36.2</td>\n",
       "      <td>1998-Q1</td>\n",
       "      <td>Total</td>\n",
       "    </tr>\n",
       "    <tr>\n",
       "      <th>1</th>\n",
       "      <td>Foreign country</td>\n",
       "      <td>Austria</td>\n",
       "      <td>30.7</td>\n",
       "      <td>1999-Q1</td>\n",
       "      <td>Total</td>\n",
       "    </tr>\n",
       "    <tr>\n",
       "      <th>2</th>\n",
       "      <td>Foreign country</td>\n",
       "      <td>Austria</td>\n",
       "      <td>30.8</td>\n",
       "      <td>2000-Q1</td>\n",
       "      <td>Total</td>\n",
       "    </tr>\n",
       "    <tr>\n",
       "      <th>3</th>\n",
       "      <td>Foreign country</td>\n",
       "      <td>Austria</td>\n",
       "      <td>18.5</td>\n",
       "      <td>2000-Q2</td>\n",
       "      <td>Total</td>\n",
       "    </tr>\n",
       "    <tr>\n",
       "      <th>4</th>\n",
       "      <td>Foreign country</td>\n",
       "      <td>Austria</td>\n",
       "      <td>29.8</td>\n",
       "      <td>2001-Q1</td>\n",
       "      <td>Total</td>\n",
       "    </tr>\n",
       "  </tbody>\n",
       "</table>\n",
       "</div>"
      ],
      "text/plain": [
       "  Country of citizenship      geo  Number per 1000 people  quarter    Sex\n",
       "0        Foreign country  Austria                    36.2  1998-Q1  Total\n",
       "1        Foreign country  Austria                    30.7  1999-Q1  Total\n",
       "2        Foreign country  Austria                    30.8  2000-Q1  Total\n",
       "3        Foreign country  Austria                    18.5  2000-Q2  Total\n",
       "4        Foreign country  Austria                    29.8  2001-Q1  Total"
      ]
     },
     "execution_count": 7,
     "metadata": {},
     "output_type": "execute_result"
    }
   ],
   "source": [
    "df.head()"
   ]
  },
  {
   "cell_type": "code",
   "execution_count": 8,
   "id": "462880c1",
   "metadata": {},
   "outputs": [
    {
     "name": "stdout",
     "output_type": "stream",
     "text": [
      "<class 'pandas.core.frame.DataFrame'>\n",
      "RangeIndex: 9328 entries, 0 to 9327\n",
      "Data columns (total 5 columns):\n",
      " #   Column                  Non-Null Count  Dtype  \n",
      "---  ------                  --------------  -----  \n",
      " 0   Country of citizenship  9328 non-null   object \n",
      " 1   geo                     9328 non-null   object \n",
      " 2   Number per 1000 people  8568 non-null   float64\n",
      " 3   quarter                 9328 non-null   object \n",
      " 4   Sex                     9328 non-null   object \n",
      "dtypes: float64(1), object(4)\n",
      "memory usage: 364.5+ KB\n"
     ]
    }
   ],
   "source": [
    "df.info()"
   ]
  },
  {
   "cell_type": "code",
   "execution_count": 9,
   "id": "b77bff7e",
   "metadata": {},
   "outputs": [
    {
     "name": "stdout",
     "output_type": "stream",
     "text": [
      "<class 'pandas.core.frame.DataFrame'>\n",
      "Index: 84 entries, 2302 to 2385\n",
      "Data columns (total 5 columns):\n",
      " #   Column                  Non-Null Count  Dtype  \n",
      "---  ------                  --------------  -----  \n",
      " 0   Country of citizenship  84 non-null     object \n",
      " 1   geo                     84 non-null     object \n",
      " 2   Number per 1000 people  22 non-null     float64\n",
      " 3   quarter                 84 non-null     object \n",
      " 4   Sex                     84 non-null     object \n",
      "dtypes: float64(1), object(4)\n",
      "memory usage: 3.9+ KB\n"
     ]
    }
   ],
   "source": [
    "df[(df['geo']=='Poland') & (df['Country of citizenship']=='Foreign country')].info()"
   ]
  },
  {
   "cell_type": "markdown",
   "id": "90c07ebd",
   "metadata": {},
   "source": [
    "W ponad połowie wierszy brakuje wartości dla Polski"
   ]
  },
  {
   "cell_type": "code",
   "execution_count": 10,
   "id": "d1d7816b",
   "metadata": {},
   "outputs": [
    {
     "name": "stdout",
     "output_type": "stream",
     "text": [
      "<class 'pandas.core.frame.DataFrame'>\n",
      "Index: 96 entries, 1301 to 1396\n",
      "Data columns (total 5 columns):\n",
      " #   Column                  Non-Null Count  Dtype  \n",
      "---  ------                  --------------  -----  \n",
      " 0   Country of citizenship  96 non-null     object \n",
      " 1   geo                     96 non-null     object \n",
      " 2   Number per 1000 people  26 non-null     float64\n",
      " 3   quarter                 96 non-null     object \n",
      " 4   Sex                     96 non-null     object \n",
      "dtypes: float64(1), object(4)\n",
      "memory usage: 4.5+ KB\n"
     ]
    }
   ],
   "source": [
    "df[(df['geo']=='Hungary') & (df['Country of citizenship']=='Foreign country')].info()"
   ]
  },
  {
   "cell_type": "code",
   "execution_count": 11,
   "id": "18c1c18f",
   "metadata": {},
   "outputs": [
    {
     "name": "stdout",
     "output_type": "stream",
     "text": [
      "<class 'pandas.core.frame.DataFrame'>\n",
      "Index: 50 entries, 2490 to 2539\n",
      "Data columns (total 5 columns):\n",
      " #   Column                  Non-Null Count  Dtype  \n",
      "---  ------                  --------------  -----  \n",
      " 0   Country of citizenship  50 non-null     object \n",
      " 1   geo                     50 non-null     object \n",
      " 2   Number per 1000 people  0 non-null      float64\n",
      " 3   quarter                 50 non-null     object \n",
      " 4   Sex                     50 non-null     object \n",
      "dtypes: float64(1), object(4)\n",
      "memory usage: 2.3+ KB\n"
     ]
    }
   ],
   "source": [
    "df[(df['geo']=='Romania') & (df['Country of citizenship']=='Foreign country')].info()"
   ]
  },
  {
   "cell_type": "code",
   "execution_count": 12,
   "id": "eb7e44b4",
   "metadata": {},
   "outputs": [
    {
     "name": "stdout",
     "output_type": "stream",
     "text": [
      "<class 'pandas.core.frame.DataFrame'>\n",
      "Index: 0 entries\n",
      "Data columns (total 5 columns):\n",
      " #   Column                  Non-Null Count  Dtype  \n",
      "---  ------                  --------------  -----  \n",
      " 0   Country of citizenship  0 non-null      object \n",
      " 1   geo                     0 non-null      object \n",
      " 2   Number per 1000 people  0 non-null      float64\n",
      " 3   quarter                 0 non-null      object \n",
      " 4   Sex                     0 non-null      object \n",
      "dtypes: float64(1), object(4)\n",
      "memory usage: 0.0+ bytes\n"
     ]
    }
   ],
   "source": [
    "df[(df['geo']=='Bulagaria') & (df['Country of citizenship']=='Foreign country')].info()"
   ]
  },
  {
   "cell_type": "code",
   "execution_count": 13,
   "id": "4655dea3",
   "metadata": {},
   "outputs": [],
   "source": [
    "def quarter_to_datetime(q):\n",
    "    year, qtr = q[:4], q[-1]\n",
    "    month = {'1': '01', '2': '04', '3': '07', '4': '10'}.get(qtr, '01')\n",
    "    return pd.to_datetime(f\"{year}-{month}-01\")"
   ]
  },
  {
   "cell_type": "code",
   "execution_count": 15,
   "id": "a2aa7877",
   "metadata": {},
   "outputs": [],
   "source": [
    "df['date'] = df['quarter'].apply(quarter_to_datetime)"
   ]
  },
  {
   "cell_type": "code",
   "execution_count": 16,
   "id": "1cd0e079",
   "metadata": {},
   "outputs": [],
   "source": [
    "df = df.sort_values(by=['geo', 'Country of citizenship', 'Sex', 'date'])\n",
    "df['Number per 1000 people'] = df.groupby(['geo', 'Country of citizenship', 'Sex'])['Number per 1000 people']\\\n",
    "                                 .transform(lambda group: group.interpolate(method='linear'))"
   ]
  },
  {
   "cell_type": "code",
   "execution_count": 17,
   "id": "ccd6c2da",
   "metadata": {},
   "outputs": [
    {
     "name": "stdout",
     "output_type": "stream",
     "text": [
      "<class 'pandas.core.frame.DataFrame'>\n",
      "Index: 9328 entries, 0 to 9327\n",
      "Data columns (total 6 columns):\n",
      " #   Column                  Non-Null Count  Dtype         \n",
      "---  ------                  --------------  -----         \n",
      " 0   Country of citizenship  9328 non-null   object        \n",
      " 1   geo                     9328 non-null   object        \n",
      " 2   Number per 1000 people  8739 non-null   float64       \n",
      " 3   quarter                 9328 non-null   object        \n",
      " 4   Sex                     9328 non-null   object        \n",
      " 5   date                    9328 non-null   datetime64[ns]\n",
      "dtypes: datetime64[ns](1), float64(1), object(4)\n",
      "memory usage: 510.1+ KB\n"
     ]
    }
   ],
   "source": [
    "df.info()"
   ]
  },
  {
   "cell_type": "code",
   "execution_count": 18,
   "id": "be0734c5",
   "metadata": {},
   "outputs": [
    {
     "name": "stdout",
     "output_type": "stream",
     "text": [
      "<class 'pandas.core.frame.DataFrame'>\n",
      "Index: 84 entries, 2302 to 2385\n",
      "Data columns (total 6 columns):\n",
      " #   Column                  Non-Null Count  Dtype         \n",
      "---  ------                  --------------  -----         \n",
      " 0   Country of citizenship  84 non-null     object        \n",
      " 1   geo                     84 non-null     object        \n",
      " 2   Number per 1000 people  47 non-null     float64       \n",
      " 3   quarter                 84 non-null     object        \n",
      " 4   Sex                     84 non-null     object        \n",
      " 5   date                    84 non-null     datetime64[ns]\n",
      "dtypes: datetime64[ns](1), float64(1), object(4)\n",
      "memory usage: 4.6+ KB\n"
     ]
    }
   ],
   "source": [
    "df[(df['geo']=='Poland') & (df['Country of citizenship']=='Foreign country')].info()"
   ]
  },
  {
   "cell_type": "code",
   "execution_count": 19,
   "id": "189b4eee",
   "metadata": {},
   "outputs": [],
   "source": [
    "df = df.dropna()"
   ]
  },
  {
   "cell_type": "code",
   "execution_count": 20,
   "id": "09bacb0c",
   "metadata": {},
   "outputs": [],
   "source": [
    "df.to_csv(\"../../processed_data/unemployment_by_citizenship\", index=False)"
   ]
  },
  {
   "cell_type": "code",
   "execution_count": null,
   "id": "3989a7b2",
   "metadata": {},
   "outputs": [],
   "source": []
  }
 ],
 "metadata": {
  "kernelspec": {
   "display_name": "Python 3",
   "language": "python",
   "name": "python3"
  },
  "language_info": {
   "codemirror_mode": {
    "name": "ipython",
    "version": 3
   },
   "file_extension": ".py",
   "mimetype": "text/x-python",
   "name": "python",
   "nbconvert_exporter": "python",
   "pygments_lexer": "ipython3",
   "version": "3.11.4"
  }
 },
 "nbformat": 4,
 "nbformat_minor": 5
}
