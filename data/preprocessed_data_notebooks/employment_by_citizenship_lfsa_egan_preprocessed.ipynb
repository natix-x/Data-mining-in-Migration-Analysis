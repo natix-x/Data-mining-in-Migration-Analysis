{
 "cells": [
  {
   "cell_type": "code",
   "execution_count": null,
   "id": "64ff9d17",
   "metadata": {},
   "outputs": [],
   "source": [
    "import pandas as pd"
   ]
  },
  {
   "cell_type": "code",
   "execution_count": null,
   "id": "542face9",
   "metadata": {},
   "outputs": [],
   "source": [
    "df = pd.read_csv('../preprocessed_data/employment_by_citizenship_lfsa_egan_preprocessed.csv')"
   ]
  },
  {
   "cell_type": "code",
   "execution_count": null,
   "id": "13146c83",
   "metadata": {},
   "outputs": [],
   "source": [
    "\n",
    "for col in df.columns:\n",
    "    if df[col].nunique() == 1:\n",
    "        df = df.drop(columns=[col])\n",
    "        \n",
    "if \"unit\" in df.columns and \"Per hundred thousand inhabitants\" in df[\"unit\"].unique():\n",
    "    df = df[df[\"unit\"] == \"Per hundred thousand inhabitants\"]\n",
    "    df = df.drop(columns=[\"unit\"])\n",
    "\n",
    "if \"unit\" in df.columns and (df[\"unit\"] == \"Person\").all():\n",
    "    df = df.drop(columns=[\"unit\"])\n",
    "\n",
    "def remove_euro(row):\n",
    "    return any(value.startswith('Euro') for value in row.astype(str))\n",
    "\n",
    "df = df[~df.apply(remove_euro, axis=1)]\n",
    "\n",
    "def remove_total(row):\n",
    "    return any(value.startswith('Total') for value in row.astype(str))\n",
    "\n",
    "df = df[~df.apply(remove_total, axis=1)]\n",
    "\n",
    "df = df.dropna(subset=[\"OBS_VALUE\"])\n",
    "\n",
    "for col in df.columns:\n",
    "    if \"Foreign country\" in col:\n",
    "        df = df.drop(columns=[col])\n",
    "    "
   ]
  },
  {
   "cell_type": "code",
   "execution_count": null,
   "id": "91585bbb",
   "metadata": {},
   "outputs": [],
   "source": [
    "df.head()"
   ]
  },
  {
   "cell_type": "code",
   "execution_count": null,
   "id": "fc49d97f",
   "metadata": {},
   "outputs": [],
   "source": [
    "df.info()"
   ]
  },
  {
   "cell_type": "code",
   "execution_count": null,
   "id": "50dce880",
   "metadata": {},
   "outputs": [],
   "source": [
    "df.duplicated().sum()"
   ]
  },
  {
   "cell_type": "code",
   "execution_count": null,
   "id": "62e796ff",
   "metadata": {},
   "outputs": [],
   "source": [
    "df.isnull().sum()"
   ]
  },
  {
   "cell_type": "code",
   "execution_count": null,
   "id": "ef732ee4",
   "metadata": {},
   "outputs": [],
   "source": [
    "for col in df:\n",
    "    unique_vals = df[col].unique()\n",
    "    print(f\"{col}: {unique_vals[:40]}\")\n",
    "    if len(unique_vals) > 40:\n",
    "        print(f\"... and {len(unique_vals) - 40} others\")"
   ]
  },
  {
   "cell_type": "code",
   "execution_count": null,
   "id": "0f4e5fe8",
   "metadata": {},
   "outputs": [],
   "source": [
    "df"
   ]
  },
  {
   "cell_type": "code",
   "execution_count": null,
   "id": "be6cfcd1",
   "metadata": {},
   "outputs": [],
   "source": [
    "obs_value_name = None # WYPELNIC\n",
    "if obs_value_name:\n",
    "    df = df.rename(columns={\"OBS_VALUE\": obs_value_name})"
   ]
  },
  {
   "cell_type": "code",
   "execution_count": null,
   "id": "0f7950ae",
   "metadata": {},
   "outputs": [],
   "source": [
    "df.to_csv(\"../initially_processed_data/employment_by_citizenship_lfsa_egan_preprocessed.csv\", index=False)"
   ]
  },
  {
   "cell_type": "code",
   "execution_count": null,
   "id": "73b7a976",
   "metadata": {},
   "outputs": [],
   "source": [
    "import seaborn as sns\n",
    "import matplotlib.pyplot as plt\n",
    "\n",
    "# Set the figure size for better visualization\n",
    "plt.figure(figsize=(20, 15))\n",
    "\n",
    "# Create subplots - one for each column (except OBS_VALUE)\n",
    "columns_to_analyze = [col for col in df.columns if col != 'OBS_VALUE']\n",
    "num_columns = len(columns_to_analyze)\n",
    "fig, axes = plt.subplots(num_columns, 1, figsize=(12, 6*num_columns))\n",
    "\n",
    "# For each column, aggregate OBS_VALUE and create a visualization\n",
    "for i, column in enumerate(columns_to_analyze):\n",
    "    # Group by the column and aggregate OBS_VALUE (using mean)\n",
    "    grouped_data = df.groupby(column)['OBS_VALUE'].mean().sort_values(ascending=False)\n",
    "    \n",
    "    # For columns with too many unique values, take top 20\n",
    "    if len(grouped_data) > 20:\n",
    "        grouped_data = grouped_data.head(20)\n",
    "    \n",
    "    # Create the plot\n",
    "    ax = axes[i]\n",
    "    grouped_data.plot(kind='bar', ax=ax)\n",
    "    ax.set_title(f'Average OBS_VALUE by {column}')\n",
    "    ax.set_ylabel('Average OBS_VALUE')\n",
    "    ax.set_xlabel(column)\n",
    "    ax.tick_params(axis='x', rotation=90)\n",
    "\n",
    "plt.tight_layout()\n",
    "plt.show()\n"
   ]
  },
  {
   "cell_type": "code",
   "execution_count": null,
   "id": "227589f2",
   "metadata": {},
   "outputs": [],
   "source": [
    "\n",
    "if \"TIME_PERIOD\" in df.columns:\n",
    "    max_time = df[\"TIME_PERIOD\"].max()\n",
    "    df = df[df[\"TIME_PERIOD\"] == max_time]\n",
    "\n",
    "if \"geo\" in df.columns and \"OBS_VALUE\" in df.columns:\n",
    "    import matplotlib.pyplot as plt\n",
    "    plt.figure(figsize=(10, 6))\n",
    "    df.groupby(\"geo\")[\"OBS_VALUE\"].mean().sort_values(ascending=False).plot(kind=\"bar\")\n",
    "    plt.title(f\"OBS_VALUE by geo for TIME_PERIOD {max_time}\")\n",
    "    plt.ylabel(\"OBS_VALUE\")\n",
    "    plt.xlabel(\"geo\")\n",
    "    plt.xticks(rotation=90)\n",
    "    plt.tight_layout()\n",
    "    plt.show()\n"
   ]
  }
 ],
 "metadata": {},
 "nbformat": 4,
 "nbformat_minor": 5
}
