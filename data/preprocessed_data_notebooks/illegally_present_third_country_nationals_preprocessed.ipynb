{
 "cells": [
  {
   "cell_type": "code",
   "execution_count": null,
   "id": "bd6a5176",
   "metadata": {},
   "outputs": [],
   "source": [
    "import pandas as pd"
   ]
  },
  {
   "cell_type": "code",
   "execution_count": null,
   "id": "074496ff",
   "metadata": {},
   "outputs": [],
   "source": [
    "df = pd.read_csv('../preprocessed_data/illegally_present_third_country_nationals_preprocessed.csv')"
   ]
  },
  {
   "cell_type": "code",
   "execution_count": null,
   "id": "41dea433",
   "metadata": {},
   "outputs": [],
   "source": [
    "if \"unit\" in df.columns and \"Per hundred thousand inhabitants\" in df[\"unit\"].unique():\n",
    "    df = df[df[\"unit\"] == \"Per hundred thousand inhabitants\"]\n",
    "df = df.drop(columns=[\"unit\"])\n",
    "\n",
    "if \"unit\" in df.columns and (df[\"unit\"] == \"Person\").all():\n",
    "    df = df.drop(columns=[\"unit\"])\n",
    "\n",
    "if \"geo\" in df.columns:\n",
    "    df = df[~df[\"geo\"].str.startswith(\"Euro\")]\n",
    "for col in df.columns:\n",
    "    if df[col].nunique() == 1:\n",
    "        df = df.drop(columns=[col])\n",
    "    "
   ]
  },
  {
   "cell_type": "code",
   "execution_count": null,
   "id": "1198fb5d",
   "metadata": {},
   "outputs": [],
   "source": [
    "df.head()"
   ]
  },
  {
   "cell_type": "code",
   "execution_count": null,
   "id": "9d79e7f7",
   "metadata": {},
   "outputs": [],
   "source": [
    "df.info()"
   ]
  },
  {
   "cell_type": "code",
   "execution_count": null,
   "id": "abe2ed81",
   "metadata": {},
   "outputs": [],
   "source": [
    "df.duplicated().sum()"
   ]
  },
  {
   "cell_type": "code",
   "execution_count": null,
   "id": "685f702a",
   "metadata": {},
   "outputs": [],
   "source": [
    "df.isnull().sum()"
   ]
  },
  {
   "cell_type": "code",
   "execution_count": null,
   "id": "628fe979",
   "metadata": {},
   "outputs": [],
   "source": [
    "for col in df:\n",
    "    unique_vals = df[col].unique()\n",
    "    print(f\"{col}: {unique_vals[:40]}\")\n",
    "    if len(unique_vals) > 40:\n",
    "        print(f\"... and {len(unique_vals) - 40} others\")"
   ]
  },
  {
   "cell_type": "code",
   "execution_count": null,
   "id": "6d32e1f7",
   "metadata": {},
   "outputs": [],
   "source": [
    "df"
   ]
  },
  {
   "cell_type": "code",
   "execution_count": null,
   "id": "fc1460e6",
   "metadata": {},
   "outputs": [],
   "source": [
    "obs_value_name = None # WYPELNIC\n",
    "if obs_value_name:\n",
    "    df = df.rename(columns={\"OBS_VALUE\": obs_value_name})"
   ]
  },
  {
   "cell_type": "code",
   "execution_count": null,
   "id": "1f587a3a",
   "metadata": {},
   "outputs": [],
   "source": [
    "df.to_csv(\"../initially_processed_data/illegally_present_third_country_nationals_preprocessed.csv.csv\", index=False)"
   ]
  }
 ],
 "metadata": {},
 "nbformat": 4,
 "nbformat_minor": 5
}
