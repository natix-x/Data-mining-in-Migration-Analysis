{
 "cells": [
  {
   "cell_type": "code",
   "execution_count": null,
   "id": "2bd30893",
   "metadata": {},
   "outputs": [],
   "source": [
    "import pandas as pd"
   ]
  },
  {
   "cell_type": "code",
   "execution_count": null,
   "id": "b96983e6",
   "metadata": {},
   "outputs": [],
   "source": [
    "df = pd.read_csv('../preprocessed_data/unemployment_by_month_2000-2025_preprocessed.csv')"
   ]
  },
  {
   "cell_type": "code",
   "execution_count": null,
   "id": "45782d8b",
   "metadata": {},
   "outputs": [],
   "source": [
    "if \"unit\" in df.columns and \"Per hundred thousand inhabitants\" in df[\"unit\"].unique():\n",
    "    df = df[df[\"unit\"] == \"Per hundred thousand inhabitants\"]\n",
    "df = df.drop(columns=[\"unit\"])\n",
    "\n",
    "if \"unit\" in df.columns and (df[\"unit\"] == \"Person\").all():\n",
    "    df = df.drop(columns=[\"unit\"])\n",
    "\n",
    "if \"geo\" in df.columns:\n",
    "    df = df[~df[\"geo\"].str.startswith(\"Euro\")]\n",
    "for col in df.columns:\n",
    "    if df[col].nunique() == 1:\n",
    "        df = df.drop(columns=[col])\n",
    "    "
   ]
  },
  {
   "cell_type": "code",
   "execution_count": null,
   "id": "0f6e4334",
   "metadata": {},
   "outputs": [],
   "source": [
    "df.head()"
   ]
  },
  {
   "cell_type": "code",
   "execution_count": null,
   "id": "b6af03b9",
   "metadata": {},
   "outputs": [],
   "source": [
    "df.info()"
   ]
  },
  {
   "cell_type": "code",
   "execution_count": null,
   "id": "396d983e",
   "metadata": {},
   "outputs": [],
   "source": [
    "df.duplicated().sum()"
   ]
  },
  {
   "cell_type": "code",
   "execution_count": null,
   "id": "81737c68",
   "metadata": {},
   "outputs": [],
   "source": [
    "df.isnull().sum()"
   ]
  },
  {
   "cell_type": "code",
   "execution_count": null,
   "id": "5e0050b0",
   "metadata": {},
   "outputs": [],
   "source": [
    "for col in df:\n",
    "    unique_vals = df[col].unique()\n",
    "    print(f\"{col}: {unique_vals[:40]}\")\n",
    "    if len(unique_vals) > 40:\n",
    "        print(f\"... and {len(unique_vals) - 40} others\")"
   ]
  },
  {
   "cell_type": "code",
   "execution_count": null,
   "id": "7f4a47d0",
   "metadata": {},
   "outputs": [],
   "source": [
    "df"
   ]
  },
  {
   "cell_type": "code",
   "execution_count": null,
   "id": "e72e5d14",
   "metadata": {},
   "outputs": [],
   "source": [
    "obs_value_name = None # WYPELNIC\n",
    "if obs_value_name:\n",
    "    df = df.rename(columns={\"OBS_VALUE\": obs_value_name})"
   ]
  },
  {
   "cell_type": "code",
   "execution_count": null,
   "id": "49e88d7a",
   "metadata": {},
   "outputs": [],
   "source": [
    "df.to_csv(\"../initially_processed_data/unemployment_by_month_2000-2025_preprocessed.csv.csv\", index=False)"
   ]
  }
 ],
 "metadata": {},
 "nbformat": 4,
 "nbformat_minor": 5
}
