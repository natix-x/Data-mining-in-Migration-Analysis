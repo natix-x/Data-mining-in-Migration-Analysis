{
 "cells": [
  {
   "cell_type": "code",
   "execution_count": null,
   "id": "83592a56",
   "metadata": {},
   "outputs": [],
   "source": [
    "import pandas as pd"
   ]
  },
  {
   "cell_type": "code",
   "execution_count": null,
   "id": "7e0c4b3b",
   "metadata": {},
   "outputs": [],
   "source": [
    "import matplotlib.pyplot as plt"
   ]
  },
  {
   "cell_type": "code",
   "execution_count": null,
   "id": "61a6a785",
   "metadata": {},
   "outputs": [],
   "source": [
    "from glob import glob"
   ]
  },
  {
   "cell_type": "code",
   "execution_count": null,
   "id": "ad65ec4d",
   "metadata": {},
   "outputs": [],
   "source": [
    "import os"
   ]
  },
  {
   "cell_type": "code",
   "execution_count": null,
   "id": "df72a1e5",
   "metadata": {},
   "outputs": [],
   "source": []
  },
  {
   "cell_type": "code",
   "execution_count": null,
   "id": "e1275d66",
   "metadata": {},
   "outputs": [],
   "source": [
    "initially_processed_dir = 'data\\initially_processed_data'"
   ]
  },
  {
   "cell_type": "code",
   "execution_count": null,
   "id": "1102bb6d",
   "metadata": {},
   "outputs": [],
   "source": [
    "csv_files = glob(os.path.join(initially_processed_dir, '*.csv'))"
   ]
  },
  {
   "cell_type": "code",
   "execution_count": null,
   "id": "b8e1dfcc",
   "metadata": {},
   "outputs": [],
   "source": []
  },
  {
   "cell_type": "code",
   "execution_count": null,
   "id": "8e363197",
   "metadata": {},
   "outputs": [],
   "source": [
    "overall_data = []"
   ]
  },
  {
   "cell_type": "code",
   "execution_count": null,
   "id": "99f1ea8c",
   "metadata": {},
   "outputs": [],
   "source": []
  },
  {
   "cell_type": "code",
   "execution_count": null,
   "id": "cd4e062a",
   "metadata": {},
   "outputs": [],
   "source": [
    "\n",
    "for csv_file in csv_files:\n",
    "    df = pd.read_csv(csv_file)\n",
    "    if 'TIME_PERIOD' in df.columns and 'geo' in df.columns and 'OBS_VALUE' in df.columns:\n",
    "        newest_year = df['TIME_PERIOD'].max()\n",
    "        df_filtered = df[df['TIME_PERIOD'] == newest_year]\n",
    "        aggregated = df_filtered.groupby('geo')['OBS_VALUE'].sum().reset_index()\n",
    "        aggregated['dataset'] = os.path.basename(csv_file)\n",
    "        overall_data.append(aggregated)\n",
    "        "
   ]
  },
  {
   "cell_type": "code",
   "execution_count": null,
   "id": "f6dec53d",
   "metadata": {},
   "outputs": [],
   "source": [
    "\"\n",
    "if overall_data:\n",
    "    combined_df = pd.concat(overall_data, ignore_index=True)\n",
    "    plt.figure(figsize=(12, 8))\n",
    "    for dataset_name, group in combined_df.groupby('dataset'):\n",
    "        plt.bar(group['geo'], group['OBS_VALUE'], label=dataset_name)\n",
    "    plt.title('Aggregated OBS_VALUE by geo for the newest TIME_PERIOD')\n",
    "    plt.xlabel('geo')\n",
    "    plt.ylabel('Aggregated OBS_VALUE')\n",
    "    plt.xticks(rotation=90)\n",
    "    plt.legend()\n",
    "    plt.tight_layout()\n",
    "    plt.show()\n",
    "else:\n",
    "    print('No valid data found in the initially processed files.')\n",
    "        "
   ]
  }
 ],
 "metadata": {},
 "nbformat": 4,
 "nbformat_minor": 5
}
