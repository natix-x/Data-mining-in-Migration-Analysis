{
 "cells": [
  {
   "cell_type": "code",
   "execution_count": 25,
   "id": "2b2ee44c",
   "metadata": {},
   "outputs": [],
   "source": [
    "import pandas as pd\n",
    "import numpy as np\n",
    "import matplotlib.pyplot as plt\n",
    "import seaborn as sns"
   ]
  },
  {
   "cell_type": "markdown",
   "id": "8516f65c",
   "metadata": {},
   "source": [
    "Cel: Przygotowanie danych dotyczących migracji\n",
    "* Przygotowanie datasetu używanego do analiz korelacji pewnych współczynników z liczbą migrantów:\n",
    "    * Porównanie informacji POPULATION BY CITIZENSHIP, ALL VALID PERMITS, MIGRATION BY CITIZENSHIP\n",
    "    * Dodanie do wyjściowego datasetu informacji na temat Ukraińskich uchodźcach\n",
    "    * Dodanie informacji dotyczących pobytów tymczasowych"
   ]
  },
  {
   "cell_type": "markdown",
   "id": "b28576b1",
   "metadata": {},
   "source": [
    "# POPULATION BY CITIZENSHIP"
   ]
  },
  {
   "cell_type": "markdown",
   "id": "a6f07c39",
   "metadata": {},
   "source": [
    "selected_countries = [\"Poland\", \"Bulgaria\", \"Romania\", \"Hungary\", \"France\", \"Italy\", \"Germany\", \"Sweden\", \"Spain\", \"Greece\", \"Slovenia\"]\n",
    "\n",
    "\n",
    "Skondensowana tabela przedstawia dane dotyczące ilości populacji w wybranych krajach w następującym formacie:\n",
    "NAZWA KRAJU ROK LICZBA_OBYWATELI_UE LICZBA_OBYWATELI_NON_UE ŁĄCZNA LICZBA OBCOKRAJOCÓW"
   ]
  },
  {
   "cell_type": "code",
   "execution_count": 55,
   "id": "a69292e2",
   "metadata": {},
   "outputs": [],
   "source": [
    "pop_cit = pd.read_csv('../processed_data/population_by_citizenship.csv')"
   ]
  },
  {
   "cell_type": "code",
   "execution_count": 56,
   "id": "2d69cad3",
   "metadata": {},
   "outputs": [
    {
     "data": {
      "text/html": [
       "<div>\n",
       "<style scoped>\n",
       "    .dataframe tbody tr th:only-of-type {\n",
       "        vertical-align: middle;\n",
       "    }\n",
       "\n",
       "    .dataframe tbody tr th {\n",
       "        vertical-align: top;\n",
       "    }\n",
       "\n",
       "    .dataframe thead th {\n",
       "        text-align: right;\n",
       "    }\n",
       "</style>\n",
       "<table border=\"1\" class=\"dataframe\">\n",
       "  <thead>\n",
       "    <tr style=\"text-align: right;\">\n",
       "      <th></th>\n",
       "      <th>citizen</th>\n",
       "      <th>geo</th>\n",
       "      <th>year</th>\n",
       "      <th>number of citizens in country</th>\n",
       "    </tr>\n",
       "  </thead>\n",
       "  <tbody>\n",
       "    <tr>\n",
       "      <th>0</th>\n",
       "      <td>Andorra</td>\n",
       "      <td>Austria</td>\n",
       "      <td>2015</td>\n",
       "      <td>4</td>\n",
       "    </tr>\n",
       "    <tr>\n",
       "      <th>1</th>\n",
       "      <td>Andorra</td>\n",
       "      <td>Austria</td>\n",
       "      <td>2016</td>\n",
       "      <td>3</td>\n",
       "    </tr>\n",
       "    <tr>\n",
       "      <th>2</th>\n",
       "      <td>Andorra</td>\n",
       "      <td>Austria</td>\n",
       "      <td>2017</td>\n",
       "      <td>4</td>\n",
       "    </tr>\n",
       "    <tr>\n",
       "      <th>3</th>\n",
       "      <td>Andorra</td>\n",
       "      <td>Austria</td>\n",
       "      <td>2018</td>\n",
       "      <td>5</td>\n",
       "    </tr>\n",
       "    <tr>\n",
       "      <th>4</th>\n",
       "      <td>Andorra</td>\n",
       "      <td>Austria</td>\n",
       "      <td>2019</td>\n",
       "      <td>4</td>\n",
       "    </tr>\n",
       "  </tbody>\n",
       "</table>\n",
       "</div>"
      ],
      "text/plain": [
       "   citizen      geo  year  number of citizens in country\n",
       "0  Andorra  Austria  2015                              4\n",
       "1  Andorra  Austria  2016                              3\n",
       "2  Andorra  Austria  2017                              4\n",
       "3  Andorra  Austria  2018                              5\n",
       "4  Andorra  Austria  2019                              4"
      ]
     },
     "execution_count": 56,
     "metadata": {},
     "output_type": "execute_result"
    }
   ],
   "source": [
    "pop_cit.head()"
   ]
  },
  {
   "cell_type": "code",
   "execution_count": 57,
   "id": "99d2759a",
   "metadata": {},
   "outputs": [],
   "source": [
    "selected_countries = [\"Poland\", \"Bulgaria\", \"Romania\", \"Hungary\", \"France\", \"Italy\", \"Germany\", \"Sweden\", \"Spain\", \"Greece\", \"Slovenia\"]\n",
    "pop_cit = pop_cit[pop_cit['geo'].isin(selected_countries)]"
   ]
  },
  {
   "cell_type": "code",
   "execution_count": 58,
   "id": "ef502fae",
   "metadata": {},
   "outputs": [
    {
     "data": {
      "text/html": [
       "<div>\n",
       "<style scoped>\n",
       "    .dataframe tbody tr th:only-of-type {\n",
       "        vertical-align: middle;\n",
       "    }\n",
       "\n",
       "    .dataframe tbody tr th {\n",
       "        vertical-align: top;\n",
       "    }\n",
       "\n",
       "    .dataframe thead th {\n",
       "        text-align: right;\n",
       "    }\n",
       "</style>\n",
       "<table border=\"1\" class=\"dataframe\">\n",
       "  <thead>\n",
       "    <tr style=\"text-align: right;\">\n",
       "      <th></th>\n",
       "      <th>citizen</th>\n",
       "      <th>geo</th>\n",
       "      <th>year</th>\n",
       "      <th>number of citizens in country</th>\n",
       "    </tr>\n",
       "  </thead>\n",
       "  <tbody>\n",
       "    <tr>\n",
       "      <th>20</th>\n",
       "      <td>Andorra</td>\n",
       "      <td>Bulgaria</td>\n",
       "      <td>2023</td>\n",
       "      <td>0</td>\n",
       "    </tr>\n",
       "    <tr>\n",
       "      <th>21</th>\n",
       "      <td>Andorra</td>\n",
       "      <td>Bulgaria</td>\n",
       "      <td>2024</td>\n",
       "      <td>0</td>\n",
       "    </tr>\n",
       "    <tr>\n",
       "      <th>39</th>\n",
       "      <td>Andorra</td>\n",
       "      <td>Germany</td>\n",
       "      <td>2015</td>\n",
       "      <td>30</td>\n",
       "    </tr>\n",
       "    <tr>\n",
       "      <th>40</th>\n",
       "      <td>Andorra</td>\n",
       "      <td>Germany</td>\n",
       "      <td>2016</td>\n",
       "      <td>38</td>\n",
       "    </tr>\n",
       "    <tr>\n",
       "      <th>41</th>\n",
       "      <td>Andorra</td>\n",
       "      <td>Germany</td>\n",
       "      <td>2017</td>\n",
       "      <td>40</td>\n",
       "    </tr>\n",
       "  </tbody>\n",
       "</table>\n",
       "</div>"
      ],
      "text/plain": [
       "    citizen       geo  year  number of citizens in country\n",
       "20  Andorra  Bulgaria  2023                              0\n",
       "21  Andorra  Bulgaria  2024                              0\n",
       "39  Andorra   Germany  2015                             30\n",
       "40  Andorra   Germany  2016                             38\n",
       "41  Andorra   Germany  2017                             40"
      ]
     },
     "execution_count": 58,
     "metadata": {},
     "output_type": "execute_result"
    }
   ],
   "source": [
    "pop_cit.head()"
   ]
  },
  {
   "cell_type": "code",
   "execution_count": 59,
   "id": "6c76a403",
   "metadata": {},
   "outputs": [],
   "source": [
    "eu_countries = [\n",
    "    \"Austria\", \"Belgium\", \"Bulgaria\", \"Croatia\", \"Cyprus\", \"Czechia\",\n",
    "    \"Denmark\", \"Estonia\", \"Finland\", \"France\", \"Germany\", \"Greece\",\n",
    "    \"Hungary\", \"Ireland\", \"Italy\", \"Latvia\", \"Lithuania\", \"Luxembourg\",\n",
    "    \"Malta\", \"Netherlands\", \"Poland\", \"Portugal\", \"Romania\", \"Slovakia\",\n",
    "    \"Slovenia\", \"Spain\", \"Sweden\"\n",
    "]"
   ]
  },
  {
   "cell_type": "code",
   "execution_count": 60,
   "id": "bc5c253e",
   "metadata": {},
   "outputs": [],
   "source": [
    "pop_cit = pop_cit[\n",
    "    ~pop_cit[\"geo\"].str.contains(\"European Union|Total\", case=False, na=False) &\n",
    "    ~pop_cit[\"citizen\"].str.contains(\"Asia|America|Africa|Europe|Oceanian|Candidate|European Union|Unknown|EU|European|Total\", case=False, na=False)\n",
    "]"
   ]
  },
  {
   "cell_type": "code",
   "execution_count": 61,
   "id": "7085e81f",
   "metadata": {},
   "outputs": [],
   "source": [
    "def classify_citizen(row):\n",
    "    if row['citizen'] == 'Reporting country':\n",
    "        return 'national'\n",
    "    elif row['citizen'] in eu_countries:\n",
    "        return 'EU'\n",
    "    else:\n",
    "        return 'non_EU'\n",
    "    \n",
    "pop_cit['citizen_type'] = pop_cit.apply(classify_citizen, axis=1)"
   ]
  },
  {
   "cell_type": "code",
   "execution_count": 62,
   "id": "cfc3b6c4",
   "metadata": {},
   "outputs": [],
   "source": [
    "summary = pop_cit.groupby(['geo', 'year', 'citizen_type'])['number of citizens in country'].sum().reset_index()"
   ]
  },
  {
   "cell_type": "code",
   "execution_count": 65,
   "id": "715c99b3",
   "metadata": {},
   "outputs": [],
   "source": [
    "pivot = summary.pivot_table(\n",
    "    index=['geo', 'year'],\n",
    "    columns='citizen_type',\n",
    "    values='number of citizens in country',\n",
    "    fill_value=0\n",
    ").reset_index()"
   ]
  },
  {
   "cell_type": "code",
   "execution_count": null,
   "id": "4085adb8",
   "metadata": {},
   "outputs": [
    {
     "data": {
      "text/html": [
       "<div>\n",
       "<style scoped>\n",
       "    .dataframe tbody tr th:only-of-type {\n",
       "        vertical-align: middle;\n",
       "    }\n",
       "\n",
       "    .dataframe tbody tr th {\n",
       "        vertical-align: top;\n",
       "    }\n",
       "\n",
       "    .dataframe thead th {\n",
       "        text-align: right;\n",
       "    }\n",
       "</style>\n",
       "<table border=\"1\" class=\"dataframe\">\n",
       "  <thead>\n",
       "    <tr style=\"text-align: right;\">\n",
       "      <th>citizen_type</th>\n",
       "      <th>geo</th>\n",
       "      <th>year</th>\n",
       "      <th>EU</th>\n",
       "      <th>national</th>\n",
       "      <th>non_EU</th>\n",
       "    </tr>\n",
       "  </thead>\n",
       "  <tbody>\n",
       "    <tr>\n",
       "      <th>60</th>\n",
       "      <td>Poland</td>\n",
       "      <td>2015</td>\n",
       "      <td>0.0</td>\n",
       "      <td>37891051.0</td>\n",
       "      <td>110001.0</td>\n",
       "    </tr>\n",
       "    <tr>\n",
       "      <th>61</th>\n",
       "      <td>Poland</td>\n",
       "      <td>2016</td>\n",
       "      <td>37834800.0</td>\n",
       "      <td>37811676.0</td>\n",
       "      <td>152122.0</td>\n",
       "    </tr>\n",
       "    <tr>\n",
       "      <th>62</th>\n",
       "      <td>Poland</td>\n",
       "      <td>2017</td>\n",
       "      <td>37783928.0</td>\n",
       "      <td>37756724.0</td>\n",
       "      <td>213118.0</td>\n",
       "    </tr>\n",
       "    <tr>\n",
       "      <th>63</th>\n",
       "      <td>Poland</td>\n",
       "      <td>2018</td>\n",
       "      <td>37759287.0</td>\n",
       "      <td>37731606.0</td>\n",
       "      <td>242205.0</td>\n",
       "    </tr>\n",
       "    <tr>\n",
       "      <th>64</th>\n",
       "      <td>Poland</td>\n",
       "      <td>2019</td>\n",
       "      <td>37712047.0</td>\n",
       "      <td>37683061.0</td>\n",
       "      <td>293009.0</td>\n",
       "    </tr>\n",
       "    <tr>\n",
       "      <th>65</th>\n",
       "      <td>Poland</td>\n",
       "      <td>2020</td>\n",
       "      <td>37633096.0</td>\n",
       "      <td>37599899.0</td>\n",
       "      <td>362239.0</td>\n",
       "    </tr>\n",
       "    <tr>\n",
       "      <th>66</th>\n",
       "      <td>Poland</td>\n",
       "      <td>2021</td>\n",
       "      <td>0.0</td>\n",
       "      <td>36623052.0</td>\n",
       "      <td>448078.0</td>\n",
       "    </tr>\n",
       "    <tr>\n",
       "      <th>67</th>\n",
       "      <td>Poland</td>\n",
       "      <td>2022</td>\n",
       "      <td>0.0</td>\n",
       "      <td>36445251.0</td>\n",
       "      <td>442296.0</td>\n",
       "    </tr>\n",
       "    <tr>\n",
       "      <th>68</th>\n",
       "      <td>Poland</td>\n",
       "      <td>2023</td>\n",
       "      <td>0.0</td>\n",
       "      <td>36314890.0</td>\n",
       "      <td>436595.0</td>\n",
       "    </tr>\n",
       "    <tr>\n",
       "      <th>69</th>\n",
       "      <td>Poland</td>\n",
       "      <td>2024</td>\n",
       "      <td>0.0</td>\n",
       "      <td>36187908.0</td>\n",
       "      <td>430864.0</td>\n",
       "    </tr>\n",
       "  </tbody>\n",
       "</table>\n",
       "</div>"
      ],
      "text/plain": [
       "citizen_type     geo  year          EU    national    non_EU\n",
       "60            Poland  2015         0.0  37891051.0  110001.0\n",
       "61            Poland  2016  37834800.0  37811676.0  152122.0\n",
       "62            Poland  2017  37783928.0  37756724.0  213118.0\n",
       "63            Poland  2018  37759287.0  37731606.0  242205.0\n",
       "64            Poland  2019  37712047.0  37683061.0  293009.0\n",
       "65            Poland  2020  37633096.0  37599899.0  362239.0\n",
       "66            Poland  2021         0.0  36623052.0  448078.0\n",
       "67            Poland  2022         0.0  36445251.0  442296.0\n",
       "68            Poland  2023         0.0  36314890.0  436595.0\n",
       "69            Poland  2024         0.0  36187908.0  430864.0"
      ]
     },
     "execution_count": 67,
     "metadata": {},
     "output_type": "execute_result"
    }
   ],
   "source": [
    "pivot[pivot['geo'] == 'Poland']  # checking the pivot table for Poland"
   ]
  },
  {
   "cell_type": "code",
   "execution_count": 68,
   "id": "50972cc4",
   "metadata": {},
   "outputs": [],
   "source": [
    "pivot['foreigners'] = pivot['non_EU'] + pivot['EU']"
   ]
  },
  {
   "cell_type": "code",
   "execution_count": 69,
   "id": "dd6bfec0",
   "metadata": {},
   "outputs": [
    {
     "data": {
      "text/html": [
       "<div>\n",
       "<style scoped>\n",
       "    .dataframe tbody tr th:only-of-type {\n",
       "        vertical-align: middle;\n",
       "    }\n",
       "\n",
       "    .dataframe tbody tr th {\n",
       "        vertical-align: top;\n",
       "    }\n",
       "\n",
       "    .dataframe thead th {\n",
       "        text-align: right;\n",
       "    }\n",
       "</style>\n",
       "<table border=\"1\" class=\"dataframe\">\n",
       "  <thead>\n",
       "    <tr style=\"text-align: right;\">\n",
       "      <th>citizen_type</th>\n",
       "      <th>geo</th>\n",
       "      <th>year</th>\n",
       "      <th>EU</th>\n",
       "      <th>national</th>\n",
       "      <th>non_EU</th>\n",
       "      <th>foreigners</th>\n",
       "    </tr>\n",
       "  </thead>\n",
       "  <tbody>\n",
       "    <tr>\n",
       "      <th>0</th>\n",
       "      <td>Bulgaria</td>\n",
       "      <td>2015</td>\n",
       "      <td>0.0</td>\n",
       "      <td>6963308.0</td>\n",
       "      <td>63879.0</td>\n",
       "      <td>63879.0</td>\n",
       "    </tr>\n",
       "    <tr>\n",
       "      <th>1</th>\n",
       "      <td>Bulgaria</td>\n",
       "      <td>2016</td>\n",
       "      <td>0.0</td>\n",
       "      <td>6863112.0</td>\n",
       "      <td>71491.0</td>\n",
       "      <td>71491.0</td>\n",
       "    </tr>\n",
       "    <tr>\n",
       "      <th>2</th>\n",
       "      <td>Bulgaria</td>\n",
       "      <td>2017</td>\n",
       "      <td>0.0</td>\n",
       "      <td>6767835.0</td>\n",
       "      <td>76562.0</td>\n",
       "      <td>76562.0</td>\n",
       "    </tr>\n",
       "    <tr>\n",
       "      <th>3</th>\n",
       "      <td>Bulgaria</td>\n",
       "      <td>2018</td>\n",
       "      <td>0.0</td>\n",
       "      <td>6668711.0</td>\n",
       "      <td>82370.0</td>\n",
       "      <td>82370.0</td>\n",
       "    </tr>\n",
       "    <tr>\n",
       "      <th>4</th>\n",
       "      <td>Bulgaria</td>\n",
       "      <td>2019</td>\n",
       "      <td>0.0</td>\n",
       "      <td>6565004.0</td>\n",
       "      <td>91243.0</td>\n",
       "      <td>91243.0</td>\n",
       "    </tr>\n",
       "  </tbody>\n",
       "</table>\n",
       "</div>"
      ],
      "text/plain": [
       "citizen_type       geo  year   EU   national   non_EU  foreigners\n",
       "0             Bulgaria  2015  0.0  6963308.0  63879.0     63879.0\n",
       "1             Bulgaria  2016  0.0  6863112.0  71491.0     71491.0\n",
       "2             Bulgaria  2017  0.0  6767835.0  76562.0     76562.0\n",
       "3             Bulgaria  2018  0.0  6668711.0  82370.0     82370.0\n",
       "4             Bulgaria  2019  0.0  6565004.0  91243.0     91243.0"
      ]
     },
     "execution_count": 69,
     "metadata": {},
     "output_type": "execute_result"
    }
   ],
   "source": [
    "pivot.head()"
   ]
  },
  {
   "cell_type": "code",
   "execution_count": 71,
   "id": "224de164",
   "metadata": {},
   "outputs": [],
   "source": [
    "pivot.to_csv('../processed_data/population_by_citizenship_combined_data.csv', index=False)"
   ]
  },
  {
   "cell_type": "markdown",
   "id": "14149bc2",
   "metadata": {},
   "source": [
    "# MIGRRANTS BY CITIZENSHIP"
   ]
  },
  {
   "cell_type": "code",
   "execution_count": null,
   "id": "96fca9d7",
   "metadata": {},
   "outputs": [],
   "source": []
  }
 ],
 "metadata": {
  "kernelspec": {
   "display_name": "Python 3",
   "language": "python",
   "name": "python3"
  },
  "language_info": {
   "codemirror_mode": {
    "name": "ipython",
    "version": 3
   },
   "file_extension": ".py",
   "mimetype": "text/x-python",
   "name": "python",
   "nbconvert_exporter": "python",
   "pygments_lexer": "ipython3",
   "version": "3.11.4"
  }
 },
 "nbformat": 4,
 "nbformat_minor": 5
}
