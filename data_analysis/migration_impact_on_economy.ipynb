{
 "cells": [
  {
   "cell_type": "markdown",
   "metadata": {},
   "source": [
    "Analiza danych ekonomicznych w celu określenia, czy istnieje związek pomiędzy napływem migrantów a konsumpcją."
   ]
  },
  {
   "cell_type": "code",
   "execution_count": 11,
   "metadata": {},
   "outputs": [],
   "source": [
    "import pandas as pd\n",
    "import matplotlib as plt"
   ]
  },
  {
   "cell_type": "code",
   "execution_count": 2,
   "metadata": {},
   "outputs": [],
   "source": [
    "hicp = pd.read_csv('../processed_data/HICP_annual_indices_for_all_goods.csv')\n",
    "unex_expences = pd.read_csv('../processed_data/inability_to_face_unexpected_expenses_(wealth).csv')\n",
    "income_per_citizenship = pd.read_csv('../processed_data/mean_and_median_income_by_citizenship_ilc_di15.csv')"
   ]
  },
  {
   "cell_type": "code",
   "execution_count": 4,
   "metadata": {},
   "outputs": [],
   "source": [
    "migration = pd.read_csv('../processed_data/immigration_by_citizenship.csv')"
   ]
  },
  {
   "cell_type": "markdown",
   "metadata": {},
   "source": [
    "Najwięcej imigrantów przyjmują -> wniosek z pliku ../data_analysis/migration_patterns.ipynb\n",
    "* NIEMCY\n",
    "* HISZPANIA\n",
    "* WIELKA BRYTANIA\n",
    "* WŁOCHY\n",
    "* HOLANDIA\n",
    "* FRANCJA\n",
    "+kraje wybrane do analizy "
   ]
  },
  {
   "cell_type": "code",
   "execution_count": 6,
   "metadata": {},
   "outputs": [],
   "source": [
    "countries = [\n",
    "    \"Germany\", \"Spain\", \"United Kingdom\", \n",
    "    \"Italy\", \"Netherlands\", \"France\",\n",
    "    \"Poland\", \"Bulgaria\", \"Romania\",\n",
    "    \"Hungary\", \"Sweden\"\n",
    "]"
   ]
  },
  {
   "cell_type": "code",
   "execution_count": 12,
   "metadata": {},
   "outputs": [
    {
     "ename": "IndentationError",
     "evalue": "unexpected indent (513541745.py, line 32)",
     "output_type": "error",
     "traceback": [
      "  \u001b[36mCell\u001b[39m\u001b[36m \u001b[39m\u001b[32mIn[12]\u001b[39m\u001b[32m, line 32\u001b[39m\n\u001b[31m    \u001b[39m\u001b[31mhicp_per_country = hicp[hicp['geo'] == country]\u001b[39m\n    ^\n\u001b[31mIndentationError\u001b[39m\u001b[31m:\u001b[39m unexpected indent\n"
     ]
    }
   ],
   "source": [
    "for country in countries:\n",
    "    hicp_per_country = hicp[hicp['geo'] == country]\n",
    "    migration_per_country = migration[migration['geo'] == country]\n",
    "\n",
    "    import matplotlib.pyplot as plt\n",
    "\n",
    "    fig, ax1 = plt.subplots(figsize=(10, 6))\n",
    "\n",
    "\n",
    "    ax1.set_xlabel('Year')\n",
    "    ax1.set_ylabel('HICP Value', color='tab:blue')\n",
    "    ax1.plot(hicp_per_country['year'], hicp_per_country['HICP value'], label='HICP', color='tab:blue')\n",
    "    ax1.tick_params(axis='y', labelcolor='tab:blue')\n",
    "\n",
    "    ax2 = ax1.twinx()\n",
    "    ax2.set_ylabel('Migrants Number', color='tab:orange')\n",
    "    migration_sum = migration_per_country.groupby('year')['Migrants number'].sum()\n",
    "    ax2.plot(migration_sum.index, migration_sum.values, label='Migration', color='tab:orange')\n",
    "    ax2.tick_params(axis='y', labelcolor='tab:orange')\n",
    "\n",
    "    plt.title(f'Migration and HICP for {country}')\n",
    "    fig.tight_layout()\n",
    "    plt.show()\n"
   ]
  },
  {
   "cell_type": "code",
   "execution_count": null,
   "metadata": {},
   "outputs": [],
   "source": []
  }
 ],
 "metadata": {
  "kernelspec": {
   "display_name": ".venv",
   "language": "python",
   "name": "python3"
  },
  "language_info": {
   "codemirror_mode": {
    "name": "ipython",
    "version": 3
   },
   "file_extension": ".py",
   "mimetype": "text/x-python",
   "name": "python",
   "nbconvert_exporter": "python",
   "pygments_lexer": "ipython3",
   "version": "3.13.2"
  }
 },
 "nbformat": 4,
 "nbformat_minor": 2
}
